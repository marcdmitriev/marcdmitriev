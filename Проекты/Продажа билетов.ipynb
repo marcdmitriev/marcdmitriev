{
 "cells": [
  {
   "cell_type": "markdown",
   "id": "9bffa3a8",
   "metadata": {},
   "source": [
    "# Часть 2: Исследовательский анализ данных в Python и проверка гипотез. Знакомство с данными"
   ]
  },
  {
   "cell_type": "markdown",
   "id": "dc6a34dd",
   "metadata": {},
   "source": [
    "Автор: Дмитриев Марк\n",
    "Дата:3.09.2025"
   ]
  },
  {
   "cell_type": "markdown",
   "id": "5d95bdff",
   "metadata": {},
   "source": [
    "## Цели и задачи проекта"
   ]
  },
  {
   "cell_type": "markdown",
   "id": "3f57bb68",
   "metadata": {},
   "source": [
    "## Описание данных"
   ]
  },
  {
   "cell_type": "markdown",
   "id": "1c14e9ac",
   "metadata": {},
   "source": [
    "Первый датасет final_tickets_orders_df.csv включает информацию обо всех заказах билетов, совершённых с двух типов устройств — мобильных и стационарных. Поля датасета соответствуют таблице purchases, с которой вы работали в предыдущих заданиях:\n",
    "\n",
    "- order_id — уникальный идентификатор заказа.\n",
    "- user_id — уникальный идентификатор пользователя.\n",
    "- created_dt_msk — дата создания заказа (московское время).\n",
    "- created_ts_msk — дата и время создания заказа (московское время).\n",
    "- event_id — идентификатор мероприятия из таблицы events.\n",
    "- cinema_circuit — сеть кинотеатров. Если не применимо, то здесь будет значение 'нет'.\n",
    "- age_limit — возрастное ограничение мероприятия.\n",
    "- currency_code — валюта оплаты, например rub для российских рублей.\n",
    "- device_type_canonical — тип устройства, с которого был оформлен заказ, например mobile для мобильных устройств, desktop для стационарных.\n",
    "- revenue — выручка от заказа.\n",
    "- service_name — название билетного оператора.\n",
    "- tickets_count — количество купленных билетов.\n",
    "- total — общая сумма заказа.\n",
    "\n",
    "\n",
    "В данные также был добавлен столбец days_since_prev с количеством дней с предыдущей покупки для каждого пользователя. Если покупки не было, то данные содержат пропуск.\n",
    "\n",
    "Второй датасет final_tickets_events_df.csv содержит информацию о событиях, включая город и регион события, а также информацию о площадке проведения мероприятия. Датасет содержит такие поля:\n",
    "\n",
    "\n",
    "- event_id — уникальный идентификатор мероприятия.\n",
    "- event_name — название мероприятия. Аналог поля event_name_code из исходной базы данных.\n",
    "- event_type_description — описание типа мероприятия.\n",
    "- event_type_main — основной тип мероприятия: театральная постановка, концерт и так далее.\n",
    "- organizers — организаторы мероприятия.\n",
    "- region_name — название региона.\n",
    "- city_name — название города.\n",
    "- venue_id — уникальный идентификатор площадки.\n",
    "- venue_name — название площадки.\n",
    "- venue_address — адрес площадки.\n",
    "\n",
    "\n",
    "Выручка от заказов может бы представлена в разных валютах. Удобно будет привести данные к одной — к российским рублям. В вашем распоряжении будет датасет final_tickets_tenge_df.csv с информацией о курсе тенге к российскому рублю за 2024 год. Значения в рублях представлено для 100 тенге. Датасет содержит такие поля:\n",
    "\n",
    "\n",
    "- nominal — номинал (100 тенге);\n",
    "- data — дата;\n",
    "- curs — курс тенге к рублю;\n",
    "- cdx — обозначение валюты (kzt)."
   ]
  },
  {
   "cell_type": "markdown",
   "id": "017b936b",
   "metadata": {},
   "source": [
    "## Загрузка данных и знакомство с ними"
   ]
  },
  {
   "cell_type": "code",
   "execution_count": 1,
   "id": "9ac53827",
   "metadata": {},
   "outputs": [],
   "source": [
    "import pandas as pd\n",
    "import matplotlib.pyplot as plt\n",
    "import seaborn as sn\n",
    "from scipy import stats\n",
    "import numpy as np\n",
    "from scipy.stats import ttest_ind, mannwhitneyu\n",
    "from statsmodels.stats.power import TTestIndPower\n",
    "from statsmodels.stats.proportion import proportion_effectsize\n",
    "from statsmodels.stats.proportion import proportions_ztest"
   ]
  },
  {
   "cell_type": "code",
   "execution_count": 2,
   "id": "680de96b",
   "metadata": {},
   "outputs": [
    {
     "data": {
      "text/html": [
       "<div>\n",
       "<style scoped>\n",
       "    .dataframe tbody tr th:only-of-type {\n",
       "        vertical-align: middle;\n",
       "    }\n",
       "\n",
       "    .dataframe tbody tr th {\n",
       "        vertical-align: top;\n",
       "    }\n",
       "\n",
       "    .dataframe thead th {\n",
       "        text-align: right;\n",
       "    }\n",
       "</style>\n",
       "<table border=\"1\" class=\"dataframe\">\n",
       "  <thead>\n",
       "    <tr style=\"text-align: right;\">\n",
       "      <th></th>\n",
       "      <th>order_id</th>\n",
       "      <th>user_id</th>\n",
       "      <th>created_dt_msk</th>\n",
       "      <th>created_ts_msk</th>\n",
       "      <th>event_id</th>\n",
       "      <th>cinema_circuit</th>\n",
       "      <th>age_limit</th>\n",
       "      <th>currency_code</th>\n",
       "      <th>device_type_canonical</th>\n",
       "      <th>revenue</th>\n",
       "      <th>service_name</th>\n",
       "      <th>tickets_count</th>\n",
       "      <th>total</th>\n",
       "      <th>days_since_prev</th>\n",
       "    </tr>\n",
       "  </thead>\n",
       "  <tbody>\n",
       "    <tr>\n",
       "      <th>0</th>\n",
       "      <td>4359165</td>\n",
       "      <td>0002849b70a3ce2</td>\n",
       "      <td>2024-08-20</td>\n",
       "      <td>2024-08-20 16:08:03</td>\n",
       "      <td>169230</td>\n",
       "      <td>нет</td>\n",
       "      <td>16</td>\n",
       "      <td>rub</td>\n",
       "      <td>mobile</td>\n",
       "      <td>1521.94</td>\n",
       "      <td>Край билетов</td>\n",
       "      <td>4</td>\n",
       "      <td>10870.99</td>\n",
       "      <td>NaN</td>\n",
       "    </tr>\n",
       "    <tr>\n",
       "      <th>1</th>\n",
       "      <td>7965605</td>\n",
       "      <td>0005ca5e93f2cf4</td>\n",
       "      <td>2024-07-23</td>\n",
       "      <td>2024-07-23 18:36:24</td>\n",
       "      <td>237325</td>\n",
       "      <td>нет</td>\n",
       "      <td>0</td>\n",
       "      <td>rub</td>\n",
       "      <td>mobile</td>\n",
       "      <td>289.45</td>\n",
       "      <td>Мой билет</td>\n",
       "      <td>2</td>\n",
       "      <td>2067.51</td>\n",
       "      <td>NaN</td>\n",
       "    </tr>\n",
       "    <tr>\n",
       "      <th>2</th>\n",
       "      <td>7292370</td>\n",
       "      <td>0005ca5e93f2cf4</td>\n",
       "      <td>2024-10-06</td>\n",
       "      <td>2024-10-06 13:56:02</td>\n",
       "      <td>578454</td>\n",
       "      <td>нет</td>\n",
       "      <td>0</td>\n",
       "      <td>rub</td>\n",
       "      <td>mobile</td>\n",
       "      <td>1258.57</td>\n",
       "      <td>За билетом!</td>\n",
       "      <td>4</td>\n",
       "      <td>13984.16</td>\n",
       "      <td>75.0</td>\n",
       "    </tr>\n",
       "    <tr>\n",
       "      <th>3</th>\n",
       "      <td>1139875</td>\n",
       "      <td>000898990054619</td>\n",
       "      <td>2024-07-13</td>\n",
       "      <td>2024-07-13 19:40:48</td>\n",
       "      <td>387271</td>\n",
       "      <td>нет</td>\n",
       "      <td>0</td>\n",
       "      <td>rub</td>\n",
       "      <td>mobile</td>\n",
       "      <td>8.49</td>\n",
       "      <td>Лови билет!</td>\n",
       "      <td>2</td>\n",
       "      <td>212.28</td>\n",
       "      <td>NaN</td>\n",
       "    </tr>\n",
       "    <tr>\n",
       "      <th>4</th>\n",
       "      <td>972400</td>\n",
       "      <td>000898990054619</td>\n",
       "      <td>2024-10-04</td>\n",
       "      <td>2024-10-04 22:33:15</td>\n",
       "      <td>509453</td>\n",
       "      <td>нет</td>\n",
       "      <td>18</td>\n",
       "      <td>rub</td>\n",
       "      <td>mobile</td>\n",
       "      <td>1390.41</td>\n",
       "      <td>Билеты без проблем</td>\n",
       "      <td>3</td>\n",
       "      <td>10695.43</td>\n",
       "      <td>83.0</td>\n",
       "    </tr>\n",
       "  </tbody>\n",
       "</table>\n",
       "</div>"
      ],
      "text/plain": [
       "   order_id          user_id created_dt_msk       created_ts_msk  event_id  \\\n",
       "0   4359165  0002849b70a3ce2     2024-08-20  2024-08-20 16:08:03    169230   \n",
       "1   7965605  0005ca5e93f2cf4     2024-07-23  2024-07-23 18:36:24    237325   \n",
       "2   7292370  0005ca5e93f2cf4     2024-10-06  2024-10-06 13:56:02    578454   \n",
       "3   1139875  000898990054619     2024-07-13  2024-07-13 19:40:48    387271   \n",
       "4    972400  000898990054619     2024-10-04  2024-10-04 22:33:15    509453   \n",
       "\n",
       "  cinema_circuit  age_limit currency_code device_type_canonical  revenue  \\\n",
       "0            нет         16           rub                mobile  1521.94   \n",
       "1            нет          0           rub                mobile   289.45   \n",
       "2            нет          0           rub                mobile  1258.57   \n",
       "3            нет          0           rub                mobile     8.49   \n",
       "4            нет         18           rub                mobile  1390.41   \n",
       "\n",
       "         service_name  tickets_count     total  days_since_prev  \n",
       "0        Край билетов              4  10870.99              NaN  \n",
       "1           Мой билет              2   2067.51              NaN  \n",
       "2         За билетом!              4  13984.16             75.0  \n",
       "3         Лови билет!              2    212.28              NaN  \n",
       "4  Билеты без проблем              3  10695.43             83.0  "
      ]
     },
     "execution_count": 2,
     "metadata": {},
     "output_type": "execute_result"
    }
   ],
   "source": [
    "final_tickets_orders=pd.read_csv('/datasets/final_tickets_orders_df.csv')\n",
    "final_tickets_orders.head(5)"
   ]
  },
  {
   "cell_type": "code",
   "execution_count": 3,
   "id": "dba3ac9c",
   "metadata": {},
   "outputs": [
    {
     "name": "stdout",
     "output_type": "stream",
     "text": [
      "=== final_tickets_orders ===\n",
      "Размер данных: (290849, 14)\n",
      "\n",
      "Информация о данных:\n",
      "<class 'pandas.core.frame.DataFrame'>\n",
      "RangeIndex: 290849 entries, 0 to 290848\n",
      "Data columns (total 14 columns):\n",
      " #   Column                 Non-Null Count   Dtype  \n",
      "---  ------                 --------------   -----  \n",
      " 0   order_id               290849 non-null  int64  \n",
      " 1   user_id                290849 non-null  object \n",
      " 2   created_dt_msk         290849 non-null  object \n",
      " 3   created_ts_msk         290849 non-null  object \n",
      " 4   event_id               290849 non-null  int64  \n",
      " 5   cinema_circuit         290849 non-null  object \n",
      " 6   age_limit              290849 non-null  int64  \n",
      " 7   currency_code          290849 non-null  object \n",
      " 8   device_type_canonical  290849 non-null  object \n",
      " 9   revenue                290849 non-null  float64\n",
      " 10  service_name           290849 non-null  object \n",
      " 11  tickets_count          290849 non-null  int64  \n",
      " 12  total                  290849 non-null  float64\n",
      " 13  days_since_prev        268909 non-null  float64\n",
      "dtypes: float64(3), int64(4), object(7)\n",
      "memory usage: 31.1+ MB\n",
      "None\n",
      "\n",
      "Описательная статистика:\n",
      "           order_id       event_id      age_limit        revenue  \\\n",
      "count  2.908490e+05  290849.000000  290849.000000  290849.000000   \n",
      "mean   4.326812e+06  438079.127702      10.211278     625.083054   \n",
      "std    2.497578e+06  147396.389016       6.518124    1227.316214   \n",
      "min    1.000000e+00    4436.000000       0.000000     -90.760000   \n",
      "25%    2.164039e+06  361961.000000       6.000000     116.790000   \n",
      "50%    4.327816e+06  498329.000000      12.000000     355.340000   \n",
      "75%    6.488606e+06  546284.000000      16.000000     809.750000   \n",
      "max    8.653108e+06  592325.000000      18.000000   81174.540000   \n",
      "\n",
      "       tickets_count          total  days_since_prev  \n",
      "count  290849.000000  290849.000000    268909.000000  \n",
      "mean        2.754230    7526.465613         3.222525  \n",
      "std         1.170467   15328.267730        11.355158  \n",
      "min         1.000000    -358.850000         0.000000  \n",
      "25%         2.000000    2156.870000         0.000000  \n",
      "50%         3.000000    4771.390000         0.000000  \n",
      "75%         4.000000    8955.950000         1.000000  \n",
      "max        57.000000  811745.400000       148.000000  \n",
      "\n",
      "Пропущенные значения:\n",
      "order_id                     0\n",
      "user_id                      0\n",
      "created_dt_msk               0\n",
      "created_ts_msk               0\n",
      "event_id                     0\n",
      "cinema_circuit               0\n",
      "age_limit                    0\n",
      "currency_code                0\n",
      "device_type_canonical        0\n",
      "revenue                      0\n",
      "service_name                 0\n",
      "tickets_count                0\n",
      "total                        0\n",
      "days_since_prev          21940\n",
      "dtype: int64\n"
     ]
    }
   ],
   "source": [
    "print(\"=== final_tickets_orders ===\")\n",
    "print(f\"Размер данных: {final_tickets_orders.shape}\")\n",
    "print(\"\\nИнформация о данных:\")\n",
    "print(final_tickets_orders.info())\n",
    "print(\"\\nОписательная статистика:\")\n",
    "print(final_tickets_orders.describe())\n",
    "print(\"\\nПропущенные значения:\")\n",
    "print(final_tickets_orders.isnull().sum())"
   ]
  },
  {
   "cell_type": "code",
   "execution_count": 4,
   "id": "48f589db",
   "metadata": {},
   "outputs": [
    {
     "data": {
      "text/html": [
       "<div>\n",
       "<style scoped>\n",
       "    .dataframe tbody tr th:only-of-type {\n",
       "        vertical-align: middle;\n",
       "    }\n",
       "\n",
       "    .dataframe tbody tr th {\n",
       "        vertical-align: top;\n",
       "    }\n",
       "\n",
       "    .dataframe thead th {\n",
       "        text-align: right;\n",
       "    }\n",
       "</style>\n",
       "<table border=\"1\" class=\"dataframe\">\n",
       "  <thead>\n",
       "    <tr style=\"text-align: right;\">\n",
       "      <th></th>\n",
       "      <th>event_id</th>\n",
       "      <th>event_name</th>\n",
       "      <th>event_type_description</th>\n",
       "      <th>event_type_main</th>\n",
       "      <th>organizers</th>\n",
       "      <th>region_name</th>\n",
       "      <th>city_name</th>\n",
       "      <th>city_id</th>\n",
       "      <th>venue_id</th>\n",
       "      <th>venue_name</th>\n",
       "      <th>venue_address</th>\n",
       "    </tr>\n",
       "  </thead>\n",
       "  <tbody>\n",
       "    <tr>\n",
       "      <th>0</th>\n",
       "      <td>4436</td>\n",
       "      <td>e4f26fba-da77-4c61-928a-6c3e434d793f</td>\n",
       "      <td>спектакль</td>\n",
       "      <td>театр</td>\n",
       "      <td>№4893</td>\n",
       "      <td>Североярская область</td>\n",
       "      <td>Озёрск</td>\n",
       "      <td>2</td>\n",
       "      <td>1600</td>\n",
       "      <td>Кладбище искусств \"Проблема\" и партнеры</td>\n",
       "      <td>наб. Загородная, д. 785</td>\n",
       "    </tr>\n",
       "    <tr>\n",
       "      <th>1</th>\n",
       "      <td>5785</td>\n",
       "      <td>5cc08a60-fdea-4186-9bb2-bffc3603fb77</td>\n",
       "      <td>спектакль</td>\n",
       "      <td>театр</td>\n",
       "      <td>№1931</td>\n",
       "      <td>Светополянский округ</td>\n",
       "      <td>Глиноград</td>\n",
       "      <td>54</td>\n",
       "      <td>2196</td>\n",
       "      <td>Лекции по искусству \"Свет\" Групп</td>\n",
       "      <td>ул. Ягодная, д. 942</td>\n",
       "    </tr>\n",
       "    <tr>\n",
       "      <th>2</th>\n",
       "      <td>8817</td>\n",
       "      <td>8e379a89-3a10-4811-ba06-ec22ebebe989</td>\n",
       "      <td>спектакль</td>\n",
       "      <td>театр</td>\n",
       "      <td>№4896</td>\n",
       "      <td>Североярская область</td>\n",
       "      <td>Озёрск</td>\n",
       "      <td>2</td>\n",
       "      <td>4043</td>\n",
       "      <td>Кинокомитет \"Золотая\" Инк</td>\n",
       "      <td>ш. Коммуны, д. 92 стр. 6</td>\n",
       "    </tr>\n",
       "    <tr>\n",
       "      <th>3</th>\n",
       "      <td>8849</td>\n",
       "      <td>682e3129-6a32-4952-9d8a-ef7f60d4c247</td>\n",
       "      <td>спектакль</td>\n",
       "      <td>театр</td>\n",
       "      <td>№4960</td>\n",
       "      <td>Каменевский регион</td>\n",
       "      <td>Глиногорск</td>\n",
       "      <td>213</td>\n",
       "      <td>1987</td>\n",
       "      <td>Выставка ремесел \"Свет\" Лтд</td>\n",
       "      <td>пер. Набережный, д. 35</td>\n",
       "    </tr>\n",
       "    <tr>\n",
       "      <th>4</th>\n",
       "      <td>8850</td>\n",
       "      <td>d6e99176-c77f-4af0-9222-07c571f6c624</td>\n",
       "      <td>спектакль</td>\n",
       "      <td>театр</td>\n",
       "      <td>№4770</td>\n",
       "      <td>Лесодальний край</td>\n",
       "      <td>Родниковец</td>\n",
       "      <td>55</td>\n",
       "      <td>4230</td>\n",
       "      <td>Фестивальный проект \"Листья\" Групп</td>\n",
       "      <td>пер. Проезжий, д. 9</td>\n",
       "    </tr>\n",
       "  </tbody>\n",
       "</table>\n",
       "</div>"
      ],
      "text/plain": [
       "   event_id                            event_name event_type_description  \\\n",
       "0      4436  e4f26fba-da77-4c61-928a-6c3e434d793f              спектакль   \n",
       "1      5785  5cc08a60-fdea-4186-9bb2-bffc3603fb77              спектакль   \n",
       "2      8817  8e379a89-3a10-4811-ba06-ec22ebebe989              спектакль   \n",
       "3      8849  682e3129-6a32-4952-9d8a-ef7f60d4c247              спектакль   \n",
       "4      8850  d6e99176-c77f-4af0-9222-07c571f6c624              спектакль   \n",
       "\n",
       "  event_type_main organizers           region_name   city_name  city_id  \\\n",
       "0           театр      №4893  Североярская область      Озёрск        2   \n",
       "1           театр      №1931  Светополянский округ   Глиноград       54   \n",
       "2           театр      №4896  Североярская область      Озёрск        2   \n",
       "3           театр      №4960    Каменевский регион  Глиногорск      213   \n",
       "4           театр      №4770      Лесодальний край  Родниковец       55   \n",
       "\n",
       "   venue_id                               venue_name             venue_address  \n",
       "0      1600  Кладбище искусств \"Проблема\" и партнеры   наб. Загородная, д. 785  \n",
       "1      2196         Лекции по искусству \"Свет\" Групп       ул. Ягодная, д. 942  \n",
       "2      4043                Кинокомитет \"Золотая\" Инк  ш. Коммуны, д. 92 стр. 6  \n",
       "3      1987              Выставка ремесел \"Свет\" Лтд    пер. Набережный, д. 35  \n",
       "4      4230       Фестивальный проект \"Листья\" Групп       пер. Проезжий, д. 9  "
      ]
     },
     "execution_count": 4,
     "metadata": {},
     "output_type": "execute_result"
    }
   ],
   "source": [
    "final_tickets_events=pd.read_csv('/datasets/final_tickets_events_df.csv')\n",
    "final_tickets_events.head(5)"
   ]
  },
  {
   "cell_type": "code",
   "execution_count": 5,
   "id": "331317df",
   "metadata": {},
   "outputs": [
    {
     "name": "stdout",
     "output_type": "stream",
     "text": [
      "\n",
      "=== final_tickets_events ===\n",
      "Размер данных: (22427, 11)\n",
      "\n",
      "Информация о данных:\n",
      "<class 'pandas.core.frame.DataFrame'>\n",
      "RangeIndex: 22427 entries, 0 to 22426\n",
      "Data columns (total 11 columns):\n",
      " #   Column                  Non-Null Count  Dtype \n",
      "---  ------                  --------------  ----- \n",
      " 0   event_id                22427 non-null  int64 \n",
      " 1   event_name              22427 non-null  object\n",
      " 2   event_type_description  22427 non-null  object\n",
      " 3   event_type_main         22427 non-null  object\n",
      " 4   organizers              22427 non-null  object\n",
      " 5   region_name             22427 non-null  object\n",
      " 6   city_name               22427 non-null  object\n",
      " 7   city_id                 22427 non-null  int64 \n",
      " 8   venue_id                22427 non-null  int64 \n",
      " 9   venue_name              22427 non-null  object\n",
      " 10  venue_address           22427 non-null  object\n",
      "dtypes: int64(3), object(8)\n",
      "memory usage: 1.9+ MB\n",
      "None\n",
      "\n",
      "Пропущенные значения:\n",
      "event_id                  0\n",
      "event_name                0\n",
      "event_type_description    0\n",
      "event_type_main           0\n",
      "organizers                0\n",
      "region_name               0\n",
      "city_name                 0\n",
      "city_id                   0\n",
      "venue_id                  0\n",
      "venue_name                0\n",
      "venue_address             0\n",
      "dtype: int64\n"
     ]
    }
   ],
   "source": [
    "print(\"\\n=== final_tickets_events ===\")\n",
    "print(f\"Размер данных: {final_tickets_events.shape}\")\n",
    "print(\"\\nИнформация о данных:\")\n",
    "print(final_tickets_events.info())\n",
    "print(\"\\nПропущенные значения:\")\n",
    "print(final_tickets_events.isnull().sum())"
   ]
  },
  {
   "cell_type": "code",
   "execution_count": 6,
   "id": "42205c9f",
   "metadata": {
    "scrolled": true
   },
   "outputs": [
    {
     "data": {
      "text/html": [
       "<div>\n",
       "<style scoped>\n",
       "    .dataframe tbody tr th:only-of-type {\n",
       "        vertical-align: middle;\n",
       "    }\n",
       "\n",
       "    .dataframe tbody tr th {\n",
       "        vertical-align: top;\n",
       "    }\n",
       "\n",
       "    .dataframe thead th {\n",
       "        text-align: right;\n",
       "    }\n",
       "</style>\n",
       "<table border=\"1\" class=\"dataframe\">\n",
       "  <thead>\n",
       "    <tr style=\"text-align: right;\">\n",
       "      <th></th>\n",
       "      <th>data</th>\n",
       "      <th>nominal</th>\n",
       "      <th>curs</th>\n",
       "      <th>cdx</th>\n",
       "    </tr>\n",
       "  </thead>\n",
       "  <tbody>\n",
       "    <tr>\n",
       "      <th>0</th>\n",
       "      <td>2024-01-10</td>\n",
       "      <td>100</td>\n",
       "      <td>19.9391</td>\n",
       "      <td>kzt</td>\n",
       "    </tr>\n",
       "    <tr>\n",
       "      <th>1</th>\n",
       "      <td>2024-01-11</td>\n",
       "      <td>100</td>\n",
       "      <td>19.7255</td>\n",
       "      <td>kzt</td>\n",
       "    </tr>\n",
       "    <tr>\n",
       "      <th>2</th>\n",
       "      <td>2024-01-12</td>\n",
       "      <td>100</td>\n",
       "      <td>19.5839</td>\n",
       "      <td>kzt</td>\n",
       "    </tr>\n",
       "    <tr>\n",
       "      <th>3</th>\n",
       "      <td>2024-01-13</td>\n",
       "      <td>100</td>\n",
       "      <td>19.4501</td>\n",
       "      <td>kzt</td>\n",
       "    </tr>\n",
       "    <tr>\n",
       "      <th>4</th>\n",
       "      <td>2024-01-14</td>\n",
       "      <td>100</td>\n",
       "      <td>19.4501</td>\n",
       "      <td>kzt</td>\n",
       "    </tr>\n",
       "  </tbody>\n",
       "</table>\n",
       "</div>"
      ],
      "text/plain": [
       "         data  nominal     curs  cdx\n",
       "0  2024-01-10      100  19.9391  kzt\n",
       "1  2024-01-11      100  19.7255  kzt\n",
       "2  2024-01-12      100  19.5839  kzt\n",
       "3  2024-01-13      100  19.4501  kzt\n",
       "4  2024-01-14      100  19.4501  kzt"
      ]
     },
     "execution_count": 6,
     "metadata": {},
     "output_type": "execute_result"
    }
   ],
   "source": [
    "final_tickets_tenge=pd.read_csv('/datasets/final_tickets_tenge_df.csv')\n",
    "final_tickets_tenge.head(5)"
   ]
  },
  {
   "cell_type": "code",
   "execution_count": 7,
   "id": "cb1c5e53",
   "metadata": {},
   "outputs": [
    {
     "name": "stdout",
     "output_type": "stream",
     "text": [
      "\n",
      "=== final_tickets_tenge ===\n",
      "Размер данных: (357, 4)\n",
      "\n",
      "Информация о данных:\n",
      "<class 'pandas.core.frame.DataFrame'>\n",
      "RangeIndex: 357 entries, 0 to 356\n",
      "Data columns (total 4 columns):\n",
      " #   Column   Non-Null Count  Dtype  \n",
      "---  ------   --------------  -----  \n",
      " 0   data     357 non-null    object \n",
      " 1   nominal  357 non-null    int64  \n",
      " 2   curs     357 non-null    float64\n",
      " 3   cdx      357 non-null    object \n",
      "dtypes: float64(1), int64(1), object(2)\n",
      "memory usage: 11.3+ KB\n",
      "None\n",
      "\n",
      "Пропущенные значения:\n",
      "data       0\n",
      "nominal    0\n",
      "curs       0\n",
      "cdx        0\n",
      "dtype: int64\n"
     ]
    }
   ],
   "source": [
    "print(\"\\n=== final_tickets_tenge ===\")\n",
    "print(f\"Размер данных: {final_tickets_tenge.shape}\")\n",
    "print(\"\\nИнформация о данных:\")\n",
    "print(final_tickets_tenge.info())\n",
    "print(\"\\nПропущенные значения:\")\n",
    "print(final_tickets_tenge.isnull().sum())"
   ]
  },
  {
   "cell_type": "markdown",
   "id": "5bc533b0",
   "metadata": {},
   "source": [
    "## Предобработка данных и подготовка их к исследованию"
   ]
  },
  {
   "cell_type": "code",
   "execution_count": 8,
   "id": "e20d6e40",
   "metadata": {},
   "outputs": [
    {
     "data": {
      "text/html": [
       "<div>\n",
       "<style scoped>\n",
       "    .dataframe tbody tr th:only-of-type {\n",
       "        vertical-align: middle;\n",
       "    }\n",
       "\n",
       "    .dataframe tbody tr th {\n",
       "        vertical-align: top;\n",
       "    }\n",
       "\n",
       "    .dataframe thead th {\n",
       "        text-align: right;\n",
       "    }\n",
       "</style>\n",
       "<table border=\"1\" class=\"dataframe\">\n",
       "  <thead>\n",
       "    <tr style=\"text-align: right;\">\n",
       "      <th></th>\n",
       "      <th>order_id</th>\n",
       "      <th>user_id</th>\n",
       "      <th>created_dt_msk</th>\n",
       "      <th>created_ts_msk</th>\n",
       "      <th>event_id</th>\n",
       "      <th>cinema_circuit</th>\n",
       "      <th>age_limit</th>\n",
       "      <th>currency_code</th>\n",
       "      <th>device_type_canonical</th>\n",
       "      <th>revenue</th>\n",
       "      <th>...</th>\n",
       "      <th>event_name</th>\n",
       "      <th>event_type_description</th>\n",
       "      <th>event_type_main</th>\n",
       "      <th>organizers</th>\n",
       "      <th>region_name</th>\n",
       "      <th>city_name</th>\n",
       "      <th>city_id</th>\n",
       "      <th>venue_id</th>\n",
       "      <th>venue_name</th>\n",
       "      <th>venue_address</th>\n",
       "    </tr>\n",
       "  </thead>\n",
       "  <tbody>\n",
       "    <tr>\n",
       "      <th>0</th>\n",
       "      <td>4359165</td>\n",
       "      <td>0002849b70a3ce2</td>\n",
       "      <td>2024-08-20</td>\n",
       "      <td>2024-08-20 16:08:03</td>\n",
       "      <td>169230</td>\n",
       "      <td>нет</td>\n",
       "      <td>16</td>\n",
       "      <td>rub</td>\n",
       "      <td>mobile</td>\n",
       "      <td>1521.94</td>\n",
       "      <td>...</td>\n",
       "      <td>f0f7b271-04eb-4af6-bcb8-8f05cf46d6ad</td>\n",
       "      <td>спектакль</td>\n",
       "      <td>театр</td>\n",
       "      <td>№3322</td>\n",
       "      <td>Каменевский регион</td>\n",
       "      <td>Глиногорск</td>\n",
       "      <td>213.0</td>\n",
       "      <td>3972.0</td>\n",
       "      <td>Сценический центр \"Деталь\" Групп</td>\n",
       "      <td>алл. Машиностроителей, д. 19 стр. 6</td>\n",
       "    </tr>\n",
       "    <tr>\n",
       "      <th>1</th>\n",
       "      <td>7965605</td>\n",
       "      <td>0005ca5e93f2cf4</td>\n",
       "      <td>2024-07-23</td>\n",
       "      <td>2024-07-23 18:36:24</td>\n",
       "      <td>237325</td>\n",
       "      <td>нет</td>\n",
       "      <td>0</td>\n",
       "      <td>rub</td>\n",
       "      <td>mobile</td>\n",
       "      <td>289.45</td>\n",
       "      <td>...</td>\n",
       "      <td>40efeb04-81b7-4135-b41f-708ff00cc64c</td>\n",
       "      <td>событие</td>\n",
       "      <td>выставки</td>\n",
       "      <td>№4850</td>\n",
       "      <td>Каменевский регион</td>\n",
       "      <td>Глиногорск</td>\n",
       "      <td>213.0</td>\n",
       "      <td>2941.0</td>\n",
       "      <td>Музыкальная школа для детей \"Аккаунт\" Лтд</td>\n",
       "      <td>алл. Шмидта, д. 9 стр. 4</td>\n",
       "    </tr>\n",
       "    <tr>\n",
       "      <th>2</th>\n",
       "      <td>7292370</td>\n",
       "      <td>0005ca5e93f2cf4</td>\n",
       "      <td>2024-10-06</td>\n",
       "      <td>2024-10-06 13:56:02</td>\n",
       "      <td>578454</td>\n",
       "      <td>нет</td>\n",
       "      <td>0</td>\n",
       "      <td>rub</td>\n",
       "      <td>mobile</td>\n",
       "      <td>1258.57</td>\n",
       "      <td>...</td>\n",
       "      <td>01f3fb7b-ed07-4f94-b1d3-9a2e1ee5a8ca</td>\n",
       "      <td>цирковое шоу</td>\n",
       "      <td>другое</td>\n",
       "      <td>№1540</td>\n",
       "      <td>Каменевский регион</td>\n",
       "      <td>Глиногорск</td>\n",
       "      <td>213.0</td>\n",
       "      <td>4507.0</td>\n",
       "      <td>Училище искусств \"Нирвана\" Инк</td>\n",
       "      <td>алл. Юбилейная, д. 5/6</td>\n",
       "    </tr>\n",
       "    <tr>\n",
       "      <th>3</th>\n",
       "      <td>1139875</td>\n",
       "      <td>000898990054619</td>\n",
       "      <td>2024-07-13</td>\n",
       "      <td>2024-07-13 19:40:48</td>\n",
       "      <td>387271</td>\n",
       "      <td>нет</td>\n",
       "      <td>0</td>\n",
       "      <td>rub</td>\n",
       "      <td>mobile</td>\n",
       "      <td>8.49</td>\n",
       "      <td>...</td>\n",
       "      <td>2f638715-8844-466c-b43f-378a627c419f</td>\n",
       "      <td>выставка</td>\n",
       "      <td>другое</td>\n",
       "      <td>№5049</td>\n",
       "      <td>Североярская область</td>\n",
       "      <td>Озёрск</td>\n",
       "      <td>2.0</td>\n",
       "      <td>3574.0</td>\n",
       "      <td>Театр альтернативного искусства \"Ода\" Лимитед</td>\n",
       "      <td>алл. Есенина, д. 243 к. 3/8</td>\n",
       "    </tr>\n",
       "    <tr>\n",
       "      <th>4</th>\n",
       "      <td>972400</td>\n",
       "      <td>000898990054619</td>\n",
       "      <td>2024-10-04</td>\n",
       "      <td>2024-10-04 22:33:15</td>\n",
       "      <td>509453</td>\n",
       "      <td>нет</td>\n",
       "      <td>18</td>\n",
       "      <td>rub</td>\n",
       "      <td>mobile</td>\n",
       "      <td>1390.41</td>\n",
       "      <td>...</td>\n",
       "      <td>10d805d3-9809-4d8a-834e-225b7d03f95d</td>\n",
       "      <td>шоу</td>\n",
       "      <td>стендап</td>\n",
       "      <td>№832</td>\n",
       "      <td>Озернинский край</td>\n",
       "      <td>Родниковецк</td>\n",
       "      <td>240.0</td>\n",
       "      <td>1896.0</td>\n",
       "      <td>Театр кукол \"Огни\" Инкорпорэйтед</td>\n",
       "      <td>ш. Набережное, д. 595 стр. 8</td>\n",
       "    </tr>\n",
       "  </tbody>\n",
       "</table>\n",
       "<p>5 rows × 24 columns</p>\n",
       "</div>"
      ],
      "text/plain": [
       "   order_id          user_id created_dt_msk       created_ts_msk  event_id  \\\n",
       "0   4359165  0002849b70a3ce2     2024-08-20  2024-08-20 16:08:03    169230   \n",
       "1   7965605  0005ca5e93f2cf4     2024-07-23  2024-07-23 18:36:24    237325   \n",
       "2   7292370  0005ca5e93f2cf4     2024-10-06  2024-10-06 13:56:02    578454   \n",
       "3   1139875  000898990054619     2024-07-13  2024-07-13 19:40:48    387271   \n",
       "4    972400  000898990054619     2024-10-04  2024-10-04 22:33:15    509453   \n",
       "\n",
       "  cinema_circuit  age_limit currency_code device_type_canonical  revenue  ...  \\\n",
       "0            нет         16           rub                mobile  1521.94  ...   \n",
       "1            нет          0           rub                mobile   289.45  ...   \n",
       "2            нет          0           rub                mobile  1258.57  ...   \n",
       "3            нет          0           rub                mobile     8.49  ...   \n",
       "4            нет         18           rub                mobile  1390.41  ...   \n",
       "\n",
       "                             event_name  event_type_description  \\\n",
       "0  f0f7b271-04eb-4af6-bcb8-8f05cf46d6ad               спектакль   \n",
       "1  40efeb04-81b7-4135-b41f-708ff00cc64c                 событие   \n",
       "2  01f3fb7b-ed07-4f94-b1d3-9a2e1ee5a8ca            цирковое шоу   \n",
       "3  2f638715-8844-466c-b43f-378a627c419f                выставка   \n",
       "4  10d805d3-9809-4d8a-834e-225b7d03f95d                     шоу   \n",
       "\n",
       "   event_type_main  organizers           region_name    city_name city_id  \\\n",
       "0            театр       №3322    Каменевский регион   Глиногорск   213.0   \n",
       "1         выставки       №4850    Каменевский регион   Глиногорск   213.0   \n",
       "2           другое       №1540    Каменевский регион   Глиногорск   213.0   \n",
       "3           другое       №5049  Североярская область       Озёрск     2.0   \n",
       "4          стендап        №832      Озернинский край  Родниковецк   240.0   \n",
       "\n",
       "  venue_id                                     venue_name  \\\n",
       "0   3972.0               Сценический центр \"Деталь\" Групп   \n",
       "1   2941.0      Музыкальная школа для детей \"Аккаунт\" Лтд   \n",
       "2   4507.0                 Училище искусств \"Нирвана\" Инк   \n",
       "3   3574.0  Театр альтернативного искусства \"Ода\" Лимитед   \n",
       "4   1896.0               Театр кукол \"Огни\" Инкорпорэйтед   \n",
       "\n",
       "                         venue_address  \n",
       "0  алл. Машиностроителей, д. 19 стр. 6  \n",
       "1             алл. Шмидта, д. 9 стр. 4  \n",
       "2               алл. Юбилейная, д. 5/6  \n",
       "3          алл. Есенина, д. 243 к. 3/8  \n",
       "4         ш. Набережное, д. 595 стр. 8  \n",
       "\n",
       "[5 rows x 24 columns]"
      ]
     },
     "execution_count": 8,
     "metadata": {},
     "output_type": "execute_result"
    }
   ],
   "source": [
    "merged_df = final_tickets_orders.merge(final_tickets_events, on='event_id', how='left')\n",
    "merged_df.head(5)"
   ]
  },
  {
   "cell_type": "code",
   "execution_count": 9,
   "id": "ef28bd75",
   "metadata": {
    "scrolled": false
   },
   "outputs": [
    {
     "name": "stdout",
     "output_type": "stream",
     "text": [
      "Детальный анализ cinema_circuit:\n",
      "нет           289451\n",
      "Другое          1261\n",
      "КиноСити         122\n",
      "Киномакс           7\n",
      "Москино            7\n",
      "ЦентрФильм         1\n",
      "Name: cinema_circuit, dtype: int64\n",
      "Процент значения 'нет': 99.52%\n",
      "\n",
      "Детальный анализ organizers:\n",
      "Всего уникальных организаторов: 4293\n",
      "Топ-10 организаторов:\n",
      "№1531    9748\n",
      "№2121    4738\n",
      "№4054    4362\n",
      "№4549    3972\n",
      "№4837    3368\n",
      "№4086    3323\n",
      "№4950    3212\n",
      "№4403    3037\n",
      "№5085    3005\n",
      "№2378    2886\n",
      "Name: organizers, dtype: int64\n",
      "\n",
      "2. АНАЛИЗ currency_code:\n",
      "rub    285780\n",
      "kzt      5069\n",
      "Name: currency_code, dtype: int64\n",
      "\n",
      "3. АНАЛИЗ device_type_canonical:\n",
      "mobile     232679\n",
      "desktop     58170\n",
      "Name: device_type_canonical, dtype: int64\n",
      "\n",
      "6. АНАЛИЗ age_limit:\n",
      "0     61487\n",
      "6     52173\n",
      "12    62557\n",
      "16    78579\n",
      "18    36053\n",
      "Name: age_limit, dtype: int64\n",
      "\n",
      "1. АНАЛИЗ ТИПОВ СОБЫТИЙ:\n",
      "event_type_description:\n",
      "концерт                   112049\n",
      "событие                    58605\n",
      "спектакль                  50592\n",
      "шоу                        13626\n",
      "спорт                      12837\n",
      "мюзикл                      9919\n",
      "спортивное мероприятие      9074\n",
      "балет                       5998\n",
      "выставка                    5876\n",
      "цирковое шоу                5327\n",
      "фестиваль                   4273\n",
      "опера                       1314\n",
      "ёлка                         945\n",
      "музыкальный спектакль        140\n",
      "кукольный спектакль           13\n",
      "экскурсия                      8\n",
      "оперетта                       7\n",
      "подарок                        4\n",
      "снегурочка                     3\n",
      "рок-мюзикл                     1\n",
      "Name: event_type_description, dtype: int64\n",
      "\n",
      "event_type_main:\n",
      "концерты    115276\n",
      "театр        67321\n",
      "другое       65867\n",
      "спорт        21911\n",
      "стендап      13393\n",
      "выставки      4854\n",
      "ёлки          1989\n",
      "Name: event_type_main, dtype: int64\n",
      "\n",
      "3. АНАЛИЗ ГЕОГРАФИЧЕСКИХ ДАННЫХ:\n",
      "region_name - уникальные регионы:\n",
      "Каменевский регион         91058\n",
      "Североярская область       44049\n",
      "Широковская область        16457\n",
      "Медовская область          13901\n",
      "Озернинский край           10476\n",
      "Светополянский округ        7607\n",
      "Малиновоярский округ        6618\n",
      "Речиновская область         6293\n",
      "Солнечноземская область     6288\n",
      "Яблоневская область         6181\n",
      "Name: region_name, dtype: int64\n",
      "\n",
      "Всего уникальных регионов: 81\n",
      "\n",
      "city_name - уникальные города:\n",
      "Глиногорск      89446\n",
      "Озёрск          43910\n",
      "Радужсвет       13711\n",
      "Радужнополье     8741\n",
      "Верховино        6579\n",
      "Дальнесветск     6293\n",
      "Глинополье       6196\n",
      "Светополье       5993\n",
      "Глиноград        5934\n",
      "Лесоярич         5831\n",
      "Name: city_name, dtype: int64\n",
      "\n",
      "Всего уникальных городов: 352\n",
      "\n",
      "4. АНАЛИЗ МЕСТ ПРОВЕДЕНИЯ:\n",
      "venue_name - примеры названий:\n",
      "Студия дизайна \"Платформа\" Инкорпорэйтед          9910\n",
      "Картинная галерея \"Светлячок\" Лтд                 4406\n",
      "Креативное пространство \"Вдох\" Лимитед            4257\n",
      "Центр культурного наследия \"Заряд\" и партнеры     4099\n",
      "Студия дизайна \"Лестница\" Лимитед                 4025\n",
      "Культурный центр \"Общие\" Групп                    3876\n",
      "Научно-культурный центр \"Синтез\" Инкорпорэйтед    3718\n",
      "Клуб киноманов \"Верность\" Лтд                     3472\n",
      "Мастерская живого действия \"Гардероб\" Лимитед     3424\n",
      "Дворец культуры \"Скворечник\" Инк                  3366\n",
      "Name: venue_name, dtype: int64\n",
      "\n",
      "Всего уникальных мест: 3217\n"
     ]
    }
   ],
   "source": [
    "# Проверим столбец 'cinema_circuit' более детально\n",
    "print(\"Детальный анализ cinema_circuit:\")\n",
    "print(merged_df['cinema_circuit'].value_counts(dropna=False))\n",
    "print(f\"Процент значения 'нет': {merged_df['cinema_circuit'].value_counts(normalize=True).get('нет', 0)*100:.2f}%\")\n",
    "\n",
    "# Проверим столбец 'organizers'\n",
    "print(\"\\nДетальный анализ organizers:\")\n",
    "org_counts = merged_df['organizers'].value_counts()\n",
    "print(f\"Всего уникальных организаторов: {len(org_counts)}\")\n",
    "print(\"Топ-10 организаторов:\")\n",
    "print(org_counts.head(10))\n",
    "# Анализ currency_code\n",
    "print(\"\\n2. АНАЛИЗ currency_code:\")\n",
    "currency_analysis = merged_df['currency_code'].value_counts()\n",
    "print(currency_analysis)\n",
    "# Анализ device_type_canonical\n",
    "print(\"\\n3. АНАЛИЗ device_type_canonical:\")\n",
    "device_analysis = merged_df['device_type_canonical'].value_counts()\n",
    "print(device_analysis)\n",
    "# Анализ age_limit - хотя числовой, но может быть категориальным\n",
    "print(\"\\n6. АНАЛИЗ age_limit:\")\n",
    "age_analysis = merged_df['age_limit'].value_counts().sort_index()\n",
    "print(age_analysis)\n",
    "# Анализ event_type_description и event_type_main\n",
    "print(\"\\n1. АНАЛИЗ ТИПОВ СОБЫТИЙ:\")\n",
    "print(\"event_type_description:\")\n",
    "print(merged_df['event_type_description'].value_counts())\n",
    "print(\"\\nevent_type_main:\")\n",
    "print(merged_df['event_type_main'].value_counts())\n",
    "#Анализ географических данных\n",
    "print(\"\\n3. АНАЛИЗ ГЕОГРАФИЧЕСКИХ ДАННЫХ:\")\n",
    "print(\"region_name - уникальные регионы:\")\n",
    "print(merged_df['region_name'].value_counts().head(10))\n",
    "print(f\"\\nВсего уникальных регионов: {merged_df['region_name'].nunique()}\")\n",
    "\n",
    "print(\"\\ncity_name - уникальные города:\")\n",
    "print(merged_df['city_name'].value_counts().head(10))\n",
    "print(f\"\\nВсего уникальных городов: {merged_df['city_name'].nunique()}\")\n",
    "\n",
    "# Анализ venue_name и venue_address\n",
    "print(\"\\n4. АНАЛИЗ МЕСТ ПРОВЕДЕНИЯ:\")\n",
    "print(\"venue_name - примеры названий:\")\n",
    "print(merged_df['venue_name'].value_counts().head(10))\n",
    "print(f\"\\nВсего уникальных мест: {merged_df['venue_name'].nunique()}\")"
   ]
  },
  {
   "cell_type": "code",
   "execution_count": 10,
   "id": "1ec8a7fe",
   "metadata": {},
   "outputs": [
    {
     "name": "stdout",
     "output_type": "stream",
     "text": [
      "РАСПРЕДЕЛЕНИЕ ПО ВАЛЮТАМ:\n",
      "rub: 285780 записей (98.3%)\n",
      "kzt: 5069 записей (1.7%)\n",
      "\n",
      "СТАТИСТИКА REVENUE ПО ВАЛЮТАМ:\n",
      "\n",
      "rub:\n",
      "count    285780.000000\n",
      "mean        547.568333\n",
      "std         871.524559\n",
      "min         -90.760000\n",
      "25%         113.827500\n",
      "50%         346.100000\n",
      "75%         791.700000\n",
      "max       81174.540000\n",
      "Name: revenue, dtype: float64\n",
      "\n",
      "kzt:\n",
      "count     5069.000000\n",
      "mean      4995.206767\n",
      "std       4916.752776\n",
      "min          0.000000\n",
      "25%        518.100000\n",
      "50%       3698.830000\n",
      "75%       7397.660000\n",
      "max      26425.860000\n",
      "Name: revenue, dtype: float64\n"
     ]
    }
   ],
   "source": [
    "# Разделим данные по валютам\n",
    "rub_data = merged_df[merged_df['currency_code'] == 'rub']\n",
    "kzt_data = merged_df[merged_df['currency_code'] == 'kzt'] if 'kzt' in merged_df['currency_code'].values else None\n",
    "other_currencies = merged_df[~merged_df['currency_code'].isin(['rub', 'kzt'])] if 'kzt' in merged_df['currency_code'].values else merged_df[merged_df['currency_code'] != 'RUB']\n",
    "\n",
    "print(\"РАСПРЕДЕЛЕНИЕ ПО ВАЛЮТАМ:\")\n",
    "print(f\"rub: {len(rub_data)} записей ({len(rub_data)/len(merged_df)*100:.1f}%)\")\n",
    "if kzt_data is not None:\n",
    "    print(f\"kzt: {len(kzt_data)} записей ({len(kzt_data)/len(merged_df)*100:.1f}%)\")\n",
    "if len(other_currencies) > 0:\n",
    "    print(f\"Другие валюты: {len(other_currencies)} записей\")\n",
    "\n",
    "# Статистика по revenue для каждой валюты\n",
    "print(\"\\nСТАТИСТИКА REVENUE ПО ВАЛЮТАМ:\")\n",
    "print(\"\\nrub:\")\n",
    "print(rub_data['revenue'].describe())\n",
    "\n",
    "if kzt_data is not None:\n",
    "    print(\"\\nkzt:\")\n",
    "    print(kzt_data['revenue'].describe())\n",
    "\n",
    "if len(other_currencies) > 0:\n",
    "    print(\"\\nДругие валюты:\")\n",
    "    print(other_currencies['revenue'].describe())"
   ]
  },
  {
   "cell_type": "code",
   "execution_count": 11,
   "id": "a7d83ebc",
   "metadata": {},
   "outputs": [
    {
     "name": "stderr",
     "output_type": "stream",
     "text": [
      "/opt/conda/lib/python3.9/site-packages/pandas/core/arraylike.py:358: RuntimeWarning: invalid value encountered in log1p\n",
      "  result = getattr(ufunc, method)(*inputs, **kwargs)\n"
     ]
    },
    {
     "data": {
      "image/png": "[encoded data removed]",
      "text/plain": [
       "<Figure size 1296x864 with 6 Axes>"
      ]
     },
     "metadata": {
      "needs_background": "light"
     },
     "output_type": "display_data"
    }
   ],
   "source": [
    "# Создаем графики для анализа распределения\n",
    "fig, axes = plt.subplots(2, 3, figsize=(18, 12))\n",
    "\n",
    "# Гистограммы распределения\n",
    "# RUB\n",
    "axes[0, 0].hist(rub_data['revenue'], bins=50, alpha=0.7, color='blue', edgecolor='black')\n",
    "axes[0, 0].set_title('Распределение revenue (RUB)')\n",
    "axes[0, 0].set_xlabel('Выручка (рубли)')\n",
    "axes[0, 0].set_ylabel('Частота')\n",
    "\n",
    "# KZT (если есть)\n",
    "if kzt_data is not None:\n",
    "    axes[0, 1].hist(kzt_data['revenue'], bins=50, alpha=0.7, color='green', edgecolor='black')\n",
    "    axes[0, 1].set_title('Распределение revenue (KZT)')\n",
    "    axes[0, 1].set_xlabel('Выручка (тенге)')\n",
    "    axes[0, 1].set_ylabel('Частота')\n",
    "\n",
    "# Боксплоты для выявления выбросов\n",
    "# RUB\n",
    "axes[1, 0].boxplot(rub_data['revenue'])\n",
    "axes[1, 0].set_title('Боксплот revenue (RUB)')\n",
    "axes[1, 0].set_ylabel('Выручка (рубли)')\n",
    "\n",
    "# KZT (если есть)\n",
    "if kzt_data is not None:\n",
    "    axes[1, 1].boxplot(kzt_data['revenue'])\n",
    "    axes[1, 1].set_title('Боксплот revenue (KZT)')\n",
    "    axes[1, 1].set_ylabel('Выручка (тенге)')\n",
    "\n",
    "# Логарифмическое распределение для лучшей визуализации\n",
    "axes[0, 2].hist(np.log1p(rub_data['revenue']), bins=50, alpha=0.7, color='red', edgecolor='black')\n",
    "axes[0, 2].set_title('Логарифмическое распределение (RUB)')\n",
    "axes[0, 2].set_xlabel('log(1 + revenue)')\n",
    "axes[0, 2].set_ylabel('Частота')\n",
    "\n",
    "if kzt_data is not None:\n",
    "    axes[1, 2].hist(np.log1p(kzt_data['revenue']), bins=50, alpha=0.7, color='orange', edgecolor='black')\n",
    "    axes[1, 2].set_title('Логарифмическое распределение (KZT)')\n",
    "    axes[1, 2].set_xlabel('log(1 + revenue)')\n",
    "    axes[1, 2].set_ylabel('Частота')\n",
    "\n",
    "plt.tight_layout()\n",
    "plt.show()"
   ]
  },
  {
   "cell_type": "code",
   "execution_count": 12,
   "id": "af5726c9",
   "metadata": {},
   "outputs": [
    {
     "name": "stdout",
     "output_type": "stream",
     "text": [
      "\n",
      "АНАЛИЗ ВЫБРОСОВ ДЛЯ RUB:\n",
      "========================================\n",
      "25%-й перцентиль: 113.83\n",
      "50%-й перцентиль: 346.10\n",
      "75%-й перцентиль: 791.70\n",
      "90%-й перцентиль: 1276.15\n",
      "95%-й перцентиль: 1606.50\n",
      "99%-й перцентиль: 2569.59\n",
      "99.5%-й перцентиль: 2988.16\n",
      "99.9%-й перцентиль: 5140.78\n",
      "99.99%-й перцентиль: 32469.82\n",
      "\n",
      "Порог по 99-му перцентилю: 2569.59\n",
      "Количество выбросов (>99%): 2858\n",
      "Доля выбросов: 1.00%\n",
      "Мин. значение выбросов: 2569.61\n",
      "Макс. значение выбросов: 81174.54\n",
      "Среднее значение выбросов: 4269.81\n",
      "\n",
      "АНАЛИЗ ВЫБРОСОВ ДЛЯ KZT:\n",
      "========================================\n",
      "25%-й перцентиль: 518.10\n",
      "50%-й перцентиль: 3698.83\n",
      "75%-й перцентиль: 7397.66\n",
      "90%-й перцентиль: 13212.93\n",
      "95%-й перцентиль: 13784.26\n",
      "99%-й перцентиль: 17617.24\n",
      "99.5%-й перцентиль: 21564.20\n",
      "99.9%-й перцентиль: 22021.55\n",
      "99.99%-й перцентиль: 26425.86\n",
      "\n",
      "Порог по 99-му перцентилю: 17617.24\n",
      "Количество выбросов (>99%): 29\n",
      "Доля выбросов: 0.57%\n",
      "Мин. значение выбросов: 20676.39\n",
      "Макс. значение выбросов: 26425.86\n",
      "Среднее значение выбросов: 22641.76\n"
     ]
    }
   ],
   "source": [
    "# Функция для анализа выбросов по перцентилям\n",
    "def analyze_outliers(data, currency_name):\n",
    "    print(f\"\\nАНАЛИЗ ВЫБРОСОВ ДЛЯ {currency_name}:\")\n",
    "    print(\"=\"*40)\n",
    "    \n",
    "    # Рассчитаем различные перцентили\n",
    "    percentiles = [25, 50, 75, 90, 95, 99, 99.5, 99.9, 99.99]\n",
    "    percentile_values = np.percentile(data['revenue'], percentiles)\n",
    "    \n",
    "    for p, val in zip(percentiles, percentile_values):\n",
    "        print(f\"{p}%-й перцентиль: {val:.2f}\")\n",
    "    \n",
    "    # Определим выбросы по 99-му перцентилю\n",
    "    threshold_99 = np.percentile(data['revenue'], 99)\n",
    "    outliers_99 = data[data['revenue'] > threshold_99]\n",
    "    \n",
    "    print(f\"\\nПорог по 99-му перцентилю: {threshold_99:.2f}\")\n",
    "    print(f\"Количество выбросов (>99%): {len(outliers_99)}\")\n",
    "    print(f\"Доля выбросов: {len(outliers_99)/len(data)*100:.2f}%\")\n",
    "    \n",
    "    # Статистика по выбросам\n",
    "    if len(outliers_99) > 0:\n",
    "        print(f\"Мин. значение выбросов: {outliers_99['revenue'].min():.2f}\")\n",
    "        print(f\"Макс. значение выбросов: {outliers_99['revenue'].max():.2f}\")\n",
    "        print(f\"Среднее значение выбросов: {outliers_99['revenue'].mean():.2f}\")\n",
    "    \n",
    "    return threshold_99, outliers_99\n",
    "\n",
    "# Анализ для RUB\n",
    "threshold_rub, outliers_rub = analyze_outliers(rub_data, \"RUB\")\n",
    "\n",
    "# Анализ для KZT (если есть)\n",
    "if kzt_data is not None:\n",
    "    threshold_kzt, outliers_kzt = analyze_outliers(kzt_data, \"KZT\")"
   ]
  },
  {
   "cell_type": "code",
   "execution_count": 13,
   "id": "4ed10546",
   "metadata": {},
   "outputs": [
    {
     "name": "stdout",
     "output_type": "stream",
     "text": [
      "\n",
      "==================================================\n",
      "АНАЛИЗ TICKETS_COUNT\n",
      "==================================================\n",
      "Общая статистика tickets_count:\n",
      "count    290849.000000\n",
      "mean          2.754230\n",
      "std           1.170467\n",
      "min           1.000000\n",
      "25%           2.000000\n",
      "50%           3.000000\n",
      "75%           4.000000\n",
      "max          57.000000\n",
      "Name: tickets_count, dtype: float64\n",
      "\n",
      "Tickets_count по валютам:\n",
      "RUB:\n",
      "count    285780.000000\n",
      "mean          2.754077\n",
      "std           1.171419\n",
      "min           1.000000\n",
      "25%           2.000000\n",
      "50%           3.000000\n",
      "75%           4.000000\n",
      "max          57.000000\n",
      "Name: tickets_count, dtype: float64\n",
      "\n",
      "KZT:\n",
      "count    5069.000000\n",
      "mean        2.762872\n",
      "std         1.115558\n",
      "min         1.000000\n",
      "25%         2.000000\n",
      "50%         3.000000\n",
      "75%         4.000000\n",
      "max         6.000000\n",
      "Name: tickets_count, dtype: float64\n"
     ]
    },
    {
     "data": {
      "image/png": "[encoded data removed]",
      "text/plain": [
       "<Figure size 1080x432 with 2 Axes>"
      ]
     },
     "metadata": {
      "needs_background": "light"
     },
     "output_type": "display_data"
    },
    {
     "name": "stdout",
     "output_type": "stream",
     "text": [
      "\n",
      "Выбросы в tickets_count (>99%):\n",
      "Порог: 6.0 билетов\n",
      "Количество выбросов: 188\n",
      "Максимальное значение: 57 билетов\n"
     ]
    }
   ],
   "source": [
    "# Проверим наличие tickets_count и проанализируем его\n",
    "if 'tickets_count' in merged_df.columns:\n",
    "    print(\"\\n\" + \"=\"*50)\n",
    "    print(\"АНАЛИЗ TICKETS_COUNT\")\n",
    "    print(\"=\"*50)\n",
    "    \n",
    "    # Основная статистика\n",
    "    print(\"Общая статистика tickets_count:\")\n",
    "    print(merged_df['tickets_count'].describe())\n",
    "    \n",
    "    # Распределение по валютам\n",
    "    print(\"\\nTickets_count по валютам:\")\n",
    "    print(\"RUB:\")\n",
    "    print(rub_data['tickets_count'].describe())\n",
    "    \n",
    "    if kzt_data is not None:\n",
    "        print(\"\\nKZT:\")\n",
    "        print(kzt_data['tickets_count'].describe())\n",
    "    \n",
    "    # Визуализация распределения tickets_count\n",
    "    fig, axes = plt.subplots(1, 2, figsize=(15, 6))\n",
    "    \n",
    "    # Гистограмма\n",
    "    axes[0].hist(merged_df['tickets_count'], bins=50, alpha=0.7, color='purple', edgecolor='black')\n",
    "    axes[0].set_title('Распределение tickets_count')\n",
    "    axes[0].set_xlabel('Количество билетов')\n",
    "    axes[0].set_ylabel('Частота')\n",
    "    \n",
    "    # Боксплот\n",
    "    axes[1].boxplot(merged_df['tickets_count'])\n",
    "    axes[1].set_title('Боксплот tickets_count')\n",
    "    axes[1].set_ylabel('Количество билетов')\n",
    "    \n",
    "    plt.tight_layout()\n",
    "    plt.show()\n",
    "    \n",
    "    # Анализ выбросов в tickets_count\n",
    "    tickets_threshold_99 = np.percentile(merged_df['tickets_count'], 99)\n",
    "    tickets_outliers = merged_df[merged_df['tickets_count'] > tickets_threshold_99]\n",
    "    \n",
    "    print(f\"\\nВыбросы в tickets_count (>99%):\")\n",
    "    print(f\"Порог: {tickets_threshold_99} билетов\")\n",
    "    print(f\"Количество выбросов: {len(tickets_outliers)}\")\n",
    "    print(f\"Максимальное значение: {merged_df['tickets_count'].max()} билетов\")\n",
    "    \n",
    "else:\n",
    "    print(\"Столбец tickets_count отсутствует в данных\")"
   ]
  },
  {
   "cell_type": "code",
   "execution_count": 14,
   "id": "4a4fef31",
   "metadata": {},
   "outputs": [
    {
     "name": "stdout",
     "output_type": "stream",
     "text": [
      "\n",
      "==================================================\n",
      "ФИЛЬТРАЦИЯ ДАННЫХ ПО 99-МУ ПЕРЦЕНТИЛЮ\n",
      "==================================================\n",
      "RUB данные до фильтрации: 285780 записей\n",
      "RUB данные после фильтрации: 282922 записей\n",
      "Удалено записей RUB: 2858\n",
      "\n",
      "KZT данные до фильтрации: 5069 записей\n",
      "KZT данные после фильтрации: 5040 записей\n",
      "Удалено записей KZT: 29\n",
      "\n",
      "Общий размер данных до фильтрации: 290849\n",
      "Общий размер данных после фильтрации: 287962\n",
      "Общее количество удаленных выбросов: 2887\n"
     ]
    }
   ],
   "source": [
    "# Создаем отфильтрованные датафреймы без выбросов\n",
    "print(\"\\n\" + \"=\"*50)\n",
    "print(\"ФИЛЬТРАЦИЯ ДАННЫХ ПО 99-МУ ПЕРЦЕНТИЛЮ\")\n",
    "print(\"=\"*50)\n",
    "\n",
    "# Фильтруем RUB данные\n",
    "filtered_rub_data = rub_data[rub_data['revenue'] <= threshold_rub]\n",
    "print(f\"RUB данные до фильтрации: {len(rub_data)} записей\")\n",
    "print(f\"RUB данные после фильтрации: {len(filtered_rub_data)} записей\")\n",
    "print(f\"Удалено записей RUB: {len(rub_data) - len(filtered_rub_data)}\")\n",
    "\n",
    "# Фильтруем KZT данные (если есть)\n",
    "if kzt_data is not None:\n",
    "    filtered_kzt_data = kzt_data[kzt_data['revenue'] <= threshold_kzt]\n",
    "    print(f\"\\nKZT данные до фильтрации: {len(kzt_data)} записей\")\n",
    "    print(f\"KZT данные после фильтрации: {len(filtered_kzt_data)} записей\")\n",
    "    print(f\"Удалено записей KZT: {len(kzt_data) - len(filtered_kzt_data)}\")\n",
    "\n",
    "# Объединяем отфильтрованные данные\n",
    "filtered_data_list = [filtered_rub_data]\n",
    "if kzt_data is not None:\n",
    "    filtered_data_list.append(filtered_kzt_data)\n",
    "if len(other_currencies) > 0:\n",
    "    filtered_data_list.append(other_currencies)\n",
    "\n",
    "filtered_df = pd.concat(filtered_data_list, ignore_index=True)\n",
    "\n",
    "print(f\"\\nОбщий размер данных до фильтрации: {len(merged_df)}\")\n",
    "print(f\"Общий размер данных после фильтрации: {len(filtered_df)}\")\n",
    "print(f\"Общее количество удаленных выбросов: {len(merged_df) - len(filtered_df)}\")"
   ]
  },
  {
   "cell_type": "code",
   "execution_count": 15,
   "id": "4ff7196d",
   "metadata": {},
   "outputs": [
    {
     "name": "stdout",
     "output_type": "stream",
     "text": [
      "\n",
      "==================================================\n",
      "СРАВНЕНИЕ СТАТИСТИК ДО И ПОСЛЕ ФИЛЬТРАЦИИ\n",
      "==================================================\n",
      "REVENUE (RUB) - ДО фильтрации:\n",
      "count    285780.000000\n",
      "mean        547.568333\n",
      "std         871.524559\n",
      "min         -90.760000\n",
      "25%         113.827500\n",
      "50%         346.100000\n",
      "75%         791.700000\n",
      "max       81174.540000\n",
      "Name: revenue, dtype: float64\n",
      "\n",
      "REVENUE (RUB) - ПОСЛЕ фильтрации:\n",
      "count    282922.000000\n",
      "mean        509.967304\n",
      "std         500.112654\n",
      "min         -90.760000\n",
      "25%         111.660000\n",
      "50%         340.250000\n",
      "75%         781.090000\n",
      "max        2569.590000\n",
      "Name: revenue, dtype: float64\n",
      "\n",
      "REVENUE (KZT) - ДО фильтрации:\n",
      "count     5069.000000\n",
      "mean      4995.206767\n",
      "std       4916.752776\n",
      "min          0.000000\n",
      "25%        518.100000\n",
      "50%       3698.830000\n",
      "75%       7397.660000\n",
      "max      26425.860000\n",
      "Name: revenue, dtype: float64\n",
      "\n",
      "REVENUE (KZT) - ПОСЛЕ фильтрации:\n",
      "count     5040.000000\n",
      "mean      4893.669063\n",
      "std       4742.680176\n",
      "min          0.000000\n",
      "25%        515.350000\n",
      "50%       3698.830000\n",
      "75%       7397.660000\n",
      "max      17617.240000\n",
      "Name: revenue, dtype: float64\n"
     ]
    },
    {
     "data": {
      "image/png": "[encoded data removed]",
      "text/plain": [
       "<Figure size 1080x432 with 2 Axes>"
      ]
     },
     "metadata": {
      "needs_background": "light"
     },
     "output_type": "display_data"
    }
   ],
   "source": [
    "# Сравним статистики до и после фильтрации\n",
    "print(\"\\n\" + \"=\"*50)\n",
    "print(\"СРАВНЕНИЕ СТАТИСТИК ДО И ПОСЛЕ ФИЛЬТРАЦИИ\")\n",
    "print(\"=\"*50)\n",
    "\n",
    "print(\"REVENUE (RUB) - ДО фильтрации:\")\n",
    "print(rub_data['revenue'].describe())\n",
    "\n",
    "print(\"\\nREVENUE (RUB) - ПОСЛЕ фильтрации:\")\n",
    "print(filtered_rub_data['revenue'].describe())\n",
    "\n",
    "if kzt_data is not None:\n",
    "    print(\"\\nREVENUE (KZT) - ДО фильтрации:\")\n",
    "    print(kzt_data['revenue'].describe())\n",
    "    \n",
    "    print(\"\\nREVENUE (KZT) - ПОСЛЕ фильтрации:\")\n",
    "    print(filtered_kzt_data['revenue'].describe())\n",
    "\n",
    "# Визуализация сравнения\n",
    "fig, axes = plt.subplots(1, 2, figsize=(15, 6))\n",
    "\n",
    "# До фильтрации\n",
    "axes[0].boxplot([rub_data['revenue']] + ([kzt_data['revenue']] if kzt_data is not None else []))\n",
    "axes[0].set_title('Revenue до фильтрации')\n",
    "axes[0].set_ylabel('Выручка')\n",
    "labels = ['RUB'] + (['KZT'] if kzt_data is not None else [])\n",
    "axes[0].set_xticklabels(labels)\n",
    "\n",
    "# После фильтрации\n",
    "axes[1].boxplot([filtered_rub_data['revenue']] + ([filtered_kzt_data['revenue']] if kzt_data is not None else []))\n",
    "axes[1].set_title('Revenue после фильтрации (99% перцентиль)')\n",
    "axes[1].set_ylabel('Выручка')\n",
    "axes[1].set_xticklabels(labels)\n",
    "\n",
    "plt.tight_layout()\n",
    "plt.show()"
   ]
  },
  {
   "cell_type": "code",
   "execution_count": 16,
   "id": "552a1f63",
   "metadata": {},
   "outputs": [
    {
     "name": "stdout",
     "output_type": "stream",
     "text": [
      "ПРОВЕРКА ЯВНЫХ ДУБЛИКАТОВ\n",
      "==================================================\n",
      "Полных дубликатов строк: 0\n",
      "\n",
      "Проверка уникальности order_id:\n",
      "Всего заказов: 290849\n",
      "Всего строк: 290849\n",
      "Дубликатов order_id: 0\n"
     ]
    }
   ],
   "source": [
    "# Проверим полные дубликаты строк\n",
    "print(\"ПРОВЕРКА ЯВНЫХ ДУБЛИКАТОВ\")\n",
    "print(\"=\"*50)\n",
    "\n",
    "total_duplicates = merged_df.duplicated().sum()\n",
    "print(f\"Полных дубликатов строк: {total_duplicates}\")\n",
    "\n",
    "if total_duplicates > 0:\n",
    "    print(\"Примеры дубликатов:\")\n",
    "    duplicate_rows = merged_df[merged_df.duplicated(keep=False)]\n",
    "    print(duplicate_rows.head(10))\n",
    "\n",
    "# Проверим дубликаты по order_id (должен быть уникальным)\n",
    "print(f\"\\nПроверка уникальности order_id:\")\n",
    "print(f\"Всего заказов: {merged_df['order_id'].nunique()}\")\n",
    "print(f\"Всего строк: {len(merged_df)}\")\n",
    "print(f\"Дубликатов order_id: {len(merged_df) - merged_df['order_id'].nunique()}\")\n",
    "\n",
    "if len(merged_df) != merged_df['order_id'].nunique():\n",
    "    duplicate_orders = merged_df[merged_df.duplicated(subset=['order_id'], keep=False)]\n",
    "    print(f\"\\nНайдены дубликаты order_id. Примеры:\")\n",
    "    print(duplicate_orders.sort_values('order_id').head(10))"
   ]
  },
  {
   "cell_type": "code",
   "execution_count": 17,
   "id": "3b75ec31",
   "metadata": {
    "scrolled": false
   },
   "outputs": [
    {
     "name": "stdout",
     "output_type": "stream",
     "text": [
      "\n",
      "ПОИСК НЕЯВНЫХ ДУБЛИКАТОВ БРОНИРОВАНИЙ\n",
      "==================================================\n",
      "Ключевые параметры для поиска дубликатов: ['user_id', 'created_dt_msk', 'event_id', 'event_name', 'venue_id', 'revenue', 'city_name', 'tickets_count', 'device_type_canonical']\n",
      "Найдено потенциальных дубликатов бронирований: 84396\n",
      "Уникальных комбинаций дубликатов: 51628\n",
      "\n",
      "Группы дубликатов (более 1 записи): 32744\n",
      "           user_id created_dt_msk  event_id  \\\n",
      "0  000cf0659a9f40f     2024-06-20    516728   \n",
      "1  000cf0659a9f40f     2024-06-20    516728   \n",
      "2  000cf0659a9f40f     2024-06-21    516728   \n",
      "3  0020c5654c92ec1     2024-07-02    514156   \n",
      "4  002ec276eee9b0b     2024-07-28    535695   \n",
      "5  002ec276eee9b0b     2024-09-21    534009   \n",
      "6  0033403583a55ed     2024-06-19    538926   \n",
      "7  00345f897f95a34     2024-08-31    522858   \n",
      "8  00345f897f95a34     2024-10-23    245958   \n",
      "9  0062ac9536d57e3     2024-08-11    523658   \n",
      "\n",
      "                             event_name  venue_id  revenue     city_name  \\\n",
      "0  11be386f-7cb7-4aa1-a8e4-ba73a29c1af2    4471.0   710.95  Радужнополье   \n",
      "1  11be386f-7cb7-4aa1-a8e4-ba73a29c1af2    4471.0  1421.91  Радужнополье   \n",
      "2  11be386f-7cb7-4aa1-a8e4-ba73a29c1af2    4471.0  1066.43  Радужнополье   \n",
      "3  d13f8352-4f10-41e4-b19d-cde15b4d615b    2440.0   193.42    Глиногорск   \n",
      "4  11b8c9a8-5eab-4bf7-aaa2-880632609001    3670.0  1011.28      Лесоярич   \n",
      "5  58c0fb5e-eb52-4583-9bd0-0f41c983eff7    4534.0   599.47   Лесозолотск   \n",
      "6  7b378eca-5d03-4f42-9491-a32887424226    3474.0     0.00    Глиногорск   \n",
      "7  a154a20a-47d4-42f6-95fb-663bde42e38c    4511.0  1057.64        Озёрск   \n",
      "8  d347788f-9353-4bd0-9732-2085425eafa8    3900.0  1414.37    Глиногорск   \n",
      "9  cbf41036-445c-436c-8eba-ce8f26aa0075    2219.0   719.80    Глиногорск   \n",
      "\n",
      "   tickets_count device_type_canonical  count  \n",
      "0              2                mobile      2  \n",
      "1              4                mobile      5  \n",
      "2              3                mobile      4  \n",
      "3              2                mobile      2  \n",
      "4              2                mobile      3  \n",
      "5              3                mobile      3  \n",
      "6              1                mobile      4  \n",
      "7              3                mobile      2  \n",
      "8              2                mobile      2  \n",
      "9              3                mobile      2  \n"
     ]
    }
   ],
   "source": [
    "# Определим ключевые параметры для идентификации дубликатов бронирований\n",
    "booking_columns = ['user_id', 'created_dt_msk', 'event_id','event_name', 'venue_id', 'revenue','city_name','tickets_count','device_type_canonical']\n",
    "\n",
    "print(\"\\nПОИСК НЕЯВНЫХ ДУБЛИКАТОВ БРОНИРОВАНИЙ\")\n",
    "print(\"=\"*50)\n",
    "print(\"Ключевые параметры для поиска дубликатов:\", booking_columns)\n",
    "\n",
    "# Поиск потенциальных дубликатов бронирований\n",
    "potential_duplicates = merged_df[merged_df.duplicated(subset=booking_columns, keep=False)]\n",
    "print(f\"Найдено потенциальных дубликатов бронирований: {len(potential_duplicates)}\")\n",
    "\n",
    "if len(potential_duplicates) > 0:\n",
    "    print(f\"Уникальных комбинаций дубликатов: {potential_duplicates.duplicated(subset=booking_columns).sum()}\")\n",
    "    \n",
    "    # Сгруппируем по ключевым параметрам для анализа\n",
    "    duplicate_groups = potential_duplicates.groupby(booking_columns).size().reset_index(name='count')\n",
    "    duplicate_groups = duplicate_groups[duplicate_groups['count'] > 1]\n",
    "    \n",
    "    print(f\"\\nГруппы дубликатов (более 1 записи): {len(duplicate_groups)}\")\n",
    "    print(duplicate_groups.head(10))"
   ]
  },
  {
   "cell_type": "code",
   "execution_count": 18,
   "id": "555ef371",
   "metadata": {},
   "outputs": [
    {
     "name": "stdout",
     "output_type": "stream",
     "text": [
      "\n",
      "ПРЕОБРАЗОВАНИЕ ДАТ И ВРЕМЕНИ\n",
      "==================================================\n",
      "\n",
      "Анализ created_dt_msk:\n",
      "Тип: object\n",
      "Примеры: ['2024-08-20', '2024-07-23', '2024-10-06']\n",
      "Пропуски: 0\n",
      "\n",
      "Анализ created_ts_msk:\n",
      "Тип: object\n",
      "Примеры: ['2024-08-20 16:08:03', '2024-07-23 18:36:24', '2024-10-06 13:56:02']\n",
      "Пропуски: 0\n",
      "created_dt_msk преобразован в datetime\n",
      "created_ts_msk преобразован в datetime\n",
      "Созданы дополнительные временные признаки\n",
      "\n",
      "Результат преобразования дат:\n",
      "created_dt_msk: datetime64[ns]\n",
      "Диапазон: 2024-06-01 00:00:00 - 2024-10-31 00:00:00\n",
      "created_ts_msk: datetime64[ns]\n",
      "Диапазон: 2024-06-01 00:00:42 - 2024-10-31 23:59:54\n"
     ]
    }
   ],
   "source": [
    "print(\"\\nПРЕОБРАЗОВАНИЕ ДАТ И ВРЕМЕНИ\")\n",
    "print(\"=\"*50)\n",
    "\n",
    "# Анализ форматов дат\n",
    "date_time_columns = ['created_dt_msk', 'created_ts_msk']\n",
    "for col in date_time_columns:\n",
    "    if col in merged_df.columns:\n",
    "        print(f\"\\nАнализ {col}:\")\n",
    "        print(f\"Тип: {merged_df[col].dtype}\")\n",
    "        print(f\"Примеры: {merged_df[col].head(3).tolist()}\")\n",
    "        print(f\"Пропуски: {merged_df[col].isnull().sum()}\")\n",
    "\n",
    "# Преобразование в правильные типы datetime\n",
    "def optimize_datetime_types(df):\n",
    "    df_optimized = df.copy()\n",
    "    \n",
    "    # Преобразование created_dt_msk в date\n",
    "    if 'created_dt_msk' in df_optimized.columns:\n",
    "        df_optimized['created_dt_msk'] = pd.to_datetime(df_optimized['created_dt_msk'], errors='coerce')\n",
    "        print(f\"created_dt_msk преобразован в datetime\")\n",
    "    \n",
    "    # Преобразование created_ts_msk в datetime\n",
    "    if 'created_ts_msk' in df_optimized.columns:\n",
    "        df_optimized['created_ts_msk'] = pd.to_datetime(df_optimized['created_ts_msk'], errors='coerce')\n",
    "        print(f\"created_ts_msk преобразован в datetime\")\n",
    "    \n",
    "    # Создание дополнительных временных признаков\n",
    "    if 'created_ts_msk' in df_optimized.columns:\n",
    "        df_optimized['created_year'] = df_optimized['created_ts_msk'].dt.year\n",
    "        df_optimized['created_month'] = df_optimized['created_ts_msk'].dt.month\n",
    "        df_optimized['created_day'] = df_optimized['created_ts_msk'].dt.day\n",
    "        df_optimized['created_hour'] = df_optimized['created_ts_msk'].dt.hour\n",
    "        df_optimized['created_dayofweek'] = df_optimized['created_ts_msk'].dt.dayofweek\n",
    "        df_optimized['created_week'] = df_optimized['created_ts_msk'].dt.isocalendar().week\n",
    "        \n",
    "        print(\"Созданы дополнительные временные признаки\")\n",
    "    \n",
    "    return df_optimized\n",
    "\n",
    "# Применяем преобразование\n",
    "merged_df_optimized = optimize_datetime_types(merged_df)\n",
    "\n",
    "# Проверяем результат\n",
    "print(\"\\nРезультат преобразования дат:\")\n",
    "for col in date_time_columns:\n",
    "    if col in merged_df_optimized.columns:\n",
    "        print(f\"{col}: {merged_df_optimized[col].dtype}\")\n",
    "        print(f\"Диапазон: {merged_df_optimized[col].min()} - {merged_df_optimized[col].max()}\")"
   ]
  },
  {
   "cell_type": "code",
   "execution_count": 19,
   "id": "1232bb66",
   "metadata": {},
   "outputs": [
    {
     "name": "stdout",
     "output_type": "stream",
     "text": [
      "\n",
      "ОПТИМИЗАЦИЯ ЧИСЛОВЫХ ТИПОВ\n",
      "==================================================\n",
      "Оптимизация числовых колонок:\n",
      "  order_id                  | int64 -> <class 'numpy.uint32'> | Экономия:  25.0%\n",
      "  event_id                  | int64 -> <class 'numpy.uint32'> | Экономия:  25.0%\n",
      "  age_limit                 | int64 -> <class 'numpy.uint8'> | Экономия:  43.8%\n",
      "  revenue                   | float64 -> <class 'numpy.float32'> | Экономия:  25.0%\n",
      "  tickets_count             | int64 -> <class 'numpy.uint8'> | Экономия:  43.8%\n",
      "  total                     | float64 -> <class 'numpy.float32'> | Экономия:  25.0%\n",
      "  days_since_prev           | float64 -> <class 'numpy.float16'> | Экономия:  37.5%\n",
      "  city_id                   | float64 -> <class 'numpy.float16'> | Экономия:  37.5%\n",
      "  venue_id                  | float64 -> <class 'numpy.float16'> | Экономия:  37.5%\n",
      "  created_year              | int64 -> <class 'numpy.uint16'> | Экономия:  37.5%\n",
      "  created_month             | int64 -> <class 'numpy.uint8'> | Экономия:  43.8%\n",
      "  created_day               | int64 -> <class 'numpy.uint8'> | Экономия:  43.8%\n",
      "  created_hour              | int64 -> <class 'numpy.uint8'> | Экономия:  43.8%\n",
      "  created_dayofweek         | int64 -> <class 'numpy.uint8'> | Экономия:  43.8%\n",
      "  created_week              | UInt32 -> <class 'numpy.uint8'> | Экономия:  30.8%\n"
     ]
    }
   ],
   "source": [
    "print(\"\\nОПТИМИЗАЦИЯ ЧИСЛОВЫХ ТИПОВ\")\n",
    "print(\"=\"*50)\n",
    "\n",
    "def optimize_numeric_types(df):\n",
    "    df_opt = df.copy()\n",
    "    numeric_columns = df_opt.select_dtypes(include=[np.number]).columns\n",
    "    \n",
    "    print(\"Оптимизация числовых колонок:\")\n",
    "    for col in numeric_columns:\n",
    "        original_dtype = df_opt[col].dtype\n",
    "        original_memory = df_opt[col].memory_usage(deep=True) / 1024  # KB\n",
    "        \n",
    "        # Пропуски заполняем специальным значением перед оптимизацией\n",
    "        col_series = df_opt[col].fillna(-1) if df_opt[col].isnull().any() else df_opt[col]\n",
    "        \n",
    "        # Определяем оптимальный тип\n",
    "        if col_series.dtype.kind in 'iuf':  # integer, unsigned, float\n",
    "            col_min = col_series.min()\n",
    "            col_max = col_series.max()\n",
    "            \n",
    "            if col_series.dtype.kind == 'f':  # float\n",
    "                # Для float пытаемся преобразовать в float32\n",
    "                if np.isfinite(col_min) and np.isfinite(col_max):\n",
    "                    if col_min >= np.finfo(np.float16).min and col_max <= np.finfo(np.float16).max:\n",
    "                        new_dtype = np.float16\n",
    "                    elif col_min >= np.finfo(np.float32).min and col_max <= np.finfo(np.float32).max:\n",
    "                        new_dtype = np.float32\n",
    "                    else:\n",
    "                        new_dtype = np.float64\n",
    "            else:  # integer\n",
    "                # Для integer подбираем минимальный подходящий тип\n",
    "                if col_min >= 0:  # unsigned\n",
    "                    if col_max <= np.iinfo(np.uint8).max:\n",
    "                        new_dtype = np.uint8\n",
    "                    elif col_max <= np.iinfo(np.uint16).max:\n",
    "                        new_dtype = np.uint16\n",
    "                    elif col_max <= np.iinfo(np.uint32).max:\n",
    "                        new_dtype = np.uint32\n",
    "                    else:\n",
    "                        new_dtype = np.uint64\n",
    "                else:  # signed\n",
    "                    if col_min >= np.iinfo(np.int8).min and col_max <= np.iinfo(np.int8).max:\n",
    "                        new_dtype = np.int8\n",
    "                    elif col_min >= np.iinfo(np.int16).min and col_max <= np.iinfo(np.int16).max:\n",
    "                        new_dtype = np.int16\n",
    "                    elif col_min >= np.iinfo(np.int32).min and col_max <= np.iinfo(np.int32).max:\n",
    "                        new_dtype = np.int32\n",
    "                    else:\n",
    "                        new_dtype = np.int64\n",
    "            \n",
    "            # Применяем преобразование если есть выигрыш\n",
    "            if new_dtype != original_dtype:\n",
    "                df_opt[col] = df_opt[col].astype(new_dtype)\n",
    "                new_memory = df_opt[col].memory_usage(deep=True) / 1024\n",
    "                savings = (original_memory - new_memory) / original_memory * 100\n",
    "                print(f\"  {col:25} | {original_dtype} -> {new_dtype} | Экономия: {savings:5.1f}%\")\n",
    "    \n",
    "    return df_opt\n",
    "\n",
    "# Применяем оптимизацию\n",
    "merged_df_optimized = optimize_numeric_types(merged_df_optimized)"
   ]
  },
  {
   "cell_type": "code",
   "execution_count": 20,
   "id": "75b4551d",
   "metadata": {},
   "outputs": [
    {
     "name": "stdout",
     "output_type": "stream",
     "text": [
      "\n",
      "Курс 1 тенге к рублю: в диапазоне 0.1785 - 0.2194\n"
     ]
    }
   ],
   "source": [
    "# Преобразуем дату в правильный формат\n",
    "final_tickets_tenge['data'] = pd.to_datetime(final_tickets_tenge['data'])\n",
    "# Рассчитаем курс для 1 тенге (в данных курс указан для 100 тенге)\n",
    "final_tickets_tenge['curs_per_unit'] = final_tickets_tenge['curs'] / final_tickets_tenge['nominal']\n",
    "print(f\"\\nКурс 1 тенге к рублю: в диапазоне {final_tickets_tenge['curs_per_unit'].min():.4f} - {final_tickets_tenge['curs_per_unit'].max():.4f}\")"
   ]
  },
  {
   "cell_type": "code",
   "execution_count": 21,
   "id": "20197b52",
   "metadata": {},
   "outputs": [
    {
     "name": "stdout",
     "output_type": "stream",
     "text": [
      "БАЗОВАЯ ИНФОРМАЦИЯ О ДАННЫХ:\n",
      "Размер данных: (290849, 24)\n",
      "Валюты в данных: {'rub': 285780, 'kzt': 5069}\n"
     ]
    }
   ],
   "source": [
    "# Преобразуем даты в правильный формат если еще не сделано\n",
    "if 'created_dt_msk' in merged_df.columns and merged_df['created_dt_msk'].dtype == 'object':\n",
    "    merged_df['created_dt_msk'] = pd.to_datetime(merged_df['created_dt_msk'])\n",
    "\n",
    "if 'created_ts_msk' in merged_df.columns and merged_df['created_ts_msk'].dtype == 'object':\n",
    "    merged_df['created_ts_msk'] = pd.to_datetime(merged_df['created_ts_msk'])\n",
    "\n",
    "print(\"БАЗОВАЯ ИНФОРМАЦИЯ О ДАННЫХ:\")\n",
    "print(f\"Размер данных: {merged_df.shape}\")\n",
    "print(f\"Валюты в данных: {merged_df['currency_code'].value_counts().to_dict()}\")"
   ]
  },
  {
   "cell_type": "code",
   "execution_count": 22,
   "id": "e21c4505",
   "metadata": {},
   "outputs": [
    {
     "name": "stdout",
     "output_type": "stream",
     "text": [
      "   order_id          user_id created_dt_msk      created_ts_msk  event_id  \\\n",
      "0   4359165  0002849b70a3ce2     2024-08-20 2024-08-20 16:08:03    169230   \n",
      "1   7965605  0005ca5e93f2cf4     2024-07-23 2024-07-23 18:36:24    237325   \n",
      "2   7292370  0005ca5e93f2cf4     2024-10-06 2024-10-06 13:56:02    578454   \n",
      "3   1139875  000898990054619     2024-07-13 2024-07-13 19:40:48    387271   \n",
      "4    972400  000898990054619     2024-10-04 2024-10-04 22:33:15    509453   \n",
      "\n",
      "  cinema_circuit  age_limit currency_code device_type_canonical  revenue  ...  \\\n",
      "0            нет         16           rub                mobile  1521.94  ...   \n",
      "1            нет          0           rub                mobile   289.45  ...   \n",
      "2            нет          0           rub                mobile  1258.57  ...   \n",
      "3            нет          0           rub                mobile     8.49  ...   \n",
      "4            нет         18           rub                mobile  1390.41  ...   \n",
      "\n",
      "            region_name    city_name  city_id  venue_id  \\\n",
      "0    Каменевский регион   Глиногорск    213.0    3972.0   \n",
      "1    Каменевский регион   Глиногорск    213.0    2941.0   \n",
      "2    Каменевский регион   Глиногорск    213.0    4507.0   \n",
      "3  Североярская область       Озёрск      2.0    3574.0   \n",
      "4      Озернинский край  Родниковецк    240.0    1896.0   \n",
      "\n",
      "                                      venue_name  \\\n",
      "0               Сценический центр \"Деталь\" Групп   \n",
      "1      Музыкальная школа для детей \"Аккаунт\" Лтд   \n",
      "2                 Училище искусств \"Нирвана\" Инк   \n",
      "3  Театр альтернативного искусства \"Ода\" Лимитед   \n",
      "4               Театр кукол \"Огни\" Инкорпорэйтед   \n",
      "\n",
      "                         venue_address nominal     curs  cdx curs_per_unit  \n",
      "0  алл. Машиностроителей, д. 19 стр. 6     100  18.6972  kzt      0.186972  \n",
      "1             алл. Шмидта, д. 9 стр. 4     100  18.3419  kzt      0.183419  \n",
      "2               алл. Юбилейная, д. 5/6     100  19.6475  kzt      0.196475  \n",
      "3          алл. Есенина, д. 243 к. 3/8     100  18.5010  kzt      0.185010  \n",
      "4         ш. Набережное, д. 595 стр. 8     100  19.6648  kzt      0.196648  \n",
      "\n",
      "[5 rows x 28 columns]\n"
     ]
    }
   ],
   "source": [
    "# Простое объединение по дате\n",
    "result_df = merged_df.merge(\n",
    "    final_tickets_tenge.rename(columns={'data': 'created_dt_msk'}), \n",
    "    on='created_dt_msk', \n",
    "    how='left'\n",
    ")\n",
    "\n",
    "print(result_df.head(5))"
   ]
  },
  {
   "cell_type": "code",
   "execution_count": 23,
   "id": "7836cee1",
   "metadata": {},
   "outputs": [
    {
     "name": "stdout",
     "output_type": "stream",
     "text": [
      "\n",
      "СОЗДАНИЕ СТОЛБЦА REVENUE_RUB\n",
      "==================================================\n",
      "Записей с найденным курсом валют: 290849\n",
      "Записей без курса валют: 0\n",
      "\n",
      "ПРОВЕРКА КОНВЕРТАЦИИ:\n",
      "Статистика по revenue_rub:\n",
      "count    290849.000000\n",
      "mean        555.127972\n",
      "std         875.278177\n",
      "min         -90.760000\n",
      "25%         113.340000\n",
      "50%         350.260000\n",
      "75%         802.050000\n",
      "max       81174.540000\n",
      "Name: revenue_rub, dtype: float64\n",
      "\n",
      "Сравнение по валютам:\n",
      "rub: 285780 записей, средняя выручка в рублях: 547.57\n",
      "kzt: 5069 записей, средняя выручка в рублях: 981.33\n"
     ]
    }
   ],
   "source": [
    "print(\"\\nСОЗДАНИЕ СТОЛБЦА REVENUE_RUB\")\n",
    "print(\"=\"*50)\n",
    "\n",
    "\n",
    "# Проверяем успешность объединения\n",
    "print(f\"Записей с найденным курсом валют: {result_df['curs_per_unit'].notna().sum()}\")\n",
    "print(f\"Записей без курса валют: {result_df['curs_per_unit'].isna().sum()}\")\n",
    "\n",
    "\n",
    "# Создаем столбец revenue_rub\n",
    "def convert_to_rub(row):\n",
    "    if row['currency_code'] == 'kzt':\n",
    "        return row['revenue'] * row['curs_per_unit']\n",
    "    elif row['currency_code'] == 'rub':\n",
    "        return row['revenue']\n",
    "\n",
    "\n",
    "result_df['revenue_rub'] = result_df.apply(convert_to_rub, axis=1)\n",
    "\n",
    "# Проверяем результат\n",
    "print(f\"\\nПРОВЕРКА КОНВЕРТАЦИИ:\")\n",
    "print(\"Статистика по revenue_rub:\")\n",
    "print(result_df['revenue_rub'].describe())\n",
    "\n",
    "# Сравним исходную выручку и конвертированную\n",
    "print(f\"\\nСравнение по валютам:\")\n",
    "for currency in result_df['currency_code'].unique():\n",
    "    currency_data = result_df[result_df['currency_code'] == currency]\n",
    "    print(f\"{currency}: {len(currency_data)} записей, средняя выручка в рублях: {currency_data['revenue_rub'].mean():.2f}\")"
   ]
  },
  {
   "cell_type": "code",
   "execution_count": 28,
   "id": "a521e0fb",
   "metadata": {},
   "outputs": [
    {
     "name": "stdout",
     "output_type": "stream",
     "text": [
      "Статистика по one_ticket_revenue_rub:\n",
      "count    290849.000000\n",
      "mean        201.028608\n",
      "std         302.781404\n",
      "min         -18.152000\n",
      "25%          46.635000\n",
      "50%         149.460000\n",
      "75%         308.700000\n",
      "max       21757.540000\n",
      "Name: one_ticket_revenue_rub, dtype: float64\n"
     ]
    }
   ],
   "source": [
    "# Рассчитываем выручку с одного билета\n",
    "result_df['one_ticket_revenue_rub'] = result_df['revenue_rub'] / result_df['tickets_count']\n",
    "    \n",
    "print(\"Статистика по one_ticket_revenue_rub:\")\n",
    "print(result_df['one_ticket_revenue_rub'].describe())"
   ]
  },
  {
   "cell_type": "code",
   "execution_count": 25,
   "id": "0bbd2cc5",
   "metadata": {},
   "outputs": [],
   "source": [
    "result_df['month'] = result_df['created_ts_msk'].dt.month"
   ]
  },
  {
   "cell_type": "code",
   "execution_count": 26,
   "id": "d6dc4077",
   "metadata": {},
   "outputs": [],
   "source": [
    "def get_season(month):\n",
    "    \"\"\"Определяем сезон по месяцу\"\"\"\n",
    "    if month in [1, 2,12]:\n",
    "        return 'зима'\n",
    "    elif month in [3, 4, 5]:\n",
    "        return 'весна'\n",
    "    elif month in [6, 7, 8]:\n",
    "        return 'лето'\n",
    "    elif month in [9, 10, 11]:\n",
    "        return 'осень'\n",
    "    else:\n",
    "        return 'неизвестно'\n",
    "\n",
    "# Создаем столбец с сезоном\n",
    "result_df['season'] = result_df['month'].apply(get_season)"
   ]
  },
  {
   "cell_type": "code",
   "execution_count": 27,
   "id": "36f6cbfa",
   "metadata": {},
   "outputs": [
    {
     "data": {
      "text/html": [
       "<div>\n",
       "<style scoped>\n",
       "    .dataframe tbody tr th:only-of-type {\n",
       "        vertical-align: middle;\n",
       "    }\n",
       "\n",
       "    .dataframe tbody tr th {\n",
       "        vertical-align: top;\n",
       "    }\n",
       "\n",
       "    .dataframe thead th {\n",
       "        text-align: right;\n",
       "    }\n",
       "</style>\n",
       "<table border=\"1\" class=\"dataframe\">\n",
       "  <thead>\n",
       "    <tr style=\"text-align: right;\">\n",
       "      <th></th>\n",
       "      <th>order_id</th>\n",
       "      <th>user_id</th>\n",
       "      <th>created_dt_msk</th>\n",
       "      <th>created_ts_msk</th>\n",
       "      <th>event_id</th>\n",
       "      <th>cinema_circuit</th>\n",
       "      <th>age_limit</th>\n",
       "      <th>currency_code</th>\n",
       "      <th>device_type_canonical</th>\n",
       "      <th>revenue</th>\n",
       "      <th>...</th>\n",
       "      <th>venue_name</th>\n",
       "      <th>venue_address</th>\n",
       "      <th>nominal</th>\n",
       "      <th>curs</th>\n",
       "      <th>cdx</th>\n",
       "      <th>curs_per_unit</th>\n",
       "      <th>revenue_rub</th>\n",
       "      <th>one_ticket_revenue_rub</th>\n",
       "      <th>month</th>\n",
       "      <th>season</th>\n",
       "    </tr>\n",
       "  </thead>\n",
       "  <tbody>\n",
       "    <tr>\n",
       "      <th>0</th>\n",
       "      <td>4359165</td>\n",
       "      <td>0002849b70a3ce2</td>\n",
       "      <td>2024-08-20</td>\n",
       "      <td>2024-08-20 16:08:03</td>\n",
       "      <td>169230</td>\n",
       "      <td>нет</td>\n",
       "      <td>16</td>\n",
       "      <td>rub</td>\n",
       "      <td>mobile</td>\n",
       "      <td>1521.94</td>\n",
       "      <td>...</td>\n",
       "      <td>Сценический центр \"Деталь\" Групп</td>\n",
       "      <td>алл. Машиностроителей, д. 19 стр. 6</td>\n",
       "      <td>100</td>\n",
       "      <td>18.6972</td>\n",
       "      <td>kzt</td>\n",
       "      <td>0.186972</td>\n",
       "      <td>1521.94</td>\n",
       "      <td>380.4850</td>\n",
       "      <td>8</td>\n",
       "      <td>лето</td>\n",
       "    </tr>\n",
       "    <tr>\n",
       "      <th>1</th>\n",
       "      <td>7965605</td>\n",
       "      <td>0005ca5e93f2cf4</td>\n",
       "      <td>2024-07-23</td>\n",
       "      <td>2024-07-23 18:36:24</td>\n",
       "      <td>237325</td>\n",
       "      <td>нет</td>\n",
       "      <td>0</td>\n",
       "      <td>rub</td>\n",
       "      <td>mobile</td>\n",
       "      <td>289.45</td>\n",
       "      <td>...</td>\n",
       "      <td>Музыкальная школа для детей \"Аккаунт\" Лтд</td>\n",
       "      <td>алл. Шмидта, д. 9 стр. 4</td>\n",
       "      <td>100</td>\n",
       "      <td>18.3419</td>\n",
       "      <td>kzt</td>\n",
       "      <td>0.183419</td>\n",
       "      <td>289.45</td>\n",
       "      <td>144.7250</td>\n",
       "      <td>7</td>\n",
       "      <td>лето</td>\n",
       "    </tr>\n",
       "    <tr>\n",
       "      <th>2</th>\n",
       "      <td>7292370</td>\n",
       "      <td>0005ca5e93f2cf4</td>\n",
       "      <td>2024-10-06</td>\n",
       "      <td>2024-10-06 13:56:02</td>\n",
       "      <td>578454</td>\n",
       "      <td>нет</td>\n",
       "      <td>0</td>\n",
       "      <td>rub</td>\n",
       "      <td>mobile</td>\n",
       "      <td>1258.57</td>\n",
       "      <td>...</td>\n",
       "      <td>Училище искусств \"Нирвана\" Инк</td>\n",
       "      <td>алл. Юбилейная, д. 5/6</td>\n",
       "      <td>100</td>\n",
       "      <td>19.6475</td>\n",
       "      <td>kzt</td>\n",
       "      <td>0.196475</td>\n",
       "      <td>1258.57</td>\n",
       "      <td>314.6425</td>\n",
       "      <td>10</td>\n",
       "      <td>осень</td>\n",
       "    </tr>\n",
       "    <tr>\n",
       "      <th>3</th>\n",
       "      <td>1139875</td>\n",
       "      <td>000898990054619</td>\n",
       "      <td>2024-07-13</td>\n",
       "      <td>2024-07-13 19:40:48</td>\n",
       "      <td>387271</td>\n",
       "      <td>нет</td>\n",
       "      <td>0</td>\n",
       "      <td>rub</td>\n",
       "      <td>mobile</td>\n",
       "      <td>8.49</td>\n",
       "      <td>...</td>\n",
       "      <td>Театр альтернативного искусства \"Ода\" Лимитед</td>\n",
       "      <td>алл. Есенина, д. 243 к. 3/8</td>\n",
       "      <td>100</td>\n",
       "      <td>18.5010</td>\n",
       "      <td>kzt</td>\n",
       "      <td>0.185010</td>\n",
       "      <td>8.49</td>\n",
       "      <td>4.2450</td>\n",
       "      <td>7</td>\n",
       "      <td>лето</td>\n",
       "    </tr>\n",
       "    <tr>\n",
       "      <th>4</th>\n",
       "      <td>972400</td>\n",
       "      <td>000898990054619</td>\n",
       "      <td>2024-10-04</td>\n",
       "      <td>2024-10-04 22:33:15</td>\n",
       "      <td>509453</td>\n",
       "      <td>нет</td>\n",
       "      <td>18</td>\n",
       "      <td>rub</td>\n",
       "      <td>mobile</td>\n",
       "      <td>1390.41</td>\n",
       "      <td>...</td>\n",
       "      <td>Театр кукол \"Огни\" Инкорпорэйтед</td>\n",
       "      <td>ш. Набережное, д. 595 стр. 8</td>\n",
       "      <td>100</td>\n",
       "      <td>19.6648</td>\n",
       "      <td>kzt</td>\n",
       "      <td>0.196648</td>\n",
       "      <td>1390.41</td>\n",
       "      <td>463.4700</td>\n",
       "      <td>10</td>\n",
       "      <td>осень</td>\n",
       "    </tr>\n",
       "  </tbody>\n",
       "</table>\n",
       "<p>5 rows × 32 columns</p>\n",
       "</div>"
      ],
      "text/plain": [
       "   order_id          user_id created_dt_msk      created_ts_msk  event_id  \\\n",
       "0   4359165  0002849b70a3ce2     2024-08-20 2024-08-20 16:08:03    169230   \n",
       "1   7965605  0005ca5e93f2cf4     2024-07-23 2024-07-23 18:36:24    237325   \n",
       "2   7292370  0005ca5e93f2cf4     2024-10-06 2024-10-06 13:56:02    578454   \n",
       "3   1139875  000898990054619     2024-07-13 2024-07-13 19:40:48    387271   \n",
       "4    972400  000898990054619     2024-10-04 2024-10-04 22:33:15    509453   \n",
       "\n",
       "  cinema_circuit  age_limit currency_code device_type_canonical  revenue  ...  \\\n",
       "0            нет         16           rub                mobile  1521.94  ...   \n",
       "1            нет          0           rub                mobile   289.45  ...   \n",
       "2            нет          0           rub                mobile  1258.57  ...   \n",
       "3            нет          0           rub                mobile     8.49  ...   \n",
       "4            нет         18           rub                mobile  1390.41  ...   \n",
       "\n",
       "                                      venue_name  \\\n",
       "0               Сценический центр \"Деталь\" Групп   \n",
       "1      Музыкальная школа для детей \"Аккаунт\" Лтд   \n",
       "2                 Училище искусств \"Нирвана\" Инк   \n",
       "3  Театр альтернативного искусства \"Ода\" Лимитед   \n",
       "4               Театр кукол \"Огни\" Инкорпорэйтед   \n",
       "\n",
       "                         venue_address  nominal     curs  cdx curs_per_unit  \\\n",
       "0  алл. Машиностроителей, д. 19 стр. 6      100  18.6972  kzt      0.186972   \n",
       "1             алл. Шмидта, д. 9 стр. 4      100  18.3419  kzt      0.183419   \n",
       "2               алл. Юбилейная, д. 5/6      100  19.6475  kzt      0.196475   \n",
       "3          алл. Есенина, д. 243 к. 3/8      100  18.5010  kzt      0.185010   \n",
       "4         ш. Набережное, д. 595 стр. 8      100  19.6648  kzt      0.196648   \n",
       "\n",
       "  revenue_rub one_ticket_revenue_rub month season  \n",
       "0     1521.94               380.4850     8   лето  \n",
       "1      289.45               144.7250     7   лето  \n",
       "2     1258.57               314.6425    10  осень  \n",
       "3        8.49                 4.2450     7   лето  \n",
       "4     1390.41               463.4700    10  осень  \n",
       "\n",
       "[5 rows x 32 columns]"
      ]
     },
     "execution_count": 27,
     "metadata": {},
     "output_type": "execute_result"
    }
   ],
   "source": [
    "result_df.head(5)"
   ]
  },
  {
   "cell_type": "code",
   "execution_count": null,
   "id": "29e6c7fb",
   "metadata": {},
   "outputs": [],
   "source": []
  }
 ],
 "metadata": {
  "ExecuteTimeLog": [
   {
    "duration": 1428,
    "start_time": "2025-09-24T07:54:38.235Z"
   },
   {
    "duration": 777,
    "start_time": "2025-09-24T07:56:36.578Z"
   },
   {
    "duration": 139,
    "start_time": "2025-09-24T07:57:07.520Z"
   },
   {
    "duration": 33,
    "start_time": "2025-09-24T07:57:43.952Z"
   },
   {
    "duration": 345,
    "start_time": "2025-09-24T08:04:01.042Z"
   },
   {
    "duration": 28,
    "start_time": "2025-09-24T08:04:16.970Z"
   },
   {
    "duration": 15,
    "start_time": "2025-09-24T08:04:28.201Z"
   },
   {
    "duration": 366,
    "start_time": "2025-09-24T08:08:46.682Z"
   },
   {
    "duration": 55,
    "start_time": "2025-09-24T08:12:27.973Z"
   },
   {
    "duration": 28,
    "start_time": "2025-09-24T08:12:36.486Z"
   },
   {
    "duration": 100,
    "start_time": "2025-09-24T08:13:04.732Z"
   },
   {
    "duration": 9,
    "start_time": "2025-09-24T08:13:24.939Z"
   },
   {
    "duration": 8,
    "start_time": "2025-09-24T08:13:35.100Z"
   },
   {
    "duration": 8,
    "start_time": "2025-09-24T08:13:40.262Z"
   },
   {
    "duration": 9,
    "start_time": "2025-09-24T08:14:55.768Z"
   },
   {
    "duration": 14,
    "start_time": "2025-09-24T08:21:58.214Z"
   },
   {
    "duration": 12,
    "start_time": "2025-09-24T08:22:53.533Z"
   },
   {
    "duration": 11,
    "start_time": "2025-09-24T08:23:35.869Z"
   },
   {
    "duration": 1187,
    "start_time": "2025-09-24T08:24:16.690Z"
   },
   {
    "duration": 803,
    "start_time": "2025-09-24T08:24:17.879Z"
   },
   {
    "duration": 311,
    "start_time": "2025-09-24T08:24:18.684Z"
   },
   {
    "duration": 126,
    "start_time": "2025-09-24T08:24:18.996Z"
   },
   {
    "duration": 37,
    "start_time": "2025-09-24T08:24:19.124Z"
   },
   {
    "duration": 22,
    "start_time": "2025-09-24T08:24:19.163Z"
   },
   {
    "duration": 12,
    "start_time": "2025-09-24T08:24:19.187Z"
   },
   {
    "duration": 377,
    "start_time": "2025-09-24T08:24:19.201Z"
   },
   {
    "duration": 247,
    "start_time": "2025-09-24T08:24:19.580Z"
   },
   {
    "duration": 59,
    "start_time": "2025-09-24T08:37:54.220Z"
   },
   {
    "duration": 26,
    "start_time": "2025-09-24T08:46:31.057Z"
   },
   {
    "duration": 11,
    "start_time": "2025-09-24T09:02:15.022Z"
   },
   {
    "duration": 9,
    "start_time": "2025-09-24T09:05:35.688Z"
   },
   {
    "duration": 126,
    "start_time": "2025-09-24T09:12:03.461Z"
   },
   {
    "duration": 1247,
    "start_time": "2025-09-24T09:13:15.986Z"
   },
   {
    "duration": 1017,
    "start_time": "2025-09-24T09:13:17.235Z"
   },
   {
    "duration": 402,
    "start_time": "2025-09-24T09:13:18.254Z"
   },
   {
    "duration": 145,
    "start_time": "2025-09-24T09:13:18.661Z"
   },
   {
    "duration": 48,
    "start_time": "2025-09-24T09:13:18.808Z"
   },
   {
    "duration": 47,
    "start_time": "2025-09-24T09:13:18.862Z"
   },
   {
    "duration": 19,
    "start_time": "2025-09-24T09:13:18.911Z"
   },
   {
    "duration": 107,
    "start_time": "2025-09-24T09:13:56.852Z"
   },
   {
    "duration": 254,
    "start_time": "2025-09-24T09:17:58.427Z"
   },
   {
    "duration": 249,
    "start_time": "2025-09-24T09:19:44.141Z"
   },
   {
    "duration": 282,
    "start_time": "2025-09-24T10:43:55.828Z"
   },
   {
    "duration": 111,
    "start_time": "2025-09-24T10:46:53.933Z"
   },
   {
    "duration": 133,
    "start_time": "2025-09-24T10:47:21.876Z"
   },
   {
    "duration": 145,
    "start_time": "2025-09-24T10:47:29.396Z"
   },
   {
    "duration": 163,
    "start_time": "2025-09-24T10:48:18.186Z"
   },
   {
    "duration": 186,
    "start_time": "2025-09-24T10:49:22.774Z"
   },
   {
    "duration": 230,
    "start_time": "2025-09-24T10:49:52.332Z"
   },
   {
    "duration": 380,
    "start_time": "2025-09-24T10:50:27.806Z"
   },
   {
    "duration": 371,
    "start_time": "2025-09-24T10:50:45.373Z"
   },
   {
    "duration": 121,
    "start_time": "2025-09-24T10:52:28.474Z"
   },
   {
    "duration": 158,
    "start_time": "2025-09-24T10:53:54.482Z"
   },
   {
    "duration": 1345,
    "start_time": "2025-09-24T10:54:38.229Z"
   },
   {
    "duration": 30,
    "start_time": "2025-09-24T10:55:18.575Z"
   },
   {
    "duration": 495,
    "start_time": "2025-09-24T10:55:54.479Z"
   },
   {
    "duration": 286,
    "start_time": "2025-09-24T10:56:11.357Z"
   },
   {
    "duration": 468,
    "start_time": "2025-09-24T10:56:23.932Z"
   },
   {
    "duration": 492,
    "start_time": "2025-09-24T10:56:42.034Z"
   },
   {
    "duration": 526,
    "start_time": "2025-09-24T10:57:44.251Z"
   },
   {
    "duration": 185,
    "start_time": "2025-09-24T10:57:57.563Z"
   },
   {
    "duration": 19,
    "start_time": "2025-09-24T10:59:47.531Z"
   },
   {
    "duration": 2541,
    "start_time": "2025-09-24T11:05:06.908Z"
   },
   {
    "duration": 1146,
    "start_time": "2025-09-24T11:06:25.086Z"
   },
   {
    "duration": 783,
    "start_time": "2025-09-24T11:06:26.239Z"
   },
   {
    "duration": 324,
    "start_time": "2025-09-24T11:06:27.024Z"
   },
   {
    "duration": 124,
    "start_time": "2025-09-24T11:06:27.350Z"
   },
   {
    "duration": 27,
    "start_time": "2025-09-24T11:06:27.477Z"
   },
   {
    "duration": 25,
    "start_time": "2025-09-24T11:06:27.506Z"
   },
   {
    "duration": 22,
    "start_time": "2025-09-24T11:06:27.538Z"
   },
   {
    "duration": 307,
    "start_time": "2025-09-24T11:06:27.563Z"
   },
   {
    "duration": 399,
    "start_time": "2025-09-24T11:06:27.872Z"
   },
   {
    "duration": 285,
    "start_time": "2025-09-24T11:06:28.272Z"
   },
   {
    "duration": 1332,
    "start_time": "2025-09-24T11:06:28.558Z"
   },
   {
    "duration": 29,
    "start_time": "2025-09-24T11:06:29.892Z"
   },
   {
    "duration": 532,
    "start_time": "2025-09-24T11:06:29.923Z"
   },
   {
    "duration": 212,
    "start_time": "2025-09-24T11:06:30.458Z"
   },
   {
    "duration": 550,
    "start_time": "2025-09-24T11:06:30.672Z"
   },
   {
    "duration": 555,
    "start_time": "2025-09-24T11:06:31.224Z"
   },
   {
    "duration": 183,
    "start_time": "2025-09-24T11:06:31.780Z"
   },
   {
    "duration": 86735,
    "start_time": "2025-09-24T11:06:31.965Z"
   },
   {
    "duration": 570,
    "start_time": "2025-09-24T11:12:03.920Z"
   },
   {
    "duration": 14,
    "start_time": "2025-09-24T11:13:51.204Z"
   },
   {
    "duration": 233,
    "start_time": "2025-09-24T11:13:59.620Z"
   },
   {
    "duration": 4,
    "start_time": "2025-09-24T11:14:51.297Z"
   },
   {
    "duration": 761,
    "start_time": "2025-09-24T11:14:51.303Z"
   },
   {
    "duration": 283,
    "start_time": "2025-09-24T11:14:52.066Z"
   },
   {
    "duration": 114,
    "start_time": "2025-09-24T11:14:52.350Z"
   },
   {
    "duration": 31,
    "start_time": "2025-09-24T11:14:52.466Z"
   },
   {
    "duration": 62,
    "start_time": "2025-09-24T11:14:52.499Z"
   },
   {
    "duration": 14,
    "start_time": "2025-09-24T11:14:52.563Z"
   },
   {
    "duration": 286,
    "start_time": "2025-09-24T11:14:52.579Z"
   },
   {
    "duration": 410,
    "start_time": "2025-09-24T11:14:52.868Z"
   },
   {
    "duration": 309,
    "start_time": "2025-09-24T11:14:53.281Z"
   },
   {
    "duration": 1353,
    "start_time": "2025-09-24T11:14:53.592Z"
   },
   {
    "duration": 37,
    "start_time": "2025-09-24T11:14:54.947Z"
   },
   {
    "duration": 557,
    "start_time": "2025-09-24T11:14:54.986Z"
   },
   {
    "duration": 217,
    "start_time": "2025-09-24T11:14:55.546Z"
   },
   {
    "duration": 435,
    "start_time": "2025-09-24T11:14:55.765Z"
   },
   {
    "duration": 628,
    "start_time": "2025-09-24T11:14:56.202Z"
   },
   {
    "duration": 183,
    "start_time": "2025-09-24T11:14:56.832Z"
   },
   {
    "duration": 198,
    "start_time": "2025-09-24T11:14:57.017Z"
   },
   {
    "duration": 59,
    "start_time": "2025-09-24T11:15:39.504Z"
   },
   {
    "duration": 89,
    "start_time": "2025-09-24T11:15:48.577Z"
   },
   {
    "duration": 325,
    "start_time": "2025-09-24T11:17:25.027Z"
   },
   {
    "duration": 208,
    "start_time": "2025-09-24T11:18:44.667Z"
   },
   {
    "duration": 1165,
    "start_time": "2025-09-24T11:20:32.504Z"
   },
   {
    "duration": 803,
    "start_time": "2025-09-24T11:20:33.671Z"
   },
   {
    "duration": 317,
    "start_time": "2025-09-24T11:20:34.475Z"
   },
   {
    "duration": 140,
    "start_time": "2025-09-24T11:20:34.794Z"
   },
   {
    "duration": 29,
    "start_time": "2025-09-24T11:20:34.936Z"
   },
   {
    "duration": 26,
    "start_time": "2025-09-24T11:20:34.966Z"
   },
   {
    "duration": 13,
    "start_time": "2025-09-24T11:20:34.994Z"
   },
   {
    "duration": 295,
    "start_time": "2025-09-24T11:20:35.008Z"
   },
   {
    "duration": 426,
    "start_time": "2025-09-24T11:20:35.304Z"
   },
   {
    "duration": 298,
    "start_time": "2025-09-24T11:20:35.733Z"
   },
   {
    "duration": 1320,
    "start_time": "2025-09-24T11:20:36.033Z"
   },
   {
    "duration": 32,
    "start_time": "2025-09-24T11:20:37.355Z"
   },
   {
    "duration": 591,
    "start_time": "2025-09-24T11:20:37.389Z"
   },
   {
    "duration": 219,
    "start_time": "2025-09-24T11:20:37.983Z"
   },
   {
    "duration": 584,
    "start_time": "2025-09-24T11:20:38.204Z"
   },
   {
    "duration": 547,
    "start_time": "2025-09-24T11:20:38.789Z"
   },
   {
    "duration": 302,
    "start_time": "2025-09-24T11:20:39.339Z"
   },
   {
    "duration": 59,
    "start_time": "2025-09-24T11:20:43.739Z"
   },
   {
    "duration": 62,
    "start_time": "2025-09-24T11:20:51.009Z"
   },
   {
    "duration": 1350,
    "start_time": "2025-09-24T11:21:29.171Z"
   },
   {
    "duration": 56,
    "start_time": "2025-09-24T11:21:33.189Z"
   },
   {
    "duration": 515,
    "start_time": "2025-09-24T11:22:15.150Z"
   },
   {
    "duration": 200,
    "start_time": "2025-09-24T11:22:29.986Z"
   },
   {
    "duration": 76,
    "start_time": "2025-09-24T11:23:39.861Z"
   },
   {
    "duration": 1195,
    "start_time": "2025-09-24T11:23:48.925Z"
   },
   {
    "duration": 796,
    "start_time": "2025-09-24T11:23:50.122Z"
   },
   {
    "duration": 346,
    "start_time": "2025-09-24T11:23:50.919Z"
   },
   {
    "duration": 130,
    "start_time": "2025-09-24T11:23:51.267Z"
   },
   {
    "duration": 44,
    "start_time": "2025-09-24T11:23:51.400Z"
   },
   {
    "duration": 62,
    "start_time": "2025-09-24T11:23:51.446Z"
   },
   {
    "duration": 14,
    "start_time": "2025-09-24T11:23:51.511Z"
   },
   {
    "duration": 301,
    "start_time": "2025-09-24T11:23:51.527Z"
   },
   {
    "duration": 392,
    "start_time": "2025-09-24T11:23:51.830Z"
   },
   {
    "duration": 294,
    "start_time": "2025-09-24T11:23:52.224Z"
   },
   {
    "duration": 1331,
    "start_time": "2025-09-24T11:23:52.520Z"
   },
   {
    "duration": 29,
    "start_time": "2025-09-24T11:23:53.853Z"
   },
   {
    "duration": 556,
    "start_time": "2025-09-24T11:23:53.884Z"
   },
   {
    "duration": 217,
    "start_time": "2025-09-24T11:23:54.443Z"
   },
   {
    "duration": 528,
    "start_time": "2025-09-24T11:23:54.663Z"
   },
   {
    "duration": 554,
    "start_time": "2025-09-24T11:23:55.192Z"
   },
   {
    "duration": 331,
    "start_time": "2025-09-24T11:23:55.748Z"
   },
   {
    "duration": 520,
    "start_time": "2025-09-24T11:23:56.081Z"
   },
   {
    "duration": 62,
    "start_time": "2025-09-24T11:23:56.603Z"
   },
   {
    "duration": 190,
    "start_time": "2025-09-24T11:25:13.572Z"
   },
   {
    "duration": 77,
    "start_time": "2025-09-24T12:12:57.272Z"
   },
   {
    "duration": 7,
    "start_time": "2025-09-24T12:13:49.168Z"
   },
   {
    "duration": 219,
    "start_time": "2025-09-24T12:17:19.820Z"
   },
   {
    "duration": 4,
    "start_time": "2025-09-24T12:18:16.321Z"
   },
   {
    "duration": 4,
    "start_time": "2025-09-24T12:18:40.584Z"
   },
   {
    "duration": 1234,
    "start_time": "2025-09-24T12:18:47.131Z"
   },
   {
    "duration": 782,
    "start_time": "2025-09-24T12:18:48.367Z"
   },
   {
    "duration": 327,
    "start_time": "2025-09-24T12:18:49.151Z"
   },
   {
    "duration": 139,
    "start_time": "2025-09-24T12:18:49.481Z"
   },
   {
    "duration": 26,
    "start_time": "2025-09-24T12:18:49.622Z"
   },
   {
    "duration": 45,
    "start_time": "2025-09-24T12:18:49.650Z"
   },
   {
    "duration": 12,
    "start_time": "2025-09-24T12:18:49.697Z"
   },
   {
    "duration": 303,
    "start_time": "2025-09-24T12:18:49.711Z"
   },
   {
    "duration": 398,
    "start_time": "2025-09-24T12:18:50.016Z"
   },
   {
    "duration": 306,
    "start_time": "2025-09-24T12:18:50.416Z"
   },
   {
    "duration": 1368,
    "start_time": "2025-09-24T12:18:50.723Z"
   },
   {
    "duration": 46,
    "start_time": "2025-09-24T12:18:52.093Z"
   },
   {
    "duration": 547,
    "start_time": "2025-09-24T12:18:52.141Z"
   },
   {
    "duration": 215,
    "start_time": "2025-09-24T12:18:52.690Z"
   },
   {
    "duration": 582,
    "start_time": "2025-09-24T12:18:52.907Z"
   },
   {
    "duration": 575,
    "start_time": "2025-09-24T12:18:53.491Z"
   },
   {
    "duration": 312,
    "start_time": "2025-09-24T12:18:54.068Z"
   },
   {
    "duration": 515,
    "start_time": "2025-09-24T12:18:54.383Z"
   },
   {
    "duration": 201,
    "start_time": "2025-09-24T12:18:54.901Z"
   },
   {
    "duration": 4,
    "start_time": "2025-09-24T12:18:55.105Z"
   },
   {
    "duration": 225,
    "start_time": "2025-09-24T12:18:55.111Z"
   },
   {
    "duration": 192,
    "start_time": "2025-09-24T12:18:55.338Z"
   },
   {
    "duration": 123,
    "start_time": "2025-09-24T12:19:44.311Z"
   },
   {
    "duration": 119,
    "start_time": "2025-09-24T12:20:24.421Z"
   },
   {
    "duration": 1265,
    "start_time": "2025-09-24T12:20:56.614Z"
   },
   {
    "duration": 795,
    "start_time": "2025-09-24T12:20:57.881Z"
   },
   {
    "duration": 343,
    "start_time": "2025-09-24T12:20:58.678Z"
   },
   {
    "duration": 132,
    "start_time": "2025-09-24T12:20:59.023Z"
   },
   {
    "duration": 35,
    "start_time": "2025-09-24T12:20:59.157Z"
   },
   {
    "duration": 22,
    "start_time": "2025-09-24T12:20:59.194Z"
   },
   {
    "duration": 22,
    "start_time": "2025-09-24T12:20:59.218Z"
   },
   {
    "duration": 304,
    "start_time": "2025-09-24T12:20:59.242Z"
   },
   {
    "duration": 385,
    "start_time": "2025-09-24T12:20:59.548Z"
   },
   {
    "duration": 322,
    "start_time": "2025-09-24T12:20:59.938Z"
   },
   {
    "duration": 1382,
    "start_time": "2025-09-24T12:21:00.262Z"
   },
   {
    "duration": 33,
    "start_time": "2025-09-24T12:21:01.646Z"
   },
   {
    "duration": 609,
    "start_time": "2025-09-24T12:21:01.680Z"
   },
   {
    "duration": 225,
    "start_time": "2025-09-24T12:21:02.293Z"
   },
   {
    "duration": 612,
    "start_time": "2025-09-24T12:21:02.520Z"
   },
   {
    "duration": 593,
    "start_time": "2025-09-24T12:21:03.133Z"
   },
   {
    "duration": 321,
    "start_time": "2025-09-24T12:21:03.727Z"
   },
   {
    "duration": 495,
    "start_time": "2025-09-24T12:21:04.050Z"
   },
   {
    "duration": 200,
    "start_time": "2025-09-24T12:21:04.547Z"
   },
   {
    "duration": 4,
    "start_time": "2025-09-24T12:21:36.269Z"
   },
   {
    "duration": 225,
    "start_time": "2025-09-24T12:22:43.281Z"
   },
   {
    "duration": 156,
    "start_time": "2025-09-24T12:25:59.973Z"
   },
   {
    "duration": 9,
    "start_time": "2025-09-24T12:26:12.390Z"
   },
   {
    "duration": 25,
    "start_time": "2025-09-24T12:27:27.565Z"
   },
   {
    "duration": 13,
    "start_time": "2025-09-24T12:28:52.527Z"
   },
   {
    "duration": 33,
    "start_time": "2025-09-24T12:29:37.039Z"
   },
   {
    "duration": 167,
    "start_time": "2025-09-24T12:29:56.206Z"
   },
   {
    "duration": 19,
    "start_time": "2025-09-24T12:32:56.451Z"
   },
   {
    "duration": 16,
    "start_time": "2025-09-24T12:33:13.335Z"
   },
   {
    "duration": 21,
    "start_time": "2025-09-24T12:33:20.805Z"
   },
   {
    "duration": 26,
    "start_time": "2025-09-24T12:33:22.455Z"
   },
   {
    "duration": 17,
    "start_time": "2025-09-24T12:33:39.588Z"
   },
   {
    "duration": 9,
    "start_time": "2025-09-24T12:34:46.708Z"
   },
   {
    "duration": 37,
    "start_time": "2025-09-24T12:34:57.604Z"
   },
   {
    "duration": 303,
    "start_time": "2025-09-24T12:37:10.529Z"
   },
   {
    "duration": 354,
    "start_time": "2025-09-24T12:37:15.713Z"
   },
   {
    "duration": 2321,
    "start_time": "2025-09-24T12:41:40.259Z"
   },
   {
    "duration": 4850,
    "start_time": "2025-09-24T12:42:00.096Z"
   },
   {
    "duration": 4855,
    "start_time": "2025-09-24T12:42:31.327Z"
   },
   {
    "duration": 5819,
    "start_time": "2025-09-24T12:43:06.811Z"
   },
   {
    "duration": 26,
    "start_time": "2025-09-24T12:43:34.185Z"
   },
   {
    "duration": 60,
    "start_time": "2025-09-24T12:43:58.499Z"
   },
   {
    "duration": 35,
    "start_time": "2025-09-24T12:44:10.666Z"
   },
   {
    "duration": 797,
    "start_time": "2025-09-24T12:46:03.226Z"
   },
   {
    "duration": 25,
    "start_time": "2025-09-24T12:46:28.088Z"
   },
   {
    "duration": 32,
    "start_time": "2025-09-24T12:47:03.038Z"
   },
   {
    "duration": 26,
    "start_time": "2025-09-24T12:48:19.493Z"
   },
   {
    "duration": 40,
    "start_time": "2025-09-24T12:48:20.935Z"
   },
   {
    "duration": 82,
    "start_time": "2025-09-24T12:48:56.179Z"
   },
   {
    "duration": 24,
    "start_time": "2025-09-24T12:48:57.793Z"
   },
   {
    "duration": 73,
    "start_time": "2025-09-24T12:50:03.865Z"
   },
   {
    "duration": 1383,
    "start_time": "2025-10-29T06:21:37.549Z"
   },
   {
    "duration": 766,
    "start_time": "2025-10-29T06:21:38.934Z"
   },
   {
    "duration": 317,
    "start_time": "2025-10-29T06:21:39.705Z"
   },
   {
    "duration": 124,
    "start_time": "2025-10-29T06:21:40.024Z"
   },
   {
    "duration": 29,
    "start_time": "2025-10-29T06:21:40.150Z"
   },
   {
    "duration": 30,
    "start_time": "2025-10-29T06:21:40.181Z"
   },
   {
    "duration": 22,
    "start_time": "2025-10-29T06:21:40.213Z"
   },
   {
    "duration": 277,
    "start_time": "2025-10-29T06:21:40.237Z"
   },
   {
    "duration": 390,
    "start_time": "2025-10-29T06:21:40.516Z"
   },
   {
    "duration": 268,
    "start_time": "2025-10-29T06:21:40.909Z"
   },
   {
    "duration": 1369,
    "start_time": "2025-10-29T06:21:41.179Z"
   },
   {
    "duration": 28,
    "start_time": "2025-10-29T06:21:42.549Z"
   },
   {
    "duration": 542,
    "start_time": "2025-10-29T06:21:42.578Z"
   },
   {
    "duration": 207,
    "start_time": "2025-10-29T06:21:43.121Z"
   },
   {
    "duration": 528,
    "start_time": "2025-10-29T06:21:43.330Z"
   },
   {
    "duration": 1053,
    "start_time": "2025-10-29T06:21:43.861Z"
   },
   {
    "duration": 494,
    "start_time": "2025-10-29T06:21:44.916Z"
   },
   {
    "duration": 562,
    "start_time": "2025-10-29T06:21:45.413Z"
   },
   {
    "duration": 197,
    "start_time": "2025-10-29T06:21:45.977Z"
   },
   {
    "duration": 6,
    "start_time": "2025-10-29T06:21:46.176Z"
   },
   {
    "duration": 194,
    "start_time": "2025-10-29T06:21:46.183Z"
   },
   {
    "duration": 305,
    "start_time": "2025-10-29T06:21:46.379Z"
   },
   {
    "duration": 2232,
    "start_time": "2025-10-29T06:21:59.605Z"
   },
   {
    "duration": 1697,
    "start_time": "2025-10-29T06:22:01.839Z"
   },
   {
    "duration": 702,
    "start_time": "2025-10-29T06:22:03.538Z"
   },
   {
    "duration": 282,
    "start_time": "2025-10-29T06:22:04.241Z"
   },
   {
    "duration": 92,
    "start_time": "2025-10-29T06:22:04.526Z"
   },
   {
    "duration": 23,
    "start_time": "2025-10-29T06:22:04.620Z"
   },
   {
    "duration": 79,
    "start_time": "2025-10-29T06:22:04.645Z"
   },
   {
    "duration": 516,
    "start_time": "2025-10-29T06:22:04.726Z"
   },
   {
    "duration": 804,
    "start_time": "2025-10-29T06:22:05.244Z"
   },
   {
    "duration": 532,
    "start_time": "2025-10-29T06:22:06.105Z"
   },
   {
    "duration": 2602,
    "start_time": "2025-10-29T06:22:06.639Z"
   },
   {
    "duration": 84,
    "start_time": "2025-10-29T06:22:09.243Z"
   },
   {
    "duration": 977,
    "start_time": "2025-10-29T06:22:09.329Z"
   },
   {
    "duration": 403,
    "start_time": "2025-10-29T06:22:10.310Z"
   },
   {
    "duration": 1190,
    "start_time": "2025-10-29T06:22:10.715Z"
   },
   {
    "duration": 1043,
    "start_time": "2025-10-29T06:22:11.907Z"
   },
   {
    "duration": 613,
    "start_time": "2025-10-29T06:22:13.006Z"
   },
   {
    "duration": 1094,
    "start_time": "2025-10-29T06:22:13.621Z"
   },
   {
    "duration": 395,
    "start_time": "2025-10-29T06:22:14.717Z"
   },
   {
    "duration": 6,
    "start_time": "2025-10-29T06:22:15.114Z"
   },
   {
    "duration": 406,
    "start_time": "2025-10-29T06:22:15.121Z"
   },
   {
    "duration": 605,
    "start_time": "2025-10-29T06:22:15.528Z"
   },
   {
    "duration": 12110,
    "start_time": "2025-10-29T06:22:16.134Z"
   },
   {
    "duration": 82,
    "start_time": "2025-10-29T06:22:28.326Z"
   },
   {
    "duration": 237,
    "start_time": "2025-10-29T06:22:28.410Z"
   },
   {
    "duration": 90,
    "start_time": "2025-10-29T06:22:28.649Z"
   },
   {
    "duration": 79,
    "start_time": "2025-10-29T06:22:28.743Z"
   }
  ],
  "kernelspec": {
   "display_name": "Python 3 (ipykernel)",
   "language": "python",
   "name": "python3"
  },
  "language_info": {
   "codemirror_mode": {
    "name": "ipython",
    "version": 3
   },
   "file_extension": ".py",
   "mimetype": "text/x-python",
   "name": "python",
   "nbconvert_exporter": "python",
   "pygments_lexer": "ipython3",
   "version": "3.9.5"
  },
  "toc": {
   "base_numbering": 1,
   "nav_menu": {},
   "number_sections": true,
   "sideBar": true,
   "skip_h1_title": true,
   "title_cell": "Table of Contents",
   "title_sidebar": "Contents",
   "toc_cell": false,
   "toc_position": {},
   "toc_section_display": true,
   "toc_window_display": false
  }
 },
 "nbformat": 4,
 "nbformat_minor": 5
}
