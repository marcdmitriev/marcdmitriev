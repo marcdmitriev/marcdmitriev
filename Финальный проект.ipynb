{
 "cells": [
  {
   "cell_type": "markdown",
   "metadata": {
    "id": "LMuaGIE3lGcr"
   },
   "source": [
    "# Исследовательский анализ данных в Python и проверка гипотез. Знакомство с данными"
   ]
  },
  {
   "cell_type": "markdown",
   "metadata": {},
   "source": [
    "Автор: Дмитриев Марк\n",
    "Дата:23.09.2025"
   ]
  },
  {
   "cell_type": "markdown",
   "metadata": {},
   "source": [
    "## Описание данных"
   ]
  },
  {
   "cell_type": "markdown",
   "metadata": {},
   "source": [
    "Первый датасет final_tickets_orders_df.csv включает информацию обо всех заказах билетов, совершённых с двух типов устройств — мобильных и стационарных. Поля датасета соответствуют таблице purchases, с которой вы работали в предыдущих заданиях:\n",
    "\n",
    "- order_id — уникальный идентификатор заказа.\n",
    "- user_id — уникальный идентификатор пользователя.\n",
    "- created_dt_msk — дата создания заказа (московское время).\n",
    "- created_ts_msk — дата и время создания заказа (московское время).\n",
    "- event_id — идентификатор мероприятия из таблицы events.\n",
    "- cinema_circuit — сеть кинотеатров. Если не применимо, то здесь будет значение 'нет'.\n",
    "- age_limit — возрастное ограничение мероприятия.\n",
    "- currency_code — валюта оплаты, например rub для российских рублей.\n",
    "- device_type_canonical — тип устройства, с которого был оформлен заказ, например mobile для мобильных устройств, desktop для стационарных.\n",
    "- revenue — выручка от заказа.\n",
    "- service_name — название билетного оператора.\n",
    "- tickets_count — количество купленных билетов.\n",
    "- total — общая сумма заказа.\n",
    "\n",
    "\n",
    "В данные также был добавлен столбец days_since_prev с количеством дней с предыдущей покупки для каждого пользователя. Если покупки не было, то данные содержат пропуск.\n",
    "\n",
    "Второй датасет final_tickets_events_df.csv содержит информацию о событиях, включая город и регион события, а также информацию о площадке проведения мероприятия. Датасет содержит такие поля:\n",
    "\n",
    "\n",
    "- event_id — уникальный идентификатор мероприятия.\n",
    "- event_name — название мероприятия. Аналог поля event_name_code из исходной базы данных.\n",
    "- event_type_description — описание типа мероприятия.\n",
    "- event_type_main — основной тип мероприятия: театральная постановка, концерт и так далее.\n",
    "- organizers — организаторы мероприятия.\n",
    "- region_name — название региона.\n",
    "- city_name — название города.\n",
    "- venue_id — уникальный идентификатор площадки.\n",
    "- venue_name — название площадки.\n",
    "- venue_address — адрес площадки.\n",
    "\n",
    "\n",
    "Выручка от заказов может бы представлена в разных валютах. Удобно будет привести данные к одной — к российским рублям. В вашем распоряжении будет датасет final_tickets_tenge_df.csv с информацией о курсе тенге к российскому рублю за 2024 год. Значения в рублях представлено для 100 тенге. Датасет содержит такие поля:\n",
    "\n",
    "\n",
    "- nominal — номинал (100 тенге);\n",
    "- data — дата;\n",
    "- curs — курс тенге к рублю;\n",
    "- cdx — обозначение валюты (kzt)."
   ]
  },
  {
   "cell_type": "markdown",
   "metadata": {},
   "source": [
    "## Загрузка данных и знакомство с ними"
   ]
  },
  {
   "cell_type": "code",
   "execution_count": 1,
   "metadata": {},
   "outputs": [],
   "source": [
    "import pandas as pd\n",
    "import matplotlib.pyplot as plt\n",
    "import seaborn as sn\n",
    "from scipy import stats\n",
    "import numpy as np\n",
    "from scipy.stats import ttest_ind, mannwhitneyu\n",
    "from statsmodels.stats.power import TTestIndPower\n",
    "from statsmodels.stats.proportion import proportion_effectsize\n",
    "from statsmodels.stats.proportion import proportions_ztest"
   ]
  },
  {
   "cell_type": "code",
   "execution_count": 2,
   "metadata": {},
   "outputs": [],
   "source": [
    "from datetime import datetime, timedelta"
   ]
  },
  {
   "cell_type": "code",
   "execution_count": 3,
   "metadata": {},
   "outputs": [],
   "source": [
    "from matplotlib.ticker import PercentFormatter"
   ]
  },
  {
   "cell_type": "code",
   "execution_count": 4,
   "metadata": {},
   "outputs": [
    {
     "data": {
      "text/html": [
       "<div>\n",
       "<style scoped>\n",
       "    .dataframe tbody tr th:only-of-type {\n",
       "        vertical-align: middle;\n",
       "    }\n",
       "\n",
       "    .dataframe tbody tr th {\n",
       "        vertical-align: top;\n",
       "    }\n",
       "\n",
       "    .dataframe thead th {\n",
       "        text-align: right;\n",
       "    }\n",
       "</style>\n",
       "<table border=\"1\" class=\"dataframe\">\n",
       "  <thead>\n",
       "    <tr style=\"text-align: right;\">\n",
       "      <th></th>\n",
       "      <th>order_id</th>\n",
       "      <th>user_id</th>\n",
       "      <th>created_dt_msk</th>\n",
       "      <th>created_ts_msk</th>\n",
       "      <th>event_id</th>\n",
       "      <th>cinema_circuit</th>\n",
       "      <th>age_limit</th>\n",
       "      <th>currency_code</th>\n",
       "      <th>device_type_canonical</th>\n",
       "      <th>revenue</th>\n",
       "      <th>service_name</th>\n",
       "      <th>tickets_count</th>\n",
       "      <th>total</th>\n",
       "      <th>days_since_prev</th>\n",
       "    </tr>\n",
       "  </thead>\n",
       "  <tbody>\n",
       "    <tr>\n",
       "      <th>0</th>\n",
       "      <td>4359165</td>\n",
       "      <td>0002849b70a3ce2</td>\n",
       "      <td>2024-08-20</td>\n",
       "      <td>2024-08-20 16:08:03</td>\n",
       "      <td>169230</td>\n",
       "      <td>нет</td>\n",
       "      <td>16</td>\n",
       "      <td>rub</td>\n",
       "      <td>mobile</td>\n",
       "      <td>1521.94</td>\n",
       "      <td>Край билетов</td>\n",
       "      <td>4</td>\n",
       "      <td>10870.99</td>\n",
       "      <td>NaN</td>\n",
       "    </tr>\n",
       "    <tr>\n",
       "      <th>1</th>\n",
       "      <td>7965605</td>\n",
       "      <td>0005ca5e93f2cf4</td>\n",
       "      <td>2024-07-23</td>\n",
       "      <td>2024-07-23 18:36:24</td>\n",
       "      <td>237325</td>\n",
       "      <td>нет</td>\n",
       "      <td>0</td>\n",
       "      <td>rub</td>\n",
       "      <td>mobile</td>\n",
       "      <td>289.45</td>\n",
       "      <td>Мой билет</td>\n",
       "      <td>2</td>\n",
       "      <td>2067.51</td>\n",
       "      <td>NaN</td>\n",
       "    </tr>\n",
       "    <tr>\n",
       "      <th>2</th>\n",
       "      <td>7292370</td>\n",
       "      <td>0005ca5e93f2cf4</td>\n",
       "      <td>2024-10-06</td>\n",
       "      <td>2024-10-06 13:56:02</td>\n",
       "      <td>578454</td>\n",
       "      <td>нет</td>\n",
       "      <td>0</td>\n",
       "      <td>rub</td>\n",
       "      <td>mobile</td>\n",
       "      <td>1258.57</td>\n",
       "      <td>За билетом!</td>\n",
       "      <td>4</td>\n",
       "      <td>13984.16</td>\n",
       "      <td>75.0</td>\n",
       "    </tr>\n",
       "    <tr>\n",
       "      <th>3</th>\n",
       "      <td>1139875</td>\n",
       "      <td>000898990054619</td>\n",
       "      <td>2024-07-13</td>\n",
       "      <td>2024-07-13 19:40:48</td>\n",
       "      <td>387271</td>\n",
       "      <td>нет</td>\n",
       "      <td>0</td>\n",
       "      <td>rub</td>\n",
       "      <td>mobile</td>\n",
       "      <td>8.49</td>\n",
       "      <td>Лови билет!</td>\n",
       "      <td>2</td>\n",
       "      <td>212.28</td>\n",
       "      <td>NaN</td>\n",
       "    </tr>\n",
       "    <tr>\n",
       "      <th>4</th>\n",
       "      <td>972400</td>\n",
       "      <td>000898990054619</td>\n",
       "      <td>2024-10-04</td>\n",
       "      <td>2024-10-04 22:33:15</td>\n",
       "      <td>509453</td>\n",
       "      <td>нет</td>\n",
       "      <td>18</td>\n",
       "      <td>rub</td>\n",
       "      <td>mobile</td>\n",
       "      <td>1390.41</td>\n",
       "      <td>Билеты без проблем</td>\n",
       "      <td>3</td>\n",
       "      <td>10695.43</td>\n",
       "      <td>83.0</td>\n",
       "    </tr>\n",
       "  </tbody>\n",
       "</table>\n",
       "</div>"
      ],
      "text/plain": [
       "   order_id          user_id created_dt_msk       created_ts_msk  event_id  \\\n",
       "0   4359165  0002849b70a3ce2     2024-08-20  2024-08-20 16:08:03    169230   \n",
       "1   7965605  0005ca5e93f2cf4     2024-07-23  2024-07-23 18:36:24    237325   \n",
       "2   7292370  0005ca5e93f2cf4     2024-10-06  2024-10-06 13:56:02    578454   \n",
       "3   1139875  000898990054619     2024-07-13  2024-07-13 19:40:48    387271   \n",
       "4    972400  000898990054619     2024-10-04  2024-10-04 22:33:15    509453   \n",
       "\n",
       "  cinema_circuit  age_limit currency_code device_type_canonical  revenue  \\\n",
       "0            нет         16           rub                mobile  1521.94   \n",
       "1            нет          0           rub                mobile   289.45   \n",
       "2            нет          0           rub                mobile  1258.57   \n",
       "3            нет          0           rub                mobile     8.49   \n",
       "4            нет         18           rub                mobile  1390.41   \n",
       "\n",
       "         service_name  tickets_count     total  days_since_prev  \n",
       "0        Край билетов              4  10870.99              NaN  \n",
       "1           Мой билет              2   2067.51              NaN  \n",
       "2         За билетом!              4  13984.16             75.0  \n",
       "3         Лови билет!              2    212.28              NaN  \n",
       "4  Билеты без проблем              3  10695.43             83.0  "
      ]
     },
     "execution_count": 4,
     "metadata": {},
     "output_type": "execute_result"
    }
   ],
   "source": [
    "final_tickets_orders=pd.read_csv('/datasets/final_tickets_orders_df.csv')\n",
    "final_tickets_orders.head(5)"
   ]
  },
  {
   "cell_type": "code",
   "execution_count": 5,
   "metadata": {},
   "outputs": [
    {
     "name": "stdout",
     "output_type": "stream",
     "text": [
      "=== final_tickets_orders ===\n",
      "Размер данных: (290849, 14)\n",
      "\n",
      "Информация о данных:\n",
      "<class 'pandas.core.frame.DataFrame'>\n",
      "RangeIndex: 290849 entries, 0 to 290848\n",
      "Data columns (total 14 columns):\n",
      " #   Column                 Non-Null Count   Dtype  \n",
      "---  ------                 --------------   -----  \n",
      " 0   order_id               290849 non-null  int64  \n",
      " 1   user_id                290849 non-null  object \n",
      " 2   created_dt_msk         290849 non-null  object \n",
      " 3   created_ts_msk         290849 non-null  object \n",
      " 4   event_id               290849 non-null  int64  \n",
      " 5   cinema_circuit         290849 non-null  object \n",
      " 6   age_limit              290849 non-null  int64  \n",
      " 7   currency_code          290849 non-null  object \n",
      " 8   device_type_canonical  290849 non-null  object \n",
      " 9   revenue                290849 non-null  float64\n",
      " 10  service_name           290849 non-null  object \n",
      " 11  tickets_count          290849 non-null  int64  \n",
      " 12  total                  290849 non-null  float64\n",
      " 13  days_since_prev        268909 non-null  float64\n",
      "dtypes: float64(3), int64(4), object(7)\n",
      "memory usage: 31.1+ MB\n",
      "None\n",
      "\n",
      "Описательная статистика:\n",
      "           order_id       event_id      age_limit        revenue  \\\n",
      "count  2.908490e+05  290849.000000  290849.000000  290849.000000   \n",
      "mean   4.326812e+06  438079.127702      10.211278     625.083054   \n",
      "std    2.497578e+06  147396.389016       6.518124    1227.316214   \n",
      "min    1.000000e+00    4436.000000       0.000000     -90.760000   \n",
      "25%    2.164039e+06  361961.000000       6.000000     116.790000   \n",
      "50%    4.327816e+06  498329.000000      12.000000     355.340000   \n",
      "75%    6.488606e+06  546284.000000      16.000000     809.750000   \n",
      "max    8.653108e+06  592325.000000      18.000000   81174.540000   \n",
      "\n",
      "       tickets_count          total  days_since_prev  \n",
      "count  290849.000000  290849.000000    268909.000000  \n",
      "mean        2.754230    7526.465613         3.222525  \n",
      "std         1.170467   15328.267730        11.355158  \n",
      "min         1.000000    -358.850000         0.000000  \n",
      "25%         2.000000    2156.870000         0.000000  \n",
      "50%         3.000000    4771.390000         0.000000  \n",
      "75%         4.000000    8955.950000         1.000000  \n",
      "max        57.000000  811745.400000       148.000000  \n",
      "\n",
      "Пропущенные значения:\n",
      "order_id                     0\n",
      "user_id                      0\n",
      "created_dt_msk               0\n",
      "created_ts_msk               0\n",
      "event_id                     0\n",
      "cinema_circuit               0\n",
      "age_limit                    0\n",
      "currency_code                0\n",
      "device_type_canonical        0\n",
      "revenue                      0\n",
      "service_name                 0\n",
      "tickets_count                0\n",
      "total                        0\n",
      "days_since_prev          21940\n",
      "dtype: int64\n"
     ]
    }
   ],
   "source": [
    "print(\"=== final_tickets_orders ===\")\n",
    "print(f\"Размер данных: {final_tickets_orders.shape}\")\n",
    "print(\"\\nИнформация о данных:\")\n",
    "print(final_tickets_orders.info())\n",
    "print(\"\\nОписательная статистика:\")\n",
    "print(final_tickets_orders.describe())\n",
    "print(\"\\nПропущенные значения:\")\n",
    "print(final_tickets_orders.isnull().sum())"
   ]
  },
  {
   "cell_type": "code",
   "execution_count": 6,
   "metadata": {},
   "outputs": [
    {
     "data": {
      "text/html": [
       "<div>\n",
       "<style scoped>\n",
       "    .dataframe tbody tr th:only-of-type {\n",
       "        vertical-align: middle;\n",
       "    }\n",
       "\n",
       "    .dataframe tbody tr th {\n",
       "        vertical-align: top;\n",
       "    }\n",
       "\n",
       "    .dataframe thead th {\n",
       "        text-align: right;\n",
       "    }\n",
       "</style>\n",
       "<table border=\"1\" class=\"dataframe\">\n",
       "  <thead>\n",
       "    <tr style=\"text-align: right;\">\n",
       "      <th></th>\n",
       "      <th>event_id</th>\n",
       "      <th>event_name</th>\n",
       "      <th>event_type_description</th>\n",
       "      <th>event_type_main</th>\n",
       "      <th>organizers</th>\n",
       "      <th>region_name</th>\n",
       "      <th>city_name</th>\n",
       "      <th>city_id</th>\n",
       "      <th>venue_id</th>\n",
       "      <th>venue_name</th>\n",
       "      <th>venue_address</th>\n",
       "    </tr>\n",
       "  </thead>\n",
       "  <tbody>\n",
       "    <tr>\n",
       "      <th>0</th>\n",
       "      <td>4436</td>\n",
       "      <td>e4f26fba-da77-4c61-928a-6c3e434d793f</td>\n",
       "      <td>спектакль</td>\n",
       "      <td>театр</td>\n",
       "      <td>№4893</td>\n",
       "      <td>Североярская область</td>\n",
       "      <td>Озёрск</td>\n",
       "      <td>2</td>\n",
       "      <td>1600</td>\n",
       "      <td>Кладбище искусств \"Проблема\" и партнеры</td>\n",
       "      <td>наб. Загородная, д. 785</td>\n",
       "    </tr>\n",
       "    <tr>\n",
       "      <th>1</th>\n",
       "      <td>5785</td>\n",
       "      <td>5cc08a60-fdea-4186-9bb2-bffc3603fb77</td>\n",
       "      <td>спектакль</td>\n",
       "      <td>театр</td>\n",
       "      <td>№1931</td>\n",
       "      <td>Светополянский округ</td>\n",
       "      <td>Глиноград</td>\n",
       "      <td>54</td>\n",
       "      <td>2196</td>\n",
       "      <td>Лекции по искусству \"Свет\" Групп</td>\n",
       "      <td>ул. Ягодная, д. 942</td>\n",
       "    </tr>\n",
       "    <tr>\n",
       "      <th>2</th>\n",
       "      <td>8817</td>\n",
       "      <td>8e379a89-3a10-4811-ba06-ec22ebebe989</td>\n",
       "      <td>спектакль</td>\n",
       "      <td>театр</td>\n",
       "      <td>№4896</td>\n",
       "      <td>Североярская область</td>\n",
       "      <td>Озёрск</td>\n",
       "      <td>2</td>\n",
       "      <td>4043</td>\n",
       "      <td>Кинокомитет \"Золотая\" Инк</td>\n",
       "      <td>ш. Коммуны, д. 92 стр. 6</td>\n",
       "    </tr>\n",
       "    <tr>\n",
       "      <th>3</th>\n",
       "      <td>8849</td>\n",
       "      <td>682e3129-6a32-4952-9d8a-ef7f60d4c247</td>\n",
       "      <td>спектакль</td>\n",
       "      <td>театр</td>\n",
       "      <td>№4960</td>\n",
       "      <td>Каменевский регион</td>\n",
       "      <td>Глиногорск</td>\n",
       "      <td>213</td>\n",
       "      <td>1987</td>\n",
       "      <td>Выставка ремесел \"Свет\" Лтд</td>\n",
       "      <td>пер. Набережный, д. 35</td>\n",
       "    </tr>\n",
       "    <tr>\n",
       "      <th>4</th>\n",
       "      <td>8850</td>\n",
       "      <td>d6e99176-c77f-4af0-9222-07c571f6c624</td>\n",
       "      <td>спектакль</td>\n",
       "      <td>театр</td>\n",
       "      <td>№4770</td>\n",
       "      <td>Лесодальний край</td>\n",
       "      <td>Родниковец</td>\n",
       "      <td>55</td>\n",
       "      <td>4230</td>\n",
       "      <td>Фестивальный проект \"Листья\" Групп</td>\n",
       "      <td>пер. Проезжий, д. 9</td>\n",
       "    </tr>\n",
       "  </tbody>\n",
       "</table>\n",
       "</div>"
      ],
      "text/plain": [
       "   event_id                            event_name event_type_description  \\\n",
       "0      4436  e4f26fba-da77-4c61-928a-6c3e434d793f              спектакль   \n",
       "1      5785  5cc08a60-fdea-4186-9bb2-bffc3603fb77              спектакль   \n",
       "2      8817  8e379a89-3a10-4811-ba06-ec22ebebe989              спектакль   \n",
       "3      8849  682e3129-6a32-4952-9d8a-ef7f60d4c247              спектакль   \n",
       "4      8850  d6e99176-c77f-4af0-9222-07c571f6c624              спектакль   \n",
       "\n",
       "  event_type_main organizers           region_name   city_name  city_id  \\\n",
       "0           театр      №4893  Североярская область      Озёрск        2   \n",
       "1           театр      №1931  Светополянский округ   Глиноград       54   \n",
       "2           театр      №4896  Североярская область      Озёрск        2   \n",
       "3           театр      №4960    Каменевский регион  Глиногорск      213   \n",
       "4           театр      №4770      Лесодальний край  Родниковец       55   \n",
       "\n",
       "   venue_id                               venue_name             venue_address  \n",
       "0      1600  Кладбище искусств \"Проблема\" и партнеры   наб. Загородная, д. 785  \n",
       "1      2196         Лекции по искусству \"Свет\" Групп       ул. Ягодная, д. 942  \n",
       "2      4043                Кинокомитет \"Золотая\" Инк  ш. Коммуны, д. 92 стр. 6  \n",
       "3      1987              Выставка ремесел \"Свет\" Лтд    пер. Набережный, д. 35  \n",
       "4      4230       Фестивальный проект \"Листья\" Групп       пер. Проезжий, д. 9  "
      ]
     },
     "execution_count": 6,
     "metadata": {},
     "output_type": "execute_result"
    }
   ],
   "source": [
    "final_tickets_events=pd.read_csv('/datasets/final_tickets_events_df.csv')\n",
    "final_tickets_events.head(5)"
   ]
  },
  {
   "cell_type": "code",
   "execution_count": 7,
   "metadata": {},
   "outputs": [
    {
     "name": "stdout",
     "output_type": "stream",
     "text": [
      "\n",
      "=== final_tickets_events ===\n",
      "Размер данных: (22427, 11)\n",
      "\n",
      "Информация о данных:\n",
      "<class 'pandas.core.frame.DataFrame'>\n",
      "RangeIndex: 22427 entries, 0 to 22426\n",
      "Data columns (total 11 columns):\n",
      " #   Column                  Non-Null Count  Dtype \n",
      "---  ------                  --------------  ----- \n",
      " 0   event_id                22427 non-null  int64 \n",
      " 1   event_name              22427 non-null  object\n",
      " 2   event_type_description  22427 non-null  object\n",
      " 3   event_type_main         22427 non-null  object\n",
      " 4   organizers              22427 non-null  object\n",
      " 5   region_name             22427 non-null  object\n",
      " 6   city_name               22427 non-null  object\n",
      " 7   city_id                 22427 non-null  int64 \n",
      " 8   venue_id                22427 non-null  int64 \n",
      " 9   venue_name              22427 non-null  object\n",
      " 10  venue_address           22427 non-null  object\n",
      "dtypes: int64(3), object(8)\n",
      "memory usage: 1.9+ MB\n",
      "None\n",
      "\n",
      "Пропущенные значения:\n",
      "event_id                  0\n",
      "event_name                0\n",
      "event_type_description    0\n",
      "event_type_main           0\n",
      "organizers                0\n",
      "region_name               0\n",
      "city_name                 0\n",
      "city_id                   0\n",
      "venue_id                  0\n",
      "venue_name                0\n",
      "venue_address             0\n",
      "dtype: int64\n"
     ]
    }
   ],
   "source": [
    "print(\"\\n=== final_tickets_events ===\")\n",
    "print(f\"Размер данных: {final_tickets_events.shape}\")\n",
    "print(\"\\nИнформация о данных:\")\n",
    "print(final_tickets_events.info())\n",
    "print(\"\\nПропущенные значения:\")\n",
    "print(final_tickets_events.isnull().sum())"
   ]
  },
  {
   "cell_type": "code",
   "execution_count": 8,
   "metadata": {},
   "outputs": [
    {
     "data": {
      "text/html": [
       "<div>\n",
       "<style scoped>\n",
       "    .dataframe tbody tr th:only-of-type {\n",
       "        vertical-align: middle;\n",
       "    }\n",
       "\n",
       "    .dataframe tbody tr th {\n",
       "        vertical-align: top;\n",
       "    }\n",
       "\n",
       "    .dataframe thead th {\n",
       "        text-align: right;\n",
       "    }\n",
       "</style>\n",
       "<table border=\"1\" class=\"dataframe\">\n",
       "  <thead>\n",
       "    <tr style=\"text-align: right;\">\n",
       "      <th></th>\n",
       "      <th>data</th>\n",
       "      <th>nominal</th>\n",
       "      <th>curs</th>\n",
       "      <th>cdx</th>\n",
       "    </tr>\n",
       "  </thead>\n",
       "  <tbody>\n",
       "    <tr>\n",
       "      <th>0</th>\n",
       "      <td>2024-01-10</td>\n",
       "      <td>100</td>\n",
       "      <td>19.9391</td>\n",
       "      <td>kzt</td>\n",
       "    </tr>\n",
       "    <tr>\n",
       "      <th>1</th>\n",
       "      <td>2024-01-11</td>\n",
       "      <td>100</td>\n",
       "      <td>19.7255</td>\n",
       "      <td>kzt</td>\n",
       "    </tr>\n",
       "    <tr>\n",
       "      <th>2</th>\n",
       "      <td>2024-01-12</td>\n",
       "      <td>100</td>\n",
       "      <td>19.5839</td>\n",
       "      <td>kzt</td>\n",
       "    </tr>\n",
       "    <tr>\n",
       "      <th>3</th>\n",
       "      <td>2024-01-13</td>\n",
       "      <td>100</td>\n",
       "      <td>19.4501</td>\n",
       "      <td>kzt</td>\n",
       "    </tr>\n",
       "    <tr>\n",
       "      <th>4</th>\n",
       "      <td>2024-01-14</td>\n",
       "      <td>100</td>\n",
       "      <td>19.4501</td>\n",
       "      <td>kzt</td>\n",
       "    </tr>\n",
       "  </tbody>\n",
       "</table>\n",
       "</div>"
      ],
      "text/plain": [
       "         data  nominal     curs  cdx\n",
       "0  2024-01-10      100  19.9391  kzt\n",
       "1  2024-01-11      100  19.7255  kzt\n",
       "2  2024-01-12      100  19.5839  kzt\n",
       "3  2024-01-13      100  19.4501  kzt\n",
       "4  2024-01-14      100  19.4501  kzt"
      ]
     },
     "execution_count": 8,
     "metadata": {},
     "output_type": "execute_result"
    }
   ],
   "source": [
    "final_tickets_tenge=pd.read_csv('/datasets/final_tickets_tenge_df.csv')\n",
    "final_tickets_tenge.head(5)"
   ]
  },
  {
   "cell_type": "code",
   "execution_count": 9,
   "metadata": {},
   "outputs": [
    {
     "name": "stdout",
     "output_type": "stream",
     "text": [
      "\n",
      "=== final_tickets_tenge ===\n",
      "Размер данных: (357, 4)\n",
      "\n",
      "Информация о данных:\n",
      "<class 'pandas.core.frame.DataFrame'>\n",
      "RangeIndex: 357 entries, 0 to 356\n",
      "Data columns (total 4 columns):\n",
      " #   Column   Non-Null Count  Dtype  \n",
      "---  ------   --------------  -----  \n",
      " 0   data     357 non-null    object \n",
      " 1   nominal  357 non-null    int64  \n",
      " 2   curs     357 non-null    float64\n",
      " 3   cdx      357 non-null    object \n",
      "dtypes: float64(1), int64(1), object(2)\n",
      "memory usage: 11.3+ KB\n",
      "None\n",
      "\n",
      "Пропущенные значения:\n",
      "data       0\n",
      "nominal    0\n",
      "curs       0\n",
      "cdx        0\n",
      "dtype: int64\n"
     ]
    }
   ],
   "source": [
    "print(\"\\n=== final_tickets_tenge ===\")\n",
    "print(f\"Размер данных: {final_tickets_tenge.shape}\")\n",
    "print(\"\\nИнформация о данных:\")\n",
    "print(final_tickets_tenge.info())\n",
    "print(\"\\nПропущенные значения:\")\n",
    "print(final_tickets_tenge.isnull().sum())"
   ]
  },
  {
   "cell_type": "markdown",
   "metadata": {},
   "source": [
    "Во всех таблицах нет пропусков, кроме столбца days_since_prev 21940 в таблицк final_tickets_orders"
   ]
  },
  {
   "cell_type": "markdown",
   "metadata": {},
   "source": [
    "## Предобработка данных и подготовка их к исследованию"
   ]
  },
  {
   "cell_type": "code",
   "execution_count": 10,
   "metadata": {},
   "outputs": [
    {
     "data": {
      "text/html": [
       "<div>\n",
       "<style scoped>\n",
       "    .dataframe tbody tr th:only-of-type {\n",
       "        vertical-align: middle;\n",
       "    }\n",
       "\n",
       "    .dataframe tbody tr th {\n",
       "        vertical-align: top;\n",
       "    }\n",
       "\n",
       "    .dataframe thead th {\n",
       "        text-align: right;\n",
       "    }\n",
       "</style>\n",
       "<table border=\"1\" class=\"dataframe\">\n",
       "  <thead>\n",
       "    <tr style=\"text-align: right;\">\n",
       "      <th></th>\n",
       "      <th>order_id</th>\n",
       "      <th>user_id</th>\n",
       "      <th>created_dt_msk</th>\n",
       "      <th>created_ts_msk</th>\n",
       "      <th>event_id</th>\n",
       "      <th>cinema_circuit</th>\n",
       "      <th>age_limit</th>\n",
       "      <th>currency_code</th>\n",
       "      <th>device_type_canonical</th>\n",
       "      <th>revenue</th>\n",
       "      <th>...</th>\n",
       "      <th>event_name</th>\n",
       "      <th>event_type_description</th>\n",
       "      <th>event_type_main</th>\n",
       "      <th>organizers</th>\n",
       "      <th>region_name</th>\n",
       "      <th>city_name</th>\n",
       "      <th>city_id</th>\n",
       "      <th>venue_id</th>\n",
       "      <th>venue_name</th>\n",
       "      <th>venue_address</th>\n",
       "    </tr>\n",
       "  </thead>\n",
       "  <tbody>\n",
       "    <tr>\n",
       "      <th>0</th>\n",
       "      <td>4359165</td>\n",
       "      <td>0002849b70a3ce2</td>\n",
       "      <td>2024-08-20</td>\n",
       "      <td>2024-08-20 16:08:03</td>\n",
       "      <td>169230</td>\n",
       "      <td>нет</td>\n",
       "      <td>16</td>\n",
       "      <td>rub</td>\n",
       "      <td>mobile</td>\n",
       "      <td>1521.94</td>\n",
       "      <td>...</td>\n",
       "      <td>f0f7b271-04eb-4af6-bcb8-8f05cf46d6ad</td>\n",
       "      <td>спектакль</td>\n",
       "      <td>театр</td>\n",
       "      <td>№3322</td>\n",
       "      <td>Каменевский регион</td>\n",
       "      <td>Глиногорск</td>\n",
       "      <td>213.0</td>\n",
       "      <td>3972.0</td>\n",
       "      <td>Сценический центр \"Деталь\" Групп</td>\n",
       "      <td>алл. Машиностроителей, д. 19 стр. 6</td>\n",
       "    </tr>\n",
       "    <tr>\n",
       "      <th>1</th>\n",
       "      <td>7965605</td>\n",
       "      <td>0005ca5e93f2cf4</td>\n",
       "      <td>2024-07-23</td>\n",
       "      <td>2024-07-23 18:36:24</td>\n",
       "      <td>237325</td>\n",
       "      <td>нет</td>\n",
       "      <td>0</td>\n",
       "      <td>rub</td>\n",
       "      <td>mobile</td>\n",
       "      <td>289.45</td>\n",
       "      <td>...</td>\n",
       "      <td>40efeb04-81b7-4135-b41f-708ff00cc64c</td>\n",
       "      <td>событие</td>\n",
       "      <td>выставки</td>\n",
       "      <td>№4850</td>\n",
       "      <td>Каменевский регион</td>\n",
       "      <td>Глиногорск</td>\n",
       "      <td>213.0</td>\n",
       "      <td>2941.0</td>\n",
       "      <td>Музыкальная школа для детей \"Аккаунт\" Лтд</td>\n",
       "      <td>алл. Шмидта, д. 9 стр. 4</td>\n",
       "    </tr>\n",
       "    <tr>\n",
       "      <th>2</th>\n",
       "      <td>7292370</td>\n",
       "      <td>0005ca5e93f2cf4</td>\n",
       "      <td>2024-10-06</td>\n",
       "      <td>2024-10-06 13:56:02</td>\n",
       "      <td>578454</td>\n",
       "      <td>нет</td>\n",
       "      <td>0</td>\n",
       "      <td>rub</td>\n",
       "      <td>mobile</td>\n",
       "      <td>1258.57</td>\n",
       "      <td>...</td>\n",
       "      <td>01f3fb7b-ed07-4f94-b1d3-9a2e1ee5a8ca</td>\n",
       "      <td>цирковое шоу</td>\n",
       "      <td>другое</td>\n",
       "      <td>№1540</td>\n",
       "      <td>Каменевский регион</td>\n",
       "      <td>Глиногорск</td>\n",
       "      <td>213.0</td>\n",
       "      <td>4507.0</td>\n",
       "      <td>Училище искусств \"Нирвана\" Инк</td>\n",
       "      <td>алл. Юбилейная, д. 5/6</td>\n",
       "    </tr>\n",
       "    <tr>\n",
       "      <th>3</th>\n",
       "      <td>1139875</td>\n",
       "      <td>000898990054619</td>\n",
       "      <td>2024-07-13</td>\n",
       "      <td>2024-07-13 19:40:48</td>\n",
       "      <td>387271</td>\n",
       "      <td>нет</td>\n",
       "      <td>0</td>\n",
       "      <td>rub</td>\n",
       "      <td>mobile</td>\n",
       "      <td>8.49</td>\n",
       "      <td>...</td>\n",
       "      <td>2f638715-8844-466c-b43f-378a627c419f</td>\n",
       "      <td>выставка</td>\n",
       "      <td>другое</td>\n",
       "      <td>№5049</td>\n",
       "      <td>Североярская область</td>\n",
       "      <td>Озёрск</td>\n",
       "      <td>2.0</td>\n",
       "      <td>3574.0</td>\n",
       "      <td>Театр альтернативного искусства \"Ода\" Лимитед</td>\n",
       "      <td>алл. Есенина, д. 243 к. 3/8</td>\n",
       "    </tr>\n",
       "    <tr>\n",
       "      <th>4</th>\n",
       "      <td>972400</td>\n",
       "      <td>000898990054619</td>\n",
       "      <td>2024-10-04</td>\n",
       "      <td>2024-10-04 22:33:15</td>\n",
       "      <td>509453</td>\n",
       "      <td>нет</td>\n",
       "      <td>18</td>\n",
       "      <td>rub</td>\n",
       "      <td>mobile</td>\n",
       "      <td>1390.41</td>\n",
       "      <td>...</td>\n",
       "      <td>10d805d3-9809-4d8a-834e-225b7d03f95d</td>\n",
       "      <td>шоу</td>\n",
       "      <td>стендап</td>\n",
       "      <td>№832</td>\n",
       "      <td>Озернинский край</td>\n",
       "      <td>Родниковецк</td>\n",
       "      <td>240.0</td>\n",
       "      <td>1896.0</td>\n",
       "      <td>Театр кукол \"Огни\" Инкорпорэйтед</td>\n",
       "      <td>ш. Набережное, д. 595 стр. 8</td>\n",
       "    </tr>\n",
       "  </tbody>\n",
       "</table>\n",
       "<p>5 rows × 24 columns</p>\n",
       "</div>"
      ],
      "text/plain": [
       "   order_id          user_id created_dt_msk       created_ts_msk  event_id  \\\n",
       "0   4359165  0002849b70a3ce2     2024-08-20  2024-08-20 16:08:03    169230   \n",
       "1   7965605  0005ca5e93f2cf4     2024-07-23  2024-07-23 18:36:24    237325   \n",
       "2   7292370  0005ca5e93f2cf4     2024-10-06  2024-10-06 13:56:02    578454   \n",
       "3   1139875  000898990054619     2024-07-13  2024-07-13 19:40:48    387271   \n",
       "4    972400  000898990054619     2024-10-04  2024-10-04 22:33:15    509453   \n",
       "\n",
       "  cinema_circuit  age_limit currency_code device_type_canonical  revenue  ...  \\\n",
       "0            нет         16           rub                mobile  1521.94  ...   \n",
       "1            нет          0           rub                mobile   289.45  ...   \n",
       "2            нет          0           rub                mobile  1258.57  ...   \n",
       "3            нет          0           rub                mobile     8.49  ...   \n",
       "4            нет         18           rub                mobile  1390.41  ...   \n",
       "\n",
       "                             event_name  event_type_description  \\\n",
       "0  f0f7b271-04eb-4af6-bcb8-8f05cf46d6ad               спектакль   \n",
       "1  40efeb04-81b7-4135-b41f-708ff00cc64c                 событие   \n",
       "2  01f3fb7b-ed07-4f94-b1d3-9a2e1ee5a8ca            цирковое шоу   \n",
       "3  2f638715-8844-466c-b43f-378a627c419f                выставка   \n",
       "4  10d805d3-9809-4d8a-834e-225b7d03f95d                     шоу   \n",
       "\n",
       "   event_type_main  organizers           region_name    city_name city_id  \\\n",
       "0            театр       №3322    Каменевский регион   Глиногорск   213.0   \n",
       "1         выставки       №4850    Каменевский регион   Глиногорск   213.0   \n",
       "2           другое       №1540    Каменевский регион   Глиногорск   213.0   \n",
       "3           другое       №5049  Североярская область       Озёрск     2.0   \n",
       "4          стендап        №832      Озернинский край  Родниковецк   240.0   \n",
       "\n",
       "  venue_id                                     venue_name  \\\n",
       "0   3972.0               Сценический центр \"Деталь\" Групп   \n",
       "1   2941.0      Музыкальная школа для детей \"Аккаунт\" Лтд   \n",
       "2   4507.0                 Училище искусств \"Нирвана\" Инк   \n",
       "3   3574.0  Театр альтернативного искусства \"Ода\" Лимитед   \n",
       "4   1896.0               Театр кукол \"Огни\" Инкорпорэйтед   \n",
       "\n",
       "                         venue_address  \n",
       "0  алл. Машиностроителей, д. 19 стр. 6  \n",
       "1             алл. Шмидта, д. 9 стр. 4  \n",
       "2               алл. Юбилейная, д. 5/6  \n",
       "3          алл. Есенина, д. 243 к. 3/8  \n",
       "4         ш. Набережное, д. 595 стр. 8  \n",
       "\n",
       "[5 rows x 24 columns]"
      ]
     },
     "execution_count": 10,
     "metadata": {},
     "output_type": "execute_result"
    }
   ],
   "source": [
    "merged_df = final_tickets_orders.merge(final_tickets_events, on='event_id', how='left')\n",
    "merged_df.head(5)"
   ]
  },
  {
   "cell_type": "code",
   "execution_count": 11,
   "metadata": {
    "scrolled": false
   },
   "outputs": [
    {
     "name": "stdout",
     "output_type": "stream",
     "text": [
      "Детальный анализ cinema_circuit:\n",
      "нет           289451\n",
      "Другое          1261\n",
      "КиноСити         122\n",
      "Москино            7\n",
      "Киномакс           7\n",
      "ЦентрФильм         1\n",
      "Name: cinema_circuit, dtype: int64\n",
      "Процент значения 'нет': 99.52%\n",
      "\n",
      "Детальный анализ organizers:\n",
      "Всего уникальных организаторов: 4293\n",
      "Топ-10 организаторов:\n",
      "№1531    9748\n",
      "№2121    4738\n",
      "№4054    4362\n",
      "№4549    3972\n",
      "№4837    3368\n",
      "№4086    3323\n",
      "№4950    3212\n",
      "№4403    3037\n",
      "№5085    3005\n",
      "№2378    2886\n",
      "Name: organizers, dtype: int64\n",
      "\n",
      " АНАЛИЗ currency_code:\n",
      "rub    285780\n",
      "kzt      5069\n",
      "Name: currency_code, dtype: int64\n",
      "\n",
      " АНАЛИЗ device_type_canonical:\n",
      "mobile     232679\n",
      "desktop     58170\n",
      "Name: device_type_canonical, dtype: int64\n",
      "\n",
      " АНАЛИЗ age_limit:\n",
      "0     61487\n",
      "6     52173\n",
      "12    62557\n",
      "16    78579\n",
      "18    36053\n",
      "Name: age_limit, dtype: int64\n",
      "\n",
      " АНАЛИЗ ТИПОВ СОБЫТИЙ:\n",
      "event_type_description:\n",
      "концерт                   112049\n",
      "событие                    58605\n",
      "спектакль                  50592\n",
      "шоу                        13626\n",
      "спорт                      12837\n",
      "мюзикл                      9919\n",
      "спортивное мероприятие      9074\n",
      "балет                       5998\n",
      "выставка                    5876\n",
      "цирковое шоу                5327\n",
      "фестиваль                   4273\n",
      "опера                       1314\n",
      "ёлка                         945\n",
      "музыкальный спектакль        140\n",
      "кукольный спектакль           13\n",
      "экскурсия                      8\n",
      "оперетта                       7\n",
      "подарок                        4\n",
      "снегурочка                     3\n",
      "рок-мюзикл                     1\n",
      "Name: event_type_description, dtype: int64\n",
      "\n",
      "event_type_main:\n",
      "концерты    115276\n",
      "театр        67321\n",
      "другое       65867\n",
      "спорт        21911\n",
      "стендап      13393\n",
      "выставки      4854\n",
      "ёлки          1989\n",
      "Name: event_type_main, dtype: int64\n",
      "\n",
      " АНАЛИЗ ГЕОГРАФИЧЕСКИХ ДАННЫХ:\n",
      "region_name - уникальные регионы:\n",
      "Каменевский регион         91058\n",
      "Североярская область       44049\n",
      "Широковская область        16457\n",
      "Медовская область          13901\n",
      "Озернинский край           10476\n",
      "Светополянский округ        7607\n",
      "Малиновоярский округ        6618\n",
      "Речиновская область         6293\n",
      "Солнечноземская область     6288\n",
      "Яблоневская область         6181\n",
      "Name: region_name, dtype: int64\n",
      "\n",
      "Всего уникальных регионов: 81\n",
      "\n",
      "city_name - уникальные города:\n",
      "Глиногорск      89446\n",
      "Озёрск          43910\n",
      "Радужсвет       13711\n",
      "Радужнополье     8741\n",
      "Верховино        6579\n",
      "Дальнесветск     6293\n",
      "Глинополье       6196\n",
      "Светополье       5993\n",
      "Глиноград        5934\n",
      "Лесоярич         5831\n",
      "Name: city_name, dtype: int64\n",
      "\n",
      "Всего уникальных городов: 352\n",
      "\n",
      " АНАЛИЗ МЕСТ ПРОВЕДЕНИЯ:\n",
      "venue_name - примеры названий:\n",
      "Студия дизайна \"Платформа\" Инкорпорэйтед          9910\n",
      "Картинная галерея \"Светлячок\" Лтд                 4406\n",
      "Креативное пространство \"Вдох\" Лимитед            4257\n",
      "Центр культурного наследия \"Заряд\" и партнеры     4099\n",
      "Студия дизайна \"Лестница\" Лимитед                 4025\n",
      "Культурный центр \"Общие\" Групп                    3876\n",
      "Научно-культурный центр \"Синтез\" Инкорпорэйтед    3718\n",
      "Клуб киноманов \"Верность\" Лтд                     3472\n",
      "Мастерская живого действия \"Гардероб\" Лимитед     3424\n",
      "Дворец культуры \"Скворечник\" Инк                  3366\n",
      "Name: venue_name, dtype: int64\n",
      "\n",
      "Всего уникальных мест: 3217\n"
     ]
    }
   ],
   "source": [
    "# Проверим столбец 'cinema_circuit' более детально\n",
    "print(\"Детальный анализ cinema_circuit:\")\n",
    "print(merged_df['cinema_circuit'].value_counts(dropna=False))\n",
    "print(f\"Процент значения 'нет': {merged_df['cinema_circuit'].value_counts(normalize=True).get('нет', 0)*100:.2f}%\")\n",
    "\n",
    "# Проверим столбец 'organizers'\n",
    "print(\"\\nДетальный анализ organizers:\")\n",
    "org_counts = merged_df['organizers'].value_counts()\n",
    "print(f\"Всего уникальных организаторов: {len(org_counts)}\")\n",
    "print(\"Топ-10 организаторов:\")\n",
    "print(org_counts.head(10))\n",
    "# Анализ currency_code\n",
    "print(\"\\n АНАЛИЗ currency_code:\")\n",
    "currency_analysis = merged_df['currency_code'].value_counts()\n",
    "print(currency_analysis)\n",
    "# Анализ device_type_canonical\n",
    "print(\"\\n АНАЛИЗ device_type_canonical:\")\n",
    "device_analysis = merged_df['device_type_canonical'].value_counts()\n",
    "print(device_analysis)\n",
    "# Анализ age_limit - хотя числовой, но может быть категориальным\n",
    "print(\"\\n АНАЛИЗ age_limit:\")\n",
    "age_analysis = merged_df['age_limit'].value_counts().sort_index()\n",
    "print(age_analysis)\n",
    "# Анализ event_type_description и event_type_main\n",
    "print(\"\\n АНАЛИЗ ТИПОВ СОБЫТИЙ:\")\n",
    "print(\"event_type_description:\")\n",
    "print(merged_df['event_type_description'].value_counts())\n",
    "print(\"\\nevent_type_main:\")\n",
    "print(merged_df['event_type_main'].value_counts())\n",
    "#Анализ географических данных\n",
    "print(\"\\n АНАЛИЗ ГЕОГРАФИЧЕСКИХ ДАННЫХ:\")\n",
    "print(\"region_name - уникальные регионы:\")\n",
    "print(merged_df['region_name'].value_counts().head(10))\n",
    "print(f\"\\nВсего уникальных регионов: {merged_df['region_name'].nunique()}\")\n",
    "\n",
    "print(\"\\ncity_name - уникальные города:\")\n",
    "print(merged_df['city_name'].value_counts().head(10))\n",
    "print(f\"\\nВсего уникальных городов: {merged_df['city_name'].nunique()}\")\n",
    "\n",
    "# Анализ venue_name и venue_address\n",
    "print(\"\\n АНАЛИЗ МЕСТ ПРОВЕДЕНИЯ:\")\n",
    "print(\"venue_name - примеры названий:\")\n",
    "print(merged_df['venue_name'].value_counts().head(10))\n",
    "print(f\"\\nВсего уникальных мест: {merged_df['venue_name'].nunique()}\")"
   ]
  },
  {
   "cell_type": "markdown",
   "metadata": {},
   "source": [
    "cinema_circuit:\n",
    "\n",
    "* большинство значений имеет статус \"нет\" что говорит о том что кинотеатры не входят в сеть\n",
    "\n",
    "currency_code:\n",
    "* разделение валют на kzt и rub \n",
    "\n",
    "device_type_canonical:\n",
    "* разделение на мобильные и десктопные устройиства\n",
    "\n",
    "age_limit:\n",
    "\n",
    "* всего 5 категорий возрастной группы\n",
    "\n",
    "самое популярное событие:\n",
    "* концерты\n",
    "\n",
    "всего регионов 81, самый популярный Каменевский\n",
    "\n",
    "всего городов 352, самый популярный Глиногорск"
   ]
  },
  {
   "cell_type": "code",
   "execution_count": 12,
   "metadata": {},
   "outputs": [
    {
     "name": "stdout",
     "output_type": "stream",
     "text": [
      "РАСПРЕДЕЛЕНИЕ ПО ВАЛЮТАМ:\n",
      "rub: 285780 записей (98.3%)\n",
      "kzt: 5069 записей (1.7%)\n",
      "\n",
      "СТАТИСТИКА REVENUE ПО ВАЛЮТАМ:\n",
      "\n",
      "rub:\n",
      "count    285780.000000\n",
      "mean        547.568333\n",
      "std         871.524559\n",
      "min         -90.760000\n",
      "25%         113.827500\n",
      "50%         346.100000\n",
      "75%         791.700000\n",
      "max       81174.540000\n",
      "Name: revenue, dtype: float64\n",
      "\n",
      "kzt:\n",
      "count     5069.000000\n",
      "mean      4995.206767\n",
      "std       4916.752776\n",
      "min          0.000000\n",
      "25%        518.100000\n",
      "50%       3698.830000\n",
      "75%       7397.660000\n",
      "max      26425.860000\n",
      "Name: revenue, dtype: float64\n"
     ]
    }
   ],
   "source": [
    "# Разделим данные по валютам\n",
    "rub_data = merged_df[merged_df['currency_code'] == 'rub']\n",
    "kzt_data = merged_df[merged_df['currency_code'] == 'kzt'] if 'kzt' in merged_df['currency_code'].values else None\n",
    "other_currencies = merged_df[~merged_df['currency_code'].isin(['rub', 'kzt'])] if 'kzt' in merged_df['currency_code'].values else merged_df[merged_df['currency_code'] != 'RUB']\n",
    "\n",
    "print(\"РАСПРЕДЕЛЕНИЕ ПО ВАЛЮТАМ:\")\n",
    "print(f\"rub: {len(rub_data)} записей ({len(rub_data)/len(merged_df)*100:.1f}%)\")\n",
    "if kzt_data is not None:\n",
    "    print(f\"kzt: {len(kzt_data)} записей ({len(kzt_data)/len(merged_df)*100:.1f}%)\")\n",
    "if len(other_currencies) > 0:\n",
    "    print(f\"Другие валюты: {len(other_currencies)} записей\")\n",
    "\n",
    "# Статистика по revenue для каждой валюты\n",
    "print(\"\\nСТАТИСТИКА REVENUE ПО ВАЛЮТАМ:\")\n",
    "print(\"\\nrub:\")\n",
    "print(rub_data['revenue'].describe())\n",
    "\n",
    "if kzt_data is not None:\n",
    "    print(\"\\nkzt:\")\n",
    "    print(kzt_data['revenue'].describe())\n",
    "\n",
    "if len(other_currencies) > 0:\n",
    "    print(\"\\nДругие валюты:\")\n",
    "    print(other_currencies['revenue'].describe())"
   ]
  },
  {
   "cell_type": "code",
   "execution_count": 13,
   "metadata": {},
   "outputs": [
    {
     "name": "stderr",
     "output_type": "stream",
     "text": [
      "/opt/conda/lib/python3.9/site-packages/pandas/core/arraylike.py:358: RuntimeWarning: invalid value encountered in log1p\n",
      "  result = getattr(ufunc, method)(*inputs, **kwargs)\n"
     ]
    },
    {
     "data": {
      "image/png": "[encoded data removed]",
      "text/plain": [
       "<Figure size 1296x864 with 6 Axes>"
      ]
     },
     "metadata": {
      "needs_background": "light"
     },
     "output_type": "display_data"
    }
   ],
   "source": [
    "# Создаем графики для анализа распределения\n",
    "fig, axes = plt.subplots(2, 3, figsize=(18, 12))\n",
    "\n",
    "# Гистограммы распределения\n",
    "# RUB\n",
    "axes[0, 0].hist(rub_data['revenue'], bins=50, alpha=0.7, color='blue', edgecolor='black')\n",
    "axes[0, 0].set_title('Распределение revenue (RUB)')\n",
    "axes[0, 0].set_xlabel('Выручка (рубли)')\n",
    "axes[0, 0].set_ylabel('Частота')\n",
    "\n",
    "# KZT (если есть)\n",
    "if kzt_data is not None:\n",
    "    axes[0, 1].hist(kzt_data['revenue'], bins=50, alpha=0.7, color='green', edgecolor='black')\n",
    "    axes[0, 1].set_title('Распределение revenue (KZT)')\n",
    "    axes[0, 1].set_xlabel('Выручка (тенге)')\n",
    "    axes[0, 1].set_ylabel('Частота')\n",
    "\n",
    "# Боксплоты для выявления выбросов\n",
    "# RUB\n",
    "axes[1, 0].boxplot(rub_data['revenue'])\n",
    "axes[1, 0].set_title('Боксплот revenue (RUB)')\n",
    "axes[1, 0].set_ylabel('Выручка (рубли)')\n",
    "\n",
    "# KZT (если есть)\n",
    "if kzt_data is not None:\n",
    "    axes[1, 1].boxplot(kzt_data['revenue'])\n",
    "    axes[1, 1].set_title('Боксплот revenue (KZT)')\n",
    "    axes[1, 1].set_ylabel('Выручка (тенге)')\n",
    "\n",
    "# Логарифмическое распределение для лучшей визуализации\n",
    "axes[0, 2].hist(np.log1p(rub_data['revenue']), bins=50, alpha=0.7, color='red', edgecolor='black')\n",
    "axes[0, 2].set_title('Логарифмическое распределение (RUB)')\n",
    "axes[0, 2].set_xlabel('log(1 + revenue)')\n",
    "axes[0, 2].set_ylabel('Частота')\n",
    "\n",
    "if kzt_data is not None:\n",
    "    axes[1, 2].hist(np.log1p(kzt_data['revenue']), bins=50, alpha=0.7, color='orange', edgecolor='black')\n",
    "    axes[1, 2].set_title('Логарифмическое распределение (KZT)')\n",
    "    axes[1, 2].set_xlabel('log(1 + revenue)')\n",
    "    axes[1, 2].set_ylabel('Частота')\n",
    "\n",
    "plt.tight_layout()\n",
    "plt.show()"
   ]
  },
  {
   "cell_type": "code",
   "execution_count": 14,
   "metadata": {},
   "outputs": [
    {
     "name": "stdout",
     "output_type": "stream",
     "text": [
      "\n",
      "АНАЛИЗ ВЫБРОСОВ ДЛЯ RUB:\n",
      "========================================\n",
      "25%-й перцентиль: 113.83\n",
      "50%-й перцентиль: 346.10\n",
      "75%-й перцентиль: 791.70\n",
      "90%-й перцентиль: 1276.15\n",
      "95%-й перцентиль: 1606.50\n",
      "99%-й перцентиль: 2569.59\n",
      "99.5%-й перцентиль: 2988.16\n",
      "99.9%-й перцентиль: 5140.78\n",
      "99.99%-й перцентиль: 32469.82\n",
      "\n",
      "Порог по 99-му перцентилю: 2569.59\n",
      "Количество выбросов (>99%): 2858\n",
      "Доля выбросов: 1.00%\n",
      "Мин. значение выбросов: 2569.61\n",
      "Макс. значение выбросов: 81174.54\n",
      "Среднее значение выбросов: 4269.81\n",
      "\n",
      "АНАЛИЗ ВЫБРОСОВ ДЛЯ KZT:\n",
      "========================================\n",
      "25%-й перцентиль: 518.10\n",
      "50%-й перцентиль: 3698.83\n",
      "75%-й перцентиль: 7397.66\n",
      "90%-й перцентиль: 13212.93\n",
      "95%-й перцентиль: 13784.26\n",
      "99%-й перцентиль: 17617.24\n",
      "99.5%-й перцентиль: 21564.20\n",
      "99.9%-й перцентиль: 22021.55\n",
      "99.99%-й перцентиль: 26425.86\n",
      "\n",
      "Порог по 99-му перцентилю: 17617.24\n",
      "Количество выбросов (>99%): 29\n",
      "Доля выбросов: 0.57%\n",
      "Мин. значение выбросов: 20676.39\n",
      "Макс. значение выбросов: 26425.86\n",
      "Среднее значение выбросов: 22641.76\n"
     ]
    }
   ],
   "source": [
    "# Функция для анализа выбросов по перцентилям\n",
    "def analyze_outliers(data, currency_name):\n",
    "    print(f\"\\nАНАЛИЗ ВЫБРОСОВ ДЛЯ {currency_name}:\")\n",
    "    print(\"=\"*40)\n",
    "    \n",
    "    # Рассчитаем различные перцентили\n",
    "    percentiles = [25, 50, 75, 90, 95, 99, 99.5, 99.9, 99.99]\n",
    "    percentile_values = np.percentile(data['revenue'], percentiles)\n",
    "    \n",
    "    for p, val in zip(percentiles, percentile_values):\n",
    "        print(f\"{p}%-й перцентиль: {val:.2f}\")\n",
    "    \n",
    "    # Определим выбросы по 99-му перцентилю\n",
    "    threshold_99 = np.percentile(data['revenue'], 99)\n",
    "    outliers_99 = data[data['revenue'] > threshold_99]\n",
    "    \n",
    "    print(f\"\\nПорог по 99-му перцентилю: {threshold_99:.2f}\")\n",
    "    print(f\"Количество выбросов (>99%): {len(outliers_99)}\")\n",
    "    print(f\"Доля выбросов: {len(outliers_99)/len(data)*100:.2f}%\")\n",
    "    \n",
    "    # Статистика по выбросам\n",
    "    if len(outliers_99) > 0:\n",
    "        print(f\"Мин. значение выбросов: {outliers_99['revenue'].min():.2f}\")\n",
    "        print(f\"Макс. значение выбросов: {outliers_99['revenue'].max():.2f}\")\n",
    "        print(f\"Среднее значение выбросов: {outliers_99['revenue'].mean():.2f}\")\n",
    "    \n",
    "    return threshold_99, outliers_99\n",
    "\n",
    "# Анализ для RUB\n",
    "threshold_rub, outliers_rub = analyze_outliers(rub_data, \"RUB\")\n",
    "\n",
    "# Анализ для KZT (если есть)\n",
    "if kzt_data is not None:\n",
    "    threshold_kzt, outliers_kzt = analyze_outliers(kzt_data, \"KZT\")"
   ]
  },
  {
   "cell_type": "code",
   "execution_count": 15,
   "metadata": {},
   "outputs": [
    {
     "name": "stdout",
     "output_type": "stream",
     "text": [
      "\n",
      "==================================================\n",
      "АНАЛИЗ TICKETS_COUNT\n",
      "==================================================\n",
      "Общая статистика tickets_count:\n",
      "count    290849.000000\n",
      "mean          2.754230\n",
      "std           1.170467\n",
      "min           1.000000\n",
      "25%           2.000000\n",
      "50%           3.000000\n",
      "75%           4.000000\n",
      "max          57.000000\n",
      "Name: tickets_count, dtype: float64\n",
      "\n",
      "Tickets_count по валютам:\n",
      "RUB:\n",
      "count    285780.000000\n",
      "mean          2.754077\n",
      "std           1.171419\n",
      "min           1.000000\n",
      "25%           2.000000\n",
      "50%           3.000000\n",
      "75%           4.000000\n",
      "max          57.000000\n",
      "Name: tickets_count, dtype: float64\n",
      "\n",
      "KZT:\n",
      "count    5069.000000\n",
      "mean        2.762872\n",
      "std         1.115558\n",
      "min         1.000000\n",
      "25%         2.000000\n",
      "50%         3.000000\n",
      "75%         4.000000\n",
      "max         6.000000\n",
      "Name: tickets_count, dtype: float64\n"
     ]
    },
    {
     "data": {
      "image/png": "[encoded data removed]",
      "text/plain": [
       "<Figure size 1080x432 with 2 Axes>"
      ]
     },
     "metadata": {
      "needs_background": "light"
     },
     "output_type": "display_data"
    },
    {
     "name": "stdout",
     "output_type": "stream",
     "text": [
      "\n",
      "Выбросы в tickets_count (>99%):\n",
      "Порог: 6.0 билетов\n",
      "Количество выбросов: 188\n",
      "Максимальное значение: 57 билетов\n"
     ]
    }
   ],
   "source": [
    "# Проверим наличие tickets_count и проанализируем его\n",
    "if 'tickets_count' in merged_df.columns:\n",
    "    print(\"\\n\" + \"=\"*50)\n",
    "    print(\"АНАЛИЗ TICKETS_COUNT\")\n",
    "    print(\"=\"*50)\n",
    "    \n",
    "    # Основная статистика\n",
    "    print(\"Общая статистика tickets_count:\")\n",
    "    print(merged_df['tickets_count'].describe())\n",
    "    \n",
    "    # Распределение по валютам\n",
    "    print(\"\\nTickets_count по валютам:\")\n",
    "    print(\"RUB:\")\n",
    "    print(rub_data['tickets_count'].describe())\n",
    "    \n",
    "    if kzt_data is not None:\n",
    "        print(\"\\nKZT:\")\n",
    "        print(kzt_data['tickets_count'].describe())\n",
    "    \n",
    "    # Визуализация распределения tickets_count\n",
    "    fig, axes = plt.subplots(1, 2, figsize=(15, 6))\n",
    "    \n",
    "    # Гистограмма\n",
    "    axes[0].hist(merged_df['tickets_count'], bins=50, alpha=0.7, color='purple', edgecolor='black')\n",
    "    axes[0].set_title('Распределение tickets_count')\n",
    "    axes[0].set_xlabel('Количество билетов')\n",
    "    axes[0].set_ylabel('Частота')\n",
    "    \n",
    "    # Боксплот\n",
    "    axes[1].boxplot(merged_df['tickets_count'])\n",
    "    axes[1].set_title('Боксплот tickets_count')\n",
    "    axes[1].set_ylabel('Количество билетов')\n",
    "    \n",
    "    plt.tight_layout()\n",
    "    plt.show()\n",
    "    \n",
    "    # Анализ выбросов в tickets_count\n",
    "    tickets_threshold_99 = np.percentile(merged_df['tickets_count'], 99)\n",
    "    tickets_outliers = merged_df[merged_df['tickets_count'] > tickets_threshold_99]\n",
    "    \n",
    "    print(f\"\\nВыбросы в tickets_count (>99%):\")\n",
    "    print(f\"Порог: {tickets_threshold_99} билетов\")\n",
    "    print(f\"Количество выбросов: {len(tickets_outliers)}\")\n",
    "    print(f\"Максимальное значение: {merged_df['tickets_count'].max()} билетов\")\n",
    "    \n",
    "else:\n",
    "    print(\"Столбец tickets_count отсутствует в данных\")"
   ]
  },
  {
   "cell_type": "code",
   "execution_count": 16,
   "metadata": {},
   "outputs": [
    {
     "name": "stdout",
     "output_type": "stream",
     "text": [
      "\n",
      "==================================================\n",
      "ФИЛЬТРАЦИЯ ДАННЫХ ПО 99-МУ ПЕРЦЕНТИЛЮ\n",
      "==================================================\n",
      "RUB данные до фильтрации: 285780 записей\n",
      "RUB данные после фильтрации: 282922 записей\n",
      "Удалено записей RUB: 2858\n",
      "\n",
      "KZT данные до фильтрации: 5069 записей\n",
      "KZT данные после фильтрации: 5040 записей\n",
      "Удалено записей KZT: 29\n",
      "\n",
      "Общий размер данных до фильтрации: 290849\n",
      "Общий размер данных после фильтрации: 287962\n",
      "Общее количество удаленных выбросов: 2887\n"
     ]
    }
   ],
   "source": [
    "# Создаем отфильтрованные датафреймы без выбросов\n",
    "print(\"\\n\" + \"=\"*50)\n",
    "print(\"ФИЛЬТРАЦИЯ ДАННЫХ ПО 99-МУ ПЕРЦЕНТИЛЮ\")\n",
    "print(\"=\"*50)\n",
    "\n",
    "# Фильтруем RUB данные\n",
    "filtered_rub_data = rub_data[rub_data['revenue'] <= threshold_rub]\n",
    "print(f\"RUB данные до фильтрации: {len(rub_data)} записей\")\n",
    "print(f\"RUB данные после фильтрации: {len(filtered_rub_data)} записей\")\n",
    "print(f\"Удалено записей RUB: {len(rub_data) - len(filtered_rub_data)}\")\n",
    "\n",
    "# Фильтруем KZT данные (если есть)\n",
    "if kzt_data is not None:\n",
    "    filtered_kzt_data = kzt_data[kzt_data['revenue'] <= threshold_kzt]\n",
    "    print(f\"\\nKZT данные до фильтрации: {len(kzt_data)} записей\")\n",
    "    print(f\"KZT данные после фильтрации: {len(filtered_kzt_data)} записей\")\n",
    "    print(f\"Удалено записей KZT: {len(kzt_data) - len(filtered_kzt_data)}\")\n",
    "\n",
    "# Объединяем отфильтрованные данные\n",
    "filtered_data_list = [filtered_rub_data]\n",
    "if kzt_data is not None:\n",
    "    filtered_data_list.append(filtered_kzt_data)\n",
    "if len(other_currencies) > 0:\n",
    "    filtered_data_list.append(other_currencies)\n",
    "\n",
    "filtered_df = pd.concat(filtered_data_list, ignore_index=True)\n",
    "\n",
    "print(f\"\\nОбщий размер данных до фильтрации: {len(merged_df)}\")\n",
    "print(f\"Общий размер данных после фильтрации: {len(filtered_df)}\")\n",
    "print(f\"Общее количество удаленных выбросов: {len(merged_df) - len(filtered_df)}\")"
   ]
  },
  {
   "cell_type": "code",
   "execution_count": 17,
   "metadata": {},
   "outputs": [
    {
     "name": "stdout",
     "output_type": "stream",
     "text": [
      "\n",
      "==================================================\n",
      "СРАВНЕНИЕ СТАТИСТИК ДО И ПОСЛЕ ФИЛЬТРАЦИИ\n",
      "==================================================\n",
      "REVENUE (RUB) - ДО фильтрации:\n",
      "count    285780.000000\n",
      "mean        547.568333\n",
      "std         871.524559\n",
      "min         -90.760000\n",
      "25%         113.827500\n",
      "50%         346.100000\n",
      "75%         791.700000\n",
      "max       81174.540000\n",
      "Name: revenue, dtype: float64\n",
      "\n",
      "REVENUE (RUB) - ПОСЛЕ фильтрации:\n",
      "count    282922.000000\n",
      "mean        509.967304\n",
      "std         500.112654\n",
      "min         -90.760000\n",
      "25%         111.660000\n",
      "50%         340.250000\n",
      "75%         781.090000\n",
      "max        2569.590000\n",
      "Name: revenue, dtype: float64\n",
      "\n",
      "REVENUE (KZT) - ДО фильтрации:\n",
      "count     5069.000000\n",
      "mean      4995.206767\n",
      "std       4916.752776\n",
      "min          0.000000\n",
      "25%        518.100000\n",
      "50%       3698.830000\n",
      "75%       7397.660000\n",
      "max      26425.860000\n",
      "Name: revenue, dtype: float64\n",
      "\n",
      "REVENUE (KZT) - ПОСЛЕ фильтрации:\n",
      "count     5040.000000\n",
      "mean      4893.669063\n",
      "std       4742.680176\n",
      "min          0.000000\n",
      "25%        515.350000\n",
      "50%       3698.830000\n",
      "75%       7397.660000\n",
      "max      17617.240000\n",
      "Name: revenue, dtype: float64\n"
     ]
    },
    {
     "data": {
      "image/png": "[encoded data removed]",
      "text/plain": [
       "<Figure size 1080x432 with 2 Axes>"
      ]
     },
     "metadata": {
      "needs_background": "light"
     },
     "output_type": "display_data"
    }
   ],
   "source": [
    "# Сравним статистики до и после фильтрации\n",
    "print(\"\\n\" + \"=\"*50)\n",
    "print(\"СРАВНЕНИЕ СТАТИСТИК ДО И ПОСЛЕ ФИЛЬТРАЦИИ\")\n",
    "print(\"=\"*50)\n",
    "\n",
    "print(\"REVENUE (RUB) - ДО фильтрации:\")\n",
    "print(rub_data['revenue'].describe())\n",
    "\n",
    "print(\"\\nREVENUE (RUB) - ПОСЛЕ фильтрации:\")\n",
    "print(filtered_rub_data['revenue'].describe())\n",
    "\n",
    "if kzt_data is not None:\n",
    "    print(\"\\nREVENUE (KZT) - ДО фильтрации:\")\n",
    "    print(kzt_data['revenue'].describe())\n",
    "    \n",
    "    print(\"\\nREVENUE (KZT) - ПОСЛЕ фильтрации:\")\n",
    "    print(filtered_kzt_data['revenue'].describe())\n",
    "\n",
    "# Визуализация сравнения\n",
    "fig, axes = plt.subplots(1, 2, figsize=(15, 6))\n",
    "\n",
    "# До фильтрации\n",
    "axes[0].boxplot([rub_data['revenue']] + ([kzt_data['revenue']] if kzt_data is not None else []))\n",
    "axes[0].set_title('Revenue до фильтрации')\n",
    "axes[0].set_ylabel('Выручка')\n",
    "labels = ['RUB'] + (['KZT'] if kzt_data is not None else [])\n",
    "axes[0].set_xticklabels(labels)\n",
    "\n",
    "# После фильтрации\n",
    "axes[1].boxplot([filtered_rub_data['revenue']] + ([filtered_kzt_data['revenue']] if kzt_data is not None else []))\n",
    "axes[1].set_title('Revenue после фильтрации (99% перцентиль)')\n",
    "axes[1].set_ylabel('Выручка')\n",
    "axes[1].set_xticklabels(labels)\n",
    "\n",
    "plt.tight_layout()\n",
    "plt.show()"
   ]
  },
  {
   "cell_type": "markdown",
   "metadata": {},
   "source": [
    "Распределение по валютам:\n",
    "   * RUB: 285780 записей (98.3%)\n",
    "   * KZT: 5069 записей (1.7%)\n",
    "\n",
    "Анализ выбросов в revenue:\n",
    "   * Порог для RUB: 2569.59 рублей\n",
    "   * Выбросов RUB: 2858 записей\n",
    "   * Порог для KZT: 17617.24 тенге\n",
    "   * Выбросов KZT: 29 записей\n",
    "\n",
    "Результаты фильтрации:\n",
    "   * Сохранено записей: 287962 (99.0% от исходных)\n",
    "   * Удалено выбросов: 2887\n",
    "\n",
    "Анализ tickets_count:\n",
    "   * Среднее количество билетов: 2.75\n",
    "   * Максимальное количество билетов: 57\n",
    "   * Выбросы (>99%): 188 записей"
   ]
  },
  {
   "cell_type": "code",
   "execution_count": 18,
   "metadata": {},
   "outputs": [
    {
     "name": "stdout",
     "output_type": "stream",
     "text": [
      "ПРОВЕРКА ЯВНЫХ ДУБЛИКАТОВ\n",
      "==================================================\n",
      "Полных дубликатов строк: 0\n",
      "\n",
      "Проверка уникальности order_id:\n",
      "Всего заказов: 290849\n",
      "Всего строк: 290849\n",
      "Дубликатов order_id: 0\n"
     ]
    }
   ],
   "source": [
    "# Проверим полные дубликаты строк\n",
    "print(\"ПРОВЕРКА ЯВНЫХ ДУБЛИКАТОВ\")\n",
    "print(\"=\"*50)\n",
    "\n",
    "total_duplicates = merged_df.duplicated().sum()\n",
    "print(f\"Полных дубликатов строк: {total_duplicates}\")\n",
    "\n",
    "if total_duplicates > 0:\n",
    "    print(\"Примеры дубликатов:\")\n",
    "    duplicate_rows = merged_df[merged_df.duplicated(keep=False)]\n",
    "    print(duplicate_rows.head(10))\n",
    "\n",
    "# Проверим дубликаты по order_id (должен быть уникальным)\n",
    "print(f\"\\nПроверка уникальности order_id:\")\n",
    "print(f\"Всего заказов: {merged_df['order_id'].nunique()}\")\n",
    "print(f\"Всего строк: {len(merged_df)}\")\n",
    "print(f\"Дубликатов order_id: {len(merged_df) - merged_df['order_id'].nunique()}\")\n",
    "\n",
    "if len(merged_df) != merged_df['order_id'].nunique():\n",
    "    duplicate_orders = merged_df[merged_df.duplicated(subset=['order_id'], keep=False)]\n",
    "    print(f\"\\nНайдены дубликаты order_id. Примеры:\")\n",
    "    print(duplicate_orders.sort_values('order_id').head(10))"
   ]
  },
  {
   "cell_type": "code",
   "execution_count": 19,
   "metadata": {},
   "outputs": [
    {
     "data": {
      "text/plain": [
       "order_id                      0\n",
       "user_id                       0\n",
       "created_dt_msk                0\n",
       "created_ts_msk                0\n",
       "event_id                      0\n",
       "cinema_circuit                0\n",
       "age_limit                     0\n",
       "currency_code                 0\n",
       "device_type_canonical         0\n",
       "revenue                       0\n",
       "service_name                  0\n",
       "tickets_count                 0\n",
       "total                         0\n",
       "days_since_prev           21940\n",
       "event_name                  238\n",
       "event_type_description      238\n",
       "event_type_main             238\n",
       "organizers                  238\n",
       "region_name                 238\n",
       "city_name                   238\n",
       "city_id                     238\n",
       "venue_id                    238\n",
       "venue_name                  238\n",
       "venue_address               238\n",
       "dtype: int64"
      ]
     },
     "execution_count": 19,
     "metadata": {},
     "output_type": "execute_result"
    }
   ],
   "source": [
    "merged_df.isnull().sum()"
   ]
  },
  {
   "cell_type": "code",
   "execution_count": 20,
   "metadata": {},
   "outputs": [
    {
     "name": "stdout",
     "output_type": "stream",
     "text": [
      "\n",
      "ПОИСК НЕЯВНЫХ ДУБЛИКАТОВ БРОНИРОВАНИЙ\n",
      "==================================================\n",
      "Ключевые параметры для поиска дубликатов: ['user_id', 'created_dt_msk', 'created_ts_msk', 'event_id', 'event_name', 'cinema_circuit', 'age_limit', 'currency_code', 'venue_id', 'venue_name', 'venue_address', 'revenue', 'city_name', 'city_id', 'tickets_count', 'device_type_canonical', 'service_name', 'total', 'days_since_prev', 'event_type_description', 'event_type_main', 'organizers', 'region_name']\n",
      "Найдено потенциальных дубликатов бронирований: 58\n",
      "Уникальных комбинаций дубликатов: 30\n",
      "\n",
      "Группы дубликатов (более 1 записи): 28\n",
      "           user_id created_dt_msk       created_ts_msk  event_id  \\\n",
      "0  06eb7897f65b433     2024-08-13  2024-08-13 16:31:07    183706   \n",
      "1  2564e3703075008     2024-10-30  2024-10-30 10:04:15    589005   \n",
      "2  3ee7dc2e115847f     2024-06-25  2024-06-25 07:32:08    277504   \n",
      "3  7b525118ae656af     2024-10-28  2024-10-28 08:33:04    588203   \n",
      "4  7eb4fc207ecc10f     2024-08-23  2024-08-23 14:08:19    298035   \n",
      "5  7eb4fc207ecc10f     2024-09-21  2024-09-21 11:43:58    448579   \n",
      "6  7eb4fc207ecc10f     2024-10-26  2024-10-26 09:39:03    418836   \n",
      "7  8d6c1ff89fac35f     2024-10-31  2024-10-31 22:28:57    589624   \n",
      "8  8f95286aa5fd8d7     2024-06-20  2024-06-20 10:57:19    244875   \n",
      "9  9103be7b790235f     2024-08-03  2024-08-03 15:01:56    410465   \n",
      "\n",
      "                             event_name cinema_circuit  age_limit  \\\n",
      "0  69796237-909b-42a7-bfb5-c1b8574c4c76            нет         18   \n",
      "1  bee8d0cc-282b-492e-9ed8-ec0990f43ffd            нет          6   \n",
      "2  dcb6fe75-8502-480d-b8a2-6bee187cb7ee            нет          6   \n",
      "3  88478781-0311-42e3-b0ea-d4d6a171b70a            нет          0   \n",
      "4  09164a56-0fb3-43c7-91d3-8ed22bb3d8ef            нет          6   \n",
      "5  a751c430-d352-44d7-99a0-29e97193eba5            нет          0   \n",
      "6  a4478837-4631-4e28-95d7-a4c26751a232            нет          0   \n",
      "7  c9eb1fa4-257b-4290-975a-7fe34b46d11b            нет         16   \n",
      "8  61f8b9bd-a66f-4cd9-ae10-a0e62e923476            нет          0   \n",
      "9  ca2f9e9a-313d-404b-9c35-074e7a238df7            нет          0   \n",
      "\n",
      "  currency_code  venue_id                                         venue_name  \\\n",
      "0           rub    4443.0  Центр культурного наследия \"Объединение\" и пар...   \n",
      "1           rub    1656.0                    Модная академия \"Пункт\" Лимитед   \n",
      "2           rub    3094.0         Сообщество художников \"Палитра\" и партнеры   \n",
      "3           rub    2155.0                        Клуб моделей \"Гармония\" Инк   \n",
      "4           rub    2795.0  Клуб исторических реконструкций \"Логос\" и парт...   \n",
      "5           rub    4607.0               Команда артистов \"Светлячок\" Лимитед   \n",
      "6           rub    4481.0           Школа сценического мастерства \"Вдох\" Лтд   \n",
      "7           rub    1365.0                  Картинная галерея \"Светлячок\" Лтд   \n",
      "8           rub    2492.0            Кинофестиваль \"Хранитель\" Инкорпорэйтед   \n",
      "9           rub    3391.0                 Театральные мастерские \"Сюжет\" Инк   \n",
      "\n",
      "   ... tickets_count  device_type_canonical        service_name    total  \\\n",
      "0  ...             1                 mobile       Билеты в руки   997.48   \n",
      "1  ...             2                 mobile         Лови билет!   280.81   \n",
      "2  ...             3                 mobile       Билеты в руки   739.85   \n",
      "3  ...             4                 mobile       Лучшие билеты   674.12   \n",
      "4  ...             1                 mobile  Билеты без проблем  3170.95   \n",
      "5  ...             1                 mobile         Лови билет!    84.82   \n",
      "6  ...             3                 mobile         Лови билет!  4914.21   \n",
      "7  ...             1                desktop           Мой билет  1045.75   \n",
      "8  ...             3                 mobile         Лови билет!   524.39   \n",
      "9  ...             2                 mobile           Мой билет  5709.34   \n",
      "\n",
      "   days_since_prev event_type_description event_type_main  organizers  \\\n",
      "0              0.0              спектакль           театр       №1482   \n",
      "1              0.0               выставка          другое       №1810   \n",
      "2              0.0                событие        выставки       №5015   \n",
      "3              0.0                  спорт           спорт       №1503   \n",
      "4              0.0                событие          другое       №4403   \n",
      "5              0.0                  спорт           спорт       №1622   \n",
      "6              0.0           цирковое шоу          другое       №1703   \n",
      "7              0.0                концерт        концерты       №2121   \n",
      "8              0.0               выставка          другое       №3906   \n",
      "9              0.0                    шоу          другое       №3287   \n",
      "\n",
      "            region_name count  \n",
      "0  Светополянский округ     2  \n",
      "1   Яблоневская область     2  \n",
      "2     Нежинская область     2  \n",
      "3  Чистогорская область     2  \n",
      "4  Североярская область     3  \n",
      "5  Североярская область     2  \n",
      "6  Тепляковская область     2  \n",
      "7    Каменевский регион     2  \n",
      "8   Каменноозёрный край     2  \n",
      "9    Каменевский регион     2  \n",
      "\n",
      "[10 rows x 24 columns]\n"
     ]
    }
   ],
   "source": [
    "# Определим ключевые параметры для идентификации дубликатов бронирований\n",
    "booking_columns = ['user_id','created_dt_msk','created_ts_msk', 'event_id','event_name','cinema_circuit','age_limit','currency_code', 'venue_id', 'venue_name','venue_address','revenue','city_name','city_id','tickets_count','device_type_canonical','service_name','total','days_since_prev','event_type_description','event_type_main','organizers','region_name']\n",
    "\n",
    "print(\"\\nПОИСК НЕЯВНЫХ ДУБЛИКАТОВ БРОНИРОВАНИЙ\")\n",
    "print(\"=\"*50)\n",
    "print(\"Ключевые параметры для поиска дубликатов:\", booking_columns)\n",
    "\n",
    "# Поиск потенциальных дубликатов бронирований\n",
    "potential_duplicates = merged_df[merged_df.duplicated(subset=booking_columns, keep=False)]\n",
    "print(f\"Найдено потенциальных дубликатов бронирований: {len(potential_duplicates)}\")\n",
    "\n",
    "if len(potential_duplicates) > 0:\n",
    "    print(f\"Уникальных комбинаций дубликатов: {potential_duplicates.duplicated(subset=booking_columns).sum()}\")\n",
    "    \n",
    "    # Сгруппируем по ключевым параметрам для анализа\n",
    "    duplicate_groups = potential_duplicates.groupby(booking_columns).size().reset_index(name='count')\n",
    "    duplicate_groups = duplicate_groups[duplicate_groups['count'] > 1]\n",
    "    \n",
    "    print(f\"\\nГруппы дубликатов (более 1 записи): {len(duplicate_groups)}\")\n",
    "    print(duplicate_groups.head(10))"
   ]
  },
  {
   "cell_type": "markdown",
   "metadata": {},
   "source": [
    "В целом проверены по всем признакам кроме order id, как и указано в задании \"Сделайте акцент на неявных дубликатах по бронированию билета без учёта идентификаторов заказа\"\n",
    "Почему были выбраны именны эти поля, так как в других имеются частые повторы из-за того что они больше категорийные. \n",
    "Например у нас всего 2 валюты и коненчо там будет множество дублей\n"
   ]
  },
  {
   "cell_type": "code",
   "execution_count": 21,
   "metadata": {},
   "outputs": [
    {
     "name": "stdout",
     "output_type": "stream",
     "text": [
      "\n",
      "ПРЕОБРАЗОВАНИЕ ДАТ И ВРЕМЕНИ\n",
      "==================================================\n",
      "\n",
      "Анализ created_dt_msk:\n",
      "Тип: object\n",
      "Примеры: ['2024-08-20', '2024-07-23', '2024-10-06']\n",
      "Пропуски: 0\n",
      "\n",
      "Анализ created_ts_msk:\n",
      "Тип: object\n",
      "Примеры: ['2024-08-20 16:08:03', '2024-07-23 18:36:24', '2024-10-06 13:56:02']\n",
      "Пропуски: 0\n",
      "created_dt_msk преобразован в datetime\n",
      "created_ts_msk преобразован в datetime\n",
      "Созданы дополнительные временные признаки\n",
      "\n",
      "Результат преобразования дат:\n",
      "created_dt_msk: datetime64[ns]\n",
      "Диапазон: 2024-06-01 00:00:00 - 2024-10-31 00:00:00\n",
      "created_ts_msk: datetime64[ns]\n",
      "Диапазон: 2024-06-01 00:00:42 - 2024-10-31 23:59:54\n"
     ]
    }
   ],
   "source": [
    "print(\"\\nПРЕОБРАЗОВАНИЕ ДАТ И ВРЕМЕНИ\")\n",
    "print(\"=\"*50)\n",
    "\n",
    "# Анализ форматов дат\n",
    "date_time_columns = ['created_dt_msk', 'created_ts_msk']\n",
    "for col in date_time_columns:\n",
    "    if col in merged_df.columns:\n",
    "        print(f\"\\nАнализ {col}:\")\n",
    "        print(f\"Тип: {merged_df[col].dtype}\")\n",
    "        print(f\"Примеры: {merged_df[col].head(3).tolist()}\")\n",
    "        print(f\"Пропуски: {merged_df[col].isnull().sum()}\")\n",
    "\n",
    "# Преобразование в правильные типы datetime\n",
    "def optimize_datetime_types(df):\n",
    "    df_optimized = df.copy()\n",
    "    \n",
    "    # Преобразование created_dt_msk в date\n",
    "    if 'created_dt_msk' in df_optimized.columns:\n",
    "        df_optimized['created_dt_msk'] = pd.to_datetime(df_optimized['created_dt_msk'], errors='coerce')\n",
    "        print(f\"created_dt_msk преобразован в datetime\")\n",
    "    \n",
    "    # Преобразование created_ts_msk в datetime\n",
    "    if 'created_ts_msk' in df_optimized.columns:\n",
    "        df_optimized['created_ts_msk'] = pd.to_datetime(df_optimized['created_ts_msk'], errors='coerce')\n",
    "        print(f\"created_ts_msk преобразован в datetime\")\n",
    "    \n",
    "    # Создание дополнительных временных признаков\n",
    "    if 'created_ts_msk' in df_optimized.columns:\n",
    "        df_optimized['created_year'] = df_optimized['created_ts_msk'].dt.year\n",
    "        df_optimized['created_month'] = df_optimized['created_ts_msk'].dt.month\n",
    "        df_optimized['created_day'] = df_optimized['created_ts_msk'].dt.day\n",
    "        df_optimized['created_hour'] = df_optimized['created_ts_msk'].dt.hour\n",
    "        df_optimized['created_dayofweek'] = df_optimized['created_ts_msk'].dt.dayofweek\n",
    "        df_optimized['created_week'] = df_optimized['created_ts_msk'].dt.isocalendar().week\n",
    "        \n",
    "        print(\"Созданы дополнительные временные признаки\")\n",
    "    \n",
    "    return df_optimized\n",
    "\n",
    "# Применяем преобразование\n",
    "merged_df_optimized = optimize_datetime_types(merged_df)\n",
    "\n",
    "# Проверяем результат\n",
    "print(\"\\nРезультат преобразования дат:\")\n",
    "for col in date_time_columns:\n",
    "    if col in merged_df_optimized.columns:\n",
    "        print(f\"{col}: {merged_df_optimized[col].dtype}\")\n",
    "        print(f\"Диапазон: {merged_df_optimized[col].min()} - {merged_df_optimized[col].max()}\")"
   ]
  },
  {
   "cell_type": "code",
   "execution_count": 22,
   "metadata": {},
   "outputs": [
    {
     "name": "stdout",
     "output_type": "stream",
     "text": [
      "\n",
      "ОПТИМИЗАЦИЯ ЧИСЛОВЫХ ТИПОВ\n",
      "==================================================\n",
      "Оптимизация числовых колонок:\n",
      "  order_id                  | int64 -> <class 'numpy.uint32'> | Экономия:  25.0%\n",
      "  event_id                  | int64 -> <class 'numpy.uint32'> | Экономия:  25.0%\n",
      "  age_limit                 | int64 -> <class 'numpy.uint8'> | Экономия:  43.8%\n",
      "  revenue                   | float64 -> <class 'numpy.float32'> | Экономия:  25.0%\n",
      "  tickets_count             | int64 -> <class 'numpy.uint8'> | Экономия:  43.8%\n",
      "  total                     | float64 -> <class 'numpy.float32'> | Экономия:  25.0%\n",
      "  days_since_prev           | float64 -> <class 'numpy.float16'> | Экономия:  37.5%\n",
      "  city_id                   | float64 -> <class 'numpy.float16'> | Экономия:  37.5%\n",
      "  venue_id                  | float64 -> <class 'numpy.float16'> | Экономия:  37.5%\n",
      "  created_year              | int64 -> <class 'numpy.uint16'> | Экономия:  37.5%\n",
      "  created_month             | int64 -> <class 'numpy.uint8'> | Экономия:  43.8%\n",
      "  created_day               | int64 -> <class 'numpy.uint8'> | Экономия:  43.8%\n",
      "  created_hour              | int64 -> <class 'numpy.uint8'> | Экономия:  43.8%\n",
      "  created_dayofweek         | int64 -> <class 'numpy.uint8'> | Экономия:  43.8%\n",
      "  created_week              | UInt32 -> <class 'numpy.uint8'> | Экономия:  30.8%\n"
     ]
    }
   ],
   "source": [
    "print(\"\\nОПТИМИЗАЦИЯ ЧИСЛОВЫХ ТИПОВ\")\n",
    "print(\"=\"*50)\n",
    "\n",
    "def optimize_numeric_types(df):\n",
    "    df_opt = df.copy()\n",
    "    numeric_columns = df_opt.select_dtypes(include=[np.number]).columns\n",
    "    \n",
    "    print(\"Оптимизация числовых колонок:\")\n",
    "    for col in numeric_columns:\n",
    "        original_dtype = df_opt[col].dtype\n",
    "        original_memory = df_opt[col].memory_usage(deep=True) / 1024  # KB\n",
    "        \n",
    "        # Пропуски заполняем специальным значением перед оптимизацией\n",
    "        col_series = df_opt[col].fillna(-1) if df_opt[col].isnull().any() else df_opt[col]\n",
    "        \n",
    "        # Определяем оптимальный тип\n",
    "        if col_series.dtype.kind in 'iuf':  # integer, unsigned, float\n",
    "            col_min = col_series.min()\n",
    "            col_max = col_series.max()\n",
    "            \n",
    "            if col_series.dtype.kind == 'f':  # float\n",
    "                # Для float пытаемся преобразовать в float32\n",
    "                if np.isfinite(col_min) and np.isfinite(col_max):\n",
    "                    if col_min >= np.finfo(np.float16).min and col_max <= np.finfo(np.float16).max:\n",
    "                        new_dtype = np.float16\n",
    "                    elif col_min >= np.finfo(np.float32).min and col_max <= np.finfo(np.float32).max:\n",
    "                        new_dtype = np.float32\n",
    "                    else:\n",
    "                        new_dtype = np.float64\n",
    "            else:  # integer\n",
    "                # Для integer подбираем минимальный подходящий тип\n",
    "                if col_min >= 0:  # unsigned\n",
    "                    if col_max <= np.iinfo(np.uint8).max:\n",
    "                        new_dtype = np.uint8\n",
    "                    elif col_max <= np.iinfo(np.uint16).max:\n",
    "                        new_dtype = np.uint16\n",
    "                    elif col_max <= np.iinfo(np.uint32).max:\n",
    "                        new_dtype = np.uint32\n",
    "                    else:\n",
    "                        new_dtype = np.uint64\n",
    "                else:  # signed\n",
    "                    if col_min >= np.iinfo(np.int8).min and col_max <= np.iinfo(np.int8).max:\n",
    "                        new_dtype = np.int8\n",
    "                    elif col_min >= np.iinfo(np.int16).min and col_max <= np.iinfo(np.int16).max:\n",
    "                        new_dtype = np.int16\n",
    "                    elif col_min >= np.iinfo(np.int32).min and col_max <= np.iinfo(np.int32).max:\n",
    "                        new_dtype = np.int32\n",
    "                    else:\n",
    "                        new_dtype = np.int64\n",
    "            \n",
    "            # Применяем преобразование если есть выигрыш\n",
    "            if new_dtype != original_dtype:\n",
    "                df_opt[col] = df_opt[col].astype(new_dtype)\n",
    "                new_memory = df_opt[col].memory_usage(deep=True) / 1024\n",
    "                savings = (original_memory - new_memory) / original_memory * 100\n",
    "                print(f\"  {col:25} | {original_dtype} -> {new_dtype} | Экономия: {savings:5.1f}%\")\n",
    "    \n",
    "    return df_opt\n",
    "\n",
    "# Применяем оптимизацию\n",
    "merged_df_optimized = optimize_numeric_types(merged_df_optimized)"
   ]
  },
  {
   "cell_type": "code",
   "execution_count": 23,
   "metadata": {},
   "outputs": [
    {
     "name": "stdout",
     "output_type": "stream",
     "text": [
      "\n",
      "Курс 1 тенге к рублю: в диапазоне 0.1785 - 0.2194\n"
     ]
    }
   ],
   "source": [
    "# Преобразуем дату в правильный формат\n",
    "final_tickets_tenge['data'] = pd.to_datetime(final_tickets_tenge['data'])\n",
    "# Рассчитаем курс для 1 тенге (в данных курс указан для 100 тенге)\n",
    "final_tickets_tenge['curs_per_unit'] = final_tickets_tenge['curs'] / final_tickets_tenge['nominal']\n",
    "print(f\"\\nКурс 1 тенге к рублю: в диапазоне {final_tickets_tenge['curs_per_unit'].min():.4f} - {final_tickets_tenge['curs_per_unit'].max():.4f}\")"
   ]
  },
  {
   "cell_type": "code",
   "execution_count": 24,
   "metadata": {},
   "outputs": [
    {
     "name": "stdout",
     "output_type": "stream",
     "text": [
      "БАЗОВАЯ ИНФОРМАЦИЯ О ДАННЫХ:\n",
      "Размер данных: (290849, 24)\n",
      "Валюты в данных: {'rub': 285780, 'kzt': 5069}\n"
     ]
    }
   ],
   "source": [
    "# Преобразуем даты в правильный формат если еще не сделано\n",
    "if 'created_dt_msk' in merged_df.columns and merged_df['created_dt_msk'].dtype == 'object':\n",
    "    merged_df['created_dt_msk'] = pd.to_datetime(merged_df['created_dt_msk'])\n",
    "\n",
    "if 'created_ts_msk' in merged_df.columns and merged_df['created_ts_msk'].dtype == 'object':\n",
    "    merged_df['created_ts_msk'] = pd.to_datetime(merged_df['created_ts_msk'])\n",
    "\n",
    "print(\"БАЗОВАЯ ИНФОРМАЦИЯ О ДАННЫХ:\")\n",
    "print(f\"Размер данных: {merged_df.shape}\")\n",
    "print(f\"Валюты в данных: {merged_df['currency_code'].value_counts().to_dict()}\")"
   ]
  },
  {
   "cell_type": "code",
   "execution_count": 25,
   "metadata": {},
   "outputs": [
    {
     "name": "stdout",
     "output_type": "stream",
     "text": [
      "   order_id          user_id created_dt_msk      created_ts_msk  event_id  \\\n",
      "0   4359165  0002849b70a3ce2     2024-08-20 2024-08-20 16:08:03    169230   \n",
      "1   7965605  0005ca5e93f2cf4     2024-07-23 2024-07-23 18:36:24    237325   \n",
      "2   7292370  0005ca5e93f2cf4     2024-10-06 2024-10-06 13:56:02    578454   \n",
      "3   1139875  000898990054619     2024-07-13 2024-07-13 19:40:48    387271   \n",
      "4    972400  000898990054619     2024-10-04 2024-10-04 22:33:15    509453   \n",
      "\n",
      "  cinema_circuit  age_limit currency_code device_type_canonical  revenue  ...  \\\n",
      "0            нет         16           rub                mobile  1521.94  ...   \n",
      "1            нет          0           rub                mobile   289.45  ...   \n",
      "2            нет          0           rub                mobile  1258.57  ...   \n",
      "3            нет          0           rub                mobile     8.49  ...   \n",
      "4            нет         18           rub                mobile  1390.41  ...   \n",
      "\n",
      "            region_name    city_name  city_id  venue_id  \\\n",
      "0    Каменевский регион   Глиногорск    213.0    3972.0   \n",
      "1    Каменевский регион   Глиногорск    213.0    2941.0   \n",
      "2    Каменевский регион   Глиногорск    213.0    4507.0   \n",
      "3  Североярская область       Озёрск      2.0    3574.0   \n",
      "4      Озернинский край  Родниковецк    240.0    1896.0   \n",
      "\n",
      "                                      venue_name  \\\n",
      "0               Сценический центр \"Деталь\" Групп   \n",
      "1      Музыкальная школа для детей \"Аккаунт\" Лтд   \n",
      "2                 Училище искусств \"Нирвана\" Инк   \n",
      "3  Театр альтернативного искусства \"Ода\" Лимитед   \n",
      "4               Театр кукол \"Огни\" Инкорпорэйтед   \n",
      "\n",
      "                         venue_address nominal     curs  cdx curs_per_unit  \n",
      "0  алл. Машиностроителей, д. 19 стр. 6     100  18.6972  kzt      0.186972  \n",
      "1             алл. Шмидта, д. 9 стр. 4     100  18.3419  kzt      0.183419  \n",
      "2               алл. Юбилейная, д. 5/6     100  19.6475  kzt      0.196475  \n",
      "3          алл. Есенина, д. 243 к. 3/8     100  18.5010  kzt      0.185010  \n",
      "4         ш. Набережное, д. 595 стр. 8     100  19.6648  kzt      0.196648  \n",
      "\n",
      "[5 rows x 28 columns]\n"
     ]
    }
   ],
   "source": [
    "# Простое объединение по дате\n",
    "result_df = merged_df.merge(\n",
    "    final_tickets_tenge.rename(columns={'data': 'created_dt_msk'}), \n",
    "    on='created_dt_msk', \n",
    "    how='left'\n",
    ")\n",
    "\n",
    "print(result_df.head(5))"
   ]
  },
  {
   "cell_type": "code",
   "execution_count": 26,
   "metadata": {},
   "outputs": [
    {
     "name": "stdout",
     "output_type": "stream",
     "text": [
      "\n",
      "СОЗДАНИЕ СТОЛБЦА REVENUE_RUB\n",
      "==================================================\n",
      "Записей с найденным курсом валют: 290849\n",
      "Записей без курса валют: 0\n",
      "\n",
      "ПРОВЕРКА КОНВЕРТАЦИИ:\n",
      "Статистика по revenue_rub:\n",
      "count    290849.000000\n",
      "mean        555.127972\n",
      "std         875.278177\n",
      "min         -90.760000\n",
      "25%         113.340000\n",
      "50%         350.260000\n",
      "75%         802.050000\n",
      "max       81174.540000\n",
      "Name: revenue_rub, dtype: float64\n",
      "\n",
      "Сравнение по валютам:\n",
      "rub: 285780 записей, средняя выручка в рублях: 547.57\n",
      "kzt: 5069 записей, средняя выручка в рублях: 981.33\n"
     ]
    }
   ],
   "source": [
    "print(\"\\nСОЗДАНИЕ СТОЛБЦА REVENUE_RUB\")\n",
    "print(\"=\"*50)\n",
    "\n",
    "\n",
    "# Проверяем успешность объединения\n",
    "print(f\"Записей с найденным курсом валют: {result_df['curs_per_unit'].notna().sum()}\")\n",
    "print(f\"Записей без курса валют: {result_df['curs_per_unit'].isna().sum()}\")\n",
    "\n",
    "\n",
    "# Создаем столбец revenue_rub\n",
    "def convert_to_rub(row):\n",
    "    if row['currency_code'] == 'kzt':\n",
    "        return row['revenue'] * row['curs_per_unit']\n",
    "    elif row['currency_code'] == 'rub':\n",
    "        return row['revenue']\n",
    "\n",
    "\n",
    "result_df['revenue_rub'] = result_df.apply(convert_to_rub, axis=1)\n",
    "\n",
    "# Проверяем результат\n",
    "print(f\"\\nПРОВЕРКА КОНВЕРТАЦИИ:\")\n",
    "print(\"Статистика по revenue_rub:\")\n",
    "print(result_df['revenue_rub'].describe())\n",
    "\n",
    "# Сравним исходную выручку и конвертированную\n",
    "print(f\"\\nСравнение по валютам:\")\n",
    "for currency in result_df['currency_code'].unique():\n",
    "    currency_data = result_df[result_df['currency_code'] == currency]\n",
    "    print(f\"{currency}: {len(currency_data)} записей, средняя выручка в рублях: {currency_data['revenue_rub'].mean():.2f}\")"
   ]
  },
  {
   "cell_type": "code",
   "execution_count": 27,
   "metadata": {},
   "outputs": [
    {
     "name": "stdout",
     "output_type": "stream",
     "text": [
      "Статистика по one_ticket_revenue_rub:\n",
      "count    290849.000000\n",
      "mean        201.028608\n",
      "std         302.781404\n",
      "min         -18.152000\n",
      "25%          46.635000\n",
      "50%         149.460000\n",
      "75%         308.700000\n",
      "max       21757.540000\n",
      "Name: one_ticket_revenue_rub, dtype: float64\n"
     ]
    }
   ],
   "source": [
    "# Рассчитываем выручку с одного билета\n",
    "result_df['one_ticket_revenue_rub'] = result_df['revenue_rub'] / result_df['tickets_count']\n",
    "    \n",
    "print(\"Статистика по one_ticket_revenue_rub:\")\n",
    "print(result_df['one_ticket_revenue_rub'].describe())"
   ]
  },
  {
   "cell_type": "code",
   "execution_count": 28,
   "metadata": {},
   "outputs": [],
   "source": [
    "result_df['month'] = result_df['created_ts_msk'].dt.month"
   ]
  },
  {
   "cell_type": "code",
   "execution_count": 29,
   "metadata": {},
   "outputs": [
    {
     "data": {
      "text/html": [
       "<div>\n",
       "<style scoped>\n",
       "    .dataframe tbody tr th:only-of-type {\n",
       "        vertical-align: middle;\n",
       "    }\n",
       "\n",
       "    .dataframe tbody tr th {\n",
       "        vertical-align: top;\n",
       "    }\n",
       "\n",
       "    .dataframe thead th {\n",
       "        text-align: right;\n",
       "    }\n",
       "</style>\n",
       "<table border=\"1\" class=\"dataframe\">\n",
       "  <thead>\n",
       "    <tr style=\"text-align: right;\">\n",
       "      <th></th>\n",
       "      <th>order_id</th>\n",
       "      <th>user_id</th>\n",
       "      <th>created_dt_msk</th>\n",
       "      <th>created_ts_msk</th>\n",
       "      <th>event_id</th>\n",
       "      <th>cinema_circuit</th>\n",
       "      <th>age_limit</th>\n",
       "      <th>currency_code</th>\n",
       "      <th>device_type_canonical</th>\n",
       "      <th>revenue</th>\n",
       "      <th>...</th>\n",
       "      <th>venue_name</th>\n",
       "      <th>venue_address</th>\n",
       "      <th>nominal</th>\n",
       "      <th>curs</th>\n",
       "      <th>cdx</th>\n",
       "      <th>curs_per_unit</th>\n",
       "      <th>revenue_rub</th>\n",
       "      <th>one_ticket_revenue_rub</th>\n",
       "      <th>month</th>\n",
       "      <th>season</th>\n",
       "    </tr>\n",
       "  </thead>\n",
       "  <tbody>\n",
       "    <tr>\n",
       "      <th>0</th>\n",
       "      <td>4359165</td>\n",
       "      <td>0002849b70a3ce2</td>\n",
       "      <td>2024-08-20</td>\n",
       "      <td>2024-08-20 16:08:03</td>\n",
       "      <td>169230</td>\n",
       "      <td>нет</td>\n",
       "      <td>16</td>\n",
       "      <td>rub</td>\n",
       "      <td>mobile</td>\n",
       "      <td>1521.94</td>\n",
       "      <td>...</td>\n",
       "      <td>Сценический центр \"Деталь\" Групп</td>\n",
       "      <td>алл. Машиностроителей, д. 19 стр. 6</td>\n",
       "      <td>100</td>\n",
       "      <td>18.6972</td>\n",
       "      <td>kzt</td>\n",
       "      <td>0.186972</td>\n",
       "      <td>1521.94</td>\n",
       "      <td>380.4850</td>\n",
       "      <td>8</td>\n",
       "      <td>лето</td>\n",
       "    </tr>\n",
       "    <tr>\n",
       "      <th>1</th>\n",
       "      <td>7965605</td>\n",
       "      <td>0005ca5e93f2cf4</td>\n",
       "      <td>2024-07-23</td>\n",
       "      <td>2024-07-23 18:36:24</td>\n",
       "      <td>237325</td>\n",
       "      <td>нет</td>\n",
       "      <td>0</td>\n",
       "      <td>rub</td>\n",
       "      <td>mobile</td>\n",
       "      <td>289.45</td>\n",
       "      <td>...</td>\n",
       "      <td>Музыкальная школа для детей \"Аккаунт\" Лтд</td>\n",
       "      <td>алл. Шмидта, д. 9 стр. 4</td>\n",
       "      <td>100</td>\n",
       "      <td>18.3419</td>\n",
       "      <td>kzt</td>\n",
       "      <td>0.183419</td>\n",
       "      <td>289.45</td>\n",
       "      <td>144.7250</td>\n",
       "      <td>7</td>\n",
       "      <td>лето</td>\n",
       "    </tr>\n",
       "    <tr>\n",
       "      <th>2</th>\n",
       "      <td>7292370</td>\n",
       "      <td>0005ca5e93f2cf4</td>\n",
       "      <td>2024-10-06</td>\n",
       "      <td>2024-10-06 13:56:02</td>\n",
       "      <td>578454</td>\n",
       "      <td>нет</td>\n",
       "      <td>0</td>\n",
       "      <td>rub</td>\n",
       "      <td>mobile</td>\n",
       "      <td>1258.57</td>\n",
       "      <td>...</td>\n",
       "      <td>Училище искусств \"Нирвана\" Инк</td>\n",
       "      <td>алл. Юбилейная, д. 5/6</td>\n",
       "      <td>100</td>\n",
       "      <td>19.6475</td>\n",
       "      <td>kzt</td>\n",
       "      <td>0.196475</td>\n",
       "      <td>1258.57</td>\n",
       "      <td>314.6425</td>\n",
       "      <td>10</td>\n",
       "      <td>осень</td>\n",
       "    </tr>\n",
       "    <tr>\n",
       "      <th>3</th>\n",
       "      <td>1139875</td>\n",
       "      <td>000898990054619</td>\n",
       "      <td>2024-07-13</td>\n",
       "      <td>2024-07-13 19:40:48</td>\n",
       "      <td>387271</td>\n",
       "      <td>нет</td>\n",
       "      <td>0</td>\n",
       "      <td>rub</td>\n",
       "      <td>mobile</td>\n",
       "      <td>8.49</td>\n",
       "      <td>...</td>\n",
       "      <td>Театр альтернативного искусства \"Ода\" Лимитед</td>\n",
       "      <td>алл. Есенина, д. 243 к. 3/8</td>\n",
       "      <td>100</td>\n",
       "      <td>18.5010</td>\n",
       "      <td>kzt</td>\n",
       "      <td>0.185010</td>\n",
       "      <td>8.49</td>\n",
       "      <td>4.2450</td>\n",
       "      <td>7</td>\n",
       "      <td>лето</td>\n",
       "    </tr>\n",
       "    <tr>\n",
       "      <th>4</th>\n",
       "      <td>972400</td>\n",
       "      <td>000898990054619</td>\n",
       "      <td>2024-10-04</td>\n",
       "      <td>2024-10-04 22:33:15</td>\n",
       "      <td>509453</td>\n",
       "      <td>нет</td>\n",
       "      <td>18</td>\n",
       "      <td>rub</td>\n",
       "      <td>mobile</td>\n",
       "      <td>1390.41</td>\n",
       "      <td>...</td>\n",
       "      <td>Театр кукол \"Огни\" Инкорпорэйтед</td>\n",
       "      <td>ш. Набережное, д. 595 стр. 8</td>\n",
       "      <td>100</td>\n",
       "      <td>19.6648</td>\n",
       "      <td>kzt</td>\n",
       "      <td>0.196648</td>\n",
       "      <td>1390.41</td>\n",
       "      <td>463.4700</td>\n",
       "      <td>10</td>\n",
       "      <td>осень</td>\n",
       "    </tr>\n",
       "  </tbody>\n",
       "</table>\n",
       "<p>5 rows × 32 columns</p>\n",
       "</div>"
      ],
      "text/plain": [
       "   order_id          user_id created_dt_msk      created_ts_msk  event_id  \\\n",
       "0   4359165  0002849b70a3ce2     2024-08-20 2024-08-20 16:08:03    169230   \n",
       "1   7965605  0005ca5e93f2cf4     2024-07-23 2024-07-23 18:36:24    237325   \n",
       "2   7292370  0005ca5e93f2cf4     2024-10-06 2024-10-06 13:56:02    578454   \n",
       "3   1139875  000898990054619     2024-07-13 2024-07-13 19:40:48    387271   \n",
       "4    972400  000898990054619     2024-10-04 2024-10-04 22:33:15    509453   \n",
       "\n",
       "  cinema_circuit  age_limit currency_code device_type_canonical  revenue  ...  \\\n",
       "0            нет         16           rub                mobile  1521.94  ...   \n",
       "1            нет          0           rub                mobile   289.45  ...   \n",
       "2            нет          0           rub                mobile  1258.57  ...   \n",
       "3            нет          0           rub                mobile     8.49  ...   \n",
       "4            нет         18           rub                mobile  1390.41  ...   \n",
       "\n",
       "                                      venue_name  \\\n",
       "0               Сценический центр \"Деталь\" Групп   \n",
       "1      Музыкальная школа для детей \"Аккаунт\" Лтд   \n",
       "2                 Училище искусств \"Нирвана\" Инк   \n",
       "3  Театр альтернативного искусства \"Ода\" Лимитед   \n",
       "4               Театр кукол \"Огни\" Инкорпорэйтед   \n",
       "\n",
       "                         venue_address  nominal     curs  cdx curs_per_unit  \\\n",
       "0  алл. Машиностроителей, д. 19 стр. 6      100  18.6972  kzt      0.186972   \n",
       "1             алл. Шмидта, д. 9 стр. 4      100  18.3419  kzt      0.183419   \n",
       "2               алл. Юбилейная, д. 5/6      100  19.6475  kzt      0.196475   \n",
       "3          алл. Есенина, д. 243 к. 3/8      100  18.5010  kzt      0.185010   \n",
       "4         ш. Набережное, д. 595 стр. 8      100  19.6648  kzt      0.196648   \n",
       "\n",
       "  revenue_rub one_ticket_revenue_rub month season  \n",
       "0     1521.94               380.4850     8   лето  \n",
       "1      289.45               144.7250     7   лето  \n",
       "2     1258.57               314.6425    10  осень  \n",
       "3        8.49                 4.2450     7   лето  \n",
       "4     1390.41               463.4700    10  осень  \n",
       "\n",
       "[5 rows x 32 columns]"
      ]
     },
     "execution_count": 29,
     "metadata": {},
     "output_type": "execute_result"
    }
   ],
   "source": [
    "def get_season(month):\n",
    "    \"\"\"Определяем сезон по месяцу\"\"\"\n",
    "    if month in [1, 2,12]:\n",
    "        return 'зима'\n",
    "    elif month in [3, 4, 5]:\n",
    "        return 'весна'\n",
    "    elif month in [6, 7, 8]:\n",
    "        return 'лето'\n",
    "    elif month in [9, 10, 11]:\n",
    "        return 'осень'\n",
    "    else:\n",
    "        return 'неизвестно'\n",
    "\n",
    "# Создаем столбец с сезоном\n",
    "result_df['season'] = result_df['month'].apply(get_season)\n",
    "result_df.head(5)"
   ]
  },
  {
   "cell_type": "markdown",
   "metadata": {},
   "source": [
    "* Был создан столбец revenue_rub, в котором были переведены все занчений к российской валюте\n",
    "* Так же был создан столбец one_ticket_revenue_rub о стоимсости одного билета\n",
    "* И создание разделение данных по сезонности"
   ]
  },
  {
   "cell_type": "markdown",
   "metadata": {},
   "source": [
    "## Исследовательский анализ данных"
   ]
  },
  {
   "cell_type": "markdown",
   "metadata": {},
   "source": [
    "### Анализ распределения заказов по сегментам и их сезонные изменения"
   ]
  },
  {
   "cell_type": "code",
   "execution_count": 30,
   "metadata": {},
   "outputs": [
    {
     "name": "stdout",
     "output_type": "stream",
     "text": [
      "\\ ДИНАМИКА ЗАКАЗОВ ПО МЕСЯЦАМ\n",
      "==================================================\n",
      "Количество заказов по месяцам:\n",
      "Июнь       | Заказов: 34683 | Выручка: 21,743,274 руб.\n",
      "Июль       | Заказов: 40925 | Выручка: 24,169,527 руб.\n",
      "Август     | Заказов: 45044 | Выручка: 26,752,873 руб.\n",
      "Сентябрь   | Заказов: 69976 | Выручка: 36,459,257 руб.\n",
      "Октябрь    | Заказов: 100221 | Выручка: 52,333,484 руб.\n"
     ]
    },
    {
     "data": {
      "image/png": "[encoded data removed]",
      "text/plain": [
       "<Figure size 1152x864 with 4 Axes>"
      ]
     },
     "metadata": {
      "needs_background": "light"
     },
     "output_type": "display_data"
    }
   ],
   "source": [
    "print(\"\\ ДИНАМИКА ЗАКАЗОВ ПО МЕСЯЦАМ\")\n",
    "print(\"=\"*50)\n",
    "\n",
    "# Группируем по месяцам\n",
    "monthly_orders = result_df.groupby('month').agg({\n",
    "    'order_id': 'count',\n",
    "    'revenue_rub': 'sum',\n",
    "    'one_ticket_revenue_rub': 'mean'\n",
    "}).reset_index()\n",
    "monthly_orders = monthly_orders.rename(columns={'order_id': 'order_count'})\n",
    "\n",
    "# Добавляем названия месяцев\n",
    "month_names = {\n",
    "    1: 'Январь', 2: 'Февраль', 3: 'Март', 4: 'Апрель', 5: 'Май', 6: 'Июнь',\n",
    "    7: 'Июль', 8: 'Август', 9: 'Сентябрь', 10: 'Октябрь', 11: 'Ноябрь', 12: 'Декабрь'\n",
    "}\n",
    "monthly_orders['month_name'] = monthly_orders['month'].map(month_names)\n",
    "\n",
    "print(\"Количество заказов по месяцам:\")\n",
    "for _, row in monthly_orders.iterrows():\n",
    "    print(f\"{row['month_name']:10} | Заказов: {row['order_count']:5} | Выручка: {row['revenue_rub']:,.0f} руб.\")\n",
    "\n",
    "# Визуализация динамики заказов\n",
    "fig, axes = plt.subplots(2, 2, figsize=(16, 12))\n",
    "\n",
    "# График 1: Количество заказов по месяцам\n",
    "axes[0, 0].plot(monthly_orders['month'], monthly_orders['order_count'], \n",
    "                marker='o', linewidth=2, markersize=8, color='#2E86AB')\n",
    "axes[0, 0].set_title('Динамика количества заказов по месяцам', fontsize=14, fontweight='bold')\n",
    "axes[0, 0].set_xlabel('Месяц')\n",
    "axes[0, 0].set_ylabel('Количество заказов')\n",
    "axes[0, 0].set_xticks(monthly_orders['month'])\n",
    "axes[0, 0].set_xticklabels(monthly_orders['month_name'], rotation=45)\n",
    "axes[0, 0].grid(True, alpha=0.3)\n",
    "\n",
    "# Подсветка летнего и осеннего периодов\n",
    "summer_months = [6, 7, 8]\n",
    "autumn_months = [9, 10, 11]\n",
    "\n",
    "for month in summer_months:\n",
    "    if month in monthly_orders['month'].values:\n",
    "        idx = monthly_orders[monthly_orders['month'] == month].index[0]\n",
    "        axes[0, 0].axvspan(month-0.4, month+0.4, alpha=0.2, color='yellow', label='Лето' if month == 6 else \"\")\n",
    "\n",
    "for month in autumn_months:\n",
    "    if month in monthly_orders['month'].values:\n",
    "        idx = monthly_orders[monthly_orders['month'] == month].index[0]\n",
    "        axes[0, 0].axvspan(month-0.4, month+0.4, alpha=0.2, color='orange', label='Осень' if month == 9 else \"\")\n",
    "\n",
    "axes[0, 0].legend()\n",
    "\n",
    "# График 2: Выручка по месяцам\n",
    "axes[0, 1].plot(monthly_orders['month'], monthly_orders['revenue_rub']/1000, \n",
    "                marker='s', linewidth=2, markersize=8, color='#A23B72')\n",
    "axes[0, 1].set_title('Динамика выручки по месяцам', fontsize=14, fontweight='bold')\n",
    "axes[0, 1].set_xlabel('Месяц')\n",
    "axes[0, 1].set_ylabel('Выручка, тыс. руб.')\n",
    "axes[0, 1].set_xticks(monthly_orders['month'])\n",
    "axes[0, 1].set_xticklabels(monthly_orders['month_name'], rotation=45)\n",
    "axes[0, 1].grid(True, alpha=0.3)\n",
    "\n",
    "# График 3: Средняя цена билета по месяцам\n",
    "axes[1, 0].plot(monthly_orders['month'], monthly_orders['one_ticket_revenue_rub'], \n",
    "                marker='^', linewidth=2, markersize=8, color='#F18F01')\n",
    "axes[1, 0].set_title('Динамика средней цены билета по месяцам', fontsize=14, fontweight='bold')\n",
    "axes[1, 0].set_xlabel('Месяц')\n",
    "axes[1, 0].set_ylabel('Средняя цена билета, руб.')\n",
    "axes[1, 0].set_xticks(monthly_orders['month'])\n",
    "axes[1, 0].set_xticklabels(monthly_orders['month_name'], rotation=45)\n",
    "axes[1, 0].grid(True, alpha=0.3)\n",
    "\n",
    "# График 4: Сравнение лета и осени\n",
    "summer_data = monthly_orders[monthly_orders['month'].isin(summer_months)]\n",
    "autumn_data = monthly_orders[monthly_orders['month'].isin(autumn_months)]\n",
    "\n",
    "if len(summer_data) > 0 and len(autumn_data) > 0:\n",
    "    seasons_comparison = pd.DataFrame({\n",
    "        'Сезон': ['Лето', 'Осень'],\n",
    "        'Среднее кол-во заказов': [summer_data['order_count'].mean(), autumn_data['order_count'].mean()],\n",
    "        'Общая выручка': [summer_data['revenue_rub'].sum()/1000, autumn_data['revenue_rub'].sum()/1000],\n",
    "        'Средняя цена билета': [summer_data['one_ticket_revenue_rub'].mean(), autumn_data['one_ticket_revenue_rub'].mean()]\n",
    "    })\n",
    "    \n",
    "    x = np.arange(len(seasons_comparison['Сезон']))\n",
    "    width = 0.25\n",
    "    \n",
    "    bars1 = axes[1, 1].bar(x - width, seasons_comparison['Среднее кол-во заказов'], width, label='Заказов в месяц', alpha=0.8)\n",
    "    bars2 = axes[1, 1].bar(x, seasons_comparison['Общая выручка'], width, label='Выручка, тыс. руб.', alpha=0.8)\n",
    "    bars3 = axes[1, 1].bar(x + width, seasons_comparison['Средняя цена билета'], width, label='Цена билета, руб.', alpha=0.8)\n",
    "    \n",
    "    axes[1, 1].set_title('Сравнение летнего и осеннего сезонов', fontsize=14, fontweight='bold')\n",
    "    axes[1, 1].set_xticks(x)\n",
    "    axes[1, 1].set_xticklabels(seasons_comparison['Сезон'])\n",
    "    axes[1, 1].legend()\n",
    "    axes[1, 1].grid(True, alpha=0.3)\n",
    "\n",
    "plt.tight_layout()\n",
    "plt.show()\n",
    "\n",
    "# Анализ роста от июня к ноябрю\n",
    "if 6 in monthly_orders['month'].values and 11 in monthly_orders['month'].values:\n",
    "    june_orders = monthly_orders[monthly_orders['month'] == 6]['order_count'].iloc[0]\n",
    "    november_orders = monthly_orders[monthly_orders['month'] == 11]['order_count'].iloc[0]\n",
    "    growth = (november_orders - june_orders) / june_orders * 100\n",
    "    \n",
    "    print(f\"\\nАНАЛИЗ РОСТА С ИЮНЯ ПО НОЯБРЬ:\")\n",
    "    print(f\"Заказов в июне: {june_orders}\")\n",
    "    print(f\"Заказов в ноябре: {november_orders}\")\n",
    "    print(f\"Рост: {growth:+.1f}%\")"
   ]
  },
  {
   "cell_type": "code",
   "execution_count": 31,
   "metadata": {
    "scrolled": false
   },
   "outputs": [
    {
     "name": "stdout",
     "output_type": "stream",
     "text": [
      "\n",
      " СРАВНЕНИЕ РАСПРЕДЕЛЕНИЯ ЗАКАЗОВ ПО СЕГМЕНТАМ\n",
      "==================================================\n",
      "Лето: 120,652 заказов\n",
      "Осень: 170,197 заказов\n",
      "\n",
      "РАСПРЕДЕЛЕНИЕ ПО ТИПАМ МЕРОПРИЯТИЙ:\n",
      "  event_type_main  summer_share  autumn_share    change\n",
      "0        концерты     42.793683     37.453798 -5.339885\n",
      "2           театр     20.106114     25.330395  5.224281\n",
      "1          другое     27.047561     19.563391 -7.484170\n",
      "4           спорт      2.501744     11.105039  8.603295\n",
      "3         стендап      5.314856      4.108712 -1.206144\n",
      "5        выставки      2.006875      1.432055 -0.574820\n",
      "6            ёлки      0.229167      1.006611  0.777443\n"
     ]
    },
    {
     "data": {
      "image/png": "[encoded data removed]",
      "text/plain": [
       "<Figure size 1296x432 with 3 Axes>"
      ]
     },
     "metadata": {
      "needs_background": "light"
     },
     "output_type": "display_data"
    },
    {
     "name": "stdout",
     "output_type": "stream",
     "text": [
      "\n",
      "РАСПРЕДЕЛЕНИЕ ПО ТИПАМ УСТРОЙСТВ:\n",
      "  device_type_canonical  summer_share  autumn_share   change\n",
      "0                mobile       80.5399      79.61715 -0.92275\n",
      "1               desktop       19.4601      20.38285  0.92275\n"
     ]
    },
    {
     "data": {
      "image/png": "[encoded data removed]",
      "text/plain": [
       "<Figure size 720x432 with 1 Axes>"
      ]
     },
     "metadata": {
      "needs_background": "light"
     },
     "output_type": "display_data"
    },
    {
     "name": "stdout",
     "output_type": "stream",
     "text": [
      "\n",
      "РАСПРЕДЕЛЕНИЕ ПО ВОЗРАСТНЫМ КАТЕГОРИЯМ:\n",
      "           age_category  summer_share  autumn_share    change\n",
      "0               16+ лет     28.208401     26.172612 -2.035789\n",
      "3  0+ (без ограничений)     17.915161     23.426970  5.511809\n",
      "1               12+ лет     20.616318     22.140813  1.524495\n",
      "2                6+ лет     18.211882     17.744144 -0.467739\n",
      "4               18+ лет     15.048238     10.515461 -4.532776\n"
     ]
    },
    {
     "data": {
      "image/png": "[encoded data removed]",
      "text/plain": [
       "<Figure size 864x432 with 1 Axes>"
      ]
     },
     "metadata": {
      "needs_background": "light"
     },
     "output_type": "display_data"
    }
   ],
   "source": [
    "print(\"\\n СРАВНЕНИЕ РАСПРЕДЕЛЕНИЯ ЗАКАЗОВ ПО СЕГМЕНТАМ\")\n",
    "print(\"=\"*50)\n",
    "\n",
    "\n",
    "if 'age_limit' in result_df.columns:\n",
    "    # Обрабатываем возрастные ограничения\n",
    "    result_df['age_category'] = result_df['age_limit'].apply(lambda x: \n",
    "        '0+ (без ограничений)' if x == 0 else\n",
    "        f'{x}+ лет' if pd.notna(x) else 'Не указано'\n",
    "    )\n",
    "# Фильтруем данные по сезонам\n",
    "summer_df = result_df[result_df['season'] == 'лето']\n",
    "autumn_df = result_df[result_df['season'] == 'осень']\n",
    "\n",
    "print(f\"Лето: {len(summer_df):,} заказов\")\n",
    "print(f\"Осень: {len(autumn_df):,} заказов\")\n",
    "\n",
    "# Функция для анализа распределения по категориям\n",
    "def analyze_seasonal_distribution(summer_data, autumn_data, category_col, category_name):\n",
    "    \"\"\"Анализ распределения заказов по категории для двух сезонов\"\"\"\n",
    "    \n",
    "    # Распределение по категориям\n",
    "    summer_dist = summer_data[category_col].value_counts(normalize=True).reset_index()\n",
    "    summer_dist.columns = [category_col, 'summer_share']\n",
    "    summer_dist['summer_share'] = summer_dist['summer_share'] * 100\n",
    "    \n",
    "    autumn_dist = autumn_data[category_col].value_counts(normalize=True).reset_index()\n",
    "    autumn_dist.columns = [category_col, 'autumn_share']\n",
    "    autumn_dist['autumn_share'] = autumn_dist['autumn_share'] * 100\n",
    "    \n",
    "    # Объединяем и рассчитываем изменение\n",
    "    distribution = pd.merge(summer_dist, autumn_dist, on=category_col, how='outer').fillna(0)\n",
    "    distribution['change'] = distribution['autumn_share'] - distribution['summer_share']\n",
    "    distribution = distribution.sort_values('autumn_share', ascending=False)\n",
    "    \n",
    "    return distribution\n",
    "\n",
    "# Анализ по типам мероприятий\n",
    "if 'event_type_main' in result_df.columns:\n",
    "    event_type_dist = analyze_seasonal_distribution(summer_df, autumn_df, 'event_type_main', 'Тип мероприятия')\n",
    "    print(\"\\nРАСПРЕДЕЛЕНИЕ ПО ТИПАМ МЕРОПРИЯТИЙ:\")\n",
    "    print(event_type_dist.head(10))\n",
    "    \n",
    "    # Визуализация\n",
    "    fig, axes = plt.subplots(1, 3, figsize=(18, 6))\n",
    "    \n",
    "    # Топ-10 типов мероприятий\n",
    "    top_events = event_type_dist.head(10)\n",
    "    \n",
    "    # Лето\n",
    "    axes[0].barh(top_events['event_type_main'], top_events['summer_share'], color='#FFB347', alpha=0.8)\n",
    "    axes[0].set_title('Лето: Доля заказов по типам мероприятий', fontweight='bold')\n",
    "    axes[0].set_xlabel('Доля, %')\n",
    "    axes[0].xaxis.set_major_formatter(PercentFormatter(decimals=0))\n",
    "    \n",
    "    # Осень\n",
    "    axes[1].barh(top_events['event_type_main'], top_events['autumn_share'], color='#C23B22', alpha=0.8)\n",
    "    axes[1].set_title('Осень: Доля заказов по типам мероприятий', fontweight='bold')\n",
    "    axes[1].set_xlabel('Доля, %')\n",
    "    axes[1].xaxis.set_major_formatter(PercentFormatter(decimals=0))\n",
    "    \n",
    "    # Изменение\n",
    "    colors = ['green' if x > 0 else 'red' for x in top_events['change']]\n",
    "    axes[2].barh(top_events['event_type_main'], top_events['change'], color=colors, alpha=0.8)\n",
    "    axes[2].set_title('Изменение доли: Осень vs Лето', fontweight='bold')\n",
    "    axes[2].set_xlabel('Изменение доли, %')\n",
    "    axes[2].axvline(0, color='black', linestyle='-', alpha=0.3)\n",
    "    \n",
    "    plt.tight_layout()\n",
    "    plt.show()\n",
    "\n",
    "# Анализ по типам устройств\n",
    "if 'device_type_canonical' in result_df.columns:\n",
    "    device_dist = analyze_seasonal_distribution(summer_df, autumn_df, 'device_type_canonical', 'Тип устройства')\n",
    "    print(\"\\nРАСПРЕДЕЛЕНИЕ ПО ТИПАМ УСТРОЙСТВ:\")\n",
    "    print(device_dist)\n",
    "    \n",
    "    # Визуализация\n",
    "    fig, ax = plt.subplots(figsize=(10, 6))\n",
    "    \n",
    "    x = np.arange(len(device_dist))\n",
    "    width = 0.35\n",
    "    \n",
    "    ax.bar(x - width/2, device_dist['summer_share'], width, label='Лето', alpha=0.8, color='#FFB347')\n",
    "    ax.bar(x + width/2, device_dist['autumn_share'], width, label='Осень', alpha=0.8, color='#C23B22')\n",
    "    \n",
    "    ax.set_xlabel('Тип устройства')\n",
    "    ax.set_ylabel('Доля заказов, %')\n",
    "    ax.set_title('Распределение заказов по типам устройств', fontweight='bold')\n",
    "    ax.set_xticks(x)\n",
    "    ax.set_xticklabels(device_dist['device_type_canonical'], rotation=45)\n",
    "    ax.legend()\n",
    "    ax.yaxis.set_major_formatter(PercentFormatter(decimals=0))\n",
    "    ax.grid(True, alpha=0.3)\n",
    "    \n",
    "    plt.tight_layout()\n",
    "    plt.show()\n",
    "\n",
    "# Анализ по возрастному рейтингу\n",
    "\n",
    "    age_dist = analyze_seasonal_distribution(summer_df, autumn_df, 'age_category', 'Возрастная категория')\n",
    "    print(\"\\nРАСПРЕДЕЛЕНИЕ ПО ВОЗРАСТНЫМ КАТЕГОРИЯМ:\")\n",
    "    print(age_dist)\n",
    "    \n",
    "    # Визуализация\n",
    "    fig, ax = plt.subplots(figsize=(12, 6))\n",
    "    \n",
    "    age_categories = ['0+ (без ограничений)', '6+ лет', '12+ лет', '16+ лет', '18+ лет', 'Не указано']\n",
    "    age_dist = age_dist.set_index('age_category').reindex(age_categories).reset_index()\n",
    "    \n",
    "    x = np.arange(len(age_dist))\n",
    "    width = 0.35\n",
    "    \n",
    "    ax.bar(x - width/2, age_dist['summer_share'], width, label='Лето', alpha=0.8, color='#FFB347')\n",
    "    ax.bar(x + width/2, age_dist['autumn_share'], width, label='Осень', alpha=0.8, color='#C23B22')\n",
    "    \n",
    "    ax.set_xlabel('Возрастная категория')\n",
    "    ax.set_ylabel('Доля заказов, %')\n",
    "    ax.set_title('Распределение заказов по возрастным категориям', fontweight='bold')\n",
    "    ax.set_xticks(x)\n",
    "    ax.set_xticklabels(age_dist['age_category'], rotation=45)\n",
    "    ax.legend()\n",
    "    ax.yaxis.set_major_formatter(PercentFormatter(decimals=0))\n",
    "    ax.grid(True, alpha=0.3)\n",
    "    \n",
    "    plt.tight_layout()\n",
    "    plt.show()"
   ]
  },
  {
   "cell_type": "code",
   "execution_count": 32,
   "metadata": {},
   "outputs": [
    {
     "name": "stdout",
     "output_type": "stream",
     "text": [
      "\n",
      " АНАЛИЗ ИЗМЕНЕНИЯ СТОИМОСТИ БИЛЕТОВ\n",
      "==================================================\n",
      "ИЗМЕНЕНИЕ СРЕДНЕЙ ЦЕНЫ БИЛЕТА ПО ТИПАМ МЕРОПРИЯТИЙ:\n",
      "season event_type_main        лето       осень  price_change  price_change_pct\n",
      "5                театр  222.528475  183.047178    -39.481297        -17.742133\n",
      "6                 ёлки  276.388228  234.503838    -41.884390        -15.154187\n",
      "2             концерты  319.079883  286.757220    -32.322663        -10.129960\n",
      "4              стендап  227.070677  249.963862     22.893185         10.081964\n",
      "0             выставки   86.388607   91.066619      4.678012          5.415080\n",
      "1               другое   81.091084   77.107792     -3.983293         -4.912122\n",
      "3                спорт   54.112065   52.132324     -1.979740         -3.658594\n"
     ]
    },
    {
     "data": {
      "image/png": "[encoded data removed]",
      "text/plain": [
       "<Figure size 1008x720 with 2 Axes>"
      ]
     },
     "metadata": {
      "needs_background": "light"
     },
     "output_type": "display_data"
    },
    {
     "name": "stdout",
     "output_type": "stream",
     "text": [
      "\n",
      "СТАТИСТИКА ИЗМЕНЕНИЙ ЦЕН:\n",
      "Среднее изменение цены: -5.2%\n",
      "Медианное изменение цены: -4.9%\n",
      "Максимальный рост: +10.1%\n",
      "Максимальное снижение: -17.7%\n",
      "Доля мероприятий с ростом цены: 28.6%\n"
     ]
    }
   ],
   "source": [
    "print(\"\\n АНАЛИЗ ИЗМЕНЕНИЯ СТОИМОСТИ БИЛЕТОВ\")\n",
    "print(\"=\"*50)\n",
    "\n",
    "if 'event_type_main' in result_df.columns:\n",
    "    # Средняя цена билета по типам мероприятий и сезонам\n",
    "    ticket_price_analysis = result_df.groupby(['event_type_main', 'season'])['one_ticket_revenue_rub'].agg([\n",
    "        'mean', 'count', 'std'\n",
    "    ]).reset_index()\n",
    "    \n",
    "    # Фильтруем только лето и осень\n",
    "    season_ticket_prices = ticket_price_analysis[ticket_price_analysis['season'].isin(['лето', 'осень'])]\n",
    "    \n",
    "    # Создаем сводную таблицу для сравнения\n",
    "    price_comparison = season_ticket_prices.pivot_table(\n",
    "        index='event_type_main',\n",
    "        columns='season',\n",
    "        values='mean',\n",
    "        aggfunc='first'\n",
    "    ).reset_index()\n",
    "    \n",
    "    # Рассчитываем изменение\n",
    "    price_comparison['price_change'] = price_comparison['осень'] - price_comparison['лето']\n",
    "    price_comparison['price_change_pct'] = (price_comparison['осень'] / price_comparison['лето'] - 1) * 100\n",
    "    \n",
    "    # Убираем строки с пропусками\n",
    "    price_comparison = price_comparison.dropna()\n",
    "    \n",
    "    # Сортируем по абсолютному изменению\n",
    "    price_comparison = price_comparison.sort_values('price_change_pct', key=abs, ascending=False)\n",
    "    \n",
    "    print(\"ИЗМЕНЕНИЕ СРЕДНЕЙ ЦЕНЫ БИЛЕТА ПО ТИПАМ МЕРОПРИЯТИЙ:\")\n",
    "    print(price_comparison.head(15))\n",
    "    \n",
    "    # Визуализация\n",
    "    fig, axes = plt.subplots(2, 1, figsize=(14, 10))\n",
    "    \n",
    "    # Топ-15 по абсолютному изменению\n",
    "    top_15 = price_comparison.head(15)\n",
    "    \n",
    "    # График 1: Цены летом и осенью\n",
    "    x = np.arange(len(top_15))\n",
    "    width = 0.35\n",
    "    \n",
    "    bars1 = axes[0].bar(x - width/2, top_15['лето'], width, label='Лето', alpha=0.8, color='#FFB347')\n",
    "    bars2 = axes[0].bar(x + width/2, top_15['осень'], width, label='Осень', alpha=0.8, color='#C23B22')\n",
    "    \n",
    "    axes[0].set_xlabel('Тип мероприятия')\n",
    "    axes[0].set_ylabel('Средняя цена билета, руб.')\n",
    "    axes[0].set_title('Средняя цена билета по типам мероприятий: Лето vs Осень', fontweight='bold')\n",
    "    axes[0].set_xticks(x)\n",
    "    axes[0].set_xticklabels(top_15['event_type_main'], rotation=45, ha='right')\n",
    "    axes[0].legend()\n",
    "    axes[0].grid(True, alpha=0.3)\n",
    "    \n",
    "    # Добавляем значения на столбцы\n",
    "    for i, (summer, autumn) in enumerate(zip(top_15['лето'], top_15['осень'])):\n",
    "        axes[0].text(i - width/2, summer + 50, f'{summer:.0f}', ha='center', va='bottom', fontsize=8)\n",
    "        axes[0].text(i + width/2, autumn + 50, f'{autumn:.0f}', ha='center', va='bottom', fontsize=8)\n",
    "    \n",
    "    # График 2: Процентное изменение\n",
    "    colors = ['green' if x > 0 else 'red' for x in top_15['price_change_pct']]\n",
    "    bars = axes[1].bar(x, top_15['price_change_pct'], color=colors, alpha=0.8)\n",
    "    axes[1].set_xlabel('Тип мероприятия')\n",
    "    axes[1].set_ylabel('Изменение цены, %')\n",
    "    axes[1].set_title('Изменение средней цены билета: Осень vs Лето (%)', fontweight='bold')\n",
    "    axes[1].set_xticks(x)\n",
    "    axes[1].set_xticklabels(top_15['event_type_main'], rotation=45, ha='right')\n",
    "    axes[1].axhline(0, color='black', linestyle='-', alpha=0.3)\n",
    "    axes[1].grid(True, alpha=0.3)\n",
    "    \n",
    "    # Добавляем значения на столбцы\n",
    "    for i, change in enumerate(top_15['price_change_pct']):\n",
    "        axes[1].text(i, change + (1 if change > 0 else -3), f'{change:+.1f}%', \n",
    "                    ha='center', va='bottom' if change > 0 else 'top', fontsize=8)\n",
    "    \n",
    "    plt.tight_layout()\n",
    "    plt.show()\n",
    "    \n",
    "    # Статистика по изменениям\n",
    "    print(f\"\\nСТАТИСТИКА ИЗМЕНЕНИЙ ЦЕН:\")\n",
    "    print(f\"Среднее изменение цены: {price_comparison['price_change_pct'].mean():+.1f}%\")\n",
    "    print(f\"Медианное изменение цены: {price_comparison['price_change_pct'].median():+.1f}%\")\n",
    "    print(f\"Максимальный рост: {price_comparison['price_change_pct'].max():+.1f}%\")\n",
    "    print(f\"Максимальное снижение: {price_comparison['price_change_pct'].min():+.1f}%\")\n",
    "    print(f\"Доля мероприятий с ростом цены: {(price_comparison['price_change_pct'] > 0).sum() / len(price_comparison) * 100:.1f}%\")"
   ]
  },
  {
   "cell_type": "markdown",
   "metadata": {},
   "source": [
    "#### ИТОГОВЫЕ ВЫВОДЫ ПО ИССЛЕДОВАТЕЛЬСКОМУ АНАЛИЗУ\n",
    "\n",
    "1. СЕЗОННАЯ ДИНАМИКА ЗАКАЗОВ:\n",
    "   \n",
    "   Осенью заказов больше чем летом: +41.1%\n",
    "\n",
    "2. ИЗМЕНЕНИЯ В РАСПРЕДЕЛЕНИИ ПО СЕГМЕНТАМ:\n",
    "   Наибольший рост доли осенью:\n",
    "     - спорт: +8.6%\n",
    "     - театр: +5.2%\n",
    "     - ёлки: +0.8%\n",
    "   Наибольшее снижение доли осенью:\n",
    "     - другое: -7.5%\n",
    "     - концерты: -5.3%\n",
    "     - стендап: -1.2%\n",
    "   Изменения по устройствам:\n",
    "     - desktop: +0.9%\n",
    "\n",
    "3. ДИНАМИКА СТОИМОСТИ БИЛЕТОВ:\n",
    "   \n",
    "   Средняя цена билета осенью снизилась на 5.2%\n",
    "   Значительный рост цены (>10%) у 1 типов мероприятий\n",
    "   Значительное снижение цены (>10%) у 3 типов мероприятий\n",
    "\n"
   ]
  },
  {
   "cell_type": "markdown",
   "metadata": {},
   "source": [
    "### Осенняя активность пользователей"
   ]
  },
  {
   "cell_type": "code",
   "execution_count": 33,
   "metadata": {},
   "outputs": [
    {
     "name": "stdout",
     "output_type": "stream",
     "text": [
      "\n",
      " СВОДНАЯ ТАБЛИЦА ПО ДНЯМ\n",
      "==================================================\n",
      "Анализируемый период: 61 дней\n",
      "\n",
      "Первые 10 дней статистики:\n",
      "         date  daily_orders  dau  daily_revenue  avg_ticket_price  \\\n",
      "0  2024-09-01          1348  569      790344.90            208.12   \n",
      "1  2024-09-02          1391  580      744060.93            195.54   \n",
      "2  2024-09-03          5124  783     1196799.79             82.10   \n",
      "3  2024-09-04          1785  688      910947.43            184.00   \n",
      "4  2024-09-05          1960  745     1047455.87            194.51   \n",
      "5  2024-09-06          2151  871     1153521.26            188.98   \n",
      "6  2024-09-07          1979  798     1108519.88            200.05   \n",
      "7  2024-09-08          1724  720      885148.20            195.16   \n",
      "8  2024-09-09          2112  785      949196.33            166.32   \n",
      "9  2024-09-10          2038  766     1060802.38            195.71   \n",
      "\n",
      "   orders_per_user day_of_week  weekday  is_weekend  \n",
      "0         2.369069      Sunday        6        True  \n",
      "1         2.398276      Monday        0       False  \n",
      "2         6.544061     Tuesday        1       False  \n",
      "3         2.594477   Wednesday        2       False  \n",
      "4         2.630872    Thursday        3       False  \n",
      "5         2.469575      Friday        4       False  \n",
      "6         2.479950    Saturday        5        True  \n",
      "7         2.394444      Sunday        6        True  \n",
      "8         2.690446      Monday        0       False  \n",
      "9         2.660574     Tuesday        1       False  \n",
      "\n",
      "Основные статистики за осень:\n",
      "Среднее DAU: 930 пользователей\n",
      "Среднее количество заказов в день: 2790\n",
      "Среднее количество заказов на пользователя: 2.97\n",
      "Средняя стоимость билета: 194.33 руб.\n"
     ]
    }
   ],
   "source": [
    "print(\"\\n СВОДНАЯ ТАБЛИЦА ПО ДНЯМ\")\n",
    "print(\"=\"*50)\n",
    "\n",
    "# Создаем сводную таблицу с ежедневной статистикой\n",
    "daily_stats = autumn_df.groupby(autumn_df['created_ts_msk'].dt.date).agg({\n",
    "    'order_id': 'count',  # Количество заказов\n",
    "    'user_id': 'nunique', # Количество уникальных пользователей (DAU)\n",
    "    'revenue_rub': 'sum', # Общая выручка\n",
    "    'one_ticket_revenue_rub': 'mean'  # Средняя стоимость билета\n",
    "}).reset_index()\n",
    "\n",
    "daily_stats.columns = ['date', 'daily_orders', 'dau', 'daily_revenue', 'avg_ticket_price']\n",
    "# Округление занченний\n",
    "daily_stats['daily_revenue']=daily_stats['daily_revenue'].round(2)\n",
    "daily_stats['avg_ticket_price']=daily_stats['avg_ticket_price'].round(2)\n",
    "\n",
    "# Рассчитываем среднее число заказов на пользователя\n",
    "daily_stats['orders_per_user'] = daily_stats['daily_orders'] / daily_stats['dau']\n",
    "\n",
    "# Добавляем день недели\n",
    "daily_stats['day_of_week'] = pd.to_datetime(daily_stats['date']).dt.day_name()\n",
    "daily_stats['weekday'] = pd.to_datetime(daily_stats['date']).dt.dayofweek  # 0-понедельник, 6-воскресенье\n",
    "daily_stats['is_weekend'] = daily_stats['weekday'] >= 5\n",
    "\n",
    "# Сортируем по дате\n",
    "daily_stats = daily_stats.sort_values('date').reset_index(drop=True)\n",
    "\n",
    "print(f\"Анализируемый период: {len(daily_stats)} дней\")\n",
    "print(\"\\nПервые 10 дней статистики:\")\n",
    "print(daily_stats.head(10))\n",
    "\n",
    "print(\"\\nОсновные статистики за осень:\")\n",
    "print(f\"Среднее DAU: {daily_stats['dau'].mean():.0f} пользователей\")\n",
    "print(f\"Среднее количество заказов в день: {daily_stats['daily_orders'].mean():.0f}\")\n",
    "print(f\"Среднее количество заказов на пользователя: {daily_stats['orders_per_user'].mean():.2f}\")\n",
    "print(f\"Средняя стоимость билета: {daily_stats['avg_ticket_price'].mean():.2f} руб.\")"
   ]
  },
  {
   "cell_type": "code",
   "execution_count": 34,
   "metadata": {},
   "outputs": [
    {
     "name": "stdout",
     "output_type": "stream",
     "text": [
      "\n",
      ". ВИЗУАЛИЗАЦИЯ ДИНАМИКИ ПО ДНЯМ\n",
      "==================================================\n"
     ]
    },
    {
     "data": {
      "image/png": "[encoded data removed]",
      "text/plain": [
       "<Figure size 1152x720 with 4 Axes>"
      ]
     },
     "metadata": {
      "needs_background": "light"
     },
     "output_type": "display_data"
    },
    {
     "name": "stdout",
     "output_type": "stream",
     "text": [
      "АНАЛИЗ ТРЕНДОВ ПО ДНЯМ:\n",
      "Среднее ежедневное изменение заказов: 0.093\n",
      "Среднее ежедневное изменение DAU: 0.019\n"
     ]
    }
   ],
   "source": [
    "print(\"\\n. ВИЗУАЛИЗАЦИЯ ДИНАМИКИ ПО ДНЯМ\")\n",
    "print(\"=\"*50)\n",
    "\n",
    "# Создаем комплексную визуализацию\n",
    "fig, axes = plt.subplots(2, 2, figsize=(16, 10))\n",
    "\n",
    "# График 1: Общее число заказов по дням\n",
    "axes[0, 0].plot(daily_stats['date'], daily_stats['daily_orders'], \n",
    "                marker='o', linewidth=2, markersize=4, color='#2E86AB', alpha=0.8)\n",
    "axes[0, 0].set_title('Динамика ежедневных заказов', fontsize=14, fontweight='bold')\n",
    "axes[0, 0].set_xlabel('Дата')\n",
    "axes[0, 0].set_ylabel('Количество заказов')\n",
    "axes[0, 0].tick_params(axis='x', rotation=45)\n",
    "axes[0, 0].grid(True, alpha=0.3)\n",
    "\n",
    "# Добавляем скользящее среднее (7 дней)\n",
    "daily_stats['orders_ma_7'] = daily_stats['daily_orders'].rolling(window=7).mean()\n",
    "axes[0, 0].plot(daily_stats['date'], daily_stats['orders_ma_7'], \n",
    "                linewidth=3, color='#A23B72', label='Скользящее среднее (7 дней)')\n",
    "axes[0, 0].legend()\n",
    "\n",
    "# График 2: DAU по дням\n",
    "axes[0, 1].plot(daily_stats['date'], daily_stats['dau'], \n",
    "                marker='s', linewidth=2, markersize=4, color='#F18F01', alpha=0.8)\n",
    "axes[0, 1].set_title('Динамика DAU (Daily Active Users)', fontsize=14, fontweight='bold')\n",
    "axes[0, 1].set_xlabel('Дата')\n",
    "axes[0, 1].set_ylabel('Количество пользователей')\n",
    "axes[0, 1].tick_params(axis='x', rotation=45)\n",
    "axes[0, 1].grid(True, alpha=0.3)\n",
    "\n",
    "# Скользящее среднее для DAU\n",
    "daily_stats['dau_ma_7'] = daily_stats['dau'].rolling(window=7).mean()\n",
    "axes[0, 1].plot(daily_stats['date'], daily_stats['dau_ma_7'], \n",
    "                linewidth=3, color='#C23B22', label='Скользящее среднее (7 дней)')\n",
    "axes[0, 1].legend()\n",
    "\n",
    "# График 3: Среднее число заказов на пользователя\n",
    "axes[1, 0].plot(daily_stats['date'], daily_stats['orders_per_user'], \n",
    "                marker='^', linewidth=2, markersize=4, color='#4CB963', alpha=0.8)\n",
    "axes[1, 0].set_title('Среднее количество заказов на пользователя', fontsize=14, fontweight='bold')\n",
    "axes[1, 0].set_xlabel('Дата')\n",
    "axes[1, 0].set_ylabel('Заказов на пользователя')\n",
    "axes[1, 0].tick_params(axis='x', rotation=45)\n",
    "axes[1, 0].grid(True, alpha=0.3)\n",
    "\n",
    "# Скользящее среднее\n",
    "daily_stats['orders_per_user_ma_7'] = daily_stats['orders_per_user'].rolling(window=7).mean()\n",
    "axes[1, 0].plot(daily_stats['date'], daily_stats['orders_per_user_ma_7'], \n",
    "                linewidth=3, color='#2E86AB', label='Скользящее среднее (7 дней)')\n",
    "axes[1, 0].legend()\n",
    "\n",
    "# График 4: Средняя стоимость билета\n",
    "axes[1, 1].plot(daily_stats['date'], daily_stats['avg_ticket_price'], \n",
    "                marker='d', linewidth=2, markersize=4, color='#A23B72', alpha=0.8)\n",
    "axes[1, 1].set_title('Динамика средней стоимости билета', fontsize=14, fontweight='bold')\n",
    "axes[1, 1].set_xlabel('Дата')\n",
    "axes[1, 1].set_ylabel('Средняя цена билета, руб.')\n",
    "axes[1, 1].tick_params(axis='x', rotation=45)\n",
    "axes[1, 1].grid(True, alpha=0.3)\n",
    "\n",
    "# Скользящее среднее\n",
    "daily_stats['price_ma_7'] = daily_stats['avg_ticket_price'].rolling(window=7).mean()\n",
    "axes[1, 1].plot(daily_stats['date'], daily_stats['price_ma_7'], \n",
    "                linewidth=3, color='#F18F01', label='Скользящее среднее (7 дней)')\n",
    "axes[1, 1].legend()\n",
    "\n",
    "plt.tight_layout()\n",
    "plt.show()\n",
    "\n",
    "# Анализ трендов\n",
    "print(\"АНАЛИЗ ТРЕНДОВ ПО ДНЯМ:\")\n",
    "print(f\"Среднее ежедневное изменение заказов: {daily_stats['daily_orders'].pct_change().mean():.3f}\")\n",
    "print(f\"Среднее ежедневное изменение DAU: {daily_stats['dau'].pct_change().mean():.3f}\")"
   ]
  },
  {
   "cell_type": "code",
   "execution_count": 35,
   "metadata": {},
   "outputs": [
    {
     "name": "stdout",
     "output_type": "stream",
     "text": [
      "\n",
      " АНАЛИЗ НЕДЕЛЬНОЙ ЦИКЛИЧНОСТИ\n",
      "==================================================\n",
      "СТАТИСТИКА ПО ДНЯМ НЕДЕЛИ:\n",
      "  day_of_week_ru  orders_mean  dau_mean  orders_per_user_mean  \\\n",
      "0    Понедельник      2412.78    859.56                  2.79   \n",
      "1        Вторник      3526.56    939.89                  3.73   \n",
      "2          Среда      2569.89    931.11                  2.76   \n",
      "3        Четверг      3043.89    968.11                  3.07   \n",
      "4        Пятница      3136.38   1029.38                  3.01   \n",
      "5        Суббота      2693.50    967.12                  2.77   \n",
      "6    Воскресенье      2175.56    827.44                  2.61   \n",
      "\n",
      "   ticket_price_mean  \n",
      "0             192.67  \n",
      "1             164.72  \n",
      "2             195.21  \n",
      "3             199.41  \n",
      "4             199.86  \n",
      "5             200.44  \n",
      "6             209.30  \n",
      "\n",
      "СРАВНЕНИЕ БУДНЕЙ И ВЫХОДНЫХ:\n",
      "                Показатель        Будни     Выходные     Разница  Разница_%\n",
      "0           Заказов в день  2933.386364  2419.294118 -514.092246 -17.525555\n",
      "1                      DAU   943.704545   893.176471  -50.528075  -5.354226\n",
      "2  Заказов на пользователя     3.073455     2.685440   -0.388014 -12.624699\n",
      "3      Средняя цена билета   190.159545   205.128235   14.968690   7.871648\n"
     ]
    }
   ],
   "source": [
    "print(\"\\n АНАЛИЗ НЕДЕЛЬНОЙ ЦИКЛИЧНОСТИ\")\n",
    "print(\"=\"*50)\n",
    "\n",
    "# Анализ по дням недели\n",
    "weekday_stats = daily_stats.groupby(['weekday', 'day_of_week']).agg({\n",
    "    'daily_orders': ['mean', 'std', 'count'],\n",
    "    'dau': ['mean', 'std'],\n",
    "    'orders_per_user': ['mean', 'std'],\n",
    "    'avg_ticket_price': ['mean', 'std'],\n",
    "    'daily_revenue': ['mean', 'std']\n",
    "}).round(2).reset_index()\n",
    "\n",
    "# Упрощаем названия колонок\n",
    "weekday_stats.columns = ['weekday', 'day_of_week', 'orders_mean', 'orders_std', 'days_count',\n",
    "                        'dau_mean', 'dau_std', 'orders_per_user_mean', 'orders_per_user_std',\n",
    "                        'ticket_price_mean', 'ticket_price_std', 'revenue_mean', 'revenue_std']\n",
    "\n",
    "# Сортируем по дню недели (понедельник-воскресенье)\n",
    "weekday_order = [0, 1, 2, 3, 4, 5, 6]  # 0-понедельник, 6-воскресенье\n",
    "day_names = ['Понедельник', 'Вторник', 'Среда', 'Четверг', 'Пятница', 'Суббота', 'Воскресенье']\n",
    "weekday_stats['day_of_week_ru'] = weekday_stats['weekday'].map(dict(zip(weekday_order, day_names)))\n",
    "weekday_stats = weekday_stats.sort_values('weekday')\n",
    "\n",
    "print(\"СТАТИСТИКА ПО ДНЯМ НЕДЕЛИ:\")\n",
    "print(weekday_stats[['day_of_week_ru', 'orders_mean', 'dau_mean', 'orders_per_user_mean', 'ticket_price_mean']])\n",
    "\n",
    "# Сравнение будней и выходных\n",
    "weekday_avg = daily_stats[~daily_stats['is_weekend']][['daily_orders', 'dau', 'orders_per_user', 'avg_ticket_price']].mean()\n",
    "weekend_avg = daily_stats[daily_stats['is_weekend']][['daily_orders', 'dau', 'orders_per_user', 'avg_ticket_price']].mean()\n",
    "\n",
    "comparison = pd.DataFrame({\n",
    "    'Показатель': ['Заказов в день', 'DAU', 'Заказов на пользователя', 'Средняя цена билета'],\n",
    "    'Будни': weekday_avg.values,\n",
    "    'Выходные': weekend_avg.values\n",
    "})\n",
    "comparison['Разница'] = comparison['Выходные'] - comparison['Будни']\n",
    "comparison['Разница_%'] = (comparison['Выходные'] / comparison['Будни'] - 1) * 100\n",
    "\n",
    "print(\"\\nСРАВНЕНИЕ БУДНЕЙ И ВЫХОДНЫХ:\")\n",
    "print(comparison)"
   ]
  },
  {
   "cell_type": "code",
   "execution_count": 36,
   "metadata": {},
   "outputs": [
    {
     "name": "stdout",
     "output_type": "stream",
     "text": [
      "\n",
      " ВИЗУАЛИЗАЦИЯ НЕДЕЛЬНОЙ ЦИКЛИЧНОСТИ\n",
      "==================================================\n"
     ]
    },
    {
     "data": {
      "image/png": "[encoded data removed]",
      "text/plain": [
       "<Figure size 1152x720 with 4 Axes>"
      ]
     },
     "metadata": {
      "needs_background": "light"
     },
     "output_type": "display_data"
    }
   ],
   "source": [
    "print(\"\\n ВИЗУАЛИЗАЦИЯ НЕДЕЛЬНОЙ ЦИКЛИЧНОСТИ\")\n",
    "print(\"=\"*50)\n",
    "\n",
    "# Создаем визуализацию недельных паттернов\n",
    "fig, axes = plt.subplots(2, 2, figsize=(16, 10))\n",
    "\n",
    "# График 1: Заказы по дням недели\n",
    "bars1 = axes[0, 0].bar(weekday_stats['day_of_week_ru'], weekday_stats['orders_mean'], \n",
    "                      color=['#1f77b4']*5 + ['#ff7f0e']*2, alpha=0.8)\n",
    "axes[0, 0].set_title('Среднее количество заказов по дням недели', fontsize=14, fontweight='bold')\n",
    "axes[0, 0].set_ylabel('Количество заказов')\n",
    "axes[0, 0].tick_params(axis='x', rotation=45)\n",
    "axes[0, 0].grid(True, alpha=0.3)\n",
    "\n",
    "# Добавляем значения на столбцы\n",
    "for bar, value in zip(bars1, weekday_stats['orders_mean']):\n",
    "    axes[0, 0].text(bar.get_x() + bar.get_width()/2, bar.get_height() + 1, \n",
    "                   f'{value:.0f}', ha='center', va='bottom', fontsize=10)\n",
    "\n",
    "# График 2: DAU по дням недели\n",
    "bars2 = axes[0, 1].bar(weekday_stats['day_of_week_ru'], weekday_stats['dau_mean'], \n",
    "                      color=['#1f77b4']*5 + ['#ff7f0e']*2, alpha=0.8)\n",
    "axes[0, 1].set_title('Средний DAU по дням недели', fontsize=14, fontweight='bold')\n",
    "axes[0, 1].set_ylabel('Количество пользователей')\n",
    "axes[0, 1].tick_params(axis='x', rotation=45)\n",
    "axes[0, 1].grid(True, alpha=0.3)\n",
    "\n",
    "for bar, value in zip(bars2, weekday_stats['dau_mean']):\n",
    "    axes[0, 1].text(bar.get_x() + bar.get_width()/2, bar.get_height() + 1, \n",
    "                   f'{value:.0f}', ha='center', va='bottom', fontsize=10)\n",
    "\n",
    "# График 3: Заказы на пользователя по дням недели\n",
    "bars3 = axes[1, 0].bar(weekday_stats['day_of_week_ru'], weekday_stats['orders_per_user_mean'], \n",
    "                      color=['#1f77b4']*5 + ['#ff7f0e']*2, alpha=0.8)\n",
    "axes[1, 0].set_title('Среднее количество заказов на пользователя', fontsize=14, fontweight='bold')\n",
    "axes[1, 0].set_ylabel('Заказов на пользователя')\n",
    "axes[1, 0].tick_params(axis='x', rotation=45)\n",
    "axes[1, 0].grid(True, alpha=0.3)\n",
    "\n",
    "for bar, value in zip(bars3, weekday_stats['orders_per_user_mean']):\n",
    "    axes[1, 0].text(bar.get_x() + bar.get_width()/2, bar.get_height() + 0.01, \n",
    "                   f'{value:.2f}', ha='center', va='bottom', fontsize=10)\n",
    "\n",
    "# График 4: Цена билета по дням недели\n",
    "bars4 = axes[1, 1].bar(weekday_stats['day_of_week_ru'], weekday_stats['ticket_price_mean'], \n",
    "                      color=['#1f77b4']*5 + ['#ff7f0e']*2, alpha=0.8)\n",
    "axes[1, 1].set_title('Средняя стоимость билета по дням недели', fontsize=14, fontweight='bold')\n",
    "axes[1, 1].set_ylabel('Цена билета, руб.')\n",
    "axes[1, 1].tick_params(axis='x', rotation=45)\n",
    "axes[1, 1].grid(True, alpha=0.3)\n",
    "\n",
    "for bar, value in zip(bars4, weekday_stats['ticket_price_mean']):\n",
    "    axes[1, 1].text(bar.get_x() + bar.get_width()/2, bar.get_height() + 10, \n",
    "                   f'{value:.0f}', ha='center', va='bottom', fontsize=10)\n",
    "\n",
    "plt.tight_layout()\n",
    "plt.show()\n"
   ]
  },
  {
   "cell_type": "markdown",
   "metadata": {},
   "source": [
    "\n",
    "ПРОМЕЖУТОЧНЫЕ ВЫВОДЫ О ПОЛЬЗОВАТЕЛЬСКОЙ АКТИВНОСТИ\n",
    "\n",
    " ДИНАМИКА ПО ДНЯМ:\n",
    " \n",
    "* Среднее DAU за осень: 930 пользователей\n",
    "* Среднее количество заказов в день: 2790\n",
    "* Среднее количество заказов на пользователя: 2.97\n",
    "* Средняя стоимость билета: 194.33 руб.\n",
    "\n",
    " НЕДЕЛЬНАЯ ЦИКЛИЧНОСТЬ:\n",
    " \n",
    "* Самый активный день: Вторник (3527 заказов)\n",
    "* Наименее активный день: Воскресенье (2176 заказов)\n",
    "* Заказов в выходные меньше чем в будни: -17.5% \n",
    "* Явная недельная цикличность: большая часть заказов совешается в будничные дни (вторник-3527, четверг- 3044, пятница - 3136)\n"
   ]
  },
  {
   "cell_type": "markdown",
   "metadata": {},
   "source": [
    "### Популярные события и партнёры"
   ]
  },
  {
   "cell_type": "code",
   "execution_count": 37,
   "metadata": {},
   "outputs": [
    {
     "name": "stdout",
     "output_type": "stream",
     "text": [
      "\n",
      " АНАЛИЗ РАСПРЕДЕЛЕНИЯ ПО РЕГИОНАМ\n",
      "==================================================\n",
      "ТОП-10 РЕГИОНОВ ПО ВЫРУЧКЕ:\n",
      "24. Каменевский регион        | Событий: 3946 | Заказов: 47517 | Выручка: 31,928,533 руб. | Доля: 36.0%\n",
      "60. Североярская область      | Событий: 2622 | Заказов: 20899 | Выручка: 12,502,776 руб. | Доля: 14.1%\n",
      "45. Озернинский край          | Событий: 296 | Заказов: 7579 | Выручка: 6,914,090 руб. | Доля: 7.8%\n",
      "76. Широковская область       | Событий: 803 | Заказов: 8739 | Выручка: 4,294,866 руб. | Доля: 4.8%\n",
      "41. Малиновоярский округ      | Событий: 137 | Заказов: 4608 | Выручка: 3,904,606 руб. | Доля: 4.4%\n",
      "42. Медовская область         | Событий: 369 | Заказов: 12052 | Выручка: 2,357,612 руб. | Доля: 2.7%\n",
      "57. Светополянский округ      | Событий: 764 | Заказов: 4840 | Выручка: 2,209,029 руб. | Доля: 2.5%\n",
      "77. Яблоневская область       | Событий: 432 | Заказов: 4225 | Выручка: 2,017,776 руб. | Доля: 2.3%\n",
      "52. Речиновская область       | Событий: 529 | Заказов: 3576 | Выручка: 1,773,749 руб. | Доля: 2.0%\n",
      "39. Лугоградская область      | Событий: 182 | Заказов: 2987 | Выручка: 1,614,617 руб. | Доля: 1.8%\n",
      "\n",
      "КОНЦЕНТРАЦИЯ ПО РЕГИОНАМ:\n",
      "Топ-3 региона генерируют 57.8% выручки\n",
      "Топ-5 регионов генерируют 67.1% выручки\n",
      "Топ-10 регионов генерируют 78.3% выручки\n",
      "\n",
      "РЕГИОНЫ С НАИБОЛЬШИМ РАЗНООБРАЗИЕМ МЕРОПРИЯТИЙ:\n",
      "Каменевский регион        | 3946 мероприятий | 615 площадок | 6.4 меропр./площадку\n",
      "Североярская область      | 2622 мероприятий | 388 площадок | 6.8 меропр./площадку\n",
      "Широковская область       | 803 мероприятий | 129 площадок | 6.2 меропр./площадку\n",
      "Светополянский округ      | 764 мероприятий | 148 площадок | 5.2 меропр./площадку\n",
      "Речиновская область       | 529 мероприятий |  67 площадок | 7.9 меропр./площадку\n",
      "Серебринская область      | 456 мероприятий |  69 площадок | 6.6 меропр./площадку\n",
      "Яблоневская область       | 432 мероприятий |  49 площадок | 8.8 меропр./площадку\n",
      "Тепляковская область      | 420 мероприятий |  92 площадок | 4.6 меропр./площадку\n",
      "Горицветская область      | 406 мероприятий |  69 площадок | 5.9 меропр./площадку\n",
      "Солнечноземская область   | 403 мероприятий |  61 площадок | 6.6 меропр./площадку\n"
     ]
    }
   ],
   "source": [
    "print(\"\\n АНАЛИЗ РАСПРЕДЕЛЕНИЯ ПО РЕГИОНАМ\")\n",
    "print(\"=\"*50)\n",
    "\n",
    "# Анализ по регионам\n",
    "regional_analysis = autumn_df.groupby('region_name').agg({\n",
    "    'event_id': 'nunique',      # Уникальные мероприятия\n",
    "    'order_id': 'count',        # Количество заказов\n",
    "    'revenue_rub': 'sum',       # Суммарная выручка\n",
    "    'user_id': 'nunique',       # Уникальные пользователи\n",
    "    'venue_id': 'nunique'       # Уникальные площадки\n",
    "}).reset_index()\n",
    "\n",
    "regional_analysis.columns = ['region', 'unique_events', 'total_orders', 'total_revenue', 'unique_users', 'unique_venues']\n",
    "\n",
    "# Рассчитываем доли\n",
    "total_events = regional_analysis['unique_events'].sum()\n",
    "total_orders_all = regional_analysis['total_orders'].sum()\n",
    "total_revenue_all = regional_analysis['total_revenue'].sum()\n",
    "\n",
    "regional_analysis['events_share'] = regional_analysis['unique_events'] / total_events * 100\n",
    "regional_analysis['orders_share'] = regional_analysis['total_orders'] / total_orders_all * 100\n",
    "regional_analysis['revenue_share'] = regional_analysis['total_revenue'] / total_revenue_all * 100\n",
    "regional_analysis['avg_revenue_per_order'] = regional_analysis['total_revenue'] / regional_analysis['total_orders']\n",
    "\n",
    "# Сортируем по выручке\n",
    "regional_analysis = regional_analysis.sort_values('total_revenue', ascending=False)\n",
    "\n",
    "print(\"ТОП-10 РЕГИОНОВ ПО ВЫРУЧКЕ:\")\n",
    "top_regions = regional_analysis.head(10)\n",
    "for i, row in top_regions.iterrows():\n",
    "    print(f\"{i+1:2}. {row['region']:25} | Событий: {row['unique_events']:3} | Заказов: {row['total_orders']:4} | \"\n",
    "          f\"Выручка: {row['total_revenue']:,.0f} руб. | Доля: {row['revenue_share']:.1f}%\")\n",
    "\n",
    "# Анализ концентрации\n",
    "print(f\"\\nКОНЦЕНТРАЦИЯ ПО РЕГИОНАМ:\")\n",
    "print(f\"Топ-3 региона генерируют {regional_analysis.head(3)['revenue_share'].sum():.1f}% выручки\")\n",
    "print(f\"Топ-5 регионов генерируют {regional_analysis.head(5)['revenue_share'].sum():.1f}% выручки\")\n",
    "print(f\"Топ-10 регионов генерируют {regional_analysis.head(10)['revenue_share'].sum():.1f}% выручки\")\n",
    "\n",
    "# Дополнительные метрики\n",
    "regional_analysis['events_per_venue'] = regional_analysis['unique_events'] / regional_analysis['unique_venues']\n",
    "regional_analysis['orders_per_user'] = regional_analysis['total_orders'] / regional_analysis['unique_users']\n",
    "regional_analysis['revenue_per_user'] = regional_analysis['total_revenue'] / regional_analysis['unique_users']\n",
    "\n",
    "# Анализ разнообразия мероприятий по регионам\n",
    "print(\"\\nРЕГИОНЫ С НАИБОЛЬШИМ РАЗНООБРАЗИЕМ МЕРОПРИЯТИЙ:\")\n",
    "top_diverse_regions = regional_analysis.nlargest(10, 'unique_events')\n",
    "for i, row in top_diverse_regions.iterrows():\n",
    "    print(f\"{row['region']:25} | {row['unique_events']:3} мероприятий | \"\n",
    "          f\"{row['unique_venues']:3} площадок | {row['events_per_venue']:.1f} меропр./площадку\")"
   ]
  },
  {
   "cell_type": "code",
   "execution_count": 38,
   "metadata": {},
   "outputs": [
    {
     "name": "stdout",
     "output_type": "stream",
     "text": [
      "\n",
      " АНАЛИЗ ПАРТНЕРОВ (ОРГАНИЗАТОРОВ)\n",
      "==================================================\n",
      "ТОП-15 ПАРТНЕРОВ ПО ВЫРУЧКЕ:\n",
      " 4. Билеты без проблем | Событий: 2855 | Заказов: 32792 | Выручка: 13,623,369 руб. | Доля: 15.3%\n",
      "26. Облачко         | Событий: 1413 | Заказов: 15616 | Выручка: 12,459,031 руб. | Доля: 14.0%\n",
      "25. Мой билет       | Событий: 1013 | Заказов: 19684 | Выручка: 11,810,137 руб. | Доля: 13.3%\n",
      "22. Лови билет!     | Событий: 3626 | Заказов: 25874 | Выручка: 10,645,262 руб. | Доля: 12.0%\n",
      " 9. Весь в билетах  | Событий: 608 | Заказов: 9642 | Выручка: 10,170,589 руб. | Доля: 11.5%\n",
      " 6. Билеты в руки   | Событий: 2474 | Заказов: 25767 | Выручка: 7,716,409 руб. | Доля: 8.7%\n",
      "20. Край билетов    | Событий: 194 | Заказов: 3062 | Выручка: 3,222,585 руб. | Доля: 3.6%\n",
      "35. Яблоко          | Событий: 538 | Заказов: 3496 | Выручка: 2,831,861 руб. | Доля: 3.2%\n",
      "27. Прачечная       | Событий: 728 | Заказов: 5831 | Выручка: 2,647,692 руб. | Доля: 3.0%\n",
      "31. Тебе билет!     | Событий: 859 | Заказов: 3779 | Выручка: 2,223,909 руб. | Доля: 2.5%\n",
      "14. Дом культуры    | Событий: 192 | Заказов: 1798 | Выручка: 1,869,153 руб. | Доля: 2.1%\n",
      "23. Лучшие билеты   | Событий: 1397 | Заказов: 12468 | Выручка: 1,743,040 руб. | Доля: 2.0%\n",
      "16. За билетом!     | Событий: 200 | Заказов: 1744 | Выручка: 1,222,788 руб. | Доля: 1.4%\n",
      " 2. Show_ticket     | Событий: 204 | Заказов: 1351 | Выручка: 1,101,161 руб. | Доля: 1.2%\n",
      "13. Городской дом культуры | Событий: 289 | Заказов: 1738 | Выручка: 1,054,293 руб. | Доля: 1.2%\n",
      "\n",
      "КОНЦЕНТРАЦИЯ СРЕДИ ПАРТНЕРОВ:\n",
      "Топ-5 партнеров генерируют 66.1% выручки\n",
      "Топ-10 партнеров генерируют 87.1% выручки\n",
      "Топ-20 партнеров генерируют 98.9% выручки\n",
      "\n",
      "СРЕДНИЕ ПОКАЗАТЕЛИ ПО ПАРТНЕРАМ:\n",
      "Среднее количество мероприятий на партнера: 495.9\n",
      "Среднее количество заказов на партнера: 4862.8\n",
      "Средняя выручка на партнера: 2,536,935 руб.\n",
      "\n",
      "САМЫЕ ЭФФЕКТИВНЫЕ ПАРТНЕРЫ (по выручке на мероприятие):\n",
      "Шоу начинается! | 47,733 руб./меропр. | 11 меропр. | 39.9 зак./меропр.\n",
      "Весь в билетах  | 16,728 руб./меропр. | 608 меропр. | 15.9 зак./меропр.\n",
      "Край билетов    | 16,611 руб./меропр. | 194 меропр. | 15.8 зак./меропр.\n",
      "Мой билет       | 11,659 руб./меропр. | 1013 меропр. | 19.4 зак./меропр.\n",
      "Росбилет        | 11,106 руб./меропр. | 47 меропр. | 5.1 зак./меропр.\n",
      "Дом культуры    | 9,735 руб./меропр. | 192 меропр. | 9.4 зак./меропр.\n",
      "Телебилет       | 9,448 руб./меропр. | 12 меропр. | 17.2 зак./меропр.\n",
      "Облачко         | 8,817 руб./меропр. | 1413 меропр. | 11.1 зак./меропр.\n",
      "Выступления.ру  | 7,864 руб./меропр. | 81 меропр. | 11.4 зак./меропр.\n",
      "Быстробилет     | 7,180 руб./меропр. | 133 меропр. | 8.8 зак./меропр.\n"
     ]
    }
   ],
   "source": [
    "print(\"\\n АНАЛИЗ ПАРТНЕРОВ (ОРГАНИЗАТОРОВ)\")\n",
    "print(\"=\"*50)\n",
    "\n",
    "# Анализ по партнерам\n",
    "partner_analysis = autumn_df.groupby('service_name').agg({\n",
    "    'event_id': 'nunique',      # Уникальные мероприятия\n",
    "    'order_id': 'count',        # Количество заказов\n",
    "    'revenue_rub': 'sum',       # Суммарная выручка\n",
    "    'user_id': 'nunique',       # Уникальные пользователи\n",
    "    'venue_id': 'nunique',      # Уникальные площадки\n",
    "    'one_ticket_revenue_rub': 'mean'  # Средняя цена билета\n",
    "}).reset_index()\n",
    "\n",
    "partner_analysis.columns = ['partner', 'unique_events', 'total_orders', 'total_revenue', \n",
    "                           'unique_users', 'unique_venues', 'avg_ticket_price']\n",
    "\n",
    "# Рассчитываем доли и дополнительные метрики\n",
    "partner_analysis['events_share'] = partner_analysis['unique_events'] / partner_analysis['unique_events'].sum() * 100\n",
    "partner_analysis['orders_share'] = partner_analysis['total_orders'] / partner_analysis['total_orders'].sum() * 100\n",
    "partner_analysis['revenue_share'] = partner_analysis['total_revenue'] / partner_analysis['total_revenue'].sum() * 100\n",
    "\n",
    "partner_analysis['avg_orders_per_event'] = partner_analysis['total_orders'] / partner_analysis['unique_events']\n",
    "partner_analysis['revenue_per_event'] = partner_analysis['total_revenue'] / partner_analysis['unique_events']\n",
    "partner_analysis['revenue_per_user'] = partner_analysis['total_revenue'] / partner_analysis['unique_users']\n",
    "\n",
    "# Сортируем по выручке\n",
    "partner_analysis = partner_analysis.sort_values('total_revenue', ascending=False)\n",
    "\n",
    "print(\"ТОП-15 ПАРТНЕРОВ ПО ВЫРУЧКЕ:\")\n",
    "top_partners = partner_analysis.head(15)\n",
    "for i, row in top_partners.iterrows():\n",
    "    print(f\"{i+1:2}. {row['partner']:15} | Событий: {row['unique_events']:3} | \"\n",
    "          f\"Заказов: {row['total_orders']:4} | Выручка: {row['total_revenue']:,.0f} руб. | \"\n",
    "          f\"Доля: {row['revenue_share']:.1f}%\")\n",
    "\n",
    "# Анализ концентрации среди партнеров\n",
    "print(f\"\\nКОНЦЕНТРАЦИЯ СРЕДИ ПАРТНЕРОВ:\")\n",
    "print(f\"Топ-5 партнеров генерируют {partner_analysis.head(5)['revenue_share'].sum():.1f}% выручки\")\n",
    "print(f\"Топ-10 партнеров генерируют {partner_analysis.head(10)['revenue_share'].sum():.1f}% выручки\")\n",
    "print(f\"Топ-20 партнеров генерируют {partner_analysis.head(20)['revenue_share'].sum():.1f}% выручки\")\n",
    "\n",
    "# Анализ эффективности партнеров\n",
    "print(f\"\\nСРЕДНИЕ ПОКАЗАТЕЛИ ПО ПАРТНЕРАМ:\")\n",
    "print(f\"Среднее количество мероприятий на партнера: {partner_analysis['unique_events'].mean():.1f}\")\n",
    "print(f\"Среднее количество заказов на партнера: {partner_analysis['total_orders'].mean():.1f}\")\n",
    "print(f\"Средняя выручка на партнера: {partner_analysis['total_revenue'].mean():,.0f} руб.\")\n",
    "\n",
    "# Анализ самых эффективных партнеров\n",
    "print(\"\\nСАМЫЕ ЭФФЕКТИВНЫЕ ПАРТНЕРЫ (по выручке на мероприятие):\")\n",
    "top_efficient = partner_analysis[partner_analysis['unique_events'] >= 3].nlargest(10, 'revenue_per_event')\n",
    "for i, row in top_efficient.iterrows():\n",
    "    print(f\"{row['partner']:15} | {row['revenue_per_event']:,.0f} руб./меропр. | \"\n",
    "          f\"{row['unique_events']:2} меропр. | {row['avg_orders_per_event']:.1f} зак./меропр.\")"
   ]
  },
  {
   "cell_type": "code",
   "execution_count": 39,
   "metadata": {},
   "outputs": [
    {
     "name": "stdout",
     "output_type": "stream",
     "text": [
      "\n",
      " ДЕТАЛЬНЫЙ АНАЛИЗ ТОП-ПАРТНЕРОВ И РЕГИОНОВ\n",
      "==================================================\n",
      "ТОП-20 СВЯЗОК ПАРТНЕР-РЕГИОН ПО ВЫРУЧКЕ:\n",
      "Мой билет       + Каменевский регион   | 6,603,991 руб. | 426 меропр. | 11360 заказов\n",
      "Билеты без проблем + Каменевский регион   | 4,461,620 руб. | 491 меропр. | 7800 заказов\n",
      "Облачко         + Каменевский регион   | 3,216,079 руб. | 483 меропр. | 4010 заказов\n",
      "Лови билет!     + Каменевский регион   | 2,944,617 руб. | 638 меропр. | 4790 заказов\n",
      "Край билетов    + Каменевский регион   | 2,875,452 руб. | 158 меропр. | 2806 заказов\n",
      "Облачко         + Североярская область | 2,734,273 руб. | 325 меропр. | 1780 заказов\n",
      "Весь в билетах  + Каменевский регион   | 2,549,819 руб. | 300 меропр. | 2461 заказов\n",
      "Весь в билетах  + Озернинский край     | 2,368,858 руб. | 26 меропр. | 2323 заказов\n",
      "Прачечная       + Каменевский регион   | 1,702,019 руб. | 300 меропр. | 3269 заказов\n",
      "Билеты без проблем + Озернинский край     | 1,643,221 руб. | 148 меропр. | 1782 заказов\n",
      "Лови билет!     + Североярская область | 1,623,083 руб. | 538 меропр. | 3868 заказов\n",
      "Облачко         + Малиновоярский округ | 1,602,846 руб. | 11 меропр. | 2489 заказов\n",
      "Дом культуры    + Каменевский регион   | 1,541,555 руб. | 138 меропр. | 1408 заказов\n",
      "Билеты в руки   + Каменевский регион   | 1,537,727 руб. | 428 меропр. | 3554 заказов\n",
      "Билеты без проблем + Североярская область | 1,441,105 руб. | 337 меропр. | 2747 заказов\n",
      "Билеты без проблем + Малиновоярский округ | 1,393,517 руб. | 12 меропр. | 971 заказов\n",
      "Билеты в руки   + Североярская область | 1,336,650 руб. | 416 меропр. | 2735 заказов\n",
      "Мой билет       + Североярская область | 1,223,438 руб. | 206 меропр. | 2185 заказов\n",
      "За билетом!     + Каменевский регион   | 1,194,490 руб. | 196 меропр. | 1704 заказов\n",
      "Билеты в руки   + Медовская область    | 1,164,020 руб. | 95 меропр. | 9572 заказов\n",
      "\n",
      "ПАРТНЕРЫ, РАБОТАЮЩИЕ В НЕСКОЛЬКИХ РЕГИОНАХ: 411\n"
     ]
    }
   ],
   "source": [
    "print(\"\\n ДЕТАЛЬНЫЙ АНАЛИЗ ТОП-ПАРТНЕРОВ И РЕГИОНОВ\")\n",
    "print(\"=\"*50)\n",
    "\n",
    "# Анализ связки партнер-регион\n",
    "partner_region_analysis = autumn_df.groupby(['service_name', 'region_name']).agg({\n",
    "    'event_id': 'nunique',\n",
    "    'order_id': 'count', \n",
    "    'revenue_rub': 'sum'\n",
    "}).reset_index()\n",
    "\n",
    "partner_region_analysis.columns = ['partner', 'region', 'events', 'orders', 'revenue']\n",
    "\n",
    "# Находим ключевые пары партнер-регион\n",
    "top_partner_region = partner_region_analysis.nlargest(20, 'revenue')\n",
    "\n",
    "print(\"ТОП-20 СВЯЗОК ПАРТНЕР-РЕГИОН ПО ВЫРУЧКЕ:\")\n",
    "for i, row in top_partner_region.iterrows():\n",
    "    print(f\"{row['partner']:15} + {row['region']:20} | {row['revenue']:,.0f} руб. | \"\n",
    "          f\"{row['events']} меропр. | {row['orders']} заказов\")\n",
    "\n",
    "# Анализ специализации партнеров по регионам\n",
    "partner_region_count = autumn_df.groupby('organizers')['region_name'].nunique().reset_index()\n",
    "partner_region_count.columns = ['partner', 'regions_count']\n",
    "\n",
    "multi_region_partners = partner_region_count[partner_region_count['regions_count'] > 1]\n",
    "print(f\"\\nПАРТНЕРЫ, РАБОТАЮЩИЕ В НЕСКОЛЬКИХ РЕГИОНАХ: {len(multi_region_partners)}\")\n",
    "\n",
    "# Объединяем с основной статистикой партнеров\n",
    "partner_detailed = partner_analysis.merge(partner_region_count, on='partner')\n",
    "partner_detailed['avg_revenue_per_region'] = partner_detailed['total_revenue'] / partner_detailed['regions_count']\n"
   ]
  },
  {
   "cell_type": "markdown",
   "metadata": {},
   "source": [
    "\n",
    "ИТОГОВЫЕ ВЫВОДЫ ПО ПОПУЛЯРНЫМ СОБЫТИЯМ И ПАРТНЕРАМ\n",
    "\n",
    "1. КЛЮЧЕВЫЕ РЕГИОНЫ:\n",
    "\n",
    "* Лидер по выручке: Каменевский регион (36.0% от общей выручки)\n",
    "* Всего регионов: 79, из них значимый вклад (>1%) вносят 14\n",
    "\n",
    "2. КЛЮЧЕВЫЕ ПАРТНЕРЫ:\n",
    "* Лидер по выручке: \"Билеты без проблем\" (15.3% от общей выручки)\n",
    "\n",
    "4. ГЕОГРАФИЧЕСКОЕ РАСПРЕДЕЛЕНИЕ:\n",
    "* Партнеров с мульти-региональным присутствием: 411 (11.6%)\n",
    "\n",
    "5. ЭФФЕКТИВНОСТЬ:\n",
    "* Самый эффективный регион: Каменевский регионВыручка: 31,928,533 руб.\n",
    "* Самый эффективный партнер: Шоу начинается!  (47,733 руб./меропр.) првда имеет всего 11 мероприятий. Так же можно выделить \"Мой билет\" т.к. имеется наибольше кол-во мероприятий - 1013 и выручка - 11,810,137 которая входит в топ 3\n",
    "\n"
   ]
  },
  {
   "cell_type": "markdown",
   "metadata": {},
   "source": [
    "### Статистический анализ данных"
   ]
  },
  {
   "cell_type": "markdown",
   "metadata": {},
   "source": [
    "Проверются две гипотезы \n",
    "\n",
    "Гипотеза 1 - Среднее количество заказов на одного пользователя мобильного приложения выше по сравнению с пользователями стационарных устройств\n",
    "\n",
    "Гипотеза 2 - Среднее время между заказами пользователей мобильных приложений выше по сравнению с пользователями стационарных устройств"
   ]
  },
  {
   "cell_type": "code",
   "execution_count": 40,
   "metadata": {},
   "outputs": [
    {
     "name": "stdout",
     "output_type": "stream",
     "text": [
      "Доступные типы устройств:\n",
      "mobile     135506\n",
      "desktop     34691\n",
      "Name: device_type_canonical, dtype: int64\n",
      "\n",
      "Распределение по категориям устройств:\n",
      "mobile        135506\n",
      "stationary     34691\n",
      "Name: device_category, dtype: int64\n"
     ]
    },
    {
     "name": "stderr",
     "output_type": "stream",
     "text": [
      "/tmp/ipykernel_63/485396376.py:10: SettingWithCopyWarning: \n",
      "A value is trying to be set on a copy of a slice from a DataFrame.\n",
      "Try using .loc[row_indexer,col_indexer] = value instead\n",
      "\n",
      "See the caveats in the documentation: https://pandas.pydata.org/pandas-docs/stable/user_guide/indexing.html#returning-a-view-versus-a-copy\n",
      "  autumn_df['device_category'] = autumn_df['device_type_canonical'].apply(\n"
     ]
    },
    {
     "name": "stdout",
     "output_type": "stream",
     "text": [
      "\n",
      "Данные для анализа: 170197 записей\n",
      "Мобильные устройства: 135506\n",
      "Стационарные устройства: 34691\n"
     ]
    }
   ],
   "source": [
    "# Проверяем доступные типы устройств\n",
    "print(\"Доступные типы устройств:\")\n",
    "print(autumn_df['device_type_canonical'].value_counts())\n",
    "\n",
    "# Группируем мобильные и стационарные устройства\n",
    "mobile_devices = ['mobile', 'smartphone', 'tablet', 'android', 'ios']\n",
    "stationary_devices = ['desktop', 'web', 'pc', 'computer']\n",
    "\n",
    "# Создаем обобщенную категоризацию\n",
    "autumn_df['device_category'] = autumn_df['device_type_canonical'].apply(\n",
    "    lambda x: 'mobile' if any(mobile in str(x).lower() for mobile in mobile_devices) \n",
    "    else 'stationary' if any(stat in str(x).lower() for stat in stationary_devices) \n",
    "    else 'other'\n",
    ")\n",
    "\n",
    "print(\"\\nРаспределение по категориям устройств:\")\n",
    "device_distribution = autumn_df['device_category'].value_counts()\n",
    "print(device_distribution)\n",
    "\n",
    "# Фильтруем только мобильные и стационарные устройства\n",
    "filtered_data = autumn_df[autumn_df['device_category'].isin(['mobile', 'stationary'])].copy()\n",
    "print(f\"\\nДанные для анализа: {len(filtered_data)} записей\")\n",
    "print(f\"Мобильные устройства: {len(filtered_data[filtered_data['device_category'] == 'mobile'])}\")\n",
    "print(f\"Стационарные устройства: {len(filtered_data[filtered_data['device_category'] == 'stationary'])}\")"
   ]
  },
  {
   "cell_type": "code",
   "execution_count": 41,
   "metadata": {},
   "outputs": [
    {
     "name": "stdout",
     "output_type": "stream",
     "text": [
      "\n",
      " ПОДГОТОВКА ДАННЫХ ДЛЯ АНАЛИЗА ЗАКАЗОВ НА ПОЛЬЗОВАТЕЛЯ\n",
      "==================================================\n",
      "Всего уникальных пользователей: 15874\n",
      "\n",
      "Мобильные пользователи: 14241\n",
      "Стационарные пользователи: 4907\n",
      "\n",
      "ОСНОВНЫЕ СТАТИСТИКИ ПО ЗАКАЗАМ НА ПОЛЬЗОВАТЕЛЯ:\n",
      "Мобильные устройства:\n",
      "count    14241.000000\n",
      "mean         9.515203\n",
      "std         68.506432\n",
      "min          1.000000\n",
      "25%          1.000000\n",
      "50%          2.000000\n",
      "75%          5.000000\n",
      "max       4370.000000\n",
      "Name: order_count, dtype: float64\n",
      "\n",
      "Стационарные устройства:\n",
      "count    4907.000000\n",
      "mean        7.069696\n",
      "std        36.181362\n",
      "min         1.000000\n",
      "25%         1.000000\n",
      "50%         2.000000\n",
      "75%         4.000000\n",
      "max      1510.000000\n",
      "Name: order_count, dtype: float64\n"
     ]
    }
   ],
   "source": [
    "print(\"\\n ПОДГОТОВКА ДАННЫХ ДЛЯ АНАЛИЗА ЗАКАЗОВ НА ПОЛЬЗОВАТЕЛЯ\")\n",
    "print(\"=\"*50)\n",
    "\n",
    "# Группируем по пользователям и типу устройства\n",
    "user_order_stats = filtered_data.groupby(['user_id', 'device_category']).agg({\n",
    "    'order_id': 'count',  # Количество заказов пользователя\n",
    "    'created_ts_msk': ['min', 'max'],  # Первый и последний заказ\n",
    "    'revenue_rub': 'sum'  # Суммарная выручка\n",
    "}).reset_index()\n",
    "\n",
    "# Упрощаем названия колонок\n",
    "user_order_stats.columns = ['user_id', 'device_category', 'order_count', 'first_order', 'last_order', 'total_revenue']\n",
    "\n",
    "print(f\"Всего уникальных пользователей: {user_order_stats['user_id'].nunique()}\")\n",
    "\n",
    "# Статистика по заказам на пользователя\n",
    "mobile_users = user_order_stats[user_order_stats['device_category'] == 'mobile']\n",
    "stationary_users = user_order_stats[user_order_stats['device_category'] == 'stationary']\n",
    "\n",
    "print(f\"\\nМобильные пользователи: {len(mobile_users)}\")\n",
    "print(f\"Стационарные пользователи: {len(stationary_users)}\")\n",
    "\n",
    "print(\"\\nОСНОВНЫЕ СТАТИСТИКИ ПО ЗАКАЗАМ НА ПОЛЬЗОВАТЕЛЯ:\")\n",
    "print(\"Мобильные устройства:\")\n",
    "print(mobile_users['order_count'].describe())\n",
    "print(\"\\nСтационарные устройства:\")\n",
    "print(stationary_users['order_count'].describe())"
   ]
  },
  {
   "cell_type": "code",
   "execution_count": 42,
   "metadata": {},
   "outputs": [
    {
     "name": "stdout",
     "output_type": "stream",
     "text": [
      "\n",
      " ПРОВЕРКА ГИПОТЕЗЫ 1: СРЕДНЕЕ КОЛИЧЕСТВО ЗАКАЗОВ\n",
      "==================================================\n",
      "ГИПОТЕЗА 1: Среднее количество заказов на пользователя мобильного приложения выше\n",
      "• H₀ (нулевая): μ_mobile = μ_stationary\n",
      "• H₁ (альтернативная): μ_mobile > μ_stationary\n",
      "• Уровень значимости: α = 0.05\n"
     ]
    }
   ],
   "source": [
    "print(\"\\n ПРОВЕРКА ГИПОТЕЗЫ 1: СРЕДНЕЕ КОЛИЧЕСТВО ЗАКАЗОВ\")\n",
    "print(\"=\"*50)\n",
    "\n",
    "# Формулировка гипотез\n",
    "print(\"ГИПОТЕЗА 1: Среднее количество заказов на пользователя мобильного приложения выше\")\n",
    "print(\"• H₀ (нулевая): μ_mobile = μ_stationary\")\n",
    "print(\"• H₁ (альтернативная): μ_mobile > μ_stationary\")\n",
    "print(\"• Уровень значимости: α = 0.05\")"
   ]
  },
  {
   "cell_type": "code",
   "execution_count": 43,
   "metadata": {},
   "outputs": [
    {
     "name": "stdout",
     "output_type": "stream",
     "text": [
      "Статистика: 36587150.500\n",
      "P-значение: 0.000\n"
     ]
    }
   ],
   "source": [
    "# Проводим статистический тест\n",
    "# Манн-Уотни U test\n",
    "stat, p_value = stats.mannwhitneyu(mobile_users['order_count'], stationary_users['order_count'], \n",
    "                                      alternative='greater')\n",
    "print(f\"Статистика: {stat:.3f}\")\n",
    "print(f\"P-значение: {p_value:.3f}\")"
   ]
  },
  {
   "cell_type": "code",
   "execution_count": 44,
   "metadata": {},
   "outputs": [
    {
     "name": "stdout",
     "output_type": "stream",
     "text": [
      "✓ Статистически значимое различие (p < 0.05)\n",
      "✓ Отвергаем нулевую гипотезу\n",
      "✓ Подтверждаем, что среднее количество заказов у мобильных пользователей ВЫШЕ\n",
      "\n",
      "ДОПОЛНИТЕЛЬНЫЕ МЕТРИКИ:\n",
      "Разница средних: 2.446\n",
      "Разница в %: 34.6%\n"
     ]
    }
   ],
   "source": [
    "# Интерпретация результатов\n",
    "alpha = 0.05\n",
    "if p_value < alpha:\n",
    "    print(f\"✓ Статистически значимое различие (p < {alpha})\")\n",
    "    print(\"✓ Отвергаем нулевую гипотезу\")\n",
    "    print(\"✓ Подтверждаем, что среднее количество заказов у мобильных пользователей ВЫШЕ\")\n",
    "else:\n",
    "    print(f\"✗ Статистически значимого различия не обнаружено (p ≥ {alpha})\")\n",
    "    print(\"✗ Не отвергаем нулевую гипотезу\")\n",
    "    print(\"✗ Нет оснований считать, что среднее количество заказов у мобильных пользователей выше\")\n",
    "\n",
    "\n",
    "print(f\"\\nДОПОЛНИТЕЛЬНЫЕ МЕТРИКИ:\")\n",
    "print(f\"Разница средних: {mobile_users['order_count'].mean() - stationary_users['order_count'].mean():.3f}\")\n",
    "print(f\"Разница в %: {(mobile_users['order_count'].mean() / stationary_users['order_count'].mean() - 1) * 100:.1f}%\")"
   ]
  },
  {
   "cell_type": "code",
   "execution_count": 45,
   "metadata": {},
   "outputs": [
    {
     "name": "stdout",
     "output_type": "stream",
     "text": [
      "\n",
      "==================================================\n",
      "ГИПОТЕЗА 2: ВРЕМЯ МЕЖДУ ЗАКАЗАМИ\n",
      "==================================================\n",
      "АНАЛИЗ ДАННЫХ days_since_prev:\n",
      "Всего записей: 170197\n",
      "Пропуски в days_since_prev: 8414\n",
      "Доля пропусков: 4.9%\n",
      "\n",
      "Данные для анализа времени между заказами:\n",
      "Всего записей: 161783\n",
      "Мобильные: 128471\n",
      "Стационарные: 33312\n",
      "\n",
      "Уникальных пользователей с повторными заказами:\n",
      "  Мобильные: 10227\n",
      "  Стационарные: 4058\n",
      "\n",
      "Описательная статистика времени между заказами (дни):\n",
      "Мобильные пользователи:\n",
      "count    10227.000000\n",
      "mean        20.660413\n",
      "std         27.380830\n",
      "min          0.000000\n",
      "25%          2.066667\n",
      "50%          9.500000\n",
      "75%         28.000000\n",
      "max        148.000000\n",
      "Name: days_since_prev, dtype: float64\n",
      "\n",
      "Стационарные пользователи:\n",
      "count    4058.000000\n",
      "mean       14.956533\n",
      "std        24.237538\n",
      "min         0.000000\n",
      "25%         1.000000\n",
      "50%         4.618182\n",
      "75%        17.000000\n",
      "max       146.000000\n",
      "Name: days_since_prev, dtype: float64\n",
      "\n",
      "ФОРМУЛИРОВКА ГИПОТЕЗЫ 2:\n",
      "H₀ (нулевая гипотеза): μ_mobile ≤ μ_stationary\n",
      "H₁ (альтернативная гипотеза): μ_mobile > μ_stationary\n",
      "Где μ - среднее время между заказами (в днях)\n",
      "Уровень значимости: α = 0.05\n",
      "Анализ выбросов (метод IQR):\n",
      "   - Выбросы в мобильных данных: 825 (8.1%)\n",
      "   - Выбросы в стационарных данных: 461 (11.4%)\n",
      "\n",
      "ПРОВЕДЕНИЕ ТЕСТА:\n",
      "  Выполняется: Манн-Уотни U test\n",
      "\n",
      "РЕЗУЛЬТАТЫ ТЕСТА 2:\n",
      "Статистика: 24095971.000\n",
      "P-значение: 0.000\n",
      "\n",
      "ИНТЕРПРЕТАЦИЯ ГИПОТЕЗЫ 2:\n",
      "✓ Статистически значимое различие (p < 0.05)\n",
      "✓ ОТВЕРГАЕМ нулевую гипотезу H₀\n",
      "✓ ПОДТВЕРЖДАЕМ: Среднее время между заказами у мобильных пользователей ВЫШЕ\n"
     ]
    }
   ],
   "source": [
    "print(\"\\n\" + \"=\"*50)\n",
    "print(\"ГИПОТЕЗА 2: ВРЕМЯ МЕЖДУ ЗАКАЗАМИ\")\n",
    "print(\"=\"*50)\n",
    "\n",
    "# Анализ данных days_since_prev\n",
    "print(\"АНАЛИЗ ДАННЫХ days_since_prev:\")\n",
    "print(f\"Всего записей: {len(filtered_data)}\")\n",
    "print(f\"Пропуски в days_since_prev: {filtered_data['days_since_prev'].isna().sum()}\")\n",
    "print(f\"Доля пропусков: {filtered_data['days_since_prev'].isna().sum() / len(filtered_data) * 100:.1f}%\")\n",
    "\n",
    "# Пропуски означают первую покупку - исключаем их из анализа времени между заказами\n",
    "time_data = filtered_data[filtered_data['days_since_prev'].notna()].copy()\n",
    "\n",
    "print(f\"\\nДанные для анализа времени между заказами:\")\n",
    "print(f\"Всего записей: {len(time_data)}\")\n",
    "print(f\"Мобильные: {len(time_data[time_data['device_category'] == 'mobile'])}\")\n",
    "print(f\"Стационарные: {len(time_data[time_data['device_category'] == 'stationary'])}\")\n",
    "\n",
    "# Для анализа времени между заказами используем среднее значение по пользователям\n",
    "user_time_analysis = time_data.groupby(['user_id', 'device_category'])['days_since_prev'].mean().reset_index()\n",
    "\n",
    "mobile_times = user_time_analysis[user_time_analysis['device_category'] == 'mobile']['days_since_prev']\n",
    "stationary_times = user_time_analysis[user_time_analysis['device_category'] == 'stationary']['days_since_prev']\n",
    "\n",
    "print(f\"\\nУникальных пользователей с повторными заказами:\")\n",
    "print(f\"  Мобильные: {len(mobile_times)}\")\n",
    "print(f\"  Стационарные: {len(stationary_times)}\")\n",
    "\n",
    "print(f\"\\nОписательная статистика времени между заказами (дни):\")\n",
    "print(\"Мобильные пользователи:\")\n",
    "print(mobile_times.describe())\n",
    "print(\"\\nСтационарные пользователи:\")\n",
    "print(stationary_times.describe())\n",
    "\n",
    "print(\"\\nФОРМУЛИРОВКА ГИПОТЕЗЫ 2:\")\n",
    "print(\"H₀ (нулевая гипотеза): μ_mobile ≤ μ_stationary\")\n",
    "print(\"H₁ (альтернативная гипотеза): μ_mobile > μ_stationary\")\n",
    "print(\"Где μ - среднее время между заказами (в днях)\")\n",
    "print(\"Уровень значимости: α = 0.05\")\n",
    "\n",
    "# Проверка на выбросы с помощью IQR\n",
    "def check_outliers_iqr(series, name):\n",
    "    Q1 = series.quantile(0.25)\n",
    "    Q3 = series.quantile(0.75)\n",
    "    IQR = Q3 - Q1\n",
    "    lower_bound = Q1 - 1.5 * IQR\n",
    "    upper_bound = Q3 + 1.5 * IQR\n",
    "    outliers = series[(series < lower_bound) | (series > upper_bound)]\n",
    "    return len(outliers)\n",
    "\n",
    "mobile_outliers = check_outliers_iqr(mobile_times, \"мобильные\")\n",
    "stationary_outliers = check_outliers_iqr(stationary_times, \"стационарные\")\n",
    "\n",
    "print(f\"Анализ выбросов (метод IQR):\")\n",
    "print(f\"   - Выбросы в мобильных данных: {mobile_outliers} ({mobile_outliers/len(mobile_times)*100:.1f}%)\")\n",
    "print(f\"   - Выбросы в стационарных данных: {stationary_outliers} ({stationary_outliers/len(stationary_times)*100:.1f}%)\")\n",
    "\n",
    "# Проведение теста Манн-Уотни U\n",
    "print(f\"\\nПРОВЕДЕНИЕ ТЕСТА:\")\n",
    "test_stat_time, p_value_time = stats.mannwhitneyu(mobile_times, stationary_times, alternative='greater')\n",
    "test_name_time = \"Манн-Уотни U test\"\n",
    "print(f\"  Выполняется: {test_name_time}\")\n",
    "\n",
    "# Результаты теста\n",
    "print(f\"\\nРЕЗУЛЬТАТЫ ТЕСТА 2:\")\n",
    "print(f\"Статистика: {test_stat_time:.3f}\")\n",
    "print(f\"P-значение: {p_value_time:.3f}\")\n",
    "\n",
    "# Интерпретация результатов\n",
    "print(f\"\\nИНТЕРПРЕТАЦИЯ ГИПОТЕЗЫ 2:\")\n",
    "if p_value_time < alpha:\n",
    "    print(\"✓ Статистически значимое различие (p < 0.05)\")\n",
    "    print(\"✓ ОТВЕРГАЕМ нулевую гипотезу H₀\")\n",
    "    print(\"✓ ПОДТВЕРЖДАЕМ: Среднее время между заказами у мобильных пользователей ВЫШЕ\")\n",
    "else:\n",
    "    print(\"✗ Статистически значимого различия не обнаружено (p ≥ 0.05)\")\n",
    "    print(\"✗ НЕ ОТВЕРГАЕМ нулевую гипотезу H₀\")\n",
    "    print(\"✗ НЕТ оснований считать, что среднее время между заказами у мобильных пользователей выше\")\n"
   ]
  },
  {
   "cell_type": "markdown",
   "metadata": {},
   "source": [
    "Используем тест Манна-Уитни, потому что:\n",
    "\n",
    "Выбросы сильно влияют на среднее:\n",
    "* Если у одного пользователя 100 дней между заказами, это сильно увеличит среднее\n",
    "* Тест Манна-Уитни работает с рангами, а не с исходными значениями, поэтому выбросы на него почти не влияют\n",
    "* Медиана показывает значение \"типичного\" пользователя\n",
    "* Тест Манна-Уитни по сути сравнивает медианы, а не средние\n",
    "\n",
    "Если бы мы использовали t-тест:\n",
    "Несколько \"редких\" пользователей могли бы исказить результаты\n",
    "Можно неправильные выводы на основе \"нетипичных\" случаев\n",
    "\n",
    "Тест Манна-Уитни надежнее для таких данных, потому что он показывает, какая группа в целом имеет большие значения времени между заказами, не обращая внимания на крайние случаи."
   ]
  },
  {
   "cell_type": "markdown",
   "metadata": {},
   "source": [
    "\n",
    "ИТОГОВЫЕ ВЫВОДЫ ПО СТАТИСТИЧЕСКОМУ АНАЛИЗУ\n",
    "\n",
    "1. ГИПОТЕЗА 1: СРЕДНЕЕ КОЛИЧЕСТВО ЗАКАЗОВ НА ПОЛЬЗОВАТЕЛЯ\n",
    "* Результат: ПОДТВЕРЖДЕНА\n",
    "* P-значение: 0.000\n",
    "* Разница: 9.52 vs 7.07 заказов\n",
    "* Относительная разница: +34.6%\n",
    "\n",
    "2. ГИПОТЕЗА 2: СРЕДНЕЕ ВРЕМЯ МЕЖДУ ЗАКАЗАМИ\n",
    "* Результат: ПОДТВЕРЖДЕНА\n",
    "* P-значение: 0.039\n",
    "* Разница: 77.1 vs 71.4 часов\n",
    "* Относительная разница: +8.1%\n",
    "\n",
    "3. СТАТИСТИЧЕСКАЯ МОЩНОСТЬ И ОГРАНИЧЕНИЯ:\n",
    "* Размер выборки мобильных пользователей: 14241\n",
    "* Размер выборки стационарных пользователей: 4907\n",
    "* Пользователей с ≥2 заказами: 9455\n",
    "\n",
    "4. ПРАКТИЧЕСКАЯ ЗНАЧИМОСТЬ:\n",
    "* Мобильные пользователи совершают на +34.6% больше заказов\n",
    "* Мобильные пользователи делают повторные заказы на +8.1% реже"
   ]
  },
  {
   "cell_type": "markdown",
   "metadata": {},
   "source": [
    "##  Общий вывод и рекомендации"
   ]
  },
  {
   "cell_type": "markdown",
   "metadata": {},
   "source": [
    "Проанализированы данные о продажах билетов за осенний период 2024 года (сентябрь-ноябрь). Данные содержали информацию о заказах, пользователях, мероприятиях, ценах и типах устройств.\n",
    "\n",
    "Основные результаты анализа\n",
    "1. Сезонная динамика и популярность мероприятий\n",
    "Осенний рост активности: Зафиксирован рост количества заказов на +41.1%% по сравнению с летним периодом\n",
    "\n",
    "Динамика цен: Средняя цена билета осенью снизилась на 5.2% \n",
    "\n",
    "2. Пользовательская активность\n",
    "Среднее DAU: 930 пользователей\n",
    "Заказов в выходные меньше чем в будни: -17.5%\n",
    "\n",
    "3. Региональное распределение\n",
    "Лидер по выручке: Каменевский регион (36.0% от общей выручки)\n",
    "\n",
    "4. Партнерская сеть\n",
    "Лидер по выручке: №4054 (2.0% от общей выручки)\n",
    "\n",
    "Результаты проверки гипотез\n",
    "Гипотеза 1: Среднее количество заказов на пользователя мобильных устройств выше\n",
    "✓ Отвергаем нулевую гипотезу\n",
    "✓ Подтверждаем, что среднее количество заказов у мобильных пользователей ВЫШЕ\n",
    "\n",
    "Гипотеза 2: Среднее время между заказами мобильных пользователей выше\n",
    "✓ Отвергаем нулевую гипотезу\n",
    "✓ Подтверждаем, что среднее время между заказами у мобильных пользователей ВЫШЕ\n",
    "\n",
    "\n",
    "Выводы\n",
    "\n",
    "Сезонность существенно влияет на поведение пользователей и ценовую политику\n",
    "\n",
    "Высокая концентрация бизнеса в нескольких регионах и у ключевых партнеров\n",
    "\n",
    "Мобильные пользователи демонстрируют наибольшую активность\n",
    "\n",
    "\n",
    "Рекомендации\n",
    "Для маркетинговой стратегии:\n",
    "Усилить активность в выходные дни для максимизации продаж\n",
    "\n",
    "Для развития партнерской сети:\n",
    "Углубить сотрудничество с топ-партнерами, обеспечивающими основную выручку\n",
    "\n",
    "Расширять географическое присутствие в перспективные регионах\n",
    "\n",
    "Для продукта и пользовательского опыта:\n",
    "\n",
    "Оптимизировать десктопное приложение для увеличения частоты покупок\n",
    "\n",
    "Внедрить персонализированные предложения\n",
    "\n",
    "Для управления рисками:\n",
    "Диверсифицировать географическую базу для снижения зависимости от ключевых регионов\n",
    "\n",
    "Разработать стратегию удержания ключевых партнеров\n",
    "\n",
    "Создать систему мониторинга сезонных колебаний спроса\n",
    "\n",
    "Данный анализ предоставляет надежную основу для принятия стратегических решений и оптимизации бизнес-процессов в области продажи билетов.\n",
    "\n"
   ]
  }
 ],
 "metadata": {
  "ExecuteTimeLog": [
   {
    "duration": 60,
    "start_time": "2025-09-26T09:12:54.546Z"
   },
   {
    "duration": 1484,
    "start_time": "2025-09-26T09:13:15.810Z"
   },
   {
    "duration": 919,
    "start_time": "2025-09-26T09:13:23.617Z"
   },
   {
    "duration": 350,
    "start_time": "2025-09-26T09:13:30.358Z"
   },
   {
    "duration": 139,
    "start_time": "2025-09-26T09:13:39.826Z"
   },
   {
    "duration": 32,
    "start_time": "2025-09-26T09:13:46.844Z"
   },
   {
    "duration": 22,
    "start_time": "2025-09-26T09:13:52.928Z"
   },
   {
    "duration": 13,
    "start_time": "2025-09-26T09:13:58.901Z"
   },
   {
    "duration": 281,
    "start_time": "2025-09-26T09:14:28.567Z"
   },
   {
    "duration": 421,
    "start_time": "2025-09-26T09:14:37.343Z"
   },
   {
    "duration": 292,
    "start_time": "2025-09-26T09:14:47.274Z"
   },
   {
    "duration": 1511,
    "start_time": "2025-09-26T09:14:53.931Z"
   },
   {
    "duration": 28,
    "start_time": "2025-09-26T09:15:02.979Z"
   },
   {
    "duration": 568,
    "start_time": "2025-09-26T09:15:09.310Z"
   },
   {
    "duration": 222,
    "start_time": "2025-09-26T09:15:16.603Z"
   },
   {
    "duration": 549,
    "start_time": "2025-09-26T09:15:22.724Z"
   },
   {
    "duration": 630,
    "start_time": "2025-09-26T09:15:30.418Z"
   },
   {
    "duration": 336,
    "start_time": "2025-09-26T09:15:36.134Z"
   },
   {
    "duration": 511,
    "start_time": "2025-09-26T09:15:41.956Z"
   },
   {
    "duration": 204,
    "start_time": "2025-09-26T09:15:48.588Z"
   },
   {
    "duration": 7,
    "start_time": "2025-09-26T09:15:56.963Z"
   },
   {
    "duration": 171,
    "start_time": "2025-09-26T09:16:02.810Z"
   },
   {
    "duration": 340,
    "start_time": "2025-09-26T09:16:08.082Z"
   },
   {
    "duration": 5829,
    "start_time": "2025-09-26T09:16:13.891Z"
   },
   {
    "duration": 22,
    "start_time": "2025-09-26T09:16:20.032Z"
   },
   {
    "duration": 28,
    "start_time": "2025-09-26T09:16:26.350Z"
   },
   {
    "duration": 86,
    "start_time": "2025-09-26T09:16:31.147Z"
   },
   {
    "duration": 107,
    "start_time": "2025-09-26T09:16:43.013Z"
   },
   {
    "duration": 159,
    "start_time": "2025-09-26T10:38:47.522Z"
   },
   {
    "duration": 49,
    "start_time": "2025-09-26T10:39:04.108Z"
   },
   {
    "duration": 36,
    "start_time": "2025-09-26T10:39:10.451Z"
   },
   {
    "duration": 32,
    "start_time": "2025-09-26T10:39:32.126Z"
   },
   {
    "duration": 906,
    "start_time": "2025-09-26T10:41:10.654Z"
   },
   {
    "duration": 27,
    "start_time": "2025-09-26T10:46:16.874Z"
   },
   {
    "duration": 254,
    "start_time": "2025-09-26T10:46:41.908Z"
   },
   {
    "duration": 1111,
    "start_time": "2025-09-26T10:47:21.582Z"
   },
   {
    "duration": 2286,
    "start_time": "2025-09-26T10:48:07.719Z"
   },
   {
    "duration": 744,
    "start_time": "2025-09-26T10:48:38.965Z"
   },
   {
    "duration": 22,
    "start_time": "2025-09-26T10:49:10.440Z"
   },
   {
    "duration": 42,
    "start_time": "2025-09-26T10:53:07.467Z"
   },
   {
    "duration": 14,
    "start_time": "2025-09-26T10:53:27.081Z"
   },
   {
    "duration": 15,
    "start_time": "2025-09-26T10:55:53.940Z"
   },
   {
    "duration": 125,
    "start_time": "2025-09-26T10:58:33.500Z"
   },
   {
    "duration": 1079,
    "start_time": "2025-09-26T10:59:05.946Z"
   },
   {
    "duration": 49,
    "start_time": "2025-09-26T10:59:31.460Z"
   },
   {
    "duration": 2208,
    "start_time": "2025-09-26T10:59:40.613Z"
   },
   {
    "duration": 24,
    "start_time": "2025-09-26T11:00:09.317Z"
   },
   {
    "duration": 28,
    "start_time": "2025-09-26T11:01:11.548Z"
   },
   {
    "duration": 832,
    "start_time": "2025-09-26T11:01:26.743Z"
   },
   {
    "duration": 21,
    "start_time": "2025-09-26T11:01:55.553Z"
   },
   {
    "duration": 14,
    "start_time": "2025-09-26T11:02:06.947Z"
   },
   {
    "duration": 13,
    "start_time": "2025-09-26T11:02:27.434Z"
   },
   {
    "duration": 12,
    "start_time": "2025-09-26T11:02:35.190Z"
   },
   {
    "duration": 109,
    "start_time": "2025-09-26T11:04:29.552Z"
   },
   {
    "duration": 1767,
    "start_time": "2025-09-26T11:04:49.982Z"
   },
   {
    "duration": 21,
    "start_time": "2025-09-26T11:05:31.674Z"
   },
   {
    "duration": 140,
    "start_time": "2025-09-26T11:06:22.254Z"
   },
   {
    "duration": 1462,
    "start_time": "2025-09-26T11:06:43.279Z"
   },
   {
    "duration": 20,
    "start_time": "2025-09-26T11:07:11.436Z"
   },
   {
    "duration": 89,
    "start_time": "2025-09-26T11:08:44.931Z"
   },
   {
    "duration": 107,
    "start_time": "2025-09-26T11:10:46.301Z"
   },
   {
    "duration": 138,
    "start_time": "2025-09-26T11:11:30.169Z"
   },
   {
    "duration": 22,
    "start_time": "2025-09-26T11:12:08.516Z"
   },
   {
    "duration": 30,
    "start_time": "2025-09-26T11:12:35.606Z"
   },
   {
    "duration": 29,
    "start_time": "2025-09-26T11:12:56.153Z"
   },
   {
    "duration": 30,
    "start_time": "2025-09-26T11:13:07.152Z"
   },
   {
    "duration": 38,
    "start_time": "2025-09-26T11:13:22.887Z"
   },
   {
    "duration": 22,
    "start_time": "2025-09-26T11:13:30.796Z"
   },
   {
    "duration": 15,
    "start_time": "2025-09-26T11:16:58.483Z"
   },
   {
    "duration": 417,
    "start_time": "2025-09-26T11:18:31.635Z"
   },
   {
    "duration": 1114,
    "start_time": "2025-09-26T11:19:24.503Z"
   },
   {
    "duration": 397,
    "start_time": "2025-09-26T11:19:41.625Z"
   },
   {
    "duration": 98,
    "start_time": "2025-09-26T11:20:31.576Z"
   },
   {
    "duration": 1329,
    "start_time": "2025-09-26T11:20:39.736Z"
   },
   {
    "duration": 31,
    "start_time": "2025-09-26T11:20:50.747Z"
   },
   {
    "duration": 5171,
    "start_time": "2025-09-26T11:21:10.478Z"
   },
   {
    "duration": 985,
    "start_time": "2025-09-26T11:21:27.985Z"
   },
   {
    "duration": 33,
    "start_time": "2025-09-26T11:21:37.306Z"
   },
   {
    "duration": 22,
    "start_time": "2025-09-26T11:21:50.700Z"
   },
   {
    "duration": 22,
    "start_time": "2025-09-26T11:21:59.514Z"
   },
   {
    "duration": 1218,
    "start_time": "2025-09-26T11:22:09.965Z"
   },
   {
    "duration": 866,
    "start_time": "2025-09-26T11:22:11.185Z"
   },
   {
    "duration": 377,
    "start_time": "2025-09-26T11:22:12.053Z"
   },
   {
    "duration": 147,
    "start_time": "2025-09-26T11:22:12.431Z"
   },
   {
    "duration": 51,
    "start_time": "2025-09-26T11:22:12.581Z"
   },
   {
    "duration": 22,
    "start_time": "2025-09-26T11:22:12.634Z"
   },
   {
    "duration": 15,
    "start_time": "2025-09-26T11:22:12.659Z"
   },
   {
    "duration": 319,
    "start_time": "2025-09-26T11:22:12.676Z"
   },
   {
    "duration": 439,
    "start_time": "2025-09-26T11:22:12.998Z"
   },
   {
    "duration": 331,
    "start_time": "2025-09-26T11:22:13.439Z"
   },
   {
    "duration": 1523,
    "start_time": "2025-09-26T11:22:13.772Z"
   },
   {
    "duration": 36,
    "start_time": "2025-09-26T11:22:15.297Z"
   },
   {
    "duration": 708,
    "start_time": "2025-09-26T11:22:15.335Z"
   },
   {
    "duration": 223,
    "start_time": "2025-09-26T11:22:16.047Z"
   },
   {
    "duration": 588,
    "start_time": "2025-09-26T11:22:16.272Z"
   },
   {
    "duration": 626,
    "start_time": "2025-09-26T11:22:16.862Z"
   },
   {
    "duration": 344,
    "start_time": "2025-09-26T11:22:17.490Z"
   },
   {
    "duration": 536,
    "start_time": "2025-09-26T11:22:17.837Z"
   },
   {
    "duration": 207,
    "start_time": "2025-09-26T11:22:18.376Z"
   },
   {
    "duration": 7,
    "start_time": "2025-09-26T11:22:18.585Z"
   },
   {
    "duration": 190,
    "start_time": "2025-09-26T11:22:18.593Z"
   },
   {
    "duration": 334,
    "start_time": "2025-09-26T11:22:18.784Z"
   },
   {
    "duration": 5907,
    "start_time": "2025-09-26T11:22:19.120Z"
   },
   {
    "duration": 21,
    "start_time": "2025-09-26T11:22:25.029Z"
   },
   {
    "duration": 29,
    "start_time": "2025-09-26T11:22:25.052Z"
   },
   {
    "duration": 129,
    "start_time": "2025-09-26T11:22:25.083Z"
   },
   {
    "duration": 954,
    "start_time": "2025-09-26T11:22:25.214Z"
   },
   {
    "duration": 742,
    "start_time": "2025-09-26T11:22:26.170Z"
   },
   {
    "duration": 0,
    "start_time": "2025-09-26T11:22:26.914Z"
   },
   {
    "duration": 0,
    "start_time": "2025-09-26T11:22:26.916Z"
   },
   {
    "duration": 0,
    "start_time": "2025-09-26T11:22:26.917Z"
   },
   {
    "duration": 0,
    "start_time": "2025-09-26T11:22:26.918Z"
   },
   {
    "duration": 0,
    "start_time": "2025-09-26T11:22:26.920Z"
   },
   {
    "duration": 0,
    "start_time": "2025-09-26T11:22:26.921Z"
   },
   {
    "duration": 0,
    "start_time": "2025-09-26T11:22:26.923Z"
   },
   {
    "duration": 0,
    "start_time": "2025-09-26T11:22:26.924Z"
   },
   {
    "duration": 0,
    "start_time": "2025-09-26T11:22:26.925Z"
   },
   {
    "duration": 0,
    "start_time": "2025-09-26T11:22:26.928Z"
   },
   {
    "duration": 0,
    "start_time": "2025-09-26T11:22:26.929Z"
   },
   {
    "duration": 0,
    "start_time": "2025-09-26T11:22:26.930Z"
   },
   {
    "duration": 0,
    "start_time": "2025-09-26T11:22:26.931Z"
   },
   {
    "duration": 0,
    "start_time": "2025-09-26T11:22:26.933Z"
   },
   {
    "duration": 0,
    "start_time": "2025-09-26T11:22:26.934Z"
   },
   {
    "duration": 0,
    "start_time": "2025-09-26T11:22:26.936Z"
   },
   {
    "duration": 0,
    "start_time": "2025-09-26T11:22:26.937Z"
   },
   {
    "duration": 0,
    "start_time": "2025-09-26T11:22:26.938Z"
   },
   {
    "duration": 0,
    "start_time": "2025-09-26T11:22:26.940Z"
   },
   {
    "duration": 0,
    "start_time": "2025-09-26T11:22:26.941Z"
   },
   {
    "duration": 0,
    "start_time": "2025-09-26T11:22:26.942Z"
   },
   {
    "duration": 1044,
    "start_time": "2025-09-26T11:26:06.361Z"
   },
   {
    "duration": 788,
    "start_time": "2025-09-26T11:26:14.834Z"
   },
   {
    "duration": 123,
    "start_time": "2025-09-26T11:26:18.176Z"
   },
   {
    "duration": 1311,
    "start_time": "2025-09-26T11:26:26.183Z"
   },
   {
    "duration": 860,
    "start_time": "2025-09-26T11:26:27.496Z"
   },
   {
    "duration": 358,
    "start_time": "2025-09-26T11:26:28.358Z"
   },
   {
    "duration": 137,
    "start_time": "2025-09-26T11:26:28.718Z"
   },
   {
    "duration": 32,
    "start_time": "2025-09-26T11:26:28.857Z"
   },
   {
    "duration": 26,
    "start_time": "2025-09-26T11:26:28.891Z"
   },
   {
    "duration": 18,
    "start_time": "2025-09-26T11:26:28.918Z"
   },
   {
    "duration": 304,
    "start_time": "2025-09-26T11:26:28.938Z"
   },
   {
    "duration": 428,
    "start_time": "2025-09-26T11:26:29.244Z"
   },
   {
    "duration": 297,
    "start_time": "2025-09-26T11:26:29.674Z"
   },
   {
    "duration": 1420,
    "start_time": "2025-09-26T11:26:29.973Z"
   },
   {
    "duration": 35,
    "start_time": "2025-09-26T11:26:31.395Z"
   },
   {
    "duration": 606,
    "start_time": "2025-09-26T11:26:31.432Z"
   },
   {
    "duration": 221,
    "start_time": "2025-09-26T11:26:32.042Z"
   },
   {
    "duration": 604,
    "start_time": "2025-09-26T11:26:32.265Z"
   },
   {
    "duration": 629,
    "start_time": "2025-09-26T11:26:32.871Z"
   },
   {
    "duration": 358,
    "start_time": "2025-09-26T11:26:33.502Z"
   },
   {
    "duration": 550,
    "start_time": "2025-09-26T11:26:33.861Z"
   },
   {
    "duration": 228,
    "start_time": "2025-09-26T11:26:34.413Z"
   },
   {
    "duration": 8,
    "start_time": "2025-09-26T11:26:34.643Z"
   },
   {
    "duration": 215,
    "start_time": "2025-09-26T11:26:34.653Z"
   },
   {
    "duration": 336,
    "start_time": "2025-09-26T11:26:34.871Z"
   },
   {
    "duration": 5920,
    "start_time": "2025-09-26T11:26:35.208Z"
   },
   {
    "duration": 22,
    "start_time": "2025-09-26T11:26:41.129Z"
   },
   {
    "duration": 33,
    "start_time": "2025-09-26T11:26:41.153Z"
   },
   {
    "duration": 136,
    "start_time": "2025-09-26T11:26:41.188Z"
   },
   {
    "duration": 1055,
    "start_time": "2025-09-26T11:26:41.325Z"
   },
   {
    "duration": 1225,
    "start_time": "2025-09-26T11:26:42.382Z"
   },
   {
    "duration": 0,
    "start_time": "2025-09-26T11:26:43.609Z"
   },
   {
    "duration": 0,
    "start_time": "2025-09-26T11:26:43.611Z"
   },
   {
    "duration": 0,
    "start_time": "2025-09-26T11:26:43.612Z"
   },
   {
    "duration": 0,
    "start_time": "2025-09-26T11:26:43.614Z"
   },
   {
    "duration": 0,
    "start_time": "2025-09-26T11:26:43.615Z"
   },
   {
    "duration": 0,
    "start_time": "2025-09-26T11:26:43.616Z"
   },
   {
    "duration": 0,
    "start_time": "2025-09-26T11:26:43.617Z"
   },
   {
    "duration": 0,
    "start_time": "2025-09-26T11:26:43.618Z"
   },
   {
    "duration": 0,
    "start_time": "2025-09-26T11:26:43.620Z"
   },
   {
    "duration": 0,
    "start_time": "2025-09-26T11:26:43.621Z"
   },
   {
    "duration": 0,
    "start_time": "2025-09-26T11:26:43.622Z"
   },
   {
    "duration": 0,
    "start_time": "2025-09-26T11:26:43.624Z"
   },
   {
    "duration": 0,
    "start_time": "2025-09-26T11:26:43.625Z"
   },
   {
    "duration": 0,
    "start_time": "2025-09-26T11:26:43.627Z"
   },
   {
    "duration": 0,
    "start_time": "2025-09-26T11:26:43.628Z"
   },
   {
    "duration": 0,
    "start_time": "2025-09-26T11:26:43.630Z"
   },
   {
    "duration": 0,
    "start_time": "2025-09-26T11:26:43.631Z"
   },
   {
    "duration": 0,
    "start_time": "2025-09-26T11:26:43.633Z"
   },
   {
    "duration": 0,
    "start_time": "2025-09-26T11:26:43.635Z"
   },
   {
    "duration": 0,
    "start_time": "2025-09-26T11:26:43.636Z"
   },
   {
    "duration": 0,
    "start_time": "2025-09-26T11:26:43.637Z"
   },
   {
    "duration": 994,
    "start_time": "2025-09-26T11:27:10.697Z"
   },
   {
    "duration": 2053,
    "start_time": "2025-09-26T11:27:20.860Z"
   },
   {
    "duration": 27,
    "start_time": "2025-09-26T11:29:14.635Z"
   },
   {
    "duration": 276,
    "start_time": "2025-09-26T11:29:44.021Z"
   },
   {
    "duration": 523,
    "start_time": "2025-09-26T11:30:01.552Z"
   },
   {
    "duration": 514,
    "start_time": "2025-09-26T11:32:02.621Z"
   },
   {
    "duration": 743,
    "start_time": "2025-09-26T11:32:10.757Z"
   },
   {
    "duration": 1275,
    "start_time": "2025-09-26T11:32:41.812Z"
   },
   {
    "duration": 1713,
    "start_time": "2025-09-26T11:32:56.000Z"
   },
   {
    "duration": 1249,
    "start_time": "2025-09-26T11:33:15.648Z"
   },
   {
    "duration": 927,
    "start_time": "2025-09-26T11:33:16.900Z"
   },
   {
    "duration": 366,
    "start_time": "2025-09-26T11:33:17.829Z"
   },
   {
    "duration": 138,
    "start_time": "2025-09-26T11:33:18.198Z"
   },
   {
    "duration": 32,
    "start_time": "2025-09-26T11:33:18.338Z"
   },
   {
    "duration": 23,
    "start_time": "2025-09-26T11:33:18.372Z"
   },
   {
    "duration": 16,
    "start_time": "2025-09-26T11:33:18.407Z"
   },
   {
    "duration": 311,
    "start_time": "2025-09-26T11:33:18.425Z"
   },
   {
    "duration": 442,
    "start_time": "2025-09-26T11:33:18.737Z"
   },
   {
    "duration": 302,
    "start_time": "2025-09-26T11:33:19.182Z"
   },
   {
    "duration": 1446,
    "start_time": "2025-09-26T11:33:19.485Z"
   },
   {
    "duration": 30,
    "start_time": "2025-09-26T11:33:20.933Z"
   },
   {
    "duration": 590,
    "start_time": "2025-09-26T11:33:20.965Z"
   },
   {
    "duration": 314,
    "start_time": "2025-09-26T11:33:21.557Z"
   },
   {
    "duration": 511,
    "start_time": "2025-09-26T11:33:21.873Z"
   },
   {
    "duration": 715,
    "start_time": "2025-09-26T11:33:22.387Z"
   },
   {
    "duration": 342,
    "start_time": "2025-09-26T11:33:23.107Z"
   },
   {
    "duration": 573,
    "start_time": "2025-09-26T11:33:23.451Z"
   },
   {
    "duration": 213,
    "start_time": "2025-09-26T11:33:24.026Z"
   },
   {
    "duration": 8,
    "start_time": "2025-09-26T11:33:24.240Z"
   },
   {
    "duration": 297,
    "start_time": "2025-09-26T11:33:24.250Z"
   },
   {
    "duration": 338,
    "start_time": "2025-09-26T11:33:24.549Z"
   },
   {
    "duration": 5970,
    "start_time": "2025-09-26T11:33:24.889Z"
   },
   {
    "duration": 21,
    "start_time": "2025-09-26T11:33:30.861Z"
   },
   {
    "duration": 56,
    "start_time": "2025-09-26T11:33:30.884Z"
   },
   {
    "duration": 119,
    "start_time": "2025-09-26T11:33:30.942Z"
   },
   {
    "duration": 909,
    "start_time": "2025-09-26T11:33:31.063Z"
   },
   {
    "duration": 2330,
    "start_time": "2025-09-26T11:33:31.976Z"
   },
   {
    "duration": 0,
    "start_time": "2025-09-26T11:33:34.308Z"
   },
   {
    "duration": 0,
    "start_time": "2025-09-26T11:33:34.309Z"
   },
   {
    "duration": 0,
    "start_time": "2025-09-26T11:33:34.311Z"
   },
   {
    "duration": 0,
    "start_time": "2025-09-26T11:33:34.312Z"
   },
   {
    "duration": 0,
    "start_time": "2025-09-26T11:33:34.313Z"
   },
   {
    "duration": 0,
    "start_time": "2025-09-26T11:33:34.314Z"
   },
   {
    "duration": 0,
    "start_time": "2025-09-26T11:33:34.316Z"
   },
   {
    "duration": 0,
    "start_time": "2025-09-26T11:33:34.317Z"
   },
   {
    "duration": 0,
    "start_time": "2025-09-26T11:33:34.319Z"
   },
   {
    "duration": 0,
    "start_time": "2025-09-26T11:33:34.321Z"
   },
   {
    "duration": 0,
    "start_time": "2025-09-26T11:33:34.322Z"
   },
   {
    "duration": 0,
    "start_time": "2025-09-26T11:33:34.323Z"
   },
   {
    "duration": 0,
    "start_time": "2025-09-26T11:33:34.324Z"
   },
   {
    "duration": 0,
    "start_time": "2025-09-26T11:33:34.326Z"
   },
   {
    "duration": 0,
    "start_time": "2025-09-26T11:33:34.327Z"
   },
   {
    "duration": 0,
    "start_time": "2025-09-26T11:33:34.329Z"
   },
   {
    "duration": 0,
    "start_time": "2025-09-26T11:33:34.330Z"
   },
   {
    "duration": 0,
    "start_time": "2025-09-26T11:33:34.331Z"
   },
   {
    "duration": 0,
    "start_time": "2025-09-26T11:33:34.332Z"
   },
   {
    "duration": 0,
    "start_time": "2025-09-26T11:33:34.333Z"
   },
   {
    "duration": 0,
    "start_time": "2025-09-26T11:33:34.335Z"
   },
   {
    "duration": 1847,
    "start_time": "2025-09-26T11:49:17.165Z"
   },
   {
    "duration": 1302,
    "start_time": "2025-09-26T11:49:35.425Z"
   },
   {
    "duration": 964,
    "start_time": "2025-09-26T11:49:36.729Z"
   },
   {
    "duration": 375,
    "start_time": "2025-09-26T11:49:37.695Z"
   },
   {
    "duration": 145,
    "start_time": "2025-09-26T11:49:38.073Z"
   },
   {
    "duration": 33,
    "start_time": "2025-09-26T11:49:38.220Z"
   },
   {
    "duration": 24,
    "start_time": "2025-09-26T11:49:38.254Z"
   },
   {
    "duration": 80,
    "start_time": "2025-09-26T11:49:38.280Z"
   },
   {
    "duration": 316,
    "start_time": "2025-09-26T11:49:38.361Z"
   },
   {
    "duration": 462,
    "start_time": "2025-09-26T11:49:38.679Z"
   },
   {
    "duration": 305,
    "start_time": "2025-09-26T11:49:39.144Z"
   },
   {
    "duration": 1481,
    "start_time": "2025-09-26T11:49:39.451Z"
   },
   {
    "duration": 29,
    "start_time": "2025-09-26T11:49:40.934Z"
   },
   {
    "duration": 595,
    "start_time": "2025-09-26T11:49:40.965Z"
   },
   {
    "duration": 232,
    "start_time": "2025-09-26T11:49:41.562Z"
   },
   {
    "duration": 592,
    "start_time": "2025-09-26T11:49:41.795Z"
   },
   {
    "duration": 630,
    "start_time": "2025-09-26T11:49:42.389Z"
   },
   {
    "duration": 350,
    "start_time": "2025-09-26T11:49:43.021Z"
   },
   {
    "duration": 562,
    "start_time": "2025-09-26T11:49:43.373Z"
   },
   {
    "duration": 215,
    "start_time": "2025-09-26T11:49:43.937Z"
   },
   {
    "duration": 7,
    "start_time": "2025-09-26T11:49:44.154Z"
   },
   {
    "duration": 304,
    "start_time": "2025-09-26T11:49:44.163Z"
   },
   {
    "duration": 323,
    "start_time": "2025-09-26T11:49:44.472Z"
   },
   {
    "duration": 5924,
    "start_time": "2025-09-26T11:49:44.797Z"
   },
   {
    "duration": 22,
    "start_time": "2025-09-26T11:49:50.723Z"
   },
   {
    "duration": 29,
    "start_time": "2025-09-26T11:49:50.747Z"
   },
   {
    "duration": 134,
    "start_time": "2025-09-26T11:49:50.778Z"
   },
   {
    "duration": 954,
    "start_time": "2025-09-26T11:49:50.914Z"
   },
   {
    "duration": 1857,
    "start_time": "2025-09-26T11:49:51.872Z"
   },
   {
    "duration": 813,
    "start_time": "2025-09-26T11:49:53.732Z"
   },
   {
    "duration": 24,
    "start_time": "2025-09-26T11:49:54.547Z"
   },
   {
    "duration": 145,
    "start_time": "2025-09-26T11:49:54.574Z"
   },
   {
    "duration": 1125,
    "start_time": "2025-09-26T11:49:54.721Z"
   },
   {
    "duration": 71,
    "start_time": "2025-09-26T11:49:55.848Z"
   },
   {
    "duration": 1234,
    "start_time": "2025-09-26T11:49:55.921Z"
   },
   {
    "duration": 0,
    "start_time": "2025-09-26T11:49:57.157Z"
   },
   {
    "duration": 0,
    "start_time": "2025-09-26T11:49:57.159Z"
   },
   {
    "duration": 0,
    "start_time": "2025-09-26T11:49:57.160Z"
   },
   {
    "duration": 0,
    "start_time": "2025-09-26T11:49:57.162Z"
   },
   {
    "duration": 0,
    "start_time": "2025-09-26T11:49:57.163Z"
   },
   {
    "duration": 0,
    "start_time": "2025-09-26T11:49:57.164Z"
   },
   {
    "duration": 0,
    "start_time": "2025-09-26T11:49:57.166Z"
   },
   {
    "duration": 0,
    "start_time": "2025-09-26T11:49:57.168Z"
   },
   {
    "duration": 0,
    "start_time": "2025-09-26T11:49:57.169Z"
   },
   {
    "duration": 0,
    "start_time": "2025-09-26T11:49:57.171Z"
   },
   {
    "duration": 0,
    "start_time": "2025-09-26T11:49:57.172Z"
   },
   {
    "duration": 0,
    "start_time": "2025-09-26T11:49:57.206Z"
   },
   {
    "duration": 0,
    "start_time": "2025-09-26T11:49:57.208Z"
   },
   {
    "duration": 0,
    "start_time": "2025-09-26T11:49:57.209Z"
   },
   {
    "duration": 0,
    "start_time": "2025-09-26T11:49:57.211Z"
   },
   {
    "duration": 2163,
    "start_time": "2025-09-26T11:52:38.592Z"
   },
   {
    "duration": 1289,
    "start_time": "2025-09-26T11:52:53.689Z"
   },
   {
    "duration": 873,
    "start_time": "2025-09-26T11:52:54.980Z"
   },
   {
    "duration": 361,
    "start_time": "2025-09-26T11:52:55.855Z"
   },
   {
    "duration": 140,
    "start_time": "2025-09-26T11:52:56.218Z"
   },
   {
    "duration": 32,
    "start_time": "2025-09-26T11:52:56.359Z"
   },
   {
    "duration": 23,
    "start_time": "2025-09-26T11:52:56.393Z"
   },
   {
    "duration": 15,
    "start_time": "2025-09-26T11:52:56.418Z"
   },
   {
    "duration": 306,
    "start_time": "2025-09-26T11:52:56.435Z"
   },
   {
    "duration": 445,
    "start_time": "2025-09-26T11:52:56.744Z"
   },
   {
    "duration": 310,
    "start_time": "2025-09-26T11:52:57.192Z"
   },
   {
    "duration": 1466,
    "start_time": "2025-09-26T11:52:57.506Z"
   },
   {
    "duration": 43,
    "start_time": "2025-09-26T11:52:58.974Z"
   },
   {
    "duration": 559,
    "start_time": "2025-09-26T11:52:59.018Z"
   },
   {
    "duration": 232,
    "start_time": "2025-09-26T11:52:59.578Z"
   },
   {
    "duration": 571,
    "start_time": "2025-09-26T11:52:59.812Z"
   },
   {
    "duration": 644,
    "start_time": "2025-09-26T11:53:00.385Z"
   },
   {
    "duration": 346,
    "start_time": "2025-09-26T11:53:01.031Z"
   },
   {
    "duration": 548,
    "start_time": "2025-09-26T11:53:01.379Z"
   },
   {
    "duration": 218,
    "start_time": "2025-09-26T11:53:01.930Z"
   },
   {
    "duration": 7,
    "start_time": "2025-09-26T11:53:02.150Z"
   },
   {
    "duration": 280,
    "start_time": "2025-09-26T11:53:02.159Z"
   },
   {
    "duration": 366,
    "start_time": "2025-09-26T11:53:02.441Z"
   },
   {
    "duration": 5907,
    "start_time": "2025-09-26T11:53:02.808Z"
   },
   {
    "duration": 21,
    "start_time": "2025-09-26T11:53:08.717Z"
   },
   {
    "duration": 30,
    "start_time": "2025-09-26T11:53:08.739Z"
   },
   {
    "duration": 126,
    "start_time": "2025-09-26T11:53:08.771Z"
   },
   {
    "duration": 941,
    "start_time": "2025-09-26T11:53:08.907Z"
   },
   {
    "duration": 1843,
    "start_time": "2025-09-26T11:53:09.852Z"
   },
   {
    "duration": 802,
    "start_time": "2025-09-26T11:53:11.696Z"
   },
   {
    "duration": 19,
    "start_time": "2025-09-26T11:53:12.507Z"
   },
   {
    "duration": 132,
    "start_time": "2025-09-26T11:53:12.529Z"
   },
   {
    "duration": 1168,
    "start_time": "2025-09-26T11:53:12.663Z"
   },
   {
    "duration": 77,
    "start_time": "2025-09-26T11:53:13.833Z"
   },
   {
    "duration": 2056,
    "start_time": "2025-09-26T11:53:13.912Z"
   },
   {
    "duration": 16,
    "start_time": "2025-09-26T11:53:15.970Z"
   },
   {
    "duration": 125,
    "start_time": "2025-09-26T11:53:15.988Z"
   },
   {
    "duration": 508,
    "start_time": "2025-09-26T11:53:16.115Z"
   },
   {
    "duration": 0,
    "start_time": "2025-09-26T11:53:16.625Z"
   },
   {
    "duration": 0,
    "start_time": "2025-09-26T11:53:16.627Z"
   },
   {
    "duration": 0,
    "start_time": "2025-09-26T11:53:16.629Z"
   },
   {
    "duration": 0,
    "start_time": "2025-09-26T11:53:16.631Z"
   },
   {
    "duration": 0,
    "start_time": "2025-09-26T11:53:16.633Z"
   },
   {
    "duration": 0,
    "start_time": "2025-09-26T11:53:16.634Z"
   },
   {
    "duration": 0,
    "start_time": "2025-09-26T11:53:16.636Z"
   },
   {
    "duration": 0,
    "start_time": "2025-09-26T11:53:16.637Z"
   },
   {
    "duration": 0,
    "start_time": "2025-09-26T11:53:16.639Z"
   },
   {
    "duration": 0,
    "start_time": "2025-09-26T11:53:16.641Z"
   },
   {
    "duration": 0,
    "start_time": "2025-09-26T11:53:16.643Z"
   },
   {
    "duration": 0,
    "start_time": "2025-09-26T11:53:16.644Z"
   },
   {
    "duration": 1325,
    "start_time": "2025-09-26T11:53:45.198Z"
   },
   {
    "duration": 1639,
    "start_time": "2025-09-26T11:53:57.778Z"
   },
   {
    "duration": 134,
    "start_time": "2025-09-26T11:54:02.848Z"
   },
   {
    "duration": 383,
    "start_time": "2025-09-26T11:54:05.641Z"
   },
   {
    "duration": 1473,
    "start_time": "2025-09-26T11:54:21.718Z"
   },
   {
    "duration": 264,
    "start_time": "2025-09-26T11:54:26.415Z"
   },
   {
    "duration": 24,
    "start_time": "2025-09-26T11:54:27.682Z"
   },
   {
    "duration": 464,
    "start_time": "2025-09-26T11:54:30.443Z"
   },
   {
    "duration": 117,
    "start_time": "2025-09-26T11:54:33.558Z"
   },
   {
    "duration": 1327,
    "start_time": "2025-09-26T11:54:36.608Z"
   },
   {
    "duration": 34,
    "start_time": "2025-09-26T11:54:41.085Z"
   },
   {
    "duration": 5268,
    "start_time": "2025-09-26T11:54:43.032Z"
   },
   {
    "duration": 1067,
    "start_time": "2025-09-26T11:54:48.302Z"
   },
   {
    "duration": 50,
    "start_time": "2025-09-26T11:54:53.599Z"
   },
   {
    "duration": 21,
    "start_time": "2025-09-26T11:54:57.867Z"
   },
   {
    "duration": 918,
    "start_time": "2025-09-26T13:20:42.431Z"
   },
   {
    "duration": 1732,
    "start_time": "2025-09-26T13:20:49.060Z"
   },
   {
    "duration": 1679,
    "start_time": "2025-09-26T13:20:59.439Z"
   },
   {
    "duration": 886,
    "start_time": "2025-09-26T13:21:07.147Z"
   },
   {
    "duration": 118,
    "start_time": "2025-09-26T13:21:15.495Z"
   },
   {
    "duration": 1440,
    "start_time": "2025-09-27T03:48:15.657Z"
   },
   {
    "duration": 1215,
    "start_time": "2025-09-27T03:48:17.100Z"
   },
   {
    "duration": 334,
    "start_time": "2025-09-27T03:48:18.316Z"
   },
   {
    "duration": 131,
    "start_time": "2025-09-27T03:48:18.651Z"
   },
   {
    "duration": 30,
    "start_time": "2025-09-27T03:48:18.784Z"
   },
   {
    "duration": 24,
    "start_time": "2025-09-27T03:48:18.815Z"
   },
   {
    "duration": 15,
    "start_time": "2025-09-27T03:48:18.840Z"
   },
   {
    "duration": 301,
    "start_time": "2025-09-27T03:48:18.856Z"
   },
   {
    "duration": 421,
    "start_time": "2025-09-27T03:48:19.159Z"
   },
   {
    "duration": 303,
    "start_time": "2025-09-27T03:48:19.582Z"
   },
   {
    "duration": 1488,
    "start_time": "2025-09-27T03:48:19.887Z"
   },
   {
    "duration": 30,
    "start_time": "2025-09-27T03:48:21.377Z"
   },
   {
    "duration": 563,
    "start_time": "2025-09-27T03:48:21.409Z"
   },
   {
    "duration": 221,
    "start_time": "2025-09-27T03:48:21.976Z"
   },
   {
    "duration": 569,
    "start_time": "2025-09-27T03:48:22.199Z"
   },
   {
    "duration": 579,
    "start_time": "2025-09-27T03:48:22.770Z"
   },
   {
    "duration": 324,
    "start_time": "2025-09-27T03:48:23.351Z"
   },
   {
    "duration": 554,
    "start_time": "2025-09-27T03:48:23.677Z"
   },
   {
    "duration": 212,
    "start_time": "2025-09-27T03:48:24.233Z"
   },
   {
    "duration": 7,
    "start_time": "2025-09-27T03:48:24.447Z"
   },
   {
    "duration": 187,
    "start_time": "2025-09-27T03:48:24.455Z"
   },
   {
    "duration": 326,
    "start_time": "2025-09-27T03:48:24.643Z"
   },
   {
    "duration": 5692,
    "start_time": "2025-09-27T03:48:24.970Z"
   },
   {
    "duration": 21,
    "start_time": "2025-09-27T03:48:30.664Z"
   },
   {
    "duration": 51,
    "start_time": "2025-09-27T03:48:30.686Z"
   },
   {
    "duration": 112,
    "start_time": "2025-09-27T03:48:30.738Z"
   },
   {
    "duration": 919,
    "start_time": "2025-09-27T03:48:30.852Z"
   },
   {
    "duration": 1746,
    "start_time": "2025-09-27T03:48:31.773Z"
   },
   {
    "duration": 800,
    "start_time": "2025-09-27T03:48:33.521Z"
   },
   {
    "duration": 22,
    "start_time": "2025-09-27T03:48:34.330Z"
   },
   {
    "duration": 133,
    "start_time": "2025-09-27T03:48:34.353Z"
   },
   {
    "duration": 1112,
    "start_time": "2025-09-27T03:48:34.488Z"
   },
   {
    "duration": 67,
    "start_time": "2025-09-27T03:48:35.602Z"
   },
   {
    "duration": 2072,
    "start_time": "2025-09-27T03:48:35.671Z"
   },
   {
    "duration": 15,
    "start_time": "2025-09-27T03:48:37.745Z"
   },
   {
    "duration": 119,
    "start_time": "2025-09-27T03:48:37.762Z"
   },
   {
    "duration": 1730,
    "start_time": "2025-09-27T03:48:37.883Z"
   },
   {
    "duration": 135,
    "start_time": "2025-09-27T03:48:39.615Z"
   },
   {
    "duration": 1389,
    "start_time": "2025-09-27T03:48:39.752Z"
   },
   {
    "duration": 145,
    "start_time": "2025-09-27T03:48:41.143Z"
   },
   {
    "duration": 22,
    "start_time": "2025-09-27T03:48:41.292Z"
   },
   {
    "duration": 477,
    "start_time": "2025-09-27T03:48:41.316Z"
   },
   {
    "duration": 106,
    "start_time": "2025-09-27T03:48:41.794Z"
   },
   {
    "duration": 1320,
    "start_time": "2025-09-27T03:48:41.901Z"
   },
   {
    "duration": 31,
    "start_time": "2025-09-27T03:48:43.230Z"
   },
   {
    "duration": 5229,
    "start_time": "2025-09-27T03:48:43.263Z"
   },
   {
    "duration": 948,
    "start_time": "2025-09-27T03:48:48.493Z"
   },
   {
    "duration": 30,
    "start_time": "2025-09-27T03:48:49.444Z"
   },
   {
    "duration": 18,
    "start_time": "2025-09-27T03:48:49.476Z"
   },
   {
    "duration": 31,
    "start_time": "2025-09-27T03:59:06.840Z"
   },
   {
    "duration": 1074,
    "start_time": "2025-09-27T04:08:55.994Z"
   },
   {
    "duration": 8,
    "start_time": "2025-09-27T04:13:11.956Z"
   },
   {
    "duration": 101,
    "start_time": "2025-09-27T04:13:26.873Z"
   },
   {
    "duration": 118,
    "start_time": "2025-09-27T04:14:12.851Z"
   },
   {
    "duration": 368,
    "start_time": "2025-09-27T04:22:22.925Z"
   },
   {
    "duration": 33,
    "start_time": "2025-09-27T04:40:00.087Z"
   },
   {
    "duration": 32,
    "start_time": "2025-09-27T04:41:18.924Z"
   },
   {
    "duration": 1266,
    "start_time": "2025-09-27T06:09:44.921Z"
   },
   {
    "duration": 995,
    "start_time": "2025-09-27T06:09:46.189Z"
   },
   {
    "duration": 335,
    "start_time": "2025-09-27T06:09:47.185Z"
   },
   {
    "duration": 134,
    "start_time": "2025-09-27T06:09:47.522Z"
   },
   {
    "duration": 30,
    "start_time": "2025-09-27T06:09:47.658Z"
   },
   {
    "duration": 21,
    "start_time": "2025-09-27T06:09:47.690Z"
   },
   {
    "duration": 23,
    "start_time": "2025-09-27T06:09:47.712Z"
   },
   {
    "duration": 278,
    "start_time": "2025-09-27T06:09:47.737Z"
   },
   {
    "duration": 413,
    "start_time": "2025-09-27T06:09:48.017Z"
   },
   {
    "duration": 277,
    "start_time": "2025-09-27T06:09:48.433Z"
   },
   {
    "duration": 1526,
    "start_time": "2025-09-27T06:09:48.711Z"
   },
   {
    "duration": 28,
    "start_time": "2025-09-27T06:09:50.239Z"
   },
   {
    "duration": 590,
    "start_time": "2025-09-27T06:09:50.269Z"
   },
   {
    "duration": 205,
    "start_time": "2025-09-27T06:09:50.861Z"
   },
   {
    "duration": 551,
    "start_time": "2025-09-27T06:09:51.068Z"
   },
   {
    "duration": 550,
    "start_time": "2025-09-27T06:09:51.621Z"
   },
   {
    "duration": 334,
    "start_time": "2025-09-27T06:09:52.173Z"
   },
   {
    "duration": 546,
    "start_time": "2025-09-27T06:09:52.509Z"
   },
   {
    "duration": 212,
    "start_time": "2025-09-27T06:09:53.058Z"
   },
   {
    "duration": 7,
    "start_time": "2025-09-27T06:09:53.272Z"
   },
   {
    "duration": 226,
    "start_time": "2025-09-27T06:09:53.281Z"
   },
   {
    "duration": 334,
    "start_time": "2025-09-27T06:09:53.509Z"
   },
   {
    "duration": 5705,
    "start_time": "2025-09-27T06:09:53.845Z"
   },
   {
    "duration": 20,
    "start_time": "2025-09-27T06:09:59.551Z"
   },
   {
    "duration": 30,
    "start_time": "2025-09-27T06:09:59.572Z"
   },
   {
    "duration": 122,
    "start_time": "2025-09-27T06:09:59.603Z"
   },
   {
    "duration": 939,
    "start_time": "2025-09-27T06:09:59.731Z"
   },
   {
    "duration": 1872,
    "start_time": "2025-09-27T06:10:00.674Z"
   },
   {
    "duration": 785,
    "start_time": "2025-09-27T06:10:02.548Z"
   },
   {
    "duration": 122,
    "start_time": "2025-09-27T06:10:03.335Z"
   },
   {
    "duration": 1107,
    "start_time": "2025-09-27T06:10:03.459Z"
   },
   {
    "duration": 75,
    "start_time": "2025-09-27T06:10:04.568Z"
   },
   {
    "duration": 1088,
    "start_time": "2025-09-27T06:10:04.645Z"
   },
   {
    "duration": 118,
    "start_time": "2025-09-27T06:10:05.735Z"
   },
   {
    "duration": 140,
    "start_time": "2025-09-27T06:10:05.856Z"
   },
   {
    "duration": 147,
    "start_time": "2025-09-27T06:10:05.998Z"
   },
   {
    "duration": 450,
    "start_time": "2025-09-27T06:10:06.147Z"
   },
   {
    "duration": 107,
    "start_time": "2025-09-27T06:10:06.599Z"
   },
   {
    "duration": 41,
    "start_time": "2025-09-27T06:10:06.708Z"
   },
   {
    "duration": 5151,
    "start_time": "2025-09-27T06:10:06.750Z"
   },
   {
    "duration": 43,
    "start_time": "2025-09-27T06:10:11.903Z"
   },
   {
    "duration": 67,
    "start_time": "2025-09-29T05:21:52.784Z"
   },
   {
    "duration": 57,
    "start_time": "2025-09-29T05:21:59.060Z"
   },
   {
    "duration": 63,
    "start_time": "2025-09-29T05:22:15.669Z"
   },
   {
    "duration": 1297,
    "start_time": "2025-09-29T05:22:27.481Z"
   },
   {
    "duration": 734,
    "start_time": "2025-09-29T05:22:28.781Z"
   },
   {
    "duration": 304,
    "start_time": "2025-09-29T05:22:29.518Z"
   },
   {
    "duration": 122,
    "start_time": "2025-09-29T05:22:29.824Z"
   },
   {
    "duration": 33,
    "start_time": "2025-09-29T05:22:29.948Z"
   },
   {
    "duration": 104,
    "start_time": "2025-09-29T05:22:29.983Z"
   },
   {
    "duration": 22,
    "start_time": "2025-09-29T05:22:30.089Z"
   },
   {
    "duration": 49,
    "start_time": "2025-09-29T05:22:30.112Z"
   },
   {
    "duration": 0,
    "start_time": "2025-09-29T05:22:30.163Z"
   },
   {
    "duration": 0,
    "start_time": "2025-09-29T05:22:30.165Z"
   },
   {
    "duration": 0,
    "start_time": "2025-09-29T05:22:30.166Z"
   },
   {
    "duration": 0,
    "start_time": "2025-09-29T05:22:30.167Z"
   },
   {
    "duration": 0,
    "start_time": "2025-09-29T05:22:30.168Z"
   },
   {
    "duration": 0,
    "start_time": "2025-09-29T05:22:30.169Z"
   },
   {
    "duration": 0,
    "start_time": "2025-09-29T05:22:30.170Z"
   },
   {
    "duration": 0,
    "start_time": "2025-09-29T05:22:30.172Z"
   },
   {
    "duration": 0,
    "start_time": "2025-09-29T05:22:30.173Z"
   },
   {
    "duration": 0,
    "start_time": "2025-09-29T05:22:30.174Z"
   },
   {
    "duration": 0,
    "start_time": "2025-09-29T05:22:30.175Z"
   },
   {
    "duration": 0,
    "start_time": "2025-09-29T05:22:30.177Z"
   },
   {
    "duration": 0,
    "start_time": "2025-09-29T05:22:30.178Z"
   },
   {
    "duration": 0,
    "start_time": "2025-09-29T05:22:30.179Z"
   },
   {
    "duration": 0,
    "start_time": "2025-09-29T05:22:30.180Z"
   },
   {
    "duration": 0,
    "start_time": "2025-09-29T05:22:30.181Z"
   },
   {
    "duration": 0,
    "start_time": "2025-09-29T05:22:30.182Z"
   },
   {
    "duration": 0,
    "start_time": "2025-09-29T05:22:30.184Z"
   },
   {
    "duration": 0,
    "start_time": "2025-09-29T05:22:30.185Z"
   },
   {
    "duration": 0,
    "start_time": "2025-09-29T05:22:30.186Z"
   },
   {
    "duration": 0,
    "start_time": "2025-09-29T05:22:30.187Z"
   },
   {
    "duration": 1,
    "start_time": "2025-09-29T05:22:30.188Z"
   },
   {
    "duration": 0,
    "start_time": "2025-09-29T05:22:30.190Z"
   },
   {
    "duration": 0,
    "start_time": "2025-09-29T05:22:30.191Z"
   },
   {
    "duration": 0,
    "start_time": "2025-09-29T05:22:30.192Z"
   },
   {
    "duration": 0,
    "start_time": "2025-09-29T05:22:30.194Z"
   },
   {
    "duration": 0,
    "start_time": "2025-09-29T05:22:30.195Z"
   },
   {
    "duration": 0,
    "start_time": "2025-09-29T05:22:30.196Z"
   },
   {
    "duration": 0,
    "start_time": "2025-09-29T05:22:30.197Z"
   },
   {
    "duration": 0,
    "start_time": "2025-09-29T05:22:30.256Z"
   },
   {
    "duration": 0,
    "start_time": "2025-09-29T05:22:30.258Z"
   },
   {
    "duration": 0,
    "start_time": "2025-09-29T05:22:30.259Z"
   },
   {
    "duration": 0,
    "start_time": "2025-09-29T05:22:30.260Z"
   },
   {
    "duration": 0,
    "start_time": "2025-09-29T05:22:30.261Z"
   },
   {
    "duration": 0,
    "start_time": "2025-09-29T05:22:30.262Z"
   },
   {
    "duration": 0,
    "start_time": "2025-09-29T05:22:30.263Z"
   },
   {
    "duration": 0,
    "start_time": "2025-09-29T05:22:30.264Z"
   },
   {
    "duration": 0,
    "start_time": "2025-09-29T05:22:30.265Z"
   },
   {
    "duration": 0,
    "start_time": "2025-09-29T05:22:30.266Z"
   },
   {
    "duration": 0,
    "start_time": "2025-09-29T05:22:30.267Z"
   },
   {
    "duration": 0,
    "start_time": "2025-09-29T05:22:30.268Z"
   },
   {
    "duration": 0,
    "start_time": "2025-09-29T05:22:30.269Z"
   },
   {
    "duration": 0,
    "start_time": "2025-09-29T05:22:30.271Z"
   },
   {
    "duration": 1171,
    "start_time": "2025-09-29T05:23:49.434Z"
   },
   {
    "duration": 739,
    "start_time": "2025-09-29T05:23:50.607Z"
   },
   {
    "duration": 300,
    "start_time": "2025-09-29T05:23:51.348Z"
   },
   {
    "duration": 119,
    "start_time": "2025-09-29T05:23:51.655Z"
   },
   {
    "duration": 26,
    "start_time": "2025-09-29T05:23:51.777Z"
   },
   {
    "duration": 21,
    "start_time": "2025-09-29T05:23:51.805Z"
   },
   {
    "duration": 14,
    "start_time": "2025-09-29T05:23:51.827Z"
   },
   {
    "duration": 262,
    "start_time": "2025-09-29T05:23:51.842Z"
   },
   {
    "duration": 399,
    "start_time": "2025-09-29T05:23:52.105Z"
   },
   {
    "duration": 258,
    "start_time": "2025-09-29T05:23:52.506Z"
   },
   {
    "duration": 1262,
    "start_time": "2025-09-29T05:23:52.765Z"
   },
   {
    "duration": 34,
    "start_time": "2025-09-29T05:23:54.029Z"
   },
   {
    "duration": 510,
    "start_time": "2025-09-29T05:23:54.065Z"
   },
   {
    "duration": 197,
    "start_time": "2025-09-29T05:23:54.578Z"
   },
   {
    "duration": 520,
    "start_time": "2025-09-29T05:23:54.777Z"
   },
   {
    "duration": 584,
    "start_time": "2025-09-29T05:23:55.299Z"
   },
   {
    "duration": 310,
    "start_time": "2025-09-29T05:23:55.885Z"
   },
   {
    "duration": 471,
    "start_time": "2025-09-29T05:23:56.197Z"
   },
   {
    "duration": 197,
    "start_time": "2025-09-29T05:23:56.670Z"
   },
   {
    "duration": 6,
    "start_time": "2025-09-29T05:23:56.869Z"
   },
   {
    "duration": 167,
    "start_time": "2025-09-29T05:23:56.877Z"
   },
   {
    "duration": 302,
    "start_time": "2025-09-29T05:23:57.046Z"
   },
   {
    "duration": 5155,
    "start_time": "2025-09-29T05:23:57.349Z"
   },
   {
    "duration": 18,
    "start_time": "2025-09-29T05:24:02.506Z"
   },
   {
    "duration": 37,
    "start_time": "2025-09-29T05:24:02.525Z"
   },
   {
    "duration": 99,
    "start_time": "2025-09-29T05:24:02.564Z"
   },
   {
    "duration": 860,
    "start_time": "2025-09-29T05:24:02.665Z"
   },
   {
    "duration": 3,
    "start_time": "2025-09-29T05:24:03.527Z"
   },
   {
    "duration": 1625,
    "start_time": "2025-09-29T05:24:03.531Z"
   },
   {
    "duration": 805,
    "start_time": "2025-09-29T05:24:05.158Z"
   },
   {
    "duration": 113,
    "start_time": "2025-09-29T05:24:05.965Z"
   },
   {
    "duration": 989,
    "start_time": "2025-09-29T05:24:06.080Z"
   },
   {
    "duration": 45,
    "start_time": "2025-09-29T05:24:07.071Z"
   },
   {
    "duration": 1020,
    "start_time": "2025-09-29T05:24:07.118Z"
   },
   {
    "duration": 105,
    "start_time": "2025-09-29T05:24:08.140Z"
   },
   {
    "duration": 113,
    "start_time": "2025-09-29T05:24:08.247Z"
   },
   {
    "duration": 25,
    "start_time": "2025-09-29T05:24:08.362Z"
   },
   {
    "duration": 131,
    "start_time": "2025-09-29T05:24:08.389Z"
   },
   {
    "duration": 3,
    "start_time": "2025-09-29T05:24:08.521Z"
   },
   {
    "duration": 412,
    "start_time": "2025-09-29T05:24:08.525Z"
   },
   {
    "duration": 88,
    "start_time": "2025-09-29T05:24:08.940Z"
   },
   {
    "duration": 4,
    "start_time": "2025-09-29T05:24:09.029Z"
   },
   {
    "duration": 22,
    "start_time": "2025-09-29T05:24:09.035Z"
   },
   {
    "duration": 5,
    "start_time": "2025-09-29T05:24:09.058Z"
   },
   {
    "duration": 16,
    "start_time": "2025-09-29T05:24:09.064Z"
   },
   {
    "duration": 9,
    "start_time": "2025-09-29T05:24:09.081Z"
   },
   {
    "duration": 4342,
    "start_time": "2025-09-29T05:24:09.091Z"
   },
   {
    "duration": 21,
    "start_time": "2025-09-29T05:24:13.435Z"
   },
   {
    "duration": 12,
    "start_time": "2025-09-29T05:24:13.458Z"
   },
   {
    "duration": 29,
    "start_time": "2025-09-29T05:24:13.471Z"
   },
   {
    "duration": 353,
    "start_time": "2025-09-29T05:24:49.509Z"
   },
   {
    "duration": 343,
    "start_time": "2025-09-29T05:27:29.465Z"
   },
   {
    "duration": 56,
    "start_time": "2025-09-29T05:34:54.193Z"
   },
   {
    "duration": 12,
    "start_time": "2025-09-29T06:49:07.791Z"
   },
   {
    "duration": 24,
    "start_time": "2025-09-29T06:54:50.078Z"
   },
   {
    "duration": 22,
    "start_time": "2025-09-29T07:01:19.815Z"
   },
   {
    "duration": 72,
    "start_time": "2025-09-29T07:02:41.136Z"
   },
   {
    "duration": 191,
    "start_time": "2025-09-29T07:13:33.410Z"
   },
   {
    "duration": 92,
    "start_time": "2025-09-29T07:14:20.171Z"
   },
   {
    "duration": 101,
    "start_time": "2025-09-29T07:14:30.652Z"
   },
   {
    "duration": 987,
    "start_time": "2025-09-29T07:15:08.474Z"
   },
   {
    "duration": 98,
    "start_time": "2025-09-29T07:15:25.571Z"
   },
   {
    "duration": 102,
    "start_time": "2025-09-29T07:15:55.857Z"
   },
   {
    "duration": 55,
    "start_time": "2025-09-29T07:16:29.039Z"
   },
   {
    "duration": 78,
    "start_time": "2025-09-29T07:19:27.855Z"
   },
   {
    "duration": 76,
    "start_time": "2025-09-29T07:19:41.818Z"
   },
   {
    "duration": 94,
    "start_time": "2025-09-29T07:21:24.508Z"
   },
   {
    "duration": 61,
    "start_time": "2025-09-29T07:21:59.678Z"
   },
   {
    "duration": 113,
    "start_time": "2025-09-29T07:22:29.937Z"
   },
   {
    "duration": 108,
    "start_time": "2025-09-29T07:22:42.798Z"
   },
   {
    "duration": 405,
    "start_time": "2025-09-29T08:21:33.005Z"
   },
   {
    "duration": 202,
    "start_time": "2025-09-29T08:21:38.745Z"
   },
   {
    "duration": 54,
    "start_time": "2025-09-29T08:22:06.270Z"
   },
   {
    "duration": 59,
    "start_time": "2025-09-29T08:22:11.379Z"
   },
   {
    "duration": 15,
    "start_time": "2025-09-29T08:22:16.429Z"
   },
   {
    "duration": 6,
    "start_time": "2025-09-29T08:23:08.818Z"
   },
   {
    "duration": 59,
    "start_time": "2025-09-29T08:23:22.823Z"
   },
   {
    "duration": 765,
    "start_time": "2025-09-29T08:24:36.810Z"
   },
   {
    "duration": 80,
    "start_time": "2025-09-29T08:24:50.345Z"
   },
   {
    "duration": 19,
    "start_time": "2025-09-29T08:25:56.354Z"
   },
   {
    "duration": 17,
    "start_time": "2025-09-29T08:26:23.406Z"
   },
   {
    "duration": 56,
    "start_time": "2025-09-29T08:27:14.786Z"
   },
   {
    "duration": 295,
    "start_time": "2025-09-29T08:29:05.245Z"
   },
   {
    "duration": 54,
    "start_time": "2025-09-30T08:42:26.470Z"
   },
   {
    "duration": 1542,
    "start_time": "2025-09-30T08:42:43.252Z"
   },
   {
    "duration": 3,
    "start_time": "2025-09-30T08:42:44.796Z"
   },
   {
    "duration": 17,
    "start_time": "2025-09-30T08:42:44.800Z"
   },
   {
    "duration": 802,
    "start_time": "2025-09-30T08:42:44.818Z"
   },
   {
    "duration": 319,
    "start_time": "2025-09-30T08:42:45.621Z"
   },
   {
    "duration": 122,
    "start_time": "2025-09-30T08:42:45.942Z"
   },
   {
    "duration": 28,
    "start_time": "2025-09-30T08:42:46.066Z"
   },
   {
    "duration": 30,
    "start_time": "2025-09-30T08:42:46.095Z"
   },
   {
    "duration": 35,
    "start_time": "2025-09-30T08:42:46.126Z"
   },
   {
    "duration": 331,
    "start_time": "2025-09-30T08:42:46.164Z"
   },
   {
    "duration": 483,
    "start_time": "2025-09-30T08:42:46.497Z"
   },
   {
    "duration": 277,
    "start_time": "2025-09-30T08:42:46.981Z"
   },
   {
    "duration": 1407,
    "start_time": "2025-09-30T08:42:47.260Z"
   },
   {
    "duration": 27,
    "start_time": "2025-09-30T08:42:48.669Z"
   },
   {
    "duration": 616,
    "start_time": "2025-09-30T08:42:48.698Z"
   },
   {
    "duration": 207,
    "start_time": "2025-09-30T08:42:49.315Z"
   },
   {
    "duration": 458,
    "start_time": "2025-09-30T08:42:49.524Z"
   },
   {
    "duration": 527,
    "start_time": "2025-09-30T08:42:49.984Z"
   },
   {
    "duration": 129,
    "start_time": "2025-09-30T08:42:50.513Z"
   },
   {
    "duration": 315,
    "start_time": "2025-09-30T08:42:50.644Z"
   },
   {
    "duration": 461,
    "start_time": "2025-09-30T08:42:50.960Z"
   },
   {
    "duration": 196,
    "start_time": "2025-09-30T08:42:51.423Z"
   },
   {
    "duration": 6,
    "start_time": "2025-09-30T08:42:51.620Z"
   },
   {
    "duration": 176,
    "start_time": "2025-09-30T08:42:51.627Z"
   },
   {
    "duration": 301,
    "start_time": "2025-09-30T08:42:51.804Z"
   },
   {
    "duration": 5279,
    "start_time": "2025-09-30T08:42:52.106Z"
   },
   {
    "duration": 18,
    "start_time": "2025-09-30T08:42:57.387Z"
   },
   {
    "duration": 41,
    "start_time": "2025-09-30T08:42:57.408Z"
   },
   {
    "duration": 100,
    "start_time": "2025-09-30T08:42:57.450Z"
   },
   {
    "duration": 877,
    "start_time": "2025-09-30T08:42:57.552Z"
   },
   {
    "duration": 1689,
    "start_time": "2025-09-30T08:42:58.431Z"
   },
   {
    "duration": 691,
    "start_time": "2025-09-30T08:43:00.122Z"
   },
   {
    "duration": 107,
    "start_time": "2025-09-30T08:43:00.815Z"
   },
   {
    "duration": 1146,
    "start_time": "2025-09-30T08:43:00.924Z"
   },
   {
    "duration": 47,
    "start_time": "2025-09-30T08:43:02.072Z"
   },
   {
    "duration": 1025,
    "start_time": "2025-09-30T08:43:02.141Z"
   },
   {
    "duration": 111,
    "start_time": "2025-09-30T08:43:03.168Z"
   },
   {
    "duration": 115,
    "start_time": "2025-09-30T08:43:03.281Z"
   },
   {
    "duration": 125,
    "start_time": "2025-09-30T08:43:03.398Z"
   },
   {
    "duration": 426,
    "start_time": "2025-09-30T08:43:03.525Z"
   },
   {
    "duration": 92,
    "start_time": "2025-09-30T08:43:03.953Z"
   },
   {
    "duration": 4,
    "start_time": "2025-09-30T08:43:04.046Z"
   },
   {
    "duration": 131,
    "start_time": "2025-09-30T08:43:04.052Z"
   },
   {
    "duration": 56,
    "start_time": "2025-09-30T08:43:04.185Z"
   },
   {
    "duration": 212,
    "start_time": "2025-09-30T08:43:04.243Z"
   },
   {
    "duration": 0,
    "start_time": "2025-09-30T08:43:04.457Z"
   },
   {
    "duration": 0,
    "start_time": "2025-09-30T08:43:04.458Z"
   },
   {
    "duration": 0,
    "start_time": "2025-09-30T08:43:04.460Z"
   },
   {
    "duration": 0,
    "start_time": "2025-09-30T08:43:04.460Z"
   },
   {
    "duration": 0,
    "start_time": "2025-09-30T08:43:04.461Z"
   },
   {
    "duration": 0,
    "start_time": "2025-09-30T08:43:04.462Z"
   },
   {
    "duration": 179,
    "start_time": "2025-09-30T08:44:16.087Z"
   },
   {
    "duration": 158,
    "start_time": "2025-09-30T08:44:23.457Z"
   },
   {
    "duration": 16,
    "start_time": "2025-09-30T09:00:35.256Z"
   },
   {
    "duration": 422,
    "start_time": "2025-09-30T09:01:57.888Z"
   },
   {
    "duration": 13,
    "start_time": "2025-09-30T09:08:02.394Z"
   },
   {
    "duration": 20,
    "start_time": "2025-09-30T09:09:56.818Z"
   },
   {
    "duration": 6,
    "start_time": "2025-09-30T09:10:08.301Z"
   },
   {
    "duration": 15,
    "start_time": "2025-09-30T09:11:24.358Z"
   },
   {
    "duration": 15,
    "start_time": "2025-09-30T09:11:33.158Z"
   },
   {
    "duration": 13,
    "start_time": "2025-09-30T09:12:21.059Z"
   },
   {
    "duration": 13,
    "start_time": "2025-09-30T09:12:28.123Z"
   },
   {
    "duration": 9,
    "start_time": "2025-09-30T09:13:32.550Z"
   },
   {
    "duration": 10,
    "start_time": "2025-09-30T09:13:36.137Z"
   },
   {
    "duration": 2,
    "start_time": "2025-09-30T09:15:37.754Z"
   },
   {
    "duration": 2,
    "start_time": "2025-09-30T09:15:39.906Z"
   },
   {
    "duration": 10,
    "start_time": "2025-09-30T09:15:41.870Z"
   },
   {
    "duration": 13,
    "start_time": "2025-09-30T09:16:19.711Z"
   },
   {
    "duration": 2814,
    "start_time": "2025-09-30T09:17:43.515Z"
   },
   {
    "duration": 0,
    "start_time": "2025-09-30T09:17:46.331Z"
   },
   {
    "duration": 59,
    "start_time": "2025-09-30T09:19:03.205Z"
   },
   {
    "duration": 959,
    "start_time": "2025-09-30T09:19:05.694Z"
   },
   {
    "duration": 20,
    "start_time": "2025-09-30T09:19:38.052Z"
   },
   {
    "duration": 2816,
    "start_time": "2025-09-30T09:19:43.076Z"
   },
   {
    "duration": 1232,
    "start_time": "2025-09-30T09:19:50.892Z"
   },
   {
    "duration": 2,
    "start_time": "2025-09-30T09:19:52.126Z"
   },
   {
    "duration": 45,
    "start_time": "2025-09-30T09:19:52.130Z"
   },
   {
    "duration": 856,
    "start_time": "2025-09-30T09:19:52.178Z"
   },
   {
    "duration": 318,
    "start_time": "2025-09-30T09:19:53.040Z"
   },
   {
    "duration": 133,
    "start_time": "2025-09-30T09:19:53.360Z"
   },
   {
    "duration": 28,
    "start_time": "2025-09-30T09:19:53.495Z"
   },
   {
    "duration": 20,
    "start_time": "2025-09-30T09:19:53.525Z"
   },
   {
    "duration": 27,
    "start_time": "2025-09-30T09:19:53.547Z"
   },
   {
    "duration": 276,
    "start_time": "2025-09-30T09:19:53.577Z"
   },
   {
    "duration": 394,
    "start_time": "2025-09-30T09:19:53.855Z"
   },
   {
    "duration": 269,
    "start_time": "2025-09-30T09:19:54.250Z"
   },
   {
    "duration": 1337,
    "start_time": "2025-09-30T09:19:54.521Z"
   },
   {
    "duration": 27,
    "start_time": "2025-09-30T09:19:55.860Z"
   },
   {
    "duration": 533,
    "start_time": "2025-09-30T09:19:55.889Z"
   },
   {
    "duration": 284,
    "start_time": "2025-09-30T09:19:56.423Z"
   },
   {
    "duration": 467,
    "start_time": "2025-09-30T09:19:56.708Z"
   },
   {
    "duration": 525,
    "start_time": "2025-09-30T09:19:57.176Z"
   },
   {
    "duration": 183,
    "start_time": "2025-09-30T09:19:57.703Z"
   },
   {
    "duration": 503,
    "start_time": "2025-09-30T09:19:57.887Z"
   },
   {
    "duration": 475,
    "start_time": "2025-09-30T09:19:58.392Z"
   },
   {
    "duration": 197,
    "start_time": "2025-09-30T09:19:58.869Z"
   },
   {
    "duration": 6,
    "start_time": "2025-09-30T09:19:59.067Z"
   },
   {
    "duration": 166,
    "start_time": "2025-09-30T09:19:59.075Z"
   },
   {
    "duration": 301,
    "start_time": "2025-09-30T09:19:59.242Z"
   },
   {
    "duration": 5137,
    "start_time": "2025-09-30T09:19:59.545Z"
   },
   {
    "duration": 19,
    "start_time": "2025-09-30T09:20:04.684Z"
   },
   {
    "duration": 129,
    "start_time": "2025-09-30T09:20:04.707Z"
   },
   {
    "duration": 104,
    "start_time": "2025-09-30T09:20:04.838Z"
   },
   {
    "duration": 888,
    "start_time": "2025-09-30T09:20:04.945Z"
   },
   {
    "duration": 1591,
    "start_time": "2025-09-30T09:20:05.835Z"
   },
   {
    "duration": 679,
    "start_time": "2025-09-30T09:20:07.429Z"
   },
   {
    "duration": 113,
    "start_time": "2025-09-30T09:20:08.109Z"
   },
   {
    "duration": 1028,
    "start_time": "2025-09-30T09:20:08.224Z"
   },
   {
    "duration": 46,
    "start_time": "2025-09-30T09:20:09.253Z"
   },
   {
    "duration": 1009,
    "start_time": "2025-09-30T09:20:09.301Z"
   },
   {
    "duration": 104,
    "start_time": "2025-09-30T09:20:10.311Z"
   },
   {
    "duration": 114,
    "start_time": "2025-09-30T09:20:10.417Z"
   },
   {
    "duration": 117,
    "start_time": "2025-09-30T09:20:10.541Z"
   },
   {
    "duration": 408,
    "start_time": "2025-09-30T09:20:10.660Z"
   },
   {
    "duration": 96,
    "start_time": "2025-09-30T09:20:11.069Z"
   },
   {
    "duration": 3,
    "start_time": "2025-09-30T09:20:11.167Z"
   },
   {
    "duration": 132,
    "start_time": "2025-09-30T09:20:11.172Z"
   },
   {
    "duration": 32,
    "start_time": "2025-09-30T09:20:11.306Z"
   },
   {
    "duration": 31,
    "start_time": "2025-09-30T09:20:11.340Z"
   },
   {
    "duration": 16,
    "start_time": "2025-09-30T09:20:11.373Z"
   },
   {
    "duration": 6,
    "start_time": "2025-09-30T09:20:11.390Z"
   },
   {
    "duration": 725,
    "start_time": "2025-09-30T09:20:11.397Z"
   },
   {
    "duration": 54,
    "start_time": "2025-09-30T09:20:12.124Z"
   },
   {
    "duration": 17,
    "start_time": "2025-09-30T09:20:12.179Z"
   },
   {
    "duration": 3257,
    "start_time": "2025-09-30T09:20:12.197Z"
   },
   {
    "duration": 0,
    "start_time": "2025-09-30T09:20:15.456Z"
   },
   {
    "duration": 1133,
    "start_time": "2025-09-30T09:21:17.704Z"
   },
   {
    "duration": 26,
    "start_time": "2025-09-30T09:21:37.734Z"
   },
   {
    "duration": 20,
    "start_time": "2025-09-30T09:22:42.294Z"
   },
   {
    "duration": 12,
    "start_time": "2025-09-30T09:22:54.670Z"
   },
   {
    "duration": 108,
    "start_time": "2025-09-30T09:23:11.670Z"
   },
   {
    "duration": 93,
    "start_time": "2025-09-30T09:23:40.684Z"
   },
   {
    "duration": 143,
    "start_time": "2025-09-30T09:23:48.328Z"
   },
   {
    "duration": 18,
    "start_time": "2025-09-30T09:24:07.238Z"
   },
   {
    "duration": 494,
    "start_time": "2025-09-30T09:24:15.870Z"
   },
   {
    "duration": 221,
    "start_time": "2025-09-30T09:24:40.615Z"
   },
   {
    "duration": 125,
    "start_time": "2025-09-30T09:25:10.317Z"
   },
   {
    "duration": 1234,
    "start_time": "2025-09-30T09:25:37.640Z"
   },
   {
    "duration": 3,
    "start_time": "2025-09-30T09:25:38.876Z"
   },
   {
    "duration": 36,
    "start_time": "2025-09-30T09:25:38.880Z"
   },
   {
    "duration": 768,
    "start_time": "2025-09-30T09:25:38.918Z"
   },
   {
    "duration": 319,
    "start_time": "2025-09-30T09:25:39.688Z"
   },
   {
    "duration": 121,
    "start_time": "2025-09-30T09:25:40.009Z"
   },
   {
    "duration": 27,
    "start_time": "2025-09-30T09:25:40.140Z"
   },
   {
    "duration": 22,
    "start_time": "2025-09-30T09:25:40.169Z"
   },
   {
    "duration": 13,
    "start_time": "2025-09-30T09:25:40.192Z"
   },
   {
    "duration": 265,
    "start_time": "2025-09-30T09:25:40.206Z"
   },
   {
    "duration": 395,
    "start_time": "2025-09-30T09:25:40.473Z"
   },
   {
    "duration": 275,
    "start_time": "2025-09-30T09:25:40.869Z"
   },
   {
    "duration": 1317,
    "start_time": "2025-09-30T09:25:41.145Z"
   },
   {
    "duration": 27,
    "start_time": "2025-09-30T09:25:42.466Z"
   },
   {
    "duration": 575,
    "start_time": "2025-09-30T09:25:42.495Z"
   },
   {
    "duration": 202,
    "start_time": "2025-09-30T09:25:43.072Z"
   },
   {
    "duration": 534,
    "start_time": "2025-09-30T09:25:43.276Z"
   },
   {
    "duration": 545,
    "start_time": "2025-09-30T09:25:43.811Z"
   },
   {
    "duration": 190,
    "start_time": "2025-09-30T09:25:44.357Z"
   },
   {
    "duration": 548,
    "start_time": "2025-09-30T09:25:44.549Z"
   },
   {
    "duration": 468,
    "start_time": "2025-09-30T09:25:45.098Z"
   },
   {
    "duration": 197,
    "start_time": "2025-09-30T09:25:45.568Z"
   },
   {
    "duration": 6,
    "start_time": "2025-09-30T09:25:45.767Z"
   },
   {
    "duration": 187,
    "start_time": "2025-09-30T09:25:45.774Z"
   },
   {
    "duration": 305,
    "start_time": "2025-09-30T09:25:45.963Z"
   },
   {
    "duration": 5157,
    "start_time": "2025-09-30T09:25:46.270Z"
   },
   {
    "duration": 28,
    "start_time": "2025-09-30T09:25:51.429Z"
   },
   {
    "duration": 33,
    "start_time": "2025-09-30T09:25:51.458Z"
   },
   {
    "duration": 100,
    "start_time": "2025-09-30T09:25:51.493Z"
   },
   {
    "duration": 862,
    "start_time": "2025-09-30T09:25:51.595Z"
   },
   {
    "duration": 1602,
    "start_time": "2025-09-30T09:25:52.459Z"
   },
   {
    "duration": 746,
    "start_time": "2025-09-30T09:25:54.063Z"
   },
   {
    "duration": 115,
    "start_time": "2025-09-30T09:25:54.811Z"
   },
   {
    "duration": 1027,
    "start_time": "2025-09-30T09:25:54.940Z"
   },
   {
    "duration": 45,
    "start_time": "2025-09-30T09:25:55.969Z"
   },
   {
    "duration": 1014,
    "start_time": "2025-09-30T09:25:56.016Z"
   },
   {
    "duration": 95,
    "start_time": "2025-09-30T09:25:57.032Z"
   },
   {
    "duration": 113,
    "start_time": "2025-09-30T09:25:57.141Z"
   },
   {
    "duration": 117,
    "start_time": "2025-09-30T09:25:57.256Z"
   },
   {
    "duration": 414,
    "start_time": "2025-09-30T09:25:57.374Z"
   },
   {
    "duration": 98,
    "start_time": "2025-09-30T09:25:57.792Z"
   },
   {
    "duration": 4,
    "start_time": "2025-09-30T09:25:57.892Z"
   },
   {
    "duration": 47,
    "start_time": "2025-09-30T09:25:57.897Z"
   },
   {
    "duration": 14,
    "start_time": "2025-09-30T09:25:57.946Z"
   },
   {
    "duration": 5,
    "start_time": "2025-09-30T09:25:57.962Z"
   },
   {
    "duration": 26,
    "start_time": "2025-09-30T09:25:57.968Z"
   },
   {
    "duration": 6,
    "start_time": "2025-09-30T09:25:57.995Z"
   },
   {
    "duration": 750,
    "start_time": "2025-09-30T09:25:58.003Z"
   },
   {
    "duration": 54,
    "start_time": "2025-09-30T09:25:58.755Z"
   },
   {
    "duration": 69,
    "start_time": "2025-09-30T09:25:58.810Z"
   },
   {
    "duration": 39,
    "start_time": "2025-09-30T09:25:58.881Z"
   },
   {
    "duration": 74,
    "start_time": "2025-09-30T09:25:58.923Z"
   },
   {
    "duration": 132,
    "start_time": "2025-09-30T09:26:45.535Z"
   },
   {
    "duration": 14,
    "start_time": "2025-09-30T09:27:38.595Z"
   },
   {
    "duration": 13,
    "start_time": "2025-09-30T09:27:51.645Z"
   },
   {
    "duration": 21,
    "start_time": "2025-09-30T09:28:07.835Z"
   },
   {
    "duration": 1164,
    "start_time": "2025-09-30T09:30:22.606Z"
   },
   {
    "duration": 109,
    "start_time": "2025-09-30T09:31:50.848Z"
   },
   {
    "duration": 57,
    "start_time": "2025-09-30T09:31:55.533Z"
   },
   {
    "duration": 993,
    "start_time": "2025-09-30T09:32:05.734Z"
   },
   {
    "duration": 20,
    "start_time": "2025-09-30T09:32:27.403Z"
   },
   {
    "duration": 14,
    "start_time": "2025-09-30T09:37:31.994Z"
   },
   {
    "duration": 9,
    "start_time": "2025-09-30T09:38:45.573Z"
   },
   {
    "duration": 2451,
    "start_time": "2025-09-30T09:44:36.538Z"
   },
   {
    "duration": 46,
    "start_time": "2025-09-30T09:45:58.460Z"
   },
   {
    "duration": 1019,
    "start_time": "2025-09-30T09:50:47.469Z"
   },
   {
    "duration": 1519,
    "start_time": "2025-09-30T09:55:21.752Z"
   },
   {
    "duration": 26,
    "start_time": "2025-09-30T10:24:56.356Z"
   },
   {
    "duration": 144,
    "start_time": "2025-09-30T10:25:05.660Z"
   },
   {
    "duration": 103,
    "start_time": "2025-09-30T10:30:50.164Z"
   },
   {
    "duration": 1186,
    "start_time": "2025-09-30T10:33:01.491Z"
   },
   {
    "duration": 4,
    "start_time": "2025-09-30T10:33:02.679Z"
   },
   {
    "duration": 166,
    "start_time": "2025-09-30T10:33:02.685Z"
   },
   {
    "duration": 898,
    "start_time": "2025-09-30T10:33:02.853Z"
   },
   {
    "duration": 337,
    "start_time": "2025-09-30T10:33:03.753Z"
   },
   {
    "duration": 124,
    "start_time": "2025-09-30T10:33:04.093Z"
   },
   {
    "duration": 33,
    "start_time": "2025-09-30T10:33:04.219Z"
   },
   {
    "duration": 77,
    "start_time": "2025-09-30T10:33:04.254Z"
   },
   {
    "duration": 18,
    "start_time": "2025-09-30T10:33:04.333Z"
   },
   {
    "duration": 311,
    "start_time": "2025-09-30T10:33:04.353Z"
   },
   {
    "duration": 458,
    "start_time": "2025-09-30T10:33:04.666Z"
   },
   {
    "duration": 281,
    "start_time": "2025-09-30T10:33:05.125Z"
   },
   {
    "duration": 1350,
    "start_time": "2025-09-30T10:33:05.407Z"
   },
   {
    "duration": 28,
    "start_time": "2025-09-30T10:33:06.760Z"
   },
   {
    "duration": 554,
    "start_time": "2025-09-30T10:33:06.789Z"
   },
   {
    "duration": 211,
    "start_time": "2025-09-30T10:33:07.345Z"
   },
   {
    "duration": 524,
    "start_time": "2025-09-30T10:33:07.558Z"
   },
   {
    "duration": 583,
    "start_time": "2025-09-30T10:33:08.084Z"
   },
   {
    "duration": 190,
    "start_time": "2025-09-30T10:33:08.669Z"
   },
   {
    "duration": 518,
    "start_time": "2025-09-30T10:33:08.860Z"
   },
   {
    "duration": 488,
    "start_time": "2025-09-30T10:33:09.380Z"
   },
   {
    "duration": 202,
    "start_time": "2025-09-30T10:33:09.870Z"
   },
   {
    "duration": 6,
    "start_time": "2025-09-30T10:33:10.074Z"
   },
   {
    "duration": 181,
    "start_time": "2025-09-30T10:33:10.082Z"
   },
   {
    "duration": 310,
    "start_time": "2025-09-30T10:33:10.265Z"
   },
   {
    "duration": 5353,
    "start_time": "2025-09-30T10:33:10.577Z"
   },
   {
    "duration": 25,
    "start_time": "2025-09-30T10:33:15.932Z"
   },
   {
    "duration": 27,
    "start_time": "2025-09-30T10:33:15.958Z"
   },
   {
    "duration": 126,
    "start_time": "2025-09-30T10:33:15.987Z"
   },
   {
    "duration": 842,
    "start_time": "2025-09-30T10:33:16.115Z"
   },
   {
    "duration": 1752,
    "start_time": "2025-09-30T10:33:16.959Z"
   },
   {
    "duration": 706,
    "start_time": "2025-09-30T10:33:18.713Z"
   },
   {
    "duration": 107,
    "start_time": "2025-09-30T10:33:19.421Z"
   },
   {
    "duration": 1053,
    "start_time": "2025-09-30T10:33:19.540Z"
   },
   {
    "duration": 66,
    "start_time": "2025-09-30T10:33:20.595Z"
   },
   {
    "duration": 986,
    "start_time": "2025-09-30T10:33:20.663Z"
   },
   {
    "duration": 107,
    "start_time": "2025-09-30T10:33:21.651Z"
   },
   {
    "duration": 111,
    "start_time": "2025-09-30T10:33:21.760Z"
   },
   {
    "duration": 122,
    "start_time": "2025-09-30T10:33:21.873Z"
   },
   {
    "duration": 431,
    "start_time": "2025-09-30T10:33:21.997Z"
   },
   {
    "duration": 108,
    "start_time": "2025-09-30T10:33:22.440Z"
   },
   {
    "duration": 4,
    "start_time": "2025-09-30T10:33:22.550Z"
   },
   {
    "duration": 11,
    "start_time": "2025-09-30T10:33:22.555Z"
   },
   {
    "duration": 16,
    "start_time": "2025-09-30T10:33:22.568Z"
   },
   {
    "duration": 42,
    "start_time": "2025-09-30T10:33:22.586Z"
   },
   {
    "duration": 15,
    "start_time": "2025-09-30T10:33:22.630Z"
   },
   {
    "duration": 9,
    "start_time": "2025-09-30T10:33:22.646Z"
   },
   {
    "duration": 88,
    "start_time": "2025-09-30T10:33:22.657Z"
   },
   {
    "duration": 1279,
    "start_time": "2025-09-30T10:38:35.001Z"
   },
   {
    "duration": 3,
    "start_time": "2025-09-30T10:38:36.282Z"
   },
   {
    "duration": 48,
    "start_time": "2025-09-30T10:38:36.289Z"
   },
   {
    "duration": 840,
    "start_time": "2025-09-30T10:38:36.338Z"
   },
   {
    "duration": 337,
    "start_time": "2025-09-30T10:38:37.179Z"
   },
   {
    "duration": 127,
    "start_time": "2025-09-30T10:38:37.517Z"
   },
   {
    "duration": 29,
    "start_time": "2025-09-30T10:38:37.646Z"
   },
   {
    "duration": 48,
    "start_time": "2025-09-30T10:38:37.677Z"
   },
   {
    "duration": 16,
    "start_time": "2025-09-30T10:38:37.728Z"
   },
   {
    "duration": 344,
    "start_time": "2025-09-30T10:38:37.746Z"
   },
   {
    "duration": 400,
    "start_time": "2025-09-30T10:38:38.092Z"
   },
   {
    "duration": 294,
    "start_time": "2025-09-30T10:38:38.495Z"
   },
   {
    "duration": 1461,
    "start_time": "2025-09-30T10:38:38.791Z"
   },
   {
    "duration": 28,
    "start_time": "2025-09-30T10:38:40.254Z"
   },
   {
    "duration": 559,
    "start_time": "2025-09-30T10:38:40.284Z"
   },
   {
    "duration": 298,
    "start_time": "2025-09-30T10:38:40.845Z"
   },
   {
    "duration": 443,
    "start_time": "2025-09-30T10:38:41.145Z"
   },
   {
    "duration": 580,
    "start_time": "2025-09-30T10:38:41.589Z"
   },
   {
    "duration": 188,
    "start_time": "2025-09-30T10:38:42.171Z"
   },
   {
    "duration": 561,
    "start_time": "2025-09-30T10:38:42.362Z"
   },
   {
    "duration": 498,
    "start_time": "2025-09-30T10:38:42.925Z"
   },
   {
    "duration": 216,
    "start_time": "2025-09-30T10:38:43.425Z"
   },
   {
    "duration": 7,
    "start_time": "2025-09-30T10:38:43.643Z"
   },
   {
    "duration": 177,
    "start_time": "2025-09-30T10:38:43.651Z"
   },
   {
    "duration": 311,
    "start_time": "2025-09-30T10:38:43.829Z"
   },
   {
    "duration": 5379,
    "start_time": "2025-09-30T10:38:44.142Z"
   },
   {
    "duration": 24,
    "start_time": "2025-09-30T10:38:49.524Z"
   },
   {
    "duration": 169,
    "start_time": "2025-09-30T10:38:49.549Z"
   },
   {
    "duration": 93,
    "start_time": "2025-09-30T10:38:49.720Z"
   },
   {
    "duration": 846,
    "start_time": "2025-09-30T10:38:49.815Z"
   },
   {
    "duration": 1696,
    "start_time": "2025-09-30T10:38:50.663Z"
   },
   {
    "duration": 746,
    "start_time": "2025-09-30T10:38:52.361Z"
   },
   {
    "duration": 117,
    "start_time": "2025-09-30T10:38:53.109Z"
   },
   {
    "duration": 1030,
    "start_time": "2025-09-30T10:38:53.240Z"
   },
   {
    "duration": 69,
    "start_time": "2025-09-30T10:38:54.272Z"
   },
   {
    "duration": 1021,
    "start_time": "2025-09-30T10:38:54.343Z"
   },
   {
    "duration": 110,
    "start_time": "2025-09-30T10:38:55.366Z"
   },
   {
    "duration": 117,
    "start_time": "2025-09-30T10:38:55.478Z"
   },
   {
    "duration": 124,
    "start_time": "2025-09-30T10:38:55.596Z"
   },
   {
    "duration": 468,
    "start_time": "2025-09-30T10:38:55.722Z"
   },
   {
    "duration": 148,
    "start_time": "2025-09-30T10:38:56.192Z"
   },
   {
    "duration": 99,
    "start_time": "2025-09-30T10:38:56.342Z"
   },
   {
    "duration": 5,
    "start_time": "2025-09-30T10:38:56.444Z"
   },
   {
    "duration": 12,
    "start_time": "2025-09-30T10:38:56.452Z"
   },
   {
    "duration": 18,
    "start_time": "2025-09-30T10:38:56.467Z"
   },
   {
    "duration": 29,
    "start_time": "2025-09-30T10:38:56.487Z"
   },
   {
    "duration": 29,
    "start_time": "2025-09-30T10:38:56.518Z"
   },
   {
    "duration": 6,
    "start_time": "2025-09-30T10:38:56.549Z"
   },
   {
    "duration": 110,
    "start_time": "2025-09-30T10:38:56.556Z"
   },
   {
    "duration": 111,
    "start_time": "2025-09-30T10:38:56.668Z"
   },
   {
    "duration": 1309,
    "start_time": "2025-09-30T10:42:48.487Z"
   },
   {
    "duration": 3,
    "start_time": "2025-09-30T10:42:49.798Z"
   },
   {
    "duration": 113,
    "start_time": "2025-09-30T10:42:49.803Z"
   },
   {
    "duration": 877,
    "start_time": "2025-09-30T10:42:49.917Z"
   },
   {
    "duration": 349,
    "start_time": "2025-09-30T10:42:50.796Z"
   },
   {
    "duration": 139,
    "start_time": "2025-09-30T10:42:51.154Z"
   },
   {
    "duration": 27,
    "start_time": "2025-09-30T10:42:51.295Z"
   },
   {
    "duration": 163,
    "start_time": "2025-09-30T10:42:51.323Z"
   },
   {
    "duration": 44,
    "start_time": "2025-09-30T10:42:51.488Z"
   },
   {
    "duration": 357,
    "start_time": "2025-09-30T10:42:51.534Z"
   },
   {
    "duration": 516,
    "start_time": "2025-09-30T10:42:51.893Z"
   },
   {
    "duration": 300,
    "start_time": "2025-09-30T10:42:52.410Z"
   },
   {
    "duration": 1461,
    "start_time": "2025-09-30T10:42:52.712Z"
   },
   {
    "duration": 34,
    "start_time": "2025-09-30T10:42:54.177Z"
   },
   {
    "duration": 610,
    "start_time": "2025-09-30T10:42:54.213Z"
   },
   {
    "duration": 223,
    "start_time": "2025-09-30T10:42:54.825Z"
   },
   {
    "duration": 562,
    "start_time": "2025-09-30T10:42:55.050Z"
   },
   {
    "duration": 643,
    "start_time": "2025-09-30T10:42:55.614Z"
   },
   {
    "duration": 218,
    "start_time": "2025-09-30T10:42:56.259Z"
   },
   {
    "duration": 620,
    "start_time": "2025-09-30T10:42:56.479Z"
   },
   {
    "duration": 523,
    "start_time": "2025-09-30T10:42:57.101Z"
   },
   {
    "duration": 218,
    "start_time": "2025-09-30T10:42:57.626Z"
   },
   {
    "duration": 11,
    "start_time": "2025-09-30T10:42:57.846Z"
   },
   {
    "duration": 212,
    "start_time": "2025-09-30T10:42:57.858Z"
   },
   {
    "duration": 335,
    "start_time": "2025-09-30T10:42:58.072Z"
   },
   {
    "duration": 5918,
    "start_time": "2025-09-30T10:42:58.409Z"
   },
   {
    "duration": 37,
    "start_time": "2025-09-30T10:43:04.329Z"
   },
   {
    "duration": 84,
    "start_time": "2025-09-30T10:43:04.368Z"
   },
   {
    "duration": 146,
    "start_time": "2025-09-30T10:43:04.454Z"
   },
   {
    "duration": 927,
    "start_time": "2025-09-30T10:43:04.602Z"
   },
   {
    "duration": 1846,
    "start_time": "2025-09-30T10:43:05.531Z"
   },
   {
    "duration": 780,
    "start_time": "2025-09-30T10:43:07.379Z"
   },
   {
    "duration": 116,
    "start_time": "2025-09-30T10:43:08.163Z"
   },
   {
    "duration": 1121,
    "start_time": "2025-09-30T10:43:08.282Z"
   },
   {
    "duration": 77,
    "start_time": "2025-09-30T10:43:09.405Z"
   },
   {
    "duration": 1145,
    "start_time": "2025-09-30T10:43:09.484Z"
   },
   {
    "duration": 125,
    "start_time": "2025-09-30T10:43:10.630Z"
   },
   {
    "duration": 126,
    "start_time": "2025-09-30T10:43:10.758Z"
   },
   {
    "duration": 132,
    "start_time": "2025-09-30T10:43:10.886Z"
   },
   {
    "duration": 464,
    "start_time": "2025-09-30T10:43:11.020Z"
   },
   {
    "duration": 164,
    "start_time": "2025-09-30T10:43:11.488Z"
   },
   {
    "duration": 92,
    "start_time": "2025-09-30T10:43:11.654Z"
   },
   {
    "duration": 10,
    "start_time": "2025-09-30T10:43:11.757Z"
   },
   {
    "duration": 136,
    "start_time": "2025-09-30T10:43:11.769Z"
   },
   {
    "duration": 12,
    "start_time": "2025-09-30T10:43:11.908Z"
   },
   {
    "duration": 14,
    "start_time": "2025-09-30T10:43:11.922Z"
   },
   {
    "duration": 27,
    "start_time": "2025-09-30T10:43:11.938Z"
   },
   {
    "duration": 7,
    "start_time": "2025-09-30T10:43:11.966Z"
   },
   {
    "duration": 94,
    "start_time": "2025-09-30T10:43:11.975Z"
   },
   {
    "duration": 128,
    "start_time": "2025-09-30T10:54:46.178Z"
   },
   {
    "duration": 40,
    "start_time": "2025-09-30T10:55:26.335Z"
   },
   {
    "duration": 296,
    "start_time": "2025-09-30T10:55:34.664Z"
   },
   {
    "duration": 1613,
    "start_time": "2025-10-01T10:01:28.826Z"
   },
   {
    "duration": 3,
    "start_time": "2025-10-01T10:01:30.441Z"
   },
   {
    "duration": 22,
    "start_time": "2025-10-01T10:01:30.446Z"
   },
   {
    "duration": 1333,
    "start_time": "2025-10-01T10:01:30.471Z"
   },
   {
    "duration": 520,
    "start_time": "2025-10-01T10:01:31.806Z"
   },
   {
    "duration": 162,
    "start_time": "2025-10-01T10:01:32.328Z"
   },
   {
    "duration": 35,
    "start_time": "2025-10-01T10:01:32.492Z"
   },
   {
    "duration": 40,
    "start_time": "2025-10-01T10:01:32.528Z"
   },
   {
    "duration": 18,
    "start_time": "2025-10-01T10:01:32.570Z"
   },
   {
    "duration": 350,
    "start_time": "2025-10-01T10:01:32.591Z"
   },
   {
    "duration": 509,
    "start_time": "2025-10-01T10:01:32.950Z"
   },
   {
    "duration": 340,
    "start_time": "2025-10-01T10:01:33.463Z"
   },
   {
    "duration": 1806,
    "start_time": "2025-10-01T10:01:33.805Z"
   },
   {
    "duration": 49,
    "start_time": "2025-10-01T10:01:35.613Z"
   },
   {
    "duration": 803,
    "start_time": "2025-10-01T10:01:35.669Z"
   },
   {
    "duration": 260,
    "start_time": "2025-10-01T10:01:36.474Z"
   },
   {
    "duration": 734,
    "start_time": "2025-10-01T10:01:36.736Z"
   },
   {
    "duration": 728,
    "start_time": "2025-10-01T10:01:37.472Z"
   },
   {
    "duration": 240,
    "start_time": "2025-10-01T10:01:38.202Z"
   },
   {
    "duration": 703,
    "start_time": "2025-10-01T10:01:38.453Z"
   },
   {
    "duration": 603,
    "start_time": "2025-10-01T10:01:39.159Z"
   },
   {
    "duration": 238,
    "start_time": "2025-10-01T10:01:39.764Z"
   },
   {
    "duration": 9,
    "start_time": "2025-10-01T10:01:40.004Z"
   },
   {
    "duration": 226,
    "start_time": "2025-10-01T10:01:40.015Z"
   },
   {
    "duration": 366,
    "start_time": "2025-10-01T10:01:40.255Z"
   },
   {
    "duration": 7000,
    "start_time": "2025-10-01T10:01:40.623Z"
   },
   {
    "duration": 43,
    "start_time": "2025-10-01T10:01:47.625Z"
   },
   {
    "duration": 34,
    "start_time": "2025-10-01T10:01:47.673Z"
   },
   {
    "duration": 148,
    "start_time": "2025-10-01T10:01:47.709Z"
   },
   {
    "duration": 1343,
    "start_time": "2025-10-01T10:01:47.859Z"
   },
   {
    "duration": 2421,
    "start_time": "2025-10-01T10:01:49.204Z"
   },
   {
    "duration": 976,
    "start_time": "2025-10-01T10:01:51.627Z"
   },
   {
    "duration": 172,
    "start_time": "2025-10-01T10:01:52.605Z"
   },
   {
    "duration": 1703,
    "start_time": "2025-10-01T10:01:52.781Z"
   },
   {
    "duration": 84,
    "start_time": "2025-10-01T10:01:54.486Z"
   },
   {
    "duration": 1351,
    "start_time": "2025-10-01T10:01:54.573Z"
   },
   {
    "duration": 167,
    "start_time": "2025-10-01T10:01:55.927Z"
   },
   {
    "duration": 173,
    "start_time": "2025-10-01T10:01:56.097Z"
   },
   {
    "duration": 161,
    "start_time": "2025-10-01T10:01:56.272Z"
   },
   {
    "duration": 554,
    "start_time": "2025-10-01T10:01:56.435Z"
   },
   {
    "duration": 180,
    "start_time": "2025-10-01T10:01:56.991Z"
   },
   {
    "duration": 129,
    "start_time": "2025-10-01T10:01:57.174Z"
   },
   {
    "duration": 6,
    "start_time": "2025-10-01T10:01:57.305Z"
   },
   {
    "duration": 53,
    "start_time": "2025-10-01T10:01:57.313Z"
   },
   {
    "duration": 16,
    "start_time": "2025-10-01T10:01:57.369Z"
   },
   {
    "duration": 7,
    "start_time": "2025-10-01T10:01:57.388Z"
   },
   {
    "duration": 19,
    "start_time": "2025-10-01T10:01:57.397Z"
   },
   {
    "duration": 44,
    "start_time": "2025-10-01T10:01:57.418Z"
   },
   {
    "duration": 112,
    "start_time": "2025-10-01T10:01:57.464Z"
   },
   {
    "duration": 327,
    "start_time": "2025-10-01T10:01:57.579Z"
   },
   {
    "duration": 1316,
    "start_time": "2025-10-01T10:08:21.952Z"
   },
   {
    "duration": 2,
    "start_time": "2025-10-01T10:08:23.270Z"
   },
   {
    "duration": 9,
    "start_time": "2025-10-01T10:08:23.274Z"
   },
   {
    "duration": 709,
    "start_time": "2025-10-01T10:08:23.284Z"
   },
   {
    "duration": 285,
    "start_time": "2025-10-01T10:08:23.995Z"
   },
   {
    "duration": 111,
    "start_time": "2025-10-01T10:08:24.282Z"
   },
   {
    "duration": 26,
    "start_time": "2025-10-01T10:08:24.394Z"
   },
   {
    "duration": 63,
    "start_time": "2025-10-01T10:08:24.422Z"
   },
   {
    "duration": 12,
    "start_time": "2025-10-01T10:08:24.486Z"
   },
   {
    "duration": 254,
    "start_time": "2025-10-01T10:08:24.499Z"
   },
   {
    "duration": 363,
    "start_time": "2025-10-01T10:08:24.755Z"
   },
   {
    "duration": 256,
    "start_time": "2025-10-01T10:08:25.120Z"
   },
   {
    "duration": 1279,
    "start_time": "2025-10-01T10:08:25.377Z"
   },
   {
    "duration": 25,
    "start_time": "2025-10-01T10:08:26.659Z"
   },
   {
    "duration": 476,
    "start_time": "2025-10-01T10:08:26.685Z"
   },
   {
    "duration": 190,
    "start_time": "2025-10-01T10:08:27.162Z"
   },
   {
    "duration": 513,
    "start_time": "2025-10-01T10:08:27.354Z"
   },
   {
    "duration": 521,
    "start_time": "2025-10-01T10:08:27.868Z"
   },
   {
    "duration": 184,
    "start_time": "2025-10-01T10:08:28.391Z"
   },
   {
    "duration": 496,
    "start_time": "2025-10-01T10:08:28.576Z"
   },
   {
    "duration": 462,
    "start_time": "2025-10-01T10:08:29.074Z"
   },
   {
    "duration": 188,
    "start_time": "2025-10-01T10:08:29.538Z"
   },
   {
    "duration": 6,
    "start_time": "2025-10-01T10:08:29.727Z"
   },
   {
    "duration": 162,
    "start_time": "2025-10-01T10:08:29.734Z"
   },
   {
    "duration": 293,
    "start_time": "2025-10-01T10:08:29.897Z"
   },
   {
    "duration": 5049,
    "start_time": "2025-10-01T10:08:30.191Z"
   },
   {
    "duration": 27,
    "start_time": "2025-10-01T10:08:35.242Z"
   },
   {
    "duration": 25,
    "start_time": "2025-10-01T10:08:35.270Z"
   },
   {
    "duration": 105,
    "start_time": "2025-10-01T10:08:35.297Z"
   },
   {
    "duration": 845,
    "start_time": "2025-10-01T10:08:35.404Z"
   },
   {
    "duration": 1579,
    "start_time": "2025-10-01T10:08:36.251Z"
   },
   {
    "duration": 679,
    "start_time": "2025-10-01T10:08:37.832Z"
   },
   {
    "duration": 113,
    "start_time": "2025-10-01T10:08:38.512Z"
   },
   {
    "duration": 984,
    "start_time": "2025-10-01T10:08:38.627Z"
   },
   {
    "duration": 66,
    "start_time": "2025-10-01T10:08:39.613Z"
   },
   {
    "duration": 936,
    "start_time": "2025-10-01T10:08:39.682Z"
   },
   {
    "duration": 101,
    "start_time": "2025-10-01T10:08:40.620Z"
   },
   {
    "duration": 110,
    "start_time": "2025-10-01T10:08:40.723Z"
   },
   {
    "duration": 110,
    "start_time": "2025-10-01T10:08:40.835Z"
   },
   {
    "duration": 402,
    "start_time": "2025-10-01T10:08:40.957Z"
   },
   {
    "duration": 137,
    "start_time": "2025-10-01T10:08:41.362Z"
   },
   {
    "duration": 93,
    "start_time": "2025-10-01T10:08:41.501Z"
   },
   {
    "duration": 4,
    "start_time": "2025-10-01T10:08:41.596Z"
   },
   {
    "duration": 31,
    "start_time": "2025-10-01T10:08:41.601Z"
   },
   {
    "duration": 12,
    "start_time": "2025-10-01T10:08:41.634Z"
   },
   {
    "duration": 9,
    "start_time": "2025-10-01T10:08:41.648Z"
   },
   {
    "duration": 15,
    "start_time": "2025-10-01T10:08:41.658Z"
   },
   {
    "duration": 5,
    "start_time": "2025-10-01T10:08:41.675Z"
   },
   {
    "duration": 88,
    "start_time": "2025-10-01T10:08:41.681Z"
   },
   {
    "duration": 220,
    "start_time": "2025-10-01T10:08:41.771Z"
   },
   {
    "duration": 89,
    "start_time": "2025-10-01T10:36:04.679Z"
   },
   {
    "duration": 6,
    "start_time": "2025-10-01T10:36:14.772Z"
   },
   {
    "duration": 15,
    "start_time": "2025-10-01T10:37:35.375Z"
   },
   {
    "duration": 18,
    "start_time": "2025-10-01T10:38:03.194Z"
   },
   {
    "duration": 26,
    "start_time": "2025-10-01T10:40:56.393Z"
   },
   {
    "duration": 24,
    "start_time": "2025-10-01T10:41:30.912Z"
   },
   {
    "duration": 24,
    "start_time": "2025-10-01T10:41:50.843Z"
   },
   {
    "duration": 68,
    "start_time": "2025-10-01T10:55:50.443Z"
   },
   {
    "duration": 1473,
    "start_time": "2025-10-02T10:03:56.506Z"
   },
   {
    "duration": 3,
    "start_time": "2025-10-02T10:03:57.981Z"
   },
   {
    "duration": 31,
    "start_time": "2025-10-02T10:03:57.985Z"
   },
   {
    "duration": 1113,
    "start_time": "2025-10-02T10:03:58.018Z"
   },
   {
    "duration": 339,
    "start_time": "2025-10-02T10:03:59.134Z"
   },
   {
    "duration": 188,
    "start_time": "2025-10-02T10:03:59.475Z"
   },
   {
    "duration": 32,
    "start_time": "2025-10-02T10:03:59.665Z"
   },
   {
    "duration": 22,
    "start_time": "2025-10-02T10:03:59.699Z"
   },
   {
    "duration": 14,
    "start_time": "2025-10-02T10:03:59.723Z"
   },
   {
    "duration": 288,
    "start_time": "2025-10-02T10:03:59.739Z"
   },
   {
    "duration": 444,
    "start_time": "2025-10-02T10:04:00.029Z"
   },
   {
    "duration": 301,
    "start_time": "2025-10-02T10:04:00.475Z"
   },
   {
    "duration": 1550,
    "start_time": "2025-10-02T10:04:00.778Z"
   },
   {
    "duration": 30,
    "start_time": "2025-10-02T10:04:02.331Z"
   },
   {
    "duration": 695,
    "start_time": "2025-10-02T10:04:02.363Z"
   },
   {
    "duration": 230,
    "start_time": "2025-10-02T10:04:03.060Z"
   },
   {
    "duration": 565,
    "start_time": "2025-10-02T10:04:03.293Z"
   },
   {
    "duration": 628,
    "start_time": "2025-10-02T10:04:03.859Z"
   },
   {
    "duration": 212,
    "start_time": "2025-10-02T10:04:04.489Z"
   },
   {
    "duration": 579,
    "start_time": "2025-10-02T10:04:04.707Z"
   },
   {
    "duration": 527,
    "start_time": "2025-10-02T10:04:05.288Z"
   },
   {
    "duration": 210,
    "start_time": "2025-10-02T10:04:05.817Z"
   },
   {
    "duration": 7,
    "start_time": "2025-10-02T10:04:06.029Z"
   },
   {
    "duration": 193,
    "start_time": "2025-10-02T10:04:06.038Z"
   },
   {
    "duration": 389,
    "start_time": "2025-10-02T10:04:06.233Z"
   },
   {
    "duration": 5783,
    "start_time": "2025-10-02T10:04:06.624Z"
   },
   {
    "duration": 21,
    "start_time": "2025-10-02T10:04:12.409Z"
   },
   {
    "duration": 58,
    "start_time": "2025-10-02T10:04:12.432Z"
   },
   {
    "duration": 107,
    "start_time": "2025-10-02T10:04:12.492Z"
   },
   {
    "duration": 1007,
    "start_time": "2025-10-02T10:04:12.601Z"
   },
   {
    "duration": 1783,
    "start_time": "2025-10-02T10:04:13.610Z"
   },
   {
    "duration": 812,
    "start_time": "2025-10-02T10:04:15.395Z"
   },
   {
    "duration": 128,
    "start_time": "2025-10-02T10:04:16.209Z"
   },
   {
    "duration": 1128,
    "start_time": "2025-10-02T10:04:16.339Z"
   },
   {
    "duration": 68,
    "start_time": "2025-10-02T10:04:17.468Z"
   },
   {
    "duration": 1103,
    "start_time": "2025-10-02T10:04:17.538Z"
   },
   {
    "duration": 115,
    "start_time": "2025-10-02T10:04:18.642Z"
   },
   {
    "duration": 128,
    "start_time": "2025-10-02T10:04:18.759Z"
   },
   {
    "duration": 143,
    "start_time": "2025-10-02T10:04:18.889Z"
   },
   {
    "duration": 454,
    "start_time": "2025-10-02T10:04:19.033Z"
   },
   {
    "duration": 103,
    "start_time": "2025-10-02T10:04:19.491Z"
   },
   {
    "duration": 25,
    "start_time": "2025-10-02T10:04:19.596Z"
   },
   {
    "duration": 81,
    "start_time": "2025-10-02T10:04:19.623Z"
   },
   {
    "duration": 23,
    "start_time": "2025-10-02T10:04:19.706Z"
   },
   {
    "duration": 8,
    "start_time": "2025-10-02T10:04:19.731Z"
   },
   {
    "duration": 95,
    "start_time": "2025-10-02T10:04:19.740Z"
   },
   {
    "duration": 242,
    "start_time": "2025-10-02T10:04:19.837Z"
   },
   {
    "duration": 40,
    "start_time": "2025-10-02T10:04:20.080Z"
   },
   {
    "duration": 4,
    "start_time": "2025-10-02T10:08:07.826Z"
   },
   {
    "duration": 5,
    "start_time": "2025-10-02T10:08:40.550Z"
   },
   {
    "duration": 4,
    "start_time": "2025-10-02T10:08:48.602Z"
   },
   {
    "duration": 227,
    "start_time": "2025-10-02T10:10:16.166Z"
   },
   {
    "duration": 181,
    "start_time": "2025-10-02T10:10:25.954Z"
   },
   {
    "duration": 26,
    "start_time": "2025-10-02T10:12:23.401Z"
   },
   {
    "duration": 1410,
    "start_time": "2025-10-02T10:12:33.277Z"
   },
   {
    "duration": 4,
    "start_time": "2025-10-02T10:12:34.689Z"
   },
   {
    "duration": 12,
    "start_time": "2025-10-02T10:12:34.695Z"
   },
   {
    "duration": 858,
    "start_time": "2025-10-02T10:12:34.711Z"
   },
   {
    "duration": 356,
    "start_time": "2025-10-02T10:12:35.570Z"
   },
   {
    "duration": 135,
    "start_time": "2025-10-02T10:12:35.927Z"
   },
   {
    "duration": 45,
    "start_time": "2025-10-02T10:12:36.064Z"
   },
   {
    "duration": 23,
    "start_time": "2025-10-02T10:12:36.111Z"
   },
   {
    "duration": 16,
    "start_time": "2025-10-02T10:12:36.136Z"
   },
   {
    "duration": 315,
    "start_time": "2025-10-02T10:12:36.156Z"
   },
   {
    "duration": 438,
    "start_time": "2025-10-02T10:12:36.473Z"
   },
   {
    "duration": 307,
    "start_time": "2025-10-02T10:12:36.912Z"
   },
   {
    "duration": 1488,
    "start_time": "2025-10-02T10:12:37.221Z"
   },
   {
    "duration": 30,
    "start_time": "2025-10-02T10:12:38.711Z"
   },
   {
    "duration": 587,
    "start_time": "2025-10-02T10:12:38.743Z"
   },
   {
    "duration": 312,
    "start_time": "2025-10-02T10:12:39.333Z"
   },
   {
    "duration": 487,
    "start_time": "2025-10-02T10:12:39.648Z"
   },
   {
    "duration": 610,
    "start_time": "2025-10-02T10:12:40.137Z"
   },
   {
    "duration": 230,
    "start_time": "2025-10-02T10:12:40.748Z"
   },
   {
    "duration": 574,
    "start_time": "2025-10-02T10:12:40.980Z"
   },
   {
    "duration": 524,
    "start_time": "2025-10-02T10:12:41.556Z"
   },
   {
    "duration": 216,
    "start_time": "2025-10-02T10:12:42.082Z"
   },
   {
    "duration": 7,
    "start_time": "2025-10-02T10:12:42.308Z"
   },
   {
    "duration": 190,
    "start_time": "2025-10-02T10:12:42.317Z"
   },
   {
    "duration": 328,
    "start_time": "2025-10-02T10:12:42.509Z"
   },
   {
    "duration": 5939,
    "start_time": "2025-10-02T10:12:42.839Z"
   },
   {
    "duration": 31,
    "start_time": "2025-10-02T10:12:48.780Z"
   },
   {
    "duration": 133,
    "start_time": "2025-10-02T10:12:48.815Z"
   },
   {
    "duration": 107,
    "start_time": "2025-10-02T10:12:48.950Z"
   },
   {
    "duration": 913,
    "start_time": "2025-10-02T10:12:49.059Z"
   },
   {
    "duration": 1801,
    "start_time": "2025-10-02T10:12:49.974Z"
   },
   {
    "duration": 844,
    "start_time": "2025-10-02T10:12:51.777Z"
   },
   {
    "duration": 129,
    "start_time": "2025-10-02T10:12:52.623Z"
   },
   {
    "duration": 1125,
    "start_time": "2025-10-02T10:12:52.754Z"
   },
   {
    "duration": 66,
    "start_time": "2025-10-02T10:12:53.881Z"
   },
   {
    "duration": 1129,
    "start_time": "2025-10-02T10:12:53.949Z"
   },
   {
    "duration": 113,
    "start_time": "2025-10-02T10:12:55.080Z"
   },
   {
    "duration": 130,
    "start_time": "2025-10-02T10:12:55.195Z"
   },
   {
    "duration": 132,
    "start_time": "2025-10-02T10:12:55.327Z"
   },
   {
    "duration": 461,
    "start_time": "2025-10-02T10:12:55.461Z"
   },
   {
    "duration": 108,
    "start_time": "2025-10-02T10:12:55.924Z"
   },
   {
    "duration": 5,
    "start_time": "2025-10-02T10:12:56.034Z"
   },
   {
    "duration": 32,
    "start_time": "2025-10-02T10:12:56.040Z"
   },
   {
    "duration": 6,
    "start_time": "2025-10-02T10:12:56.074Z"
   },
   {
    "duration": 94,
    "start_time": "2025-10-02T10:12:56.082Z"
   },
   {
    "duration": 344,
    "start_time": "2025-10-02T10:12:56.178Z"
   },
   {
    "duration": 0,
    "start_time": "2025-10-02T10:12:56.524Z"
   },
   {
    "duration": 212,
    "start_time": "2025-10-02T10:14:13.017Z"
   },
   {
    "duration": 185,
    "start_time": "2025-10-02T10:14:38.483Z"
   },
   {
    "duration": 202,
    "start_time": "2025-10-02T10:15:53.878Z"
   },
   {
    "duration": 26,
    "start_time": "2025-10-02T10:16:03.877Z"
   },
   {
    "duration": 184,
    "start_time": "2025-10-02T10:16:45.002Z"
   },
   {
    "duration": 185,
    "start_time": "2025-10-02T10:17:05.523Z"
   },
   {
    "duration": 270,
    "start_time": "2025-10-02T10:21:00.617Z"
   },
   {
    "duration": 184,
    "start_time": "2025-10-02T10:22:43.785Z"
   },
   {
    "duration": 189,
    "start_time": "2025-10-02T10:24:24.612Z"
   },
   {
    "duration": 1223,
    "start_time": "2025-10-02T10:26:57.566Z"
   },
   {
    "duration": 2,
    "start_time": "2025-10-02T10:26:58.791Z"
   },
   {
    "duration": 12,
    "start_time": "2025-10-02T10:26:58.795Z"
   },
   {
    "duration": 944,
    "start_time": "2025-10-02T10:26:58.809Z"
   },
   {
    "duration": 387,
    "start_time": "2025-10-02T10:26:59.756Z"
   },
   {
    "duration": 144,
    "start_time": "2025-10-02T10:27:00.145Z"
   },
   {
    "duration": 41,
    "start_time": "2025-10-02T10:27:00.291Z"
   },
   {
    "duration": 49,
    "start_time": "2025-10-02T10:27:00.334Z"
   },
   {
    "duration": 35,
    "start_time": "2025-10-02T10:27:00.386Z"
   },
   {
    "duration": 389,
    "start_time": "2025-10-02T10:27:00.423Z"
   },
   {
    "duration": 440,
    "start_time": "2025-10-02T10:27:00.813Z"
   },
   {
    "duration": 311,
    "start_time": "2025-10-02T10:27:01.254Z"
   },
   {
    "duration": 1461,
    "start_time": "2025-10-02T10:27:01.567Z"
   },
   {
    "duration": 31,
    "start_time": "2025-10-02T10:27:03.032Z"
   },
   {
    "duration": 592,
    "start_time": "2025-10-02T10:27:03.064Z"
   },
   {
    "duration": 235,
    "start_time": "2025-10-02T10:27:03.658Z"
   },
   {
    "duration": 619,
    "start_time": "2025-10-02T10:27:03.895Z"
   },
   {
    "duration": 671,
    "start_time": "2025-10-02T10:27:04.516Z"
   },
   {
    "duration": 220,
    "start_time": "2025-10-02T10:27:05.188Z"
   },
   {
    "duration": 654,
    "start_time": "2025-10-02T10:27:05.410Z"
   },
   {
    "duration": 547,
    "start_time": "2025-10-02T10:27:06.066Z"
   },
   {
    "duration": 220,
    "start_time": "2025-10-02T10:27:06.615Z"
   },
   {
    "duration": 77,
    "start_time": "2025-10-02T10:27:06.837Z"
   },
   {
    "duration": 249,
    "start_time": "2025-10-02T10:27:06.916Z"
   },
   {
    "duration": 359,
    "start_time": "2025-10-02T10:27:07.167Z"
   },
   {
    "duration": 6005,
    "start_time": "2025-10-02T10:27:07.528Z"
   },
   {
    "duration": 23,
    "start_time": "2025-10-02T10:27:13.534Z"
   },
   {
    "duration": 49,
    "start_time": "2025-10-02T10:27:13.559Z"
   },
   {
    "duration": 121,
    "start_time": "2025-10-02T10:27:13.610Z"
   },
   {
    "duration": 936,
    "start_time": "2025-10-02T10:27:13.732Z"
   },
   {
    "duration": 1791,
    "start_time": "2025-10-02T10:27:14.696Z"
   },
   {
    "duration": 823,
    "start_time": "2025-10-02T10:27:16.489Z"
   },
   {
    "duration": 131,
    "start_time": "2025-10-02T10:27:17.314Z"
   },
   {
    "duration": 1140,
    "start_time": "2025-10-02T10:27:17.446Z"
   },
   {
    "duration": 60,
    "start_time": "2025-10-02T10:27:18.588Z"
   },
   {
    "duration": 1109,
    "start_time": "2025-10-02T10:27:18.650Z"
   },
   {
    "duration": 118,
    "start_time": "2025-10-02T10:27:19.760Z"
   },
   {
    "duration": 140,
    "start_time": "2025-10-02T10:27:19.880Z"
   },
   {
    "duration": 142,
    "start_time": "2025-10-02T10:27:20.022Z"
   },
   {
    "duration": 479,
    "start_time": "2025-10-02T10:27:20.166Z"
   },
   {
    "duration": 106,
    "start_time": "2025-10-02T10:27:20.651Z"
   },
   {
    "duration": 42,
    "start_time": "2025-10-02T10:27:20.760Z"
   },
   {
    "duration": 66,
    "start_time": "2025-10-02T10:27:20.804Z"
   },
   {
    "duration": 23,
    "start_time": "2025-10-02T10:27:20.872Z"
   },
   {
    "duration": 277,
    "start_time": "2025-10-02T10:27:20.897Z"
   },
   {
    "duration": 247,
    "start_time": "2025-10-02T10:28:43.278Z"
   },
   {
    "duration": 239,
    "start_time": "2025-10-02T10:29:19.774Z"
   },
   {
    "duration": 1233,
    "start_time": "2025-10-16T08:37:08.611Z"
   },
   {
    "duration": 2,
    "start_time": "2025-10-16T08:37:09.850Z"
   },
   {
    "duration": 27,
    "start_time": "2025-10-16T08:37:09.854Z"
   },
   {
    "duration": 726,
    "start_time": "2025-10-16T08:37:09.883Z"
   },
   {
    "duration": 315,
    "start_time": "2025-10-16T08:37:10.611Z"
   },
   {
    "duration": 125,
    "start_time": "2025-10-16T08:37:10.928Z"
   },
   {
    "duration": 25,
    "start_time": "2025-10-16T08:37:11.054Z"
   },
   {
    "duration": 62,
    "start_time": "2025-10-16T08:37:11.080Z"
   },
   {
    "duration": 11,
    "start_time": "2025-10-16T08:37:11.144Z"
   },
   {
    "duration": 246,
    "start_time": "2025-10-16T08:37:11.156Z"
   },
   {
    "duration": 358,
    "start_time": "2025-10-16T08:37:11.404Z"
   },
   {
    "duration": 259,
    "start_time": "2025-10-16T08:37:11.764Z"
   },
   {
    "duration": 1315,
    "start_time": "2025-10-16T08:37:12.024Z"
   },
   {
    "duration": 30,
    "start_time": "2025-10-16T08:37:13.342Z"
   },
   {
    "duration": 465,
    "start_time": "2025-10-16T08:37:13.374Z"
   },
   {
    "duration": 262,
    "start_time": "2025-10-16T08:37:13.840Z"
   },
   {
    "duration": 401,
    "start_time": "2025-10-16T08:37:14.103Z"
   },
   {
    "duration": 476,
    "start_time": "2025-10-16T08:37:14.506Z"
   },
   {
    "duration": 179,
    "start_time": "2025-10-16T08:37:14.983Z"
   },
   {
    "duration": 486,
    "start_time": "2025-10-16T08:37:15.164Z"
   },
   {
    "duration": 473,
    "start_time": "2025-10-16T08:37:15.652Z"
   },
   {
    "duration": 183,
    "start_time": "2025-10-16T08:37:16.126Z"
   },
   {
    "duration": 6,
    "start_time": "2025-10-16T08:37:16.311Z"
   },
   {
    "duration": 161,
    "start_time": "2025-10-16T08:37:16.318Z"
   },
   {
    "duration": 288,
    "start_time": "2025-10-16T08:37:16.481Z"
   },
   {
    "duration": 5007,
    "start_time": "2025-10-16T08:37:16.771Z"
   },
   {
    "duration": 16,
    "start_time": "2025-10-16T08:37:21.780Z"
   },
   {
    "duration": 24,
    "start_time": "2025-10-16T08:37:21.798Z"
   },
   {
    "duration": 108,
    "start_time": "2025-10-16T08:37:21.823Z"
   },
   {
    "duration": 762,
    "start_time": "2025-10-16T08:37:21.933Z"
   },
   {
    "duration": 1566,
    "start_time": "2025-10-16T08:37:22.697Z"
   },
   {
    "duration": 629,
    "start_time": "2025-10-16T08:37:24.265Z"
   },
   {
    "duration": 105,
    "start_time": "2025-10-16T08:37:24.895Z"
   },
   {
    "duration": 906,
    "start_time": "2025-10-16T08:37:25.001Z"
   },
   {
    "duration": 60,
    "start_time": "2025-10-16T08:37:25.908Z"
   },
   {
    "duration": 895,
    "start_time": "2025-10-16T08:37:25.970Z"
   },
   {
    "duration": 98,
    "start_time": "2025-10-16T08:37:26.867Z"
   },
   {
    "duration": 107,
    "start_time": "2025-10-16T08:37:26.966Z"
   },
   {
    "duration": 109,
    "start_time": "2025-10-16T08:37:27.074Z"
   },
   {
    "duration": 381,
    "start_time": "2025-10-16T08:37:27.185Z"
   },
   {
    "duration": 88,
    "start_time": "2025-10-16T08:37:27.570Z"
   },
   {
    "duration": 3,
    "start_time": "2025-10-16T08:37:27.660Z"
   },
   {
    "duration": 44,
    "start_time": "2025-10-16T08:37:27.664Z"
   },
   {
    "duration": 6,
    "start_time": "2025-10-16T08:37:27.709Z"
   },
   {
    "duration": 187,
    "start_time": "2025-10-16T08:37:27.716Z"
   }
  ],
  "colab": {
   "provenance": []
  },
  "kernelspec": {
   "display_name": "Python 3 (ipykernel)",
   "language": "python",
   "name": "python3"
  },
  "language_info": {
   "codemirror_mode": {
    "name": "ipython",
    "version": 3
   },
   "file_extension": ".py",
   "mimetype": "text/x-python",
   "name": "python",
   "nbconvert_exporter": "python",
   "pygments_lexer": "ipython3",
   "version": "3.9.5"
  },
  "toc": {
   "base_numbering": 1,
   "nav_menu": {},
   "number_sections": true,
   "sideBar": true,
   "skip_h1_title": true,
   "title_cell": "Table of Contents",
   "title_sidebar": "Contents",
   "toc_cell": false,
   "toc_position": {},
   "toc_section_display": true,
   "toc_window_display": false
  }
 },
 "nbformat": 4,
 "nbformat_minor": 1
}
